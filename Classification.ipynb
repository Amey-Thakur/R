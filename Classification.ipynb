{
  "metadata": {
    "kernelspec": {
      "name": "ir",
      "display_name": "R",
      "language": "R"
    },
    "language_info": {
      "name": "R",
      "codemirror_mode": "r",
      "pygments_lexer": "r",
      "mimetype": "text/x-r-source",
      "file_extension": ".r",
      "version": "4.0.5"
    },
    "colab": {
      "name": "Classification.ipynb",
      "provenance": [],
      "include_colab_link": true
    }
  },
  "nbformat_minor": 0,
  "nbformat": 4,
  "cells": [
    {
      "cell_type": "markdown",
      "metadata": {
        "id": "view-in-github",
        "colab_type": "text"
      },
      "source": [
        "<a href=\"https://colab.research.google.com/github/msatmod/R/blob/main/Classification.ipynb\" target=\"_parent\"><img src=\"https://colab.research.google.com/assets/colab-badge.svg\" alt=\"Open In Colab\"/></a>"
      ]
    },
    {
      "cell_type": "markdown",
      "source": [
        "### Support Vector Machine"
      ],
      "metadata": {
        "id": "eoVkPFn8ElkM"
      }
    },
    {
      "cell_type": "code",
      "source": [
        "#read csv file\n",
        "customer_churn <- read.csv('../input/churn/CustomerChurn-TelecomUsage.csv')\n",
        "head(customer_churn)"
      ],
      "metadata": {
        "execution": {
          "iopub.status.busy": "2022-05-04T16:45:20.909780Z",
          "iopub.execute_input": "2022-05-04T16:45:20.912043Z",
          "iopub.status.idle": "2022-05-04T16:45:21.089541Z"
        },
        "trusted": true,
        "id": "BsXDDLejElkT",
        "outputId": "849f3cc0-85b2-48e4-cbf3-bdb72296fced"
      },
      "execution_count": null,
      "outputs": [
        {
          "output_type": "display_data",
          "data": {
            "text/html": "<table class=\"dataframe\">\n<caption>A data.frame: 6 × 10</caption>\n<thead>\n\t<tr><th></th><th scope=col>Churn</th><th scope=col>AccountWeeks</th><th scope=col>ContractRenewal</th><th scope=col>DataPlan</th><th scope=col>DataUsage</th><th scope=col>CustServCalls</th><th scope=col>DayMins</th><th scope=col>DayCalls</th><th scope=col>MonthlyCharge</th><th scope=col>RoamMins</th></tr>\n\t<tr><th></th><th scope=col>&lt;int&gt;</th><th scope=col>&lt;int&gt;</th><th scope=col>&lt;int&gt;</th><th scope=col>&lt;int&gt;</th><th scope=col>&lt;dbl&gt;</th><th scope=col>&lt;int&gt;</th><th scope=col>&lt;dbl&gt;</th><th scope=col>&lt;int&gt;</th><th scope=col>&lt;dbl&gt;</th><th scope=col>&lt;dbl&gt;</th></tr>\n</thead>\n<tbody>\n\t<tr><th scope=row>1</th><td>0</td><td>128</td><td>1</td><td>1</td><td>2.7</td><td>1</td><td>265.1</td><td>110</td><td>89</td><td>10.0</td></tr>\n\t<tr><th scope=row>2</th><td>0</td><td>107</td><td>1</td><td>1</td><td>3.7</td><td>1</td><td>161.6</td><td>123</td><td>82</td><td>13.7</td></tr>\n\t<tr><th scope=row>3</th><td>0</td><td>137</td><td>1</td><td>0</td><td>0.0</td><td>0</td><td>243.4</td><td>114</td><td>52</td><td>12.2</td></tr>\n\t<tr><th scope=row>4</th><td>0</td><td> 84</td><td>0</td><td>0</td><td>0.0</td><td>2</td><td>299.4</td><td> 71</td><td>57</td><td> 6.6</td></tr>\n\t<tr><th scope=row>5</th><td>0</td><td> 75</td><td>0</td><td>0</td><td>0.0</td><td>3</td><td>166.7</td><td>113</td><td>41</td><td>10.1</td></tr>\n\t<tr><th scope=row>6</th><td>0</td><td>118</td><td>0</td><td>0</td><td>0.0</td><td>0</td><td>223.4</td><td> 98</td><td>57</td><td> 6.3</td></tr>\n</tbody>\n</table>\n",
            "text/markdown": "\nA data.frame: 6 × 10\n\n| <!--/--> | Churn &lt;int&gt; | AccountWeeks &lt;int&gt; | ContractRenewal &lt;int&gt; | DataPlan &lt;int&gt; | DataUsage &lt;dbl&gt; | CustServCalls &lt;int&gt; | DayMins &lt;dbl&gt; | DayCalls &lt;int&gt; | MonthlyCharge &lt;dbl&gt; | RoamMins &lt;dbl&gt; |\n|---|---|---|---|---|---|---|---|---|---|---|\n| 1 | 0 | 128 | 1 | 1 | 2.7 | 1 | 265.1 | 110 | 89 | 10.0 |\n| 2 | 0 | 107 | 1 | 1 | 3.7 | 1 | 161.6 | 123 | 82 | 13.7 |\n| 3 | 0 | 137 | 1 | 0 | 0.0 | 0 | 243.4 | 114 | 52 | 12.2 |\n| 4 | 0 |  84 | 0 | 0 | 0.0 | 2 | 299.4 |  71 | 57 |  6.6 |\n| 5 | 0 |  75 | 0 | 0 | 0.0 | 3 | 166.7 | 113 | 41 | 10.1 |\n| 6 | 0 | 118 | 0 | 0 | 0.0 | 0 | 223.4 |  98 | 57 |  6.3 |\n\n",
            "text/latex": "A data.frame: 6 × 10\n\\begin{tabular}{r|llllllllll}\n  & Churn & AccountWeeks & ContractRenewal & DataPlan & DataUsage & CustServCalls & DayMins & DayCalls & MonthlyCharge & RoamMins\\\\\n  & <int> & <int> & <int> & <int> & <dbl> & <int> & <dbl> & <int> & <dbl> & <dbl>\\\\\n\\hline\n\t1 & 0 & 128 & 1 & 1 & 2.7 & 1 & 265.1 & 110 & 89 & 10.0\\\\\n\t2 & 0 & 107 & 1 & 1 & 3.7 & 1 & 161.6 & 123 & 82 & 13.7\\\\\n\t3 & 0 & 137 & 1 & 0 & 0.0 & 0 & 243.4 & 114 & 52 & 12.2\\\\\n\t4 & 0 &  84 & 0 & 0 & 0.0 & 2 & 299.4 &  71 & 57 &  6.6\\\\\n\t5 & 0 &  75 & 0 & 0 & 0.0 & 3 & 166.7 & 113 & 41 & 10.1\\\\\n\t6 & 0 & 118 & 0 & 0 & 0.0 & 0 & 223.4 &  98 & 57 &  6.3\\\\\n\\end{tabular}\n",
            "text/plain": "  Churn AccountWeeks ContractRenewal DataPlan DataUsage CustServCalls DayMins\n1 0     128          1               1        2.7       1             265.1  \n2 0     107          1               1        3.7       1             161.6  \n3 0     137          1               0        0.0       0             243.4  \n4 0      84          0               0        0.0       2             299.4  \n5 0      75          0               0        0.0       3             166.7  \n6 0     118          0               0        0.0       0             223.4  \n  DayCalls MonthlyCharge RoamMins\n1 110      89            10.0    \n2 123      82            13.7    \n3 114      52            12.2    \n4  71      57             6.6    \n5 113      41            10.1    \n6  98      57             6.3    "
          },
          "metadata": {}
        }
      ]
    },
    {
      "cell_type": "code",
      "source": [
        "str(customer_churn)"
      ],
      "metadata": {
        "execution": {
          "iopub.status.busy": "2022-05-04T16:45:21.092008Z",
          "iopub.execute_input": "2022-05-04T16:45:21.130646Z",
          "iopub.status.idle": "2022-05-04T16:45:21.155257Z"
        },
        "trusted": true,
        "id": "8DgAPon-ElkY",
        "outputId": "1dce1f7a-ef30-412b-f0c8-9b734e693e83"
      },
      "execution_count": null,
      "outputs": [
        {
          "name": "stdout",
          "text": "'data.frame':\t3333 obs. of  10 variables:\n $ Churn          : int  0 0 0 0 0 0 0 0 0 0 ...\n $ AccountWeeks   : int  128 107 137 84 75 118 121 147 117 141 ...\n $ ContractRenewal: int  1 1 1 0 0 0 1 0 1 0 ...\n $ DataPlan       : int  1 1 0 0 0 0 1 0 0 1 ...\n $ DataUsage      : num  2.7 3.7 0 0 0 0 2.03 0 0.19 3.02 ...\n $ CustServCalls  : int  1 1 0 2 3 0 3 0 1 0 ...\n $ DayMins        : num  265 162 243 299 167 ...\n $ DayCalls       : int  110 123 114 71 113 98 88 79 97 84 ...\n $ MonthlyCharge  : num  89 82 52 57 41 57 87.3 36 63.9 93.2 ...\n $ RoamMins       : num  10 13.7 12.2 6.6 10.1 6.3 7.5 7.1 8.7 11.2 ...\n",
          "output_type": "stream"
        }
      ]
    },
    {
      "cell_type": "code",
      "source": [
        "install.packages('plyr')\n",
        "library(plyr)\n"
      ],
      "metadata": {
        "execution": {
          "iopub.status.busy": "2022-05-04T16:45:21.157618Z",
          "iopub.execute_input": "2022-05-04T16:45:21.158983Z",
          "iopub.status.idle": "2022-05-04T16:45:47.773586Z"
        },
        "trusted": true,
        "id": "_NWiUFi6ElkZ",
        "outputId": "e3c0c9a8-b360-4764-ffd1-198c3094a482"
      },
      "execution_count": null,
      "outputs": [
        {
          "name": "stderr",
          "text": "Installing package into ‘/usr/local/lib/R/site-library’\n(as ‘lib’ is unspecified)\n\n",
          "output_type": "stream"
        }
      ]
    },
    {
      "cell_type": "code",
      "source": [
        "customer_churn$Churn <- sapply(customer_churn$Churn, factor)\n"
      ],
      "metadata": {
        "execution": {
          "iopub.status.busy": "2022-05-04T16:45:47.775934Z",
          "iopub.execute_input": "2022-05-04T16:45:47.777447Z",
          "iopub.status.idle": "2022-05-04T16:45:47.916176Z"
        },
        "trusted": true,
        "id": "dcexOZdxElka"
      },
      "execution_count": null,
      "outputs": []
    },
    {
      "cell_type": "code",
      "source": [
        "str(customer_churn)"
      ],
      "metadata": {
        "execution": {
          "iopub.status.busy": "2022-05-04T16:45:47.918751Z",
          "iopub.execute_input": "2022-05-04T16:45:47.920270Z",
          "iopub.status.idle": "2022-05-04T16:45:47.943349Z"
        },
        "trusted": true,
        "id": "-0KYN0ZjElkb",
        "outputId": "bb324e96-a3a0-4ba9-fa45-1279deeb9a02"
      },
      "execution_count": null,
      "outputs": [
        {
          "name": "stdout",
          "text": "'data.frame':\t3333 obs. of  10 variables:\n $ Churn          : Factor w/ 2 levels \"0\",\"1\": 1 1 1 1 1 1 1 1 1 1 ...\n $ AccountWeeks   : int  128 107 137 84 75 118 121 147 117 141 ...\n $ ContractRenewal: int  1 1 1 0 0 0 1 0 1 0 ...\n $ DataPlan       : int  1 1 0 0 0 0 1 0 0 1 ...\n $ DataUsage      : num  2.7 3.7 0 0 0 0 2.03 0 0.19 3.02 ...\n $ CustServCalls  : int  1 1 0 2 3 0 3 0 1 0 ...\n $ DayMins        : num  265 162 243 299 167 ...\n $ DayCalls       : int  110 123 114 71 113 98 88 79 97 84 ...\n $ MonthlyCharge  : num  89 82 52 57 41 57 87.3 36 63.9 93.2 ...\n $ RoamMins       : num  10 13.7 12.2 6.6 10.1 6.3 7.5 7.1 8.7 11.2 ...\n",
          "output_type": "stream"
        }
      ]
    },
    {
      "cell_type": "code",
      "source": [
        "#split the data\n",
        "sample_split <- floor(.7 *nrow(customer_churn))\n",
        "set.seed(1)"
      ],
      "metadata": {
        "execution": {
          "iopub.status.busy": "2022-05-04T16:45:47.945845Z",
          "iopub.execute_input": "2022-05-04T16:45:47.947309Z",
          "iopub.status.idle": "2022-05-04T16:45:47.962656Z"
        },
        "trusted": true,
        "id": "ksXOaqo1Elkc"
      },
      "execution_count": null,
      "outputs": []
    },
    {
      "cell_type": "code",
      "source": [
        "training <- sample(seq_len(nrow(customer_churn)), size=sample_split)\n",
        "churn_train <- customer_churn[training,]\n",
        "churn_test <- customer_churn[-training,]"
      ],
      "metadata": {
        "execution": {
          "iopub.status.busy": "2022-05-04T16:45:47.965171Z",
          "iopub.execute_input": "2022-05-04T16:45:47.966644Z",
          "iopub.status.idle": "2022-05-04T16:45:47.983399Z"
        },
        "trusted": true,
        "id": "MsPrPcd3Elkd"
      },
      "execution_count": null,
      "outputs": []
    },
    {
      "cell_type": "code",
      "source": [
        "#support vector machine\n",
        "install.packages('e1071')\n",
        "library(e1071)"
      ],
      "metadata": {
        "execution": {
          "iopub.status.busy": "2022-05-04T16:45:47.985864Z",
          "iopub.execute_input": "2022-05-04T16:45:47.987337Z",
          "iopub.status.idle": "2022-05-04T16:46:02.808898Z"
        },
        "trusted": true,
        "id": "KVQ9hKu8Elkf",
        "outputId": "31ef4362-f3ed-4435-b36e-d110e6c1787d"
      },
      "execution_count": null,
      "outputs": [
        {
          "name": "stderr",
          "text": "Installing package into ‘/usr/local/lib/R/site-library’\n(as ‘lib’ is unspecified)\n\n",
          "output_type": "stream"
        }
      ]
    },
    {
      "cell_type": "code",
      "source": [
        "svm_churn <- svm(Churn ~ ., churn_train)"
      ],
      "metadata": {
        "execution": {
          "iopub.status.busy": "2022-05-04T16:46:02.812393Z",
          "iopub.execute_input": "2022-05-04T16:46:02.813998Z",
          "iopub.status.idle": "2022-05-04T16:46:03.037664Z"
        },
        "trusted": true,
        "id": "PW9qFg9CElkg"
      },
      "execution_count": null,
      "outputs": []
    },
    {
      "cell_type": "code",
      "source": [
        "library(caret)"
      ],
      "metadata": {
        "execution": {
          "iopub.status.busy": "2022-05-04T16:46:03.040040Z",
          "iopub.execute_input": "2022-05-04T16:46:03.041452Z",
          "iopub.status.idle": "2022-05-04T16:46:05.735362Z"
        },
        "trusted": true,
        "id": "VHJJGzGzElkh",
        "outputId": "380d376f-6b23-4799-a4f6-7fac81f106d9"
      },
      "execution_count": null,
      "outputs": [
        {
          "name": "stderr",
          "text": "Loading required package: ggplot2\n\nLoading required package: lattice\n\n\nAttaching package: ‘caret’\n\n\nThe following object is masked from ‘package:httr’:\n\n    progress\n\n\n",
          "output_type": "stream"
        }
      ]
    },
    {
      "cell_type": "code",
      "source": [
        "confusionMatrix(churn_train$Churn, predict(svm_churn), positive='1')"
      ],
      "metadata": {
        "execution": {
          "iopub.status.busy": "2022-05-04T16:46:05.737740Z",
          "iopub.execute_input": "2022-05-04T16:46:05.739514Z",
          "iopub.status.idle": "2022-05-04T16:46:05.766468Z"
        },
        "trusted": true,
        "id": "Zvs-u5Y4Elki",
        "outputId": "dc89be79-0100-405c-bb7a-33ffab5f7245"
      },
      "execution_count": null,
      "outputs": [
        {
          "output_type": "display_data",
          "data": {
            "text/plain": "Confusion Matrix and Statistics\n\n          Reference\nPrediction    0    1\n         0 1966   21\n         1  169  177\n                                          \n               Accuracy : 0.9186          \n                 95% CI : (0.9067, 0.9293)\n    No Information Rate : 0.9151          \n    P-Value [Acc > NIR] : 0.2911          \n                                          \n                  Kappa : 0.6085          \n                                          \n Mcnemar's Test P-Value : <2e-16          \n                                          \n            Sensitivity : 0.89394         \n            Specificity : 0.92084         \n         Pos Pred Value : 0.51156         \n         Neg Pred Value : 0.98943         \n             Prevalence : 0.08487         \n         Detection Rate : 0.07587         \n   Detection Prevalence : 0.14831         \n      Balanced Accuracy : 0.90739         \n                                          \n       'Positive' Class : 1               \n                                          "
          },
          "metadata": {}
        }
      ]
    },
    {
      "cell_type": "code",
      "source": [
        "#test data\n",
        "Prediction <- predict(svm_churn, churn_test[-1])\n",
        "prediction_results <- table(pred=Prediction, true=churn_test[,1])\n",
        "print(prediction_results)"
      ],
      "metadata": {
        "execution": {
          "iopub.status.busy": "2022-05-04T16:46:05.769321Z",
          "iopub.execute_input": "2022-05-04T16:46:05.770811Z",
          "iopub.status.idle": "2022-05-04T16:46:05.813574Z"
        },
        "trusted": true,
        "id": "daxsCly2Elkj",
        "outputId": "e51ef3e2-2b66-48c5-a8e9-4d28344ab937"
      },
      "execution_count": null,
      "outputs": [
        {
          "name": "stdout",
          "text": "    true\npred   0   1\n   0 854  74\n   1   9  63\n",
          "output_type": "stream"
        }
      ]
    },
    {
      "cell_type": "markdown",
      "source": [
        "### Naive Bayes Classifier"
      ],
      "metadata": {
        "id": "IUJG7GLJElkk"
      }
    },
    {
      "cell_type": "code",
      "source": [
        "#load the necessary packages\n",
        "install.packages('mlbench')\n",
        "library(e1071)\n",
        "library(plyr)\n",
        "library(caret)\n",
        "library(mlbench)"
      ],
      "metadata": {
        "execution": {
          "iopub.status.busy": "2022-05-04T16:46:05.816030Z",
          "iopub.execute_input": "2022-05-04T16:46:05.817468Z",
          "iopub.status.idle": "2022-05-04T16:46:16.042853Z"
        },
        "trusted": true,
        "id": "tdjt01WEElkk",
        "outputId": "3c51818f-83d8-4c90-ba52-510519074a51"
      },
      "execution_count": null,
      "outputs": [
        {
          "name": "stderr",
          "text": "Installing package into ‘/usr/local/lib/R/site-library’\n(as ‘lib’ is unspecified)\n\n",
          "output_type": "stream"
        }
      ]
    },
    {
      "cell_type": "code",
      "source": [
        "#load and verify data\n",
        "bank_loan <- read.csv('../input/bank-loan-default/Bank_Loan_Default.csv')\n",
        "head(bank_loan)"
      ],
      "metadata": {
        "execution": {
          "iopub.status.busy": "2022-05-04T16:46:16.045312Z",
          "iopub.execute_input": "2022-05-04T16:46:16.046764Z",
          "iopub.status.idle": "2022-05-04T16:46:16.091783Z"
        },
        "trusted": true,
        "id": "rQ7M3FTqElkl",
        "outputId": "2248c094-3b0a-42c6-a759-0661f0b49302"
      },
      "execution_count": null,
      "outputs": [
        {
          "output_type": "display_data",
          "data": {
            "text/html": "<table class=\"dataframe\">\n<caption>A data.frame: 6 × 14</caption>\n<thead>\n\t<tr><th></th><th scope=col>Default</th><th scope=col>checkingstatus1</th><th scope=col>duration</th><th scope=col>history</th><th scope=col>purpose</th><th scope=col>amount</th><th scope=col>savings</th><th scope=col>employ</th><th scope=col>installment</th><th scope=col>residence</th><th scope=col>age</th><th scope=col>otherplans</th><th scope=col>cards</th><th scope=col>tele</th></tr>\n\t<tr><th></th><th scope=col>&lt;int&gt;</th><th scope=col>&lt;chr&gt;</th><th scope=col>&lt;int&gt;</th><th scope=col>&lt;chr&gt;</th><th scope=col>&lt;chr&gt;</th><th scope=col>&lt;int&gt;</th><th scope=col>&lt;chr&gt;</th><th scope=col>&lt;chr&gt;</th><th scope=col>&lt;int&gt;</th><th scope=col>&lt;int&gt;</th><th scope=col>&lt;int&gt;</th><th scope=col>&lt;chr&gt;</th><th scope=col>&lt;int&gt;</th><th scope=col>&lt;chr&gt;</th></tr>\n</thead>\n<tbody>\n\t<tr><th scope=row>1</th><td>0</td><td>A11</td><td> 6</td><td>A34</td><td>A43</td><td>1169</td><td>A65</td><td>A75</td><td>4</td><td>4</td><td>67</td><td>A143</td><td>2</td><td>A192</td></tr>\n\t<tr><th scope=row>2</th><td>1</td><td>A12</td><td>48</td><td>A32</td><td>A43</td><td>5951</td><td>A61</td><td>A73</td><td>2</td><td>2</td><td>22</td><td>A143</td><td>1</td><td>A191</td></tr>\n\t<tr><th scope=row>3</th><td>0</td><td>A14</td><td>12</td><td>A34</td><td>A46</td><td>2096</td><td>A61</td><td>A74</td><td>2</td><td>3</td><td>49</td><td>A143</td><td>1</td><td>A191</td></tr>\n\t<tr><th scope=row>4</th><td>0</td><td>A11</td><td>42</td><td>A32</td><td>A42</td><td>7882</td><td>A61</td><td>A74</td><td>2</td><td>4</td><td>45</td><td>A143</td><td>1</td><td>A191</td></tr>\n\t<tr><th scope=row>5</th><td>1</td><td>A11</td><td>24</td><td>A33</td><td>A40</td><td>4870</td><td>A61</td><td>A73</td><td>3</td><td>4</td><td>53</td><td>A143</td><td>2</td><td>A191</td></tr>\n\t<tr><th scope=row>6</th><td>0</td><td>A14</td><td>36</td><td>A32</td><td>A46</td><td>9055</td><td>A65</td><td>A73</td><td>2</td><td>4</td><td>35</td><td>A143</td><td>1</td><td>A192</td></tr>\n</tbody>\n</table>\n",
            "text/markdown": "\nA data.frame: 6 × 14\n\n| <!--/--> | Default &lt;int&gt; | checkingstatus1 &lt;chr&gt; | duration &lt;int&gt; | history &lt;chr&gt; | purpose &lt;chr&gt; | amount &lt;int&gt; | savings &lt;chr&gt; | employ &lt;chr&gt; | installment &lt;int&gt; | residence &lt;int&gt; | age &lt;int&gt; | otherplans &lt;chr&gt; | cards &lt;int&gt; | tele &lt;chr&gt; |\n|---|---|---|---|---|---|---|---|---|---|---|---|---|---|---|\n| 1 | 0 | A11 |  6 | A34 | A43 | 1169 | A65 | A75 | 4 | 4 | 67 | A143 | 2 | A192 |\n| 2 | 1 | A12 | 48 | A32 | A43 | 5951 | A61 | A73 | 2 | 2 | 22 | A143 | 1 | A191 |\n| 3 | 0 | A14 | 12 | A34 | A46 | 2096 | A61 | A74 | 2 | 3 | 49 | A143 | 1 | A191 |\n| 4 | 0 | A11 | 42 | A32 | A42 | 7882 | A61 | A74 | 2 | 4 | 45 | A143 | 1 | A191 |\n| 5 | 1 | A11 | 24 | A33 | A40 | 4870 | A61 | A73 | 3 | 4 | 53 | A143 | 2 | A191 |\n| 6 | 0 | A14 | 36 | A32 | A46 | 9055 | A65 | A73 | 2 | 4 | 35 | A143 | 1 | A192 |\n\n",
            "text/latex": "A data.frame: 6 × 14\n\\begin{tabular}{r|llllllllllllll}\n  & Default & checkingstatus1 & duration & history & purpose & amount & savings & employ & installment & residence & age & otherplans & cards & tele\\\\\n  & <int> & <chr> & <int> & <chr> & <chr> & <int> & <chr> & <chr> & <int> & <int> & <int> & <chr> & <int> & <chr>\\\\\n\\hline\n\t1 & 0 & A11 &  6 & A34 & A43 & 1169 & A65 & A75 & 4 & 4 & 67 & A143 & 2 & A192\\\\\n\t2 & 1 & A12 & 48 & A32 & A43 & 5951 & A61 & A73 & 2 & 2 & 22 & A143 & 1 & A191\\\\\n\t3 & 0 & A14 & 12 & A34 & A46 & 2096 & A61 & A74 & 2 & 3 & 49 & A143 & 1 & A191\\\\\n\t4 & 0 & A11 & 42 & A32 & A42 & 7882 & A61 & A74 & 2 & 4 & 45 & A143 & 1 & A191\\\\\n\t5 & 1 & A11 & 24 & A33 & A40 & 4870 & A61 & A73 & 3 & 4 & 53 & A143 & 2 & A191\\\\\n\t6 & 0 & A14 & 36 & A32 & A46 & 9055 & A65 & A73 & 2 & 4 & 35 & A143 & 1 & A192\\\\\n\\end{tabular}\n",
            "text/plain": "  Default checkingstatus1 duration history purpose amount savings employ\n1 0       A11              6       A34     A43     1169   A65     A75   \n2 1       A12             48       A32     A43     5951   A61     A73   \n3 0       A14             12       A34     A46     2096   A61     A74   \n4 0       A11             42       A32     A42     7882   A61     A74   \n5 1       A11             24       A33     A40     4870   A61     A73   \n6 0       A14             36       A32     A46     9055   A65     A73   \n  installment residence age otherplans cards tele\n1 4           4         67  A143       2     A192\n2 2           2         22  A143       1     A191\n3 2           3         49  A143       1     A191\n4 2           4         45  A143       1     A191\n5 3           4         53  A143       2     A191\n6 2           4         35  A143       1     A192"
          },
          "metadata": {}
        }
      ]
    },
    {
      "cell_type": "code",
      "source": [
        "str(bank_loan)"
      ],
      "metadata": {
        "execution": {
          "iopub.status.busy": "2022-05-04T16:46:16.094256Z",
          "iopub.execute_input": "2022-05-04T16:46:16.095758Z",
          "iopub.status.idle": "2022-05-04T16:46:16.122837Z"
        },
        "trusted": true,
        "id": "aPHwYlRFElkm",
        "outputId": "be7b9d3f-7062-4a54-b26f-731e59feeb1e"
      },
      "execution_count": null,
      "outputs": [
        {
          "name": "stdout",
          "text": "'data.frame':\t1000 obs. of  14 variables:\n $ Default        : int  0 1 0 0 1 0 0 0 0 1 ...\n $ checkingstatus1: chr  \"A11\" \"A12\" \"A14\" \"A11\" ...\n $ duration       : int  6 48 12 42 24 36 24 36 12 30 ...\n $ history        : chr  \"A34\" \"A32\" \"A34\" \"A32\" ...\n $ purpose        : chr  \"A43\" \"A43\" \"A46\" \"A42\" ...\n $ amount         : int  1169 5951 2096 7882 4870 9055 2835 6948 3059 5234 ...\n $ savings        : chr  \"A65\" \"A61\" \"A61\" \"A61\" ...\n $ employ         : chr  \"A75\" \"A73\" \"A74\" \"A74\" ...\n $ installment    : int  4 2 2 2 3 2 3 2 2 4 ...\n $ residence      : int  4 2 3 4 4 4 4 2 4 2 ...\n $ age            : int  67 22 49 45 53 35 53 35 61 28 ...\n $ otherplans     : chr  \"A143\" \"A143\" \"A143\" \"A143\" ...\n $ cards          : int  2 1 1 1 2 1 1 1 1 2 ...\n $ tele           : chr  \"A192\" \"A191\" \"A191\" \"A191\" ...\n",
          "output_type": "stream"
        }
      ]
    },
    {
      "cell_type": "code",
      "source": [
        "#convert Default from int to factor\n",
        "\n",
        "bank_loan$Default <- sapply(bank_loan$Default, factor)\n",
        "str(bank_loan)"
      ],
      "metadata": {
        "execution": {
          "iopub.status.busy": "2022-05-04T16:46:16.125554Z",
          "iopub.execute_input": "2022-05-04T16:46:16.127056Z",
          "iopub.status.idle": "2022-05-04T16:46:16.210134Z"
        },
        "trusted": true,
        "id": "JYnewoGSElkn",
        "outputId": "f1b6b2ba-dfbd-4db4-860c-c87bb24b30d7"
      },
      "execution_count": null,
      "outputs": [
        {
          "name": "stdout",
          "text": "'data.frame':\t1000 obs. of  14 variables:\n $ Default        : Factor w/ 2 levels \"0\",\"1\": 1 2 1 1 2 1 1 1 1 2 ...\n $ checkingstatus1: chr  \"A11\" \"A12\" \"A14\" \"A11\" ...\n $ duration       : int  6 48 12 42 24 36 24 36 12 30 ...\n $ history        : chr  \"A34\" \"A32\" \"A34\" \"A32\" ...\n $ purpose        : chr  \"A43\" \"A43\" \"A46\" \"A42\" ...\n $ amount         : int  1169 5951 2096 7882 4870 9055 2835 6948 3059 5234 ...\n $ savings        : chr  \"A65\" \"A61\" \"A61\" \"A61\" ...\n $ employ         : chr  \"A75\" \"A73\" \"A74\" \"A74\" ...\n $ installment    : int  4 2 2 2 3 2 3 2 2 4 ...\n $ residence      : int  4 2 3 4 4 4 4 2 4 2 ...\n $ age            : int  67 22 49 45 53 35 53 35 61 28 ...\n $ otherplans     : chr  \"A143\" \"A143\" \"A143\" \"A143\" ...\n $ cards          : int  2 1 1 1 2 1 1 1 1 2 ...\n $ tele           : chr  \"A192\" \"A191\" \"A191\" \"A191\" ...\n",
          "output_type": "stream"
        }
      ]
    },
    {
      "cell_type": "code",
      "source": [
        "#build model\n",
        "\n",
        "naive_model <- naiveBayes(Default ~.,data=bank_loan)\n",
        "print(naive_model)"
      ],
      "metadata": {
        "execution": {
          "iopub.status.busy": "2022-05-04T16:46:16.212450Z",
          "iopub.execute_input": "2022-05-04T16:46:16.213844Z",
          "iopub.status.idle": "2022-05-04T16:46:16.238704Z"
        },
        "trusted": true,
        "id": "AfgNAGcmElkn",
        "outputId": "9d3fcbcb-2285-4fb7-dc5c-adfe43a9988a"
      },
      "execution_count": null,
      "outputs": [
        {
          "name": "stdout",
          "text": "\nNaive Bayes Classifier for Discrete Predictors\n\nCall:\nnaiveBayes.default(x = X, y = Y, laplace = laplace)\n\nA-priori probabilities:\nY\n  0   1 \n0.7 0.3 \n\nConditional probabilities:\n   checkingstatus1\nY          A11        A12        A13        A14\n  0 0.19857143 0.23428571 0.07000000 0.49714286\n  1 0.45000000 0.35000000 0.04666667 0.15333333\n\n   duration\nY       [,1]     [,2]\n  0 19.20714 11.07956\n  1 24.86000 13.28264\n\n   history\nY          A30        A31        A32        A33        A34\n  0 0.02142857 0.03000000 0.51571429 0.08571429 0.34714286\n  1 0.08333333 0.09333333 0.56333333 0.09333333 0.16666667\n\n   purpose\nY           A40         A41        A410         A42         A43         A44\n  0 0.207142857 0.122857143 0.010000000 0.175714286 0.311428571 0.011428571\n  1 0.296666667 0.056666667 0.016666667 0.193333333 0.206666667 0.013333333\n   purpose\nY           A45         A46         A48         A49\n  0 0.020000000 0.040000000 0.011428571 0.090000000\n  1 0.026666667 0.073333333 0.003333333 0.113333333\n\n   amount\nY       [,1]     [,2]\n  0 2985.457 2401.472\n  1 3938.127 3535.819\n\n   savings\nY          A61        A62        A63        A64        A65\n  0 0.55142857 0.09857143 0.07428571 0.06000000 0.21571429\n  1 0.72333333 0.11333333 0.03666667 0.02000000 0.10666667\n\n   employ\nY          A71        A72        A73        A74        A75\n  0 0.05571429 0.14571429 0.33571429 0.19285714 0.27000000\n  1 0.07666667 0.23333333 0.34666667 0.13000000 0.21333333\n\n   installment\nY       [,1]     [,2]\n  0 2.920000 1.128078\n  1 3.096667 1.088395\n\n   residence\nY       [,1]     [,2]\n  0 2.842857 1.108373\n  1 2.850000 1.094605\n\n   age\nY       [,1]     [,2]\n  0 36.22429 11.38114\n  1 33.96333 11.22238\n\n   otherplans\nY         A141       A142       A143\n  0 0.11714286 0.04000000 0.84285714\n  1 0.19000000 0.06333333 0.74666667\n\n   cards\nY       [,1]      [,2]\n  0 1.424286 0.5847210\n  1 1.366667 0.5597021\n\n   tele\nY        A191      A192\n  0 0.5842857 0.4157143\n  1 0.6233333 0.3766667\n\n",
          "output_type": "stream"
        }
      ]
    },
    {
      "cell_type": "code",
      "source": [
        "#The model creates confitional probability for each feature separately\n",
        "#Apriori algorithm also indicates the distribution of the data\n",
        "\n",
        "#predict\n",
        "naive_predict <- predict(naive_model, bank_loan)\n",
        "table(naive_predict, bank_loan$Default)"
      ],
      "metadata": {
        "execution": {
          "iopub.status.busy": "2022-05-04T16:46:16.241133Z",
          "iopub.execute_input": "2022-05-04T16:46:16.242600Z",
          "iopub.status.idle": "2022-05-04T16:46:16.520842Z"
        },
        "trusted": true,
        "id": "uC8q8DiwElko",
        "outputId": "7d20d635-1110-4456-9a99-7394a9cf1190"
      },
      "execution_count": null,
      "outputs": [
        {
          "output_type": "display_data",
          "data": {
            "text/plain": "             \nnaive_predict   0   1\n            0 607 146\n            1  93 154"
          },
          "metadata": {}
        }
      ]
    },
    {
      "cell_type": "markdown",
      "source": [
        "### Decision Tree"
      ],
      "metadata": {
        "id": "b2X_QzEzElkp"
      }
    },
    {
      "cell_type": "code",
      "source": [
        "install.packages('rpart')\n",
        "library(rpart)"
      ],
      "metadata": {
        "execution": {
          "iopub.status.busy": "2022-05-04T16:46:16.523195Z",
          "iopub.execute_input": "2022-05-04T16:46:16.524616Z",
          "iopub.status.idle": "2022-05-04T16:46:31.220105Z"
        },
        "trusted": true,
        "id": "6VIN1t3hElkp",
        "outputId": "c2a60e9d-6389-45cc-e72b-ba66fd6f0f4a"
      },
      "execution_count": null,
      "outputs": [
        {
          "name": "stderr",
          "text": "Installing package into ‘/usr/local/lib/R/site-library’\n(as ‘lib’ is unspecified)\n\n",
          "output_type": "stream"
        }
      ]
    },
    {
      "cell_type": "code",
      "source": [
        "bank_loan <- read.csv('../input/bank-loan-default/Bank_Loan_Default.csv')\n",
        "str(bank_loan)"
      ],
      "metadata": {
        "execution": {
          "iopub.status.busy": "2022-05-04T16:46:31.222595Z",
          "iopub.execute_input": "2022-05-04T16:46:31.224036Z",
          "iopub.status.idle": "2022-05-04T16:46:31.257538Z"
        },
        "trusted": true,
        "id": "33DVph4vElkq",
        "outputId": "c8c7d04d-87ba-4d94-db38-aaefa18ae310"
      },
      "execution_count": null,
      "outputs": [
        {
          "name": "stdout",
          "text": "'data.frame':\t1000 obs. of  14 variables:\n $ Default        : int  0 1 0 0 1 0 0 0 0 1 ...\n $ checkingstatus1: chr  \"A11\" \"A12\" \"A14\" \"A11\" ...\n $ duration       : int  6 48 12 42 24 36 24 36 12 30 ...\n $ history        : chr  \"A34\" \"A32\" \"A34\" \"A32\" ...\n $ purpose        : chr  \"A43\" \"A43\" \"A46\" \"A42\" ...\n $ amount         : int  1169 5951 2096 7882 4870 9055 2835 6948 3059 5234 ...\n $ savings        : chr  \"A65\" \"A61\" \"A61\" \"A61\" ...\n $ employ         : chr  \"A75\" \"A73\" \"A74\" \"A74\" ...\n $ installment    : int  4 2 2 2 3 2 3 2 2 4 ...\n $ residence      : int  4 2 3 4 4 4 4 2 4 2 ...\n $ age            : int  67 22 49 45 53 35 53 35 61 28 ...\n $ otherplans     : chr  \"A143\" \"A143\" \"A143\" \"A143\" ...\n $ cards          : int  2 1 1 1 2 1 1 1 1 2 ...\n $ tele           : chr  \"A192\" \"A191\" \"A191\" \"A191\" ...\n",
          "output_type": "stream"
        }
      ]
    },
    {
      "cell_type": "code",
      "source": [
        "#convert Default fron int to factor\n",
        "bank_loan$Default <- sapply(bank_loan$Default, factor)\n",
        "str(bank_loan)"
      ],
      "metadata": {
        "execution": {
          "iopub.status.busy": "2022-05-04T16:46:31.259895Z",
          "iopub.execute_input": "2022-05-04T16:46:31.261338Z",
          "iopub.status.idle": "2022-05-04T16:46:31.319135Z"
        },
        "trusted": true,
        "id": "1fOAXT9xElkr",
        "outputId": "e5b8ca89-d304-4ac9-b04e-f133fe1c2b9b"
      },
      "execution_count": null,
      "outputs": [
        {
          "name": "stdout",
          "text": "'data.frame':\t1000 obs. of  14 variables:\n $ Default        : Factor w/ 2 levels \"0\",\"1\": 1 2 1 1 2 1 1 1 1 2 ...\n $ checkingstatus1: chr  \"A11\" \"A12\" \"A14\" \"A11\" ...\n $ duration       : int  6 48 12 42 24 36 24 36 12 30 ...\n $ history        : chr  \"A34\" \"A32\" \"A34\" \"A32\" ...\n $ purpose        : chr  \"A43\" \"A43\" \"A46\" \"A42\" ...\n $ amount         : int  1169 5951 2096 7882 4870 9055 2835 6948 3059 5234 ...\n $ savings        : chr  \"A65\" \"A61\" \"A61\" \"A61\" ...\n $ employ         : chr  \"A75\" \"A73\" \"A74\" \"A74\" ...\n $ installment    : int  4 2 2 2 3 2 3 2 2 4 ...\n $ residence      : int  4 2 3 4 4 4 4 2 4 2 ...\n $ age            : int  67 22 49 45 53 35 53 35 61 28 ...\n $ otherplans     : chr  \"A143\" \"A143\" \"A143\" \"A143\" ...\n $ cards          : int  2 1 1 1 2 1 1 1 1 2 ...\n $ tele           : chr  \"A192\" \"A191\" \"A191\" \"A191\" ...\n",
          "output_type": "stream"
        }
      ]
    },
    {
      "cell_type": "code",
      "source": [
        "#build model\n",
        "tree_model <- rpart(Default ~., data=bank_loan, method='class')\n",
        "tree_model"
      ],
      "metadata": {
        "execution": {
          "iopub.status.busy": "2022-05-04T16:46:31.321427Z",
          "iopub.execute_input": "2022-05-04T16:46:31.322808Z",
          "iopub.status.idle": "2022-05-04T16:46:31.416482Z"
        },
        "trusted": true,
        "id": "FTA0fLBNElkr",
        "outputId": "120fc854-b64f-41b2-c10a-9408e9112573"
      },
      "execution_count": null,
      "outputs": [
        {
          "output_type": "display_data",
          "data": {
            "text/plain": "n= 1000 \n\nnode), split, n, loss, yval, (yprob)\n      * denotes terminal node\n\n  1) root 1000 300 0 (0.7000000 0.3000000)  \n    2) checkingstatus1=A13,A14 457  60 0 (0.8687090 0.1312910) *\n    3) checkingstatus1=A11,A12 543 240 0 (0.5580110 0.4419890)  \n      6) duration< 22.5 306 106 0 (0.6535948 0.3464052)  \n       12) history=A32,A33,A34 278  85 0 (0.6942446 0.3057554)  \n         24) amount< 7491.5 271  79 0 (0.7084871 0.2915129)  \n           48) purpose=A40,A41,A410,A42,A43,A45,A48,A49 256  69 0 (0.7304688 0.2695312)  \n             96) duration< 11.5 73   9 0 (0.8767123 0.1232877) *\n             97) duration>=11.5 183  60 0 (0.6721311 0.3278689)  \n              194) amount>=1387.5 118  29 0 (0.7542373 0.2457627) *\n              195) amount< 1387.5 65  31 0 (0.5230769 0.4769231)  \n                390) purpose=A42,A43,A48,A49 39  13 0 (0.6666667 0.3333333) *\n                391) purpose=A40,A45 26   8 1 (0.3076923 0.6923077) *\n           49) purpose=A44,A46 15   5 1 (0.3333333 0.6666667) *\n         25) amount>=7491.5 7   1 1 (0.1428571 0.8571429) *\n       13) history=A30,A31 28   7 1 (0.2500000 0.7500000) *\n      7) duration>=22.5 237 103 1 (0.4345992 0.5654008)  \n       14) savings=A64,A65 41  12 0 (0.7073171 0.2926829) *\n       15) savings=A61,A62,A63 196  74 1 (0.3775510 0.6224490)  \n         30) duration< 47.5 160  69 1 (0.4312500 0.5687500)  \n           60) purpose=A41 23   6 0 (0.7391304 0.2608696) *\n           61) purpose=A40,A410,A42,A43,A45,A46,A49 137  52 1 (0.3795620 0.6204380) *\n         31) duration>=47.5 36   5 1 (0.1388889 0.8611111) *"
          },
          "metadata": {}
        }
      ]
    },
    {
      "cell_type": "code",
      "source": [
        "#analyze result\n",
        "printcp(tree_model)"
      ],
      "metadata": {
        "execution": {
          "iopub.status.busy": "2022-05-04T16:46:31.420744Z",
          "iopub.execute_input": "2022-05-04T16:46:31.423360Z",
          "iopub.status.idle": "2022-05-04T16:46:31.449723Z"
        },
        "trusted": true,
        "id": "49Lh-KibElkr",
        "outputId": "7f685357-1124-4d93-a898-0b7b3f0f2658"
      },
      "execution_count": null,
      "outputs": [
        {
          "name": "stdout",
          "text": "\nClassification tree:\nrpart(formula = Default ~ ., data = bank_loan, method = \"class\")\n\nVariables actually used in tree construction:\n[1] amount          checkingstatus1 duration        history        \n[5] purpose         savings        \n\nRoot node error: 300/1000 = 0.3\n\nn= 1000 \n\n        CP nsplit rel error  xerror     xstd\n1 0.051667      0   1.00000 1.00000 0.048305\n2 0.046667      3   0.84000 1.02333 0.048620\n3 0.018333      4   0.79333 0.89000 0.046632\n4 0.016667      6   0.75667 0.85000 0.045944\n5 0.011111      8   0.72333 0.86667 0.046236\n6 0.010000     11   0.69000 0.89000 0.046632\n",
          "output_type": "stream"
        }
      ]
    },
    {
      "cell_type": "code",
      "source": [
        "plotcp(tree_model)"
      ],
      "metadata": {
        "execution": {
          "iopub.status.busy": "2022-05-04T16:46:31.454160Z",
          "iopub.execute_input": "2022-05-04T16:46:31.456856Z",
          "iopub.status.idle": "2022-05-04T16:46:31.719775Z"
        },
        "trusted": true,
        "id": "KhMJfuGjElks",
        "outputId": "e58afbcd-92a1-4d88-899f-b4d1b19fe003"
      },
      "execution_count": null,
      "outputs": [
        {
          "output_type": "display_data",
          "data": {
            "image/png": "[encoded data removed]"
          },
          "metadata": {
            "image/png": {
              "width": 420,
              "height": 420
            }
          }
        }
      ]
    },
    {
      "cell_type": "code",
      "source": [
        "summary(tree_model)"
      ],
      "metadata": {
        "execution": {
          "iopub.status.busy": "2022-05-04T16:46:31.722154Z",
          "iopub.execute_input": "2022-05-04T16:46:31.723589Z",
          "iopub.status.idle": "2022-05-04T16:46:31.748620Z"
        },
        "trusted": true,
        "id": "sQ06fWCrElks",
        "outputId": "7e5ecbd2-59c0-4909-c2cf-9f4b6e3649ae"
      },
      "execution_count": null,
      "outputs": [
        {
          "name": "stdout",
          "text": "Call:\nrpart(formula = Default ~ ., data = bank_loan, method = \"class\")\n  n= 1000 \n\n          CP nsplit rel error    xerror       xstd\n1 0.05166667      0 1.0000000 1.0000000 0.04830459\n2 0.04666667      3 0.8400000 1.0233333 0.04861995\n3 0.01833333      4 0.7933333 0.8900000 0.04663225\n4 0.01666667      6 0.7566667 0.8500000 0.04594381\n5 0.01111111      8 0.7233333 0.8666667 0.04623611\n6 0.01000000     11 0.6900000 0.8900000 0.04663225\n\nVariable importance\ncheckingstatus1        duration         purpose         history          amount \n             34              16              14              12              11 \n        savings             age          employ \n             10               2               1 \n\nNode number 1: 1000 observations,    complexity param=0.05166667\n  predicted class=0  expected loss=0.3  P(node) =1\n    class counts:   700   300\n   probabilities: 0.700 0.300 \n  left son=2 (457 obs) right son=3 (543 obs)\n  Primary splits:\n      checkingstatus1 splits as  RRLL,        improve=47.90962, (0 missing)\n      history         splits as  RRLLL,       improve=17.06212, (0 missing)\n      savings         splits as  RRLLL,       improve=14.80642, (0 missing)\n      duration        < 34.5    to the left,  improve=13.62155, (0 missing)\n      purpose         splits as  RLRRLRRRLR,  improve=11.86359, (0 missing)\n  Surrogate splits:\n      savings splits as  RRLLL,       agree=0.611, adj=0.149, (0 split)\n      history splits as  RRRRL,       agree=0.592, adj=0.107, (0 split)\n      purpose splits as  RLRRLRRRRR,  agree=0.574, adj=0.068, (0 split)\n      employ  splits as  RRRRL,       agree=0.554, adj=0.024, (0 split)\n      age     < 30.5    to the right, agree=0.554, adj=0.024, (0 split)\n\nNode number 2: 457 observations\n  predicted class=0  expected loss=0.131291  P(node) =0.457\n    class counts:   397    60\n   probabilities: 0.869 0.131 \n\nNode number 3: 543 observations,    complexity param=0.05166667\n  predicted class=0  expected loss=0.441989  P(node) =0.543\n    class counts:   303   240\n   probabilities: 0.558 0.442 \n  left son=6 (306 obs) right son=7 (237 obs)\n  Primary splits:\n      duration < 22.5    to the left,  improve=12.810640, (0 missing)\n      history  splits as  RRLLL,       improve= 9.653787, (0 missing)\n      savings  splits as  RRLLL,       improve= 8.890786, (0 missing)\n      amount   < 8079    to the left,  improve= 6.601270, (0 missing)\n      purpose  splits as  RLLLLRLRLL,  improve= 5.792484, (0 missing)\n  Surrogate splits:\n      amount     < 2805.5  to the left,  agree=0.748, adj=0.422, (0 split)\n      purpose    splits as  LRRLLLLLLR,  agree=0.639, adj=0.173, (0 split)\n      history    splits as  RRLRL,       agree=0.610, adj=0.105, (0 split)\n      tele       splits as  LR,          agree=0.586, adj=0.051, (0 split)\n      otherplans splits as  LRL,         agree=0.580, adj=0.038, (0 split)\n\nNode number 6: 306 observations,    complexity param=0.04666667\n  predicted class=0  expected loss=0.3464052  P(node) =0.306\n    class counts:   200   106\n   probabilities: 0.654 0.346 \n  left son=12 (278 obs) right son=13 (28 obs)\n  Primary splits:\n      history  splits as  RRLLL,       improve=10.040510, (0 missing)\n      purpose  splits as  RLLLLRLRLL,  improve= 5.984961, (0 missing)\n      duration < 11.5    to the left,  improve= 3.766531, (0 missing)\n      amount   < 7491.5  to the left,  improve= 3.737438, (0 missing)\n      employ   splits as  RRRLR,       improve= 3.221623, (0 missing)\n\nNode number 7: 237 observations,    complexity param=0.05166667\n  predicted class=1  expected loss=0.4345992  P(node) =0.237\n    class counts:   103   134\n   probabilities: 0.435 0.565 \n  left son=14 (41 obs) right son=15 (196 obs)\n  Primary splits:\n      savings     splits as  RRRLL,       improve=7.374515, (0 missing)\n      purpose     splits as  RLRRRRRR-R,  improve=4.129437, (0 missing)\n      amount      < 1381.5  to the right, improve=3.289316, (0 missing)\n      installment < 2.5     to the left,  improve=3.067516, (0 missing)\n      duration    < 43.5    to the left,  improve=2.564920, (0 missing)\n\nNode number 12: 278 observations,    complexity param=0.01666667\n  predicted class=0  expected loss=0.3057554  P(node) =0.278\n    class counts:   193    85\n   probabilities: 0.694 0.306 \n  left son=24 (271 obs) right son=25 (7 obs)\n  Primary splits:\n      amount   < 7491.5  to the left,  improve=4.366338, (0 missing)\n      duration < 11.5    to the left,  improve=3.840775, (0 missing)\n      purpose  splits as  RLLRLRRRRL,  improve=3.489364, (0 missing)\n      employ   splits as  RRRLR,       improve=3.449347, (0 missing)\n      history  splits as  --RLL,       improve=2.954088, (0 missing)\n\nNode number 13: 28 observations\n  predicted class=1  expected loss=0.25  P(node) =0.028\n    class counts:     7    21\n   probabilities: 0.250 0.750 \n\nNode number 14: 41 observations\n  predicted class=0  expected loss=0.2926829  P(node) =0.041\n    class counts:    29    12\n   probabilities: 0.707 0.293 \n\nNode number 15: 196 observations,    complexity param=0.01833333\n  predicted class=1  expected loss=0.377551  P(node) =0.196\n    class counts:    74   122\n   probabilities: 0.378 0.622 \n  left son=30 (160 obs) right son=31 (36 obs)\n  Primary splits:\n      duration    < 47.5    to the left,  improve=5.023838, (0 missing)\n      purpose     splits as  RLRRRRRR-R,  improve=4.598639, (0 missing)\n      installment < 2.5     to the left,  improve=2.682485, (0 missing)\n      amount      < 11788   to the left,  improve=2.516732, (0 missing)\n      residence   < 1.5     to the left,  improve=1.984382, (0 missing)\n  Surrogate splits:\n      amount  < 13319.5 to the left,  agree=0.837, adj=0.111, (0 split)\n      purpose splits as  LLLLLRLL-L,  agree=0.821, adj=0.028, (0 split)\n\nNode number 24: 271 observations,    complexity param=0.01666667\n  predicted class=0  expected loss=0.2915129  P(node) =0.271\n    class counts:   192    79\n   probabilities: 0.708 0.292 \n  left son=48 (256 obs) right son=49 (15 obs)\n  Primary splits:\n      purpose  splits as  LLLLLRLRLL,  improve=4.469605, (0 missing)\n      duration < 11.5    to the left,  improve=4.151402, (0 missing)\n      amount   < 1373    to the right, improve=3.770882, (0 missing)\n      employ   splits as  RRRLR,       improve=2.956763, (0 missing)\n      savings  splits as  RRLLL,       improve=2.245884, (0 missing)\n\nNode number 25: 7 observations\n  predicted class=1  expected loss=0.1428571  P(node) =0.007\n    class counts:     1     6\n   probabilities: 0.143 0.857 \n\nNode number 30: 160 observations,    complexity param=0.01833333\n  predicted class=1  expected loss=0.43125  P(node) =0.16\n    class counts:    69    91\n   probabilities: 0.431 0.569 \n  left son=60 (23 obs) right son=61 (137 obs)\n  Primary splits:\n      purpose     splits as  RLRRR-RR-R,  improve=5.092387, (0 missing)\n      amount      < 2313    to the right, improve=3.402464, (0 missing)\n      installment < 2.5     to the left,  improve=2.374236, (0 missing)\n      age         < 57.5    to the right, improve=1.711184, (0 missing)\n      employ      splits as  LRRLL,       improve=1.605931, (0 missing)\n  Surrogate splits:\n      age < 62      to the right, agree=0.863, adj=0.043, (0 split)\n\nNode number 31: 36 observations\n  predicted class=1  expected loss=0.1388889  P(node) =0.036\n    class counts:     5    31\n   probabilities: 0.139 0.861 \n\nNode number 48: 256 observations,    complexity param=0.01111111\n  predicted class=0  expected loss=0.2695312  P(node) =0.256\n    class counts:   187    69\n   probabilities: 0.730 0.270 \n  left son=96 (73 obs) right son=97 (183 obs)\n  Primary splits:\n      duration < 11.5    to the left,  improve=4.368128, (0 missing)\n      amount   < 1373    to the right, improve=2.605295, (0 missing)\n      purpose  splits as  RLLRL-R-RL,  improve=2.225060, (0 missing)\n      savings  splits as  RRLLL,       improve=2.156836, (0 missing)\n      history  splits as  --RLL,       improve=2.062906, (0 missing)\n  Surrogate splits:\n      amount < 527.5   to the left,  agree=0.738, adj=0.082, (0 split)\n      age    < 69      to the right, agree=0.723, adj=0.027, (0 split)\n\nNode number 49: 15 observations\n  predicted class=1  expected loss=0.3333333  P(node) =0.015\n    class counts:     5    10\n   probabilities: 0.333 0.667 \n\nNode number 60: 23 observations\n  predicted class=0  expected loss=0.2608696  P(node) =0.023\n    class counts:    17     6\n   probabilities: 0.739 0.261 \n\nNode number 61: 137 observations\n  predicted class=1  expected loss=0.379562  P(node) =0.137\n    class counts:    52    85\n   probabilities: 0.380 0.620 \n\nNode number 96: 73 observations\n  predicted class=0  expected loss=0.1232877  P(node) =0.073\n    class counts:    64     9\n   probabilities: 0.877 0.123 \n\nNode number 97: 183 observations,    complexity param=0.01111111\n  predicted class=0  expected loss=0.3278689  P(node) =0.183\n    class counts:   123    60\n   probabilities: 0.672 0.328 \n  left son=194 (118 obs) right son=195 (65 obs)\n  Primary splits:\n      amount     < 1387.5  to the right, improve=4.479206, (0 missing)\n      purpose    splits as  RLLRR-R-RL,  improve=2.736580, (0 missing)\n      otherplans splits as  RRL,         improve=2.474530, (0 missing)\n      savings    splits as  RRLLR,       improve=1.656446, (0 missing)\n      employ     splits as  RRRLR,       improve=1.473710, (0 missing)\n  Surrogate splits:\n      age      < 21.5    to the right, agree=0.678, adj=0.092, (0 split)\n      duration < 12.5    to the right, agree=0.656, adj=0.031, (0 split)\n      purpose  splits as  LLLLL-L-RL,  agree=0.656, adj=0.031, (0 split)\n      cards    < 3.5     to the left,  agree=0.656, adj=0.031, (0 split)\n\nNode number 194: 118 observations\n  predicted class=0  expected loss=0.2457627  P(node) =0.118\n    class counts:    89    29\n   probabilities: 0.754 0.246 \n\nNode number 195: 65 observations,    complexity param=0.01111111\n  predicted class=0  expected loss=0.4769231  P(node) =0.065\n    class counts:    34    31\n   probabilities: 0.523 0.477 \n  left son=390 (39 obs) right son=391 (26 obs)\n  Primary splits:\n      purpose    splits as  R--LL-R-LL,  improve=4.020513, (0 missing)\n      otherplans splits as  RRL,         improve=3.083968, (0 missing)\n      cards      < 1.5     to the right, improve=2.453653, (0 missing)\n      age        < 37.5    to the right, improve=1.808547, (0 missing)\n      amount     < 1181.5  to the left,  improve=1.284316, (0 missing)\n  Surrogate splits:\n      amount  < 1163    to the left,  agree=0.646, adj=0.115, (0 split)\n      age     < 40.5    to the left,  agree=0.646, adj=0.115, (0 split)\n      history splits as  --LLR,       agree=0.615, adj=0.038, (0 split)\n      savings splits as  LLLRL,       agree=0.615, adj=0.038, (0 split)\n      employ  splits as  RLLLL,       agree=0.615, adj=0.038, (0 split)\n\nNode number 390: 39 observations\n  predicted class=0  expected loss=0.3333333  P(node) =0.039\n    class counts:    26    13\n   probabilities: 0.667 0.333 \n\nNode number 391: 26 observations\n  predicted class=1  expected loss=0.3076923  P(node) =0.026\n    class counts:     8    18\n   probabilities: 0.308 0.692 \n\n",
          "output_type": "stream"
        }
      ]
    },
    {
      "cell_type": "code",
      "source": [
        "plot(tree_model)"
      ],
      "metadata": {
        "execution": {
          "iopub.status.busy": "2022-05-04T16:46:31.750865Z",
          "iopub.execute_input": "2022-05-04T16:46:31.752221Z",
          "iopub.status.idle": "2022-05-04T16:46:31.829082Z"
        },
        "trusted": true,
        "id": "q_834QNnElkt",
        "outputId": "cce61e43-f7e3-402f-9186-2652df4ffb77"
      },
      "execution_count": null,
      "outputs": [
        {
          "output_type": "display_data",
          "data": {
            "image/png": "[encoded data removed]"
          },
          "metadata": {
            "image/png": {
              "width": 420,
              "height": 420
            }
          }
        }
      ]
    },
    {
      "cell_type": "code",
      "source": [
        "#k-fold cross validation\n",
        "folded_up <- createFolds(bank_loan, k=10, list=TRUE, returnTrain=FALSE)\n",
        "train_set <- names(folded_up[1])\n",
        "bank_loan[folded_up$train_set,]"
      ],
      "metadata": {
        "execution": {
          "iopub.status.busy": "2022-05-04T16:46:31.831398Z",
          "iopub.execute_input": "2022-05-04T16:46:31.832802Z",
          "iopub.status.idle": "2022-05-04T16:46:31.876105Z"
        },
        "trusted": true,
        "id": "FFpB_bgDElkt",
        "outputId": "2246a9a8-cb48-4b53-82aa-5723e526ab16"
      },
      "execution_count": null,
      "outputs": [
        {
          "output_type": "display_data",
          "data": {
            "text/html": "<table class=\"dataframe\">\n<caption>A data.frame: 0 × 14</caption>\n<thead>\n\t<tr><th scope=col>Default</th><th scope=col>checkingstatus1</th><th scope=col>duration</th><th scope=col>history</th><th scope=col>purpose</th><th scope=col>amount</th><th scope=col>savings</th><th scope=col>employ</th><th scope=col>installment</th><th scope=col>residence</th><th scope=col>age</th><th scope=col>otherplans</th><th scope=col>cards</th><th scope=col>tele</th></tr>\n\t<tr><th scope=col>&lt;fct&gt;</th><th scope=col>&lt;chr&gt;</th><th scope=col>&lt;int&gt;</th><th scope=col>&lt;chr&gt;</th><th scope=col>&lt;chr&gt;</th><th scope=col>&lt;int&gt;</th><th scope=col>&lt;chr&gt;</th><th scope=col>&lt;chr&gt;</th><th scope=col>&lt;int&gt;</th><th scope=col>&lt;int&gt;</th><th scope=col>&lt;int&gt;</th><th scope=col>&lt;chr&gt;</th><th scope=col>&lt;int&gt;</th><th scope=col>&lt;chr&gt;</th></tr>\n</thead>\n<tbody>\n</tbody>\n</table>\n",
            "text/markdown": "\nA data.frame: 0 × 14\n\n| Default &lt;fct&gt; | checkingstatus1 &lt;chr&gt; | duration &lt;int&gt; | history &lt;chr&gt; | purpose &lt;chr&gt; | amount &lt;int&gt; | savings &lt;chr&gt; | employ &lt;chr&gt; | installment &lt;int&gt; | residence &lt;int&gt; | age &lt;int&gt; | otherplans &lt;chr&gt; | cards &lt;int&gt; | tele &lt;chr&gt; |\n|---|---|---|---|---|---|---|---|---|---|---|---|---|---|\n\n",
            "text/latex": "A data.frame: 0 × 14\n\\begin{tabular}{llllllllllllll}\n Default & checkingstatus1 & duration & history & purpose & amount & savings & employ & installment & residence & age & otherplans & cards & tele\\\\\n <fct> & <chr> & <int> & <chr> & <chr> & <int> & <chr> & <chr> & <int> & <int> & <int> & <chr> & <int> & <chr>\\\\\n\\hline\n\\end{tabular}\n",
            "text/plain": "     Default checkingstatus1 duration history purpose amount savings employ\n     installment residence age otherplans cards tele"
          },
          "metadata": {}
        }
      ]
    }
  ]
}