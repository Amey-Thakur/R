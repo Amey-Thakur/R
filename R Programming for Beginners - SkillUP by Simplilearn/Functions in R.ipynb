{
  "cells": [
    {
      "cell_type": "markdown",
      "metadata": {
        "id": "view-in-github",
        "colab_type": "text"
      },
      "source": [
        "<a href=\"https://colab.research.google.com/github/Amey-Thakur/R/blob/main/functions_in_r.ipynb\" target=\"_parent\"><img src=\"https://colab.research.google.com/assets/colab-badge.svg\" alt=\"Open In Colab\"/></a>"
      ]
    },
    {
      "cell_type": "code",
      "execution_count": null,
      "id": "169eedc7",
      "metadata": {
        "_execution_state": "idle",
        "_uuid": "051d70d956493feee0c6d64651c6a088724dca2a",
        "execution": {
          "iopub.execute_input": "2022-04-30T06:47:18.999072Z",
          "iopub.status.busy": "2022-04-30T06:47:18.996419Z",
          "iopub.status.idle": "2022-04-30T06:47:19.180315Z",
          "shell.execute_reply": "2022-04-30T06:47:19.177398Z"
        },
        "papermill": {
          "duration": 0.197745,
          "end_time": "2022-04-30T06:47:19.184093",
          "exception": false,
          "start_time": "2022-04-30T06:47:18.986348",
          "status": "completed"
        },
        "tags": [],
        "id": "169eedc7",
        "outputId": "26af4e04-0547-4113-dcf4-c9f604fcff9f"
      },
      "outputs": [
        {
          "name": "stdout",
          "output_type": "stream",
          "text": [
            "[1] \"hello world in R!\"\n",
            "[1] \"hello John\"\n",
            "[1] 30\n",
            "[1] 15 25 35\n"
          ]
        }
      ],
      "source": [
        "#simple function\n",
        "hello_world <- function(){\n",
        "    print(\"hello world in R!\")\n",
        "}\n",
        "hello_world()\n",
        "#function with a single argument\n",
        "hello_name <- function(name){\n",
        "    print(paste('hello',name))\n",
        "}\n",
        "hello_name('John')\n",
        "\n",
        "#function to add two numbers\n",
        "add_num <- function(n1,n2){\n",
        "    print(n1+n2)\n",
        "}\n",
        "add_num(10,20)\n",
        "\n",
        "#add vector to a number\n",
        "add_num(c(10,20,30),5)"
      ]
    },
    {
      "cell_type": "code",
      "execution_count": null,
      "id": "0d937452",
      "metadata": {
        "execution": {
          "iopub.execute_input": "2022-04-30T06:47:19.237121Z",
          "iopub.status.busy": "2022-04-30T06:47:19.198612Z",
          "iopub.status.idle": "2022-04-30T06:47:19.260774Z",
          "shell.execute_reply": "2022-04-30T06:47:19.258688Z"
        },
        "papermill": {
          "duration": 0.073795,
          "end_time": "2022-04-30T06:47:19.264269",
          "exception": false,
          "start_time": "2022-04-30T06:47:19.190474",
          "status": "completed"
        },
        "tags": [],
        "id": "0d937452",
        "outputId": "899592f7-a23a-4f52-f445-d127ba6a3b9f"
      },
      "outputs": [
        {
          "name": "stdout",
          "output_type": "stream",
          "text": [
            "[1] \"Hello Rick\"\n",
            "[1] \"Hello Mega\"\n"
          ]
        }
      ],
      "source": [
        "#function with default arguments values\n",
        "\n",
        "hello_name <- function(name='Rick')\n",
        "    {\n",
        "    print(paste('Hello', name))\n",
        "}\n",
        "hello_name()\n",
        "hello_name('Mega')"
      ]
    },
    {
      "cell_type": "code",
      "execution_count": null,
      "id": "a5a26b39",
      "metadata": {
        "execution": {
          "iopub.execute_input": "2022-04-30T06:47:19.280877Z",
          "iopub.status.busy": "2022-04-30T06:47:19.279059Z",
          "iopub.status.idle": "2022-04-30T06:47:19.316189Z",
          "shell.execute_reply": "2022-04-30T06:47:19.314319Z"
        },
        "papermill": {
          "duration": 0.048218,
          "end_time": "2022-04-30T06:47:19.318909",
          "exception": false,
          "start_time": "2022-04-30T06:47:19.270691",
          "status": "completed"
        },
        "tags": [],
        "id": "a5a26b39",
        "outputId": "8c32cf9d-983f-4286-8745-6713e66ec9b0"
      },
      "outputs": [
        {
          "data": {
            "text/html": [
              "<span style=white-space:pre-wrap>'Sachin  Tendulkar'</span>"
            ],
            "text/latex": [
              "'Sachin  Tendulkar'"
            ],
            "text/markdown": [
              "<span style=white-space:pre-wrap>'Sachin  Tendulkar'</span>"
            ],
            "text/plain": [
              "[1] \"Sachin  Tendulkar\""
            ]
          },
          "metadata": {},
          "output_type": "display_data"
        },
        {
          "data": {
            "text/html": [
              "<span style=white-space:pre-wrap>'Virat  Kohli'</span>"
            ],
            "text/latex": [
              "'Virat  Kohli'"
            ],
            "text/markdown": [
              "<span style=white-space:pre-wrap>'Virat  Kohli'</span>"
            ],
            "text/plain": [
              "[1] \"Virat  Kohli\""
            ]
          },
          "metadata": {},
          "output_type": "display_data"
        }
      ],
      "source": [
        "#return the value from a function\n",
        "\n",
        "full_name <- function(name='Sachin', title='Tendulkar'){\n",
        "    return(paste(name,'',title))\n",
        "}\n",
        "full_name()\n",
        "\n",
        "full_name1 <- full_name('Virat','Kohli')\n",
        "full_name1"
      ]
    },
    {
      "cell_type": "code",
      "execution_count": null,
      "id": "591229d8",
      "metadata": {
        "execution": {
          "iopub.execute_input": "2022-04-30T06:47:19.336287Z",
          "iopub.status.busy": "2022-04-30T06:47:19.334672Z",
          "iopub.status.idle": "2022-04-30T06:47:19.368767Z",
          "shell.execute_reply": "2022-04-30T06:47:19.366752Z"
        },
        "papermill": {
          "duration": 0.045568,
          "end_time": "2022-04-30T06:47:19.371291",
          "exception": false,
          "start_time": "2022-04-30T06:47:19.325723",
          "status": "completed"
        },
        "tags": [],
        "id": "591229d8",
        "outputId": "c7e3d1f3-7342-421d-d610-88ab4380db87"
      },
      "outputs": [
        {
          "name": "stdout",
          "output_type": "stream",
          "text": [
            "[1] \"I am global variable\"\n",
            "[1] \"I am global stuff\"\n",
            "[1] \"I am global variable\"\n",
            "[1] \"Reassign stuff inside the function\"\n",
            "[1] \"I am global stuff\"\n"
          ]
        }
      ],
      "source": [
        "#scope of a variable in a function\n",
        "v <- 'I am global variable'\n",
        "stuff <- 'I am global stuff'\n",
        "\n",
        "fun <- function(stuff){\n",
        "    print(v)\n",
        "    stuff <- 'Reassign stuff inside the function'\n",
        "    print(stuff)\n",
        "}\n",
        "\n",
        "print(v)\n",
        "print(stuff)\n",
        "fun(stuff)\n",
        "print(stuff)\n"
      ]
    },
    {
      "cell_type": "code",
      "execution_count": null,
      "id": "31b17a50",
      "metadata": {
        "execution": {
          "iopub.execute_input": "2022-04-30T06:47:19.391286Z",
          "iopub.status.busy": "2022-04-30T06:47:19.389661Z",
          "iopub.status.idle": "2022-04-30T06:47:19.433383Z",
          "shell.execute_reply": "2022-04-30T06:47:19.431556Z"
        },
        "papermill": {
          "duration": 0.05545,
          "end_time": "2022-04-30T06:47:19.436026",
          "exception": false,
          "start_time": "2022-04-30T06:47:19.380576",
          "status": "completed"
        },
        "tags": [],
        "id": "31b17a50",
        "outputId": "b4fbb978-8002-4cbd-b4d2-5cadb3ee9893"
      },
      "outputs": [
        {
          "data": {
            "text/html": [
              "120"
            ],
            "text/latex": [
              "120"
            ],
            "text/markdown": [
              "120"
            ],
            "text/plain": [
              "[1] 120"
            ]
          },
          "metadata": {},
          "output_type": "display_data"
        },
        {
          "data": {
            "text/html": [
              "120"
            ],
            "text/latex": [
              "120"
            ],
            "text/markdown": [
              "120"
            ],
            "text/plain": [
              "[1] 120"
            ]
          },
          "metadata": {},
          "output_type": "display_data"
        },
        {
          "data": {
            "text/html": [
              "0"
            ],
            "text/latex": [
              "0"
            ],
            "text/markdown": [
              "0"
            ],
            "text/plain": [
              "[1] 0"
            ]
          },
          "metadata": {},
          "output_type": "display_data"
        }
      ],
      "source": [
        "#example: create a function to finc final amount ot be paid by a customer after adding 20% tc to the purchased amount\n",
        "\n",
        "amnt <- function(x=100){\n",
        "    t=x+x*(20/100)\n",
        "    return (t)\n",
        "}\n",
        "amnt(100)\n",
        "\n",
        "amnt1 <- function(amt){\n",
        "    if(amt>0) famt=amt+amt*(20/100)\n",
        "    if(amt<=0) famt=amt\n",
        "    return (famt)\n",
        "}\n",
        "amnt1(100)\n",
        "amnt1(0)"
      ]
    },
    {
      "cell_type": "code",
      "execution_count": null,
      "id": "72b36564",
      "metadata": {
        "execution": {
          "iopub.execute_input": "2022-04-30T06:47:19.455101Z",
          "iopub.status.busy": "2022-04-30T06:47:19.453411Z",
          "iopub.status.idle": "2022-04-30T06:47:19.476707Z",
          "shell.execute_reply": "2022-04-30T06:47:19.474793Z"
        },
        "papermill": {
          "duration": 0.03578,
          "end_time": "2022-04-30T06:47:19.479236",
          "exception": false,
          "start_time": "2022-04-30T06:47:19.443456",
          "status": "completed"
        },
        "tags": [],
        "id": "72b36564",
        "outputId": "3a292c5c-06ad-48da-aea6-29b04aeb0f1c"
      },
      "outputs": [
        {
          "data": {
            "text/html": [
              "<pre class=language-r><code>function (amt) \n",
              "NULL</code></pre>"
            ],
            "text/latex": [
              "\\begin{minted}{r}\n",
              "function (amt) \n",
              "NULL\n",
              "\\end{minted}"
            ],
            "text/markdown": [
              "```r\n",
              "function (amt) \n",
              "NULL\n",
              "```"
            ],
            "text/plain": [
              "function (amt) \n",
              "NULL"
            ]
          },
          "metadata": {},
          "output_type": "display_data"
        },
        {
          "data": {
            "text/plain": [
              "{\n",
              "    if (amt > 0) \n",
              "        famt = amt + amt * (20/100)\n",
              "    if (amt <= 0) \n",
              "        famt = amt\n",
              "    return(famt)\n",
              "}"
            ]
          },
          "metadata": {},
          "output_type": "display_data"
        }
      ],
      "source": [
        "#check the argument and the body\n",
        "args(amnt1)\n",
        "body(amnt1)"
      ]
    },
    {
      "cell_type": "code",
      "execution_count": null,
      "id": "3ea22cf0",
      "metadata": {
        "execution": {
          "iopub.execute_input": "2022-04-30T06:47:19.498970Z",
          "iopub.status.busy": "2022-04-30T06:47:19.497303Z",
          "iopub.status.idle": "2022-04-30T06:47:19.554555Z",
          "shell.execute_reply": "2022-04-30T06:47:19.515604Z"
        },
        "papermill": {
          "duration": 0.069834,
          "end_time": "2022-04-30T06:47:19.557160",
          "exception": false,
          "start_time": "2022-04-30T06:47:19.487326",
          "status": "completed"
        },
        "tags": [],
        "id": "3ea22cf0",
        "outputId": "23513980-0751-4caf-d5bc-9cd358fa837a"
      },
      "outputs": [
        {
          "name": "stderr",
          "output_type": "stream",
          "text": [
            "User given name is Marie\n",
            "\n"
          ]
        }
      ],
      "source": [
        "#example to convert a name into uppercase\n",
        "status <-function(name){\n",
        "    len <- nchar(name)\n",
        "    if (len>5) name=toupper(name)\n",
        "    message('User given name is ',name)\n",
        "}\n",
        "\n",
        "status('Marie')"
      ]
    },
    {
      "cell_type": "code",
      "execution_count": null,
      "id": "fea0da0d",
      "metadata": {
        "execution": {
          "iopub.execute_input": "2022-04-30T06:47:19.576275Z",
          "iopub.status.busy": "2022-04-30T06:47:19.574630Z",
          "iopub.status.idle": "2022-04-30T06:47:19.616874Z",
          "shell.execute_reply": "2022-04-30T06:47:19.614915Z"
        },
        "papermill": {
          "duration": 0.054732,
          "end_time": "2022-04-30T06:47:19.619619",
          "exception": false,
          "start_time": "2022-04-30T06:47:19.564887",
          "status": "completed"
        },
        "tags": [],
        "id": "fea0da0d",
        "outputId": "6fb2c3d7-fd54-40cd-bc44-395b48f49e74"
      },
      "outputs": [
        {
          "name": "stderr",
          "output_type": "stream",
          "text": [
            "your age group is Kid\n",
            "\n",
            "your age group is Adult\n",
            "\n",
            "your age group is Senior\n",
            "\n",
            "Wrong Age\n",
            "\n",
            "your age group is Not Defined\n",
            "\n"
          ]
        }
      ],
      "source": [
        "#example of multiple conditions and mulitple actions\n",
        "\n",
        "get_group <- function(age)\n",
        "    {\n",
        "    if (age>0)\n",
        "        {\n",
        "        if (age<18)\n",
        "            {\n",
        "            ageGrp='Kid'\n",
        "        }else if(age<60){\n",
        "            ageGrp='Adult'\n",
        "        }else{\n",
        "            ageGrp='Senior'\n",
        "        }\n",
        "    }else{\n",
        "        ageGrp='Not Defined'\n",
        "        message('Wrong Age')\n",
        "    }\n",
        "    message('your age group is ',ageGrp)\n",
        "}\n",
        "\n",
        "get_group(10)\n",
        "get_group(40)\n",
        "get_group(65)\n",
        "get_group(-10)"
      ]
    },
    {
      "cell_type": "code",
      "execution_count": null,
      "id": "0efd80af",
      "metadata": {
        "execution": {
          "iopub.execute_input": "2022-04-30T06:47:19.640098Z",
          "iopub.status.busy": "2022-04-30T06:47:19.638336Z",
          "iopub.status.idle": "2022-04-30T06:47:19.673259Z",
          "shell.execute_reply": "2022-04-30T06:47:19.671326Z"
        },
        "papermill": {
          "duration": 0.047898,
          "end_time": "2022-04-30T06:47:19.675816",
          "exception": false,
          "start_time": "2022-04-30T06:47:19.627918",
          "status": "completed"
        },
        "tags": [],
        "id": "0efd80af",
        "outputId": "9754250b-0210-4ab9-d55c-dd0f18cd358b"
      },
      "outputs": [
        {
          "data": {
            "text/html": [
              "7500"
            ],
            "text/latex": [
              "7500"
            ],
            "text/markdown": [
              "7500"
            ],
            "text/plain": [
              "[1] 7500"
            ]
          },
          "metadata": {},
          "output_type": "display_data"
        },
        {
          "data": {
            "text/html": [
              "8000"
            ],
            "text/latex": [
              "8000"
            ],
            "text/markdown": [
              "8000"
            ],
            "text/plain": [
              "[1] 8000"
            ]
          },
          "metadata": {},
          "output_type": "display_data"
        }
      ],
      "source": [
        "#example of switch function\n",
        "HRA <- function(city){\n",
        "    hra_amt<-switch(toupper(city),\n",
        "                   BLR=7500,\n",
        "                   MUM=1000,\n",
        "                   DEL=8000,\n",
        "                   CHN=7500,5000)\n",
        "    return (hra_amt)\n",
        "}\n",
        "\n",
        "HRA('BLR')\n",
        "HRA('del')"
      ]
    },
    {
      "cell_type": "code",
      "execution_count": null,
      "id": "ecd5b729",
      "metadata": {
        "execution": {
          "iopub.execute_input": "2022-04-30T06:47:19.696184Z",
          "iopub.status.busy": "2022-04-30T06:47:19.694520Z",
          "iopub.status.idle": "2022-04-30T06:47:19.725906Z",
          "shell.execute_reply": "2022-04-30T06:47:19.724089Z"
        },
        "papermill": {
          "duration": 0.043905,
          "end_time": "2022-04-30T06:47:19.728204",
          "exception": false,
          "start_time": "2022-04-30T06:47:19.684299",
          "status": "completed"
        },
        "tags": [],
        "id": "ecd5b729",
        "outputId": "6496e138-6c77-4483-9aa6-8d2d6ca73adc"
      },
      "outputs": [
        {
          "name": "stderr",
          "output_type": "stream",
          "text": [
            "Hello, Welcome to R tutorial for beginner!\n",
            "\n",
            "Hello, Welcome to R tutorial for beginner!\n",
            "\n",
            "Hello, Welcome to R tutorial for beginner!\n",
            "\n",
            "Hello, Welcome to R tutorial for beginner!\n",
            "\n",
            "Hello, Welcome to R tutorial for beginner!\n",
            "\n",
            "Hello, Welcome to R tutorial for beginner!\n",
            "\n"
          ]
        }
      ],
      "source": [
        "#use repeat in R\n",
        "time <-15\n",
        "repeat{\n",
        "    message('Hello, Welcome to R tutorial for beginner!')\n",
        "    if(time>=20) break\n",
        "    time=time+1\n",
        "}"
      ]
    },
    {
      "cell_type": "markdown",
      "id": "ed74c9f1",
      "metadata": {
        "papermill": {
          "duration": 0.00915,
          "end_time": "2022-04-30T06:47:19.746336",
          "exception": false,
          "start_time": "2022-04-30T06:47:19.737186",
          "status": "completed"
        },
        "tags": [],
        "id": "ed74c9f1"
      },
      "source": [
        "### Built-in function in R"
      ]
    },
    {
      "cell_type": "code",
      "execution_count": null,
      "id": "838c046a",
      "metadata": {
        "execution": {
          "iopub.execute_input": "2022-04-30T06:47:19.768071Z",
          "iopub.status.busy": "2022-04-30T06:47:19.766437Z",
          "iopub.status.idle": "2022-04-30T06:47:19.784753Z",
          "shell.execute_reply": "2022-04-30T06:47:19.778925Z"
        },
        "papermill": {
          "duration": 0.032112,
          "end_time": "2022-04-30T06:47:19.787453",
          "exception": false,
          "start_time": "2022-04-30T06:47:19.755341",
          "status": "completed"
        },
        "tags": [],
        "id": "838c046a"
      },
      "outputs": [],
      "source": [
        "#seq()\n",
        "testnum = seq(0,50, by=2)"
      ]
    },
    {
      "cell_type": "code",
      "execution_count": null,
      "id": "0a8f6a89",
      "metadata": {
        "execution": {
          "iopub.execute_input": "2022-04-30T06:47:19.809170Z",
          "iopub.status.busy": "2022-04-30T06:47:19.807543Z",
          "iopub.status.idle": "2022-04-30T06:47:19.838761Z",
          "shell.execute_reply": "2022-04-30T06:47:19.836680Z"
        },
        "papermill": {
          "duration": 0.044813,
          "end_time": "2022-04-30T06:47:19.841356",
          "exception": false,
          "start_time": "2022-04-30T06:47:19.796543",
          "status": "completed"
        },
        "tags": [],
        "id": "0a8f6a89",
        "outputId": "c147ac56-58d4-49e8-eee3-1c5b855aa2c8"
      },
      "outputs": [
        {
          "data": {
            "text/html": [
              "<style>\n",
              ".list-inline {list-style: none; margin:0; padding: 0}\n",
              ".list-inline>li {display: inline-block}\n",
              ".list-inline>li:not(:last-child)::after {content: \"\\00b7\"; padding: 0 .5ex}\n",
              "</style>\n",
              "<ol class=list-inline><li>0</li><li>2</li><li>4</li><li>6</li><li>8</li><li>10</li><li>12</li><li>14</li><li>16</li><li>18</li><li>20</li><li>22</li><li>24</li><li>26</li><li>28</li><li>30</li><li>32</li><li>34</li><li>36</li><li>38</li><li>40</li><li>42</li><li>44</li><li>46</li><li>48</li><li>50</li></ol>\n"
            ],
            "text/latex": [
              "\\begin{enumerate*}\n",
              "\\item 0\n",
              "\\item 2\n",
              "\\item 4\n",
              "\\item 6\n",
              "\\item 8\n",
              "\\item 10\n",
              "\\item 12\n",
              "\\item 14\n",
              "\\item 16\n",
              "\\item 18\n",
              "\\item 20\n",
              "\\item 22\n",
              "\\item 24\n",
              "\\item 26\n",
              "\\item 28\n",
              "\\item 30\n",
              "\\item 32\n",
              "\\item 34\n",
              "\\item 36\n",
              "\\item 38\n",
              "\\item 40\n",
              "\\item 42\n",
              "\\item 44\n",
              "\\item 46\n",
              "\\item 48\n",
              "\\item 50\n",
              "\\end{enumerate*}\n"
            ],
            "text/markdown": [
              "1. 0\n",
              "2. 2\n",
              "3. 4\n",
              "4. 6\n",
              "5. 8\n",
              "6. 10\n",
              "7. 12\n",
              "8. 14\n",
              "9. 16\n",
              "10. 18\n",
              "11. 20\n",
              "12. 22\n",
              "13. 24\n",
              "14. 26\n",
              "15. 28\n",
              "16. 30\n",
              "17. 32\n",
              "18. 34\n",
              "19. 36\n",
              "20. 38\n",
              "21. 40\n",
              "22. 42\n",
              "23. 44\n",
              "24. 46\n",
              "25. 48\n",
              "26. 50\n",
              "\n",
              "\n"
            ],
            "text/plain": [
              " [1]  0  2  4  6  8 10 12 14 16 18 20 22 24 26 28 30 32 34 36 38 40 42 44 46 48\n",
              "[26] 50"
            ]
          },
          "metadata": {},
          "output_type": "display_data"
        },
        {
          "data": {
            "text/html": [
              "'numeric'"
            ],
            "text/latex": [
              "'numeric'"
            ],
            "text/markdown": [
              "'numeric'"
            ],
            "text/plain": [
              "[1] \"numeric\""
            ]
          },
          "metadata": {},
          "output_type": "display_data"
        },
        {
          "data": {
            "text/html": [
              "'double'"
            ],
            "text/latex": [
              "'double'"
            ],
            "text/markdown": [
              "'double'"
            ],
            "text/plain": [
              "[1] \"double\""
            ]
          },
          "metadata": {},
          "output_type": "display_data"
        }
      ],
      "source": [
        "testnum\n",
        "class(testnum)\n",
        "typeof(testnum)"
      ]
    },
    {
      "cell_type": "code",
      "execution_count": null,
      "id": "bf3db9d9",
      "metadata": {
        "execution": {
          "iopub.execute_input": "2022-04-30T06:47:19.864349Z",
          "iopub.status.busy": "2022-04-30T06:47:19.862608Z",
          "iopub.status.idle": "2022-04-30T06:47:19.889679Z",
          "shell.execute_reply": "2022-04-30T06:47:19.887682Z"
        },
        "papermill": {
          "duration": 0.041257,
          "end_time": "2022-04-30T06:47:19.892102",
          "exception": false,
          "start_time": "2022-04-30T06:47:19.850845",
          "status": "completed"
        },
        "tags": [],
        "id": "bf3db9d9",
        "outputId": "81db9c04-27e0-4f83-972b-69c37fcf514c"
      },
      "outputs": [
        {
          "data": {
            "text/html": [
              "<style>\n",
              ".list-inline {list-style: none; margin:0; padding: 0}\n",
              ".list-inline>li {display: inline-block}\n",
              ".list-inline>li:not(:last-child)::after {content: \"\\00b7\"; padding: 0 .5ex}\n",
              "</style>\n",
              "<ol class=list-inline><li>0</li><li>2</li><li>4</li><li>6</li><li>8</li><li>10</li><li>12</li><li>14</li><li>16</li><li>18</li><li>20</li><li>22</li><li>24</li><li>26</li><li>28</li><li>30</li><li>32</li><li>34</li><li>36</li><li>38</li><li>40</li><li>42</li><li>44</li><li>46</li><li>48</li><li>50</li></ol>\n"
            ],
            "text/latex": [
              "\\begin{enumerate*}\n",
              "\\item 0\n",
              "\\item 2\n",
              "\\item 4\n",
              "\\item 6\n",
              "\\item 8\n",
              "\\item 10\n",
              "\\item 12\n",
              "\\item 14\n",
              "\\item 16\n",
              "\\item 18\n",
              "\\item 20\n",
              "\\item 22\n",
              "\\item 24\n",
              "\\item 26\n",
              "\\item 28\n",
              "\\item 30\n",
              "\\item 32\n",
              "\\item 34\n",
              "\\item 36\n",
              "\\item 38\n",
              "\\item 40\n",
              "\\item 42\n",
              "\\item 44\n",
              "\\item 46\n",
              "\\item 48\n",
              "\\item 50\n",
              "\\end{enumerate*}\n"
            ],
            "text/markdown": [
              "1. 0\n",
              "2. 2\n",
              "3. 4\n",
              "4. 6\n",
              "5. 8\n",
              "6. 10\n",
              "7. 12\n",
              "8. 14\n",
              "9. 16\n",
              "10. 18\n",
              "11. 20\n",
              "12. 22\n",
              "13. 24\n",
              "14. 26\n",
              "15. 28\n",
              "16. 30\n",
              "17. 32\n",
              "18. 34\n",
              "19. 36\n",
              "20. 38\n",
              "21. 40\n",
              "22. 42\n",
              "23. 44\n",
              "24. 46\n",
              "25. 48\n",
              "26. 50\n",
              "\n",
              "\n"
            ],
            "text/plain": [
              " [1]  0  2  4  6  8 10 12 14 16 18 20 22 24 26 28 30 32 34 36 38 40 42 44 46 48\n",
              "[26] 50"
            ]
          },
          "metadata": {},
          "output_type": "display_data"
        },
        {
          "data": {
            "text/html": [
              "<style>\n",
              ".list-inline {list-style: none; margin:0; padding: 0}\n",
              ".list-inline>li {display: inline-block}\n",
              ".list-inline>li:not(:last-child)::after {content: \"\\00b7\"; padding: 0 .5ex}\n",
              "</style>\n",
              "<ol class=list-inline><li>0</li><li>2</li><li>4</li><li>6</li><li>8</li><li>10</li><li>12</li><li>14</li><li>16</li><li>18</li><li>20</li><li>22</li><li>24</li><li>26</li><li>28</li><li>30</li><li>32</li><li>34</li><li>36</li><li>38</li><li>40</li><li>42</li><li>44</li><li>46</li><li>48</li><li>50</li></ol>\n"
            ],
            "text/latex": [
              "\\begin{enumerate*}\n",
              "\\item 0\n",
              "\\item 2\n",
              "\\item 4\n",
              "\\item 6\n",
              "\\item 8\n",
              "\\item 10\n",
              "\\item 12\n",
              "\\item 14\n",
              "\\item 16\n",
              "\\item 18\n",
              "\\item 20\n",
              "\\item 22\n",
              "\\item 24\n",
              "\\item 26\n",
              "\\item 28\n",
              "\\item 30\n",
              "\\item 32\n",
              "\\item 34\n",
              "\\item 36\n",
              "\\item 38\n",
              "\\item 40\n",
              "\\item 42\n",
              "\\item 44\n",
              "\\item 46\n",
              "\\item 48\n",
              "\\item 50\n",
              "\\end{enumerate*}\n"
            ],
            "text/markdown": [
              "1. 0\n",
              "2. 2\n",
              "3. 4\n",
              "4. 6\n",
              "5. 8\n",
              "6. 10\n",
              "7. 12\n",
              "8. 14\n",
              "9. 16\n",
              "10. 18\n",
              "11. 20\n",
              "12. 22\n",
              "13. 24\n",
              "14. 26\n",
              "15. 28\n",
              "16. 30\n",
              "17. 32\n",
              "18. 34\n",
              "19. 36\n",
              "20. 38\n",
              "21. 40\n",
              "22. 42\n",
              "23. 44\n",
              "24. 46\n",
              "25. 48\n",
              "26. 50\n",
              "\n",
              "\n"
            ],
            "text/plain": [
              " [1]  0  2  4  6  8 10 12 14 16 18 20 22 24 26 28 30 32 34 36 38 40 42 44 46 48\n",
              "[26] 50"
            ]
          },
          "metadata": {},
          "output_type": "display_data"
        }
      ],
      "source": [
        "#sort()\n",
        "v <- c(testnum)\n",
        "v\n",
        "sort(v)"
      ]
    },
    {
      "cell_type": "code",
      "execution_count": null,
      "id": "e9602ae0",
      "metadata": {
        "execution": {
          "iopub.execute_input": "2022-04-30T06:47:19.919912Z",
          "iopub.status.busy": "2022-04-30T06:47:19.914058Z",
          "iopub.status.idle": "2022-04-30T06:47:19.936917Z",
          "shell.execute_reply": "2022-04-30T06:47:19.934906Z"
        },
        "papermill": {
          "duration": 0.03744,
          "end_time": "2022-04-30T06:47:19.939593",
          "exception": false,
          "start_time": "2022-04-30T06:47:19.902153",
          "status": "completed"
        },
        "tags": [],
        "id": "e9602ae0",
        "outputId": "d1862f60-5526-4506-b5e9-248641122a91"
      },
      "outputs": [
        {
          "data": {
            "text/html": [
              "<style>\n",
              ".list-inline {list-style: none; margin:0; padding: 0}\n",
              ".list-inline>li {display: inline-block}\n",
              ".list-inline>li:not(:last-child)::after {content: \"\\00b7\"; padding: 0 .5ex}\n",
              "</style>\n",
              "<ol class=list-inline><li>50</li><li>48</li><li>46</li><li>44</li><li>42</li><li>40</li><li>38</li><li>36</li><li>34</li><li>32</li><li>30</li><li>28</li><li>26</li><li>24</li><li>22</li><li>20</li><li>18</li><li>16</li><li>14</li><li>12</li><li>10</li><li>8</li><li>6</li><li>4</li><li>2</li><li>0</li></ol>\n"
            ],
            "text/latex": [
              "\\begin{enumerate*}\n",
              "\\item 50\n",
              "\\item 48\n",
              "\\item 46\n",
              "\\item 44\n",
              "\\item 42\n",
              "\\item 40\n",
              "\\item 38\n",
              "\\item 36\n",
              "\\item 34\n",
              "\\item 32\n",
              "\\item 30\n",
              "\\item 28\n",
              "\\item 26\n",
              "\\item 24\n",
              "\\item 22\n",
              "\\item 20\n",
              "\\item 18\n",
              "\\item 16\n",
              "\\item 14\n",
              "\\item 12\n",
              "\\item 10\n",
              "\\item 8\n",
              "\\item 6\n",
              "\\item 4\n",
              "\\item 2\n",
              "\\item 0\n",
              "\\end{enumerate*}\n"
            ],
            "text/markdown": [
              "1. 50\n",
              "2. 48\n",
              "3. 46\n",
              "4. 44\n",
              "5. 42\n",
              "6. 40\n",
              "7. 38\n",
              "8. 36\n",
              "9. 34\n",
              "10. 32\n",
              "11. 30\n",
              "12. 28\n",
              "13. 26\n",
              "14. 24\n",
              "15. 22\n",
              "16. 20\n",
              "17. 18\n",
              "18. 16\n",
              "19. 14\n",
              "20. 12\n",
              "21. 10\n",
              "22. 8\n",
              "23. 6\n",
              "24. 4\n",
              "25. 2\n",
              "26. 0\n",
              "\n",
              "\n"
            ],
            "text/plain": [
              " [1] 50 48 46 44 42 40 38 36 34 32 30 28 26 24 22 20 18 16 14 12 10  8  6  4  2\n",
              "[26]  0"
            ]
          },
          "metadata": {},
          "output_type": "display_data"
        }
      ],
      "source": [
        "sort(v, decreasing=TRUE)"
      ]
    },
    {
      "cell_type": "code",
      "execution_count": null,
      "id": "a8ea1dcb",
      "metadata": {
        "execution": {
          "iopub.execute_input": "2022-04-30T06:47:19.963509Z",
          "iopub.status.busy": "2022-04-30T06:47:19.961760Z",
          "iopub.status.idle": "2022-04-30T06:47:19.982408Z",
          "shell.execute_reply": "2022-04-30T06:47:19.980428Z"
        },
        "papermill": {
          "duration": 0.035182,
          "end_time": "2022-04-30T06:47:19.984938",
          "exception": false,
          "start_time": "2022-04-30T06:47:19.949756",
          "status": "completed"
        },
        "tags": [],
        "id": "a8ea1dcb",
        "outputId": "d39be43b-3bec-46f3-db2e-f24bb6daafbf"
      },
      "outputs": [
        {
          "data": {
            "text/html": [
              "<style>\n",
              ".list-inline {list-style: none; margin:0; padding: 0}\n",
              ".list-inline>li {display: inline-block}\n",
              ".list-inline>li:not(:last-child)::after {content: \"\\00b7\"; padding: 0 .5ex}\n",
              "</style>\n",
              "<ol class=list-inline><li>84</li><li>78</li><li>98</li><li>44</li><li>56</li><li>100</li></ol>\n"
            ],
            "text/latex": [
              "\\begin{enumerate*}\n",
              "\\item 84\n",
              "\\item 78\n",
              "\\item 98\n",
              "\\item 44\n",
              "\\item 56\n",
              "\\item 100\n",
              "\\end{enumerate*}\n"
            ],
            "text/markdown": [
              "1. 84\n",
              "2. 78\n",
              "3. 98\n",
              "4. 44\n",
              "5. 56\n",
              "6. 100\n",
              "\n",
              "\n"
            ],
            "text/plain": [
              "[1]  84  78  98  44  56 100"
            ]
          },
          "metadata": {},
          "output_type": "display_data"
        }
      ],
      "source": [
        "#rev()\n",
        "v2 <- c(100, 56, 44,98, 78, 84)\n",
        "rev((v2))"
      ]
    },
    {
      "cell_type": "code",
      "execution_count": null,
      "id": "464ff686",
      "metadata": {
        "execution": {
          "iopub.execute_input": "2022-04-30T06:47:20.009835Z",
          "iopub.status.busy": "2022-04-30T06:47:20.008025Z",
          "iopub.status.idle": "2022-04-30T06:47:20.031363Z",
          "shell.execute_reply": "2022-04-30T06:47:20.029093Z"
        },
        "papermill": {
          "duration": 0.038682,
          "end_time": "2022-04-30T06:47:20.034325",
          "exception": false,
          "start_time": "2022-04-30T06:47:19.995643",
          "status": "completed"
        },
        "tags": [],
        "id": "464ff686",
        "outputId": "e68969d3-3f48-474f-9fb4-8f49bdc16509"
      },
      "outputs": [
        {
          "data": {
            "text/html": [
              "<style>\n",
              ".list-inline {list-style: none; margin:0; padding: 0}\n",
              ".list-inline>li {display: inline-block}\n",
              ".list-inline>li:not(:last-child)::after {content: \"\\00b7\"; padding: 0 .5ex}\n",
              "</style>\n",
              "<ol class=list-inline><li>0</li><li>2</li><li>4</li><li>6</li><li>8</li><li>10</li><li>12</li><li>14</li><li>16</li><li>18</li><li>20</li><li>22</li><li>24</li><li>26</li><li>28</li><li>30</li><li>32</li><li>34</li><li>36</li><li>38</li><li>40</li><li>42</li><li>44</li><li>46</li><li>48</li><li>50</li><li>100</li><li>56</li><li>44</li><li>98</li><li>78</li><li>84</li></ol>\n"
            ],
            "text/latex": [
              "\\begin{enumerate*}\n",
              "\\item 0\n",
              "\\item 2\n",
              "\\item 4\n",
              "\\item 6\n",
              "\\item 8\n",
              "\\item 10\n",
              "\\item 12\n",
              "\\item 14\n",
              "\\item 16\n",
              "\\item 18\n",
              "\\item 20\n",
              "\\item 22\n",
              "\\item 24\n",
              "\\item 26\n",
              "\\item 28\n",
              "\\item 30\n",
              "\\item 32\n",
              "\\item 34\n",
              "\\item 36\n",
              "\\item 38\n",
              "\\item 40\n",
              "\\item 42\n",
              "\\item 44\n",
              "\\item 46\n",
              "\\item 48\n",
              "\\item 50\n",
              "\\item 100\n",
              "\\item 56\n",
              "\\item 44\n",
              "\\item 98\n",
              "\\item 78\n",
              "\\item 84\n",
              "\\end{enumerate*}\n"
            ],
            "text/markdown": [
              "1. 0\n",
              "2. 2\n",
              "3. 4\n",
              "4. 6\n",
              "5. 8\n",
              "6. 10\n",
              "7. 12\n",
              "8. 14\n",
              "9. 16\n",
              "10. 18\n",
              "11. 20\n",
              "12. 22\n",
              "13. 24\n",
              "14. 26\n",
              "15. 28\n",
              "16. 30\n",
              "17. 32\n",
              "18. 34\n",
              "19. 36\n",
              "20. 38\n",
              "21. 40\n",
              "22. 42\n",
              "23. 44\n",
              "24. 46\n",
              "25. 48\n",
              "26. 50\n",
              "27. 100\n",
              "28. 56\n",
              "29. 44\n",
              "30. 98\n",
              "31. 78\n",
              "32. 84\n",
              "\n",
              "\n"
            ],
            "text/plain": [
              " [1]   0   2   4   6   8  10  12  14  16  18  20  22  24  26  28  30  32  34  36\n",
              "[20]  38  40  42  44  46  48  50 100  56  44  98  78  84"
            ]
          },
          "metadata": {},
          "output_type": "display_data"
        }
      ],
      "source": [
        "#append\n",
        "v4 <- append(v,v2)\n",
        "v4"
      ]
    },
    {
      "cell_type": "code",
      "execution_count": null,
      "id": "64e3490e",
      "metadata": {
        "execution": {
          "iopub.execute_input": "2022-04-30T06:47:20.063284Z",
          "iopub.status.busy": "2022-04-30T06:47:20.057585Z",
          "iopub.status.idle": "2022-04-30T06:47:20.083613Z",
          "shell.execute_reply": "2022-04-30T06:47:20.081317Z"
        },
        "papermill": {
          "duration": 0.041435,
          "end_time": "2022-04-30T06:47:20.086723",
          "exception": false,
          "start_time": "2022-04-30T06:47:20.045288",
          "status": "completed"
        },
        "tags": [],
        "id": "64e3490e",
        "outputId": "1d96892d-4684-4734-db56-be5c05e3a2ef"
      },
      "outputs": [
        {
          "data": {
            "text/html": [
              "TRUE"
            ],
            "text/latex": [
              "TRUE"
            ],
            "text/markdown": [
              "TRUE"
            ],
            "text/plain": [
              "[1] TRUE"
            ]
          },
          "metadata": {},
          "output_type": "display_data"
        }
      ],
      "source": [
        "#grepl()\n",
        "text <- 'It is fun learning'\n",
        "grepl('fun', text)"
      ]
    },
    {
      "cell_type": "markdown",
      "id": "4c329095",
      "metadata": {
        "papermill": {
          "duration": 0.010666,
          "end_time": "2022-04-30T06:47:20.108367",
          "exception": false,
          "start_time": "2022-04-30T06:47:20.097701",
          "status": "completed"
        },
        "tags": [],
        "id": "4c329095"
      },
      "source": [
        "### Factors in R\n",
        "Factors are the data objects which are used to categorize the data and store it as levels. \n",
        "They can store both strings and integers."
      ]
    },
    {
      "cell_type": "code",
      "execution_count": null,
      "id": "80db380e",
      "metadata": {
        "execution": {
          "iopub.execute_input": "2022-04-30T06:47:20.133285Z",
          "iopub.status.busy": "2022-04-30T06:47:20.131607Z",
          "iopub.status.idle": "2022-04-30T06:47:20.173151Z",
          "shell.execute_reply": "2022-04-30T06:47:20.170997Z"
        },
        "papermill": {
          "duration": 0.057232,
          "end_time": "2022-04-30T06:47:20.176248",
          "exception": false,
          "start_time": "2022-04-30T06:47:20.119016",
          "status": "completed"
        },
        "tags": [],
        "id": "80db380e",
        "outputId": "9469fc6b-de37-4993-efb1-b809b08e0860"
      },
      "outputs": [
        {
          "data": {
            "text/html": [
              "<style>\n",
              ".list-inline {list-style: none; margin:0; padding: 0}\n",
              ".list-inline>li {display: inline-block}\n",
              ".list-inline>li:not(:last-child)::after {content: \"\\00b7\"; padding: 0 .5ex}\n",
              "</style>\n",
              "<ol class=list-inline><li>'B'</li><li>'AB'</li><li>'O'</li><li>'A'</li><li>'O'</li><li>'O'</li><li>'A'</li><li>'B'</li></ol>\n"
            ],
            "text/latex": [
              "\\begin{enumerate*}\n",
              "\\item 'B'\n",
              "\\item 'AB'\n",
              "\\item 'O'\n",
              "\\item 'A'\n",
              "\\item 'O'\n",
              "\\item 'O'\n",
              "\\item 'A'\n",
              "\\item 'B'\n",
              "\\end{enumerate*}\n"
            ],
            "text/markdown": [
              "1. 'B'\n",
              "2. 'AB'\n",
              "3. 'O'\n",
              "4. 'A'\n",
              "5. 'O'\n",
              "6. 'O'\n",
              "7. 'A'\n",
              "8. 'B'\n",
              "\n",
              "\n"
            ],
            "text/plain": [
              "[1] \"B\"  \"AB\" \"O\"  \"A\"  \"O\"  \"O\"  \"A\"  \"B\" "
            ]
          },
          "metadata": {},
          "output_type": "display_data"
        },
        {
          "data": {
            "text/html": [
              "<style>\n",
              ".list-inline {list-style: none; margin:0; padding: 0}\n",
              ".list-inline>li {display: inline-block}\n",
              ".list-inline>li:not(:last-child)::after {content: \"\\00b7\"; padding: 0 .5ex}\n",
              "</style>\n",
              "<ol class=list-inline><li>B</li><li>AB</li><li>O</li><li>A</li><li>O</li><li>O</li><li>A</li><li>B</li></ol>\n",
              "\n",
              "<details>\n",
              "\t<summary style=display:list-item;cursor:pointer>\n",
              "\t\t<strong>Levels</strong>:\n",
              "\t</summary>\n",
              "\t<style>\n",
              "\t.list-inline {list-style: none; margin:0; padding: 0}\n",
              "\t.list-inline>li {display: inline-block}\n",
              "\t.list-inline>li:not(:last-child)::after {content: \"\\00b7\"; padding: 0 .5ex}\n",
              "\t</style>\n",
              "\t<ol class=list-inline><li>'A'</li><li>'AB'</li><li>'B'</li><li>'O'</li></ol>\n",
              "</details>"
            ],
            "text/latex": [
              "\\begin{enumerate*}\n",
              "\\item B\n",
              "\\item AB\n",
              "\\item O\n",
              "\\item A\n",
              "\\item O\n",
              "\\item O\n",
              "\\item A\n",
              "\\item B\n",
              "\\end{enumerate*}\n",
              "\n",
              "\\emph{Levels}: \\begin{enumerate*}\n",
              "\\item 'A'\n",
              "\\item 'AB'\n",
              "\\item 'B'\n",
              "\\item 'O'\n",
              "\\end{enumerate*}\n"
            ],
            "text/markdown": [
              "1. B\n",
              "2. AB\n",
              "3. O\n",
              "4. A\n",
              "5. O\n",
              "6. O\n",
              "7. A\n",
              "8. B\n",
              "\n",
              "\n",
              "\n",
              "**Levels**: 1. 'A'\n",
              "2. 'AB'\n",
              "3. 'B'\n",
              "4. 'O'\n",
              "\n",
              "\n"
            ],
            "text/plain": [
              "[1] B  AB O  A  O  O  A  B \n",
              "Levels: A AB B O"
            ]
          },
          "metadata": {},
          "output_type": "display_data"
        },
        {
          "name": "stdout",
          "output_type": "stream",
          "text": [
            " Factor w/ 4 levels \"A\",\"AB\",\"B\",\"O\": 3 2 4 1 4 4 1 3\n"
          ]
        }
      ],
      "source": [
        "bloodgrp <- c('B','AB','O','A','O','O','A','B')\n",
        "bloodgrp\n",
        "\n",
        "bloodgrp_factor <-factor(bloodgrp)\n",
        "bloodgrp_factor\n",
        "str(bloodgrp_factor)"
      ]
    },
    {
      "cell_type": "code",
      "execution_count": null,
      "id": "28b1273e",
      "metadata": {
        "execution": {
          "iopub.execute_input": "2022-04-30T06:47:20.201509Z",
          "iopub.status.busy": "2022-04-30T06:47:20.199883Z",
          "iopub.status.idle": "2022-04-30T06:47:20.222215Z",
          "shell.execute_reply": "2022-04-30T06:47:20.220229Z"
        },
        "papermill": {
          "duration": 0.038293,
          "end_time": "2022-04-30T06:47:20.225458",
          "exception": false,
          "start_time": "2022-04-30T06:47:20.187165",
          "status": "completed"
        },
        "tags": [],
        "id": "28b1273e"
      },
      "outputs": [],
      "source": [
        "#example\n",
        "dresssize <- c('M','L','S','S','L','M','L','M')\n",
        "\n",
        "dresssize_factor <- factor(dresssize, ordered=TRUE, levels=c('S','M','L'))"
      ]
    },
    {
      "cell_type": "code",
      "execution_count": null,
      "id": "627f3f66",
      "metadata": {
        "execution": {
          "iopub.execute_input": "2022-04-30T06:47:20.251592Z",
          "iopub.status.busy": "2022-04-30T06:47:20.249330Z",
          "iopub.status.idle": "2022-04-30T06:47:20.271023Z",
          "shell.execute_reply": "2022-04-30T06:47:20.268808Z"
        },
        "papermill": {
          "duration": 0.037812,
          "end_time": "2022-04-30T06:47:20.274019",
          "exception": false,
          "start_time": "2022-04-30T06:47:20.236207",
          "status": "completed"
        },
        "tags": [],
        "id": "627f3f66",
        "outputId": "6b42517d-4ac8-45a5-cf76-88f34a0b19dc"
      },
      "outputs": [
        {
          "data": {
            "text/html": [
              "<style>\n",
              ".list-inline {list-style: none; margin:0; padding: 0}\n",
              ".list-inline>li {display: inline-block}\n",
              ".list-inline>li:not(:last-child)::after {content: \"\\00b7\"; padding: 0 .5ex}\n",
              "</style>\n",
              "<ol class=list-inline><li>M</li><li>L</li><li>S</li><li>S</li><li>L</li><li>M</li><li>L</li><li>M</li></ol>\n",
              "\n",
              "<details>\n",
              "\t<summary style=display:list-item;cursor:pointer>\n",
              "\t\t<strong>Levels</strong>:\n",
              "\t</summary>\n",
              "\t<style>\n",
              "\t.list-inline {list-style: none; margin:0; padding: 0}\n",
              "\t.list-inline>li {display: inline-block}\n",
              "\t.list-inline>li:not(:last-child)::after {content: \"\\00b7\"; padding: 0 .5ex}\n",
              "\t</style>\n",
              "\t<ol class=list-inline><li>'S'</li><li>'M'</li><li>'L'</li></ol>\n",
              "</details>"
            ],
            "text/latex": [
              "\\begin{enumerate*}\n",
              "\\item M\n",
              "\\item L\n",
              "\\item S\n",
              "\\item S\n",
              "\\item L\n",
              "\\item M\n",
              "\\item L\n",
              "\\item M\n",
              "\\end{enumerate*}\n",
              "\n",
              "\\emph{Levels}: \\begin{enumerate*}\n",
              "\\item 'S'\n",
              "\\item 'M'\n",
              "\\item 'L'\n",
              "\\end{enumerate*}\n"
            ],
            "text/markdown": [
              "1. M\n",
              "2. L\n",
              "3. S\n",
              "4. S\n",
              "5. L\n",
              "6. M\n",
              "7. L\n",
              "8. M\n",
              "\n",
              "\n",
              "\n",
              "**Levels**: 1. 'S'\n",
              "2. 'M'\n",
              "3. 'L'\n",
              "\n",
              "\n"
            ],
            "text/plain": [
              "[1] M L S S L M L M\n",
              "Levels: S < M < L"
            ]
          },
          "metadata": {},
          "output_type": "display_data"
        }
      ],
      "source": [
        " dresssize_factor"
      ]
    },
    {
      "cell_type": "code",
      "execution_count": null,
      "id": "fe2ece9d",
      "metadata": {
        "execution": {
          "iopub.execute_input": "2022-04-30T06:47:20.299565Z",
          "iopub.status.busy": "2022-04-30T06:47:20.297907Z",
          "iopub.status.idle": "2022-04-30T06:47:20.315514Z",
          "shell.execute_reply": "2022-04-30T06:47:20.313603Z"
        },
        "papermill": {
          "duration": 0.033328,
          "end_time": "2022-04-30T06:47:20.318394",
          "exception": false,
          "start_time": "2022-04-30T06:47:20.285066",
          "status": "completed"
        },
        "tags": [],
        "id": "fe2ece9d",
        "outputId": "bd282d1f-3d52-4bd0-f2ca-6991b51a39b4"
      },
      "outputs": [
        {
          "data": {
            "text/html": [
              "TRUE"
            ],
            "text/latex": [
              "TRUE"
            ],
            "text/markdown": [
              "TRUE"
            ],
            "text/plain": [
              "[1] TRUE"
            ]
          },
          "metadata": {},
          "output_type": "display_data"
        }
      ],
      "source": [
        "dresssize_factor[1] < dresssize_factor[2]"
      ]
    }
  ],
  "metadata": {
    "kernelspec": {
      "display_name": "R",
      "language": "R",
      "name": "ir"
    },
    "language_info": {
      "codemirror_mode": "r",
      "file_extension": ".r",
      "mimetype": "text/x-r-source",
      "name": "R",
      "pygments_lexer": "r",
      "version": "4.0.5"
    },
    "papermill": {
      "default_parameters": {},
      "duration": 5.29818,
      "end_time": "2022-04-30T06:47:20.450856",
      "environment_variables": {},
      "exception": null,
      "input_path": "__notebook__.ipynb",
      "output_path": "__notebook__.ipynb",
      "parameters": {},
      "start_time": "2022-04-30T06:47:15.152676",
      "version": "2.3.4"
    },
    "colab": {
      "name": "functions-in-r.ipynb",
      "provenance": [],
      "include_colab_link": true
    }
  },
  "nbformat": 4,
  "nbformat_minor": 5
}