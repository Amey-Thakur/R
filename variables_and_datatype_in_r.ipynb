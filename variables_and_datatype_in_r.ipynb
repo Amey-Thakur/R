{
  "metadata": {
    "kernelspec": {
      "name": "ir",
      "display_name": "R",
      "language": "R"
    },
    "language_info": {
      "name": "R",
      "codemirror_mode": "r",
      "pygments_lexer": "r",
      "mimetype": "text/x-r-source",
      "file_extension": ".r",
      "version": "4.0.5"
    },
    "colab": {
      "name": "variables-and-datatype-in-r.ipynb",
      "provenance": [],
      "include_colab_link": true
    }
  },
  "nbformat_minor": 0,
  "nbformat": 4,
  "cells": [
    {
      "cell_type": "markdown",
      "metadata": {
        "id": "view-in-github",
        "colab_type": "text"
      },
      "source": [
        "<a href=\"https://colab.research.google.com/github/msatmod/R/blob/main/variables_and_datatype_in_r.ipynb\" target=\"_parent\"><img src=\"https://colab.research.google.com/assets/colab-badge.svg\" alt=\"Open In Colab\"/></a>"
      ]
    },
    {
      "cell_type": "markdown",
      "source": [
        "## Variables and DataTypes in R"
      ],
      "metadata": {
        "id": "fp3qjPrIpXnT"
      }
    },
    {
      "cell_type": "code",
      "source": [
        "#create a variable\n",
        "model1 <- 'hello'\n",
        "model1"
      ],
      "metadata": {
        "execution": {
          "iopub.status.busy": "2022-04-27T16:36:49.847100Z",
          "iopub.execute_input": "2022-04-27T16:36:49.849117Z",
          "iopub.status.idle": "2022-04-27T16:36:49.894353Z"
        },
        "trusted": true,
        "id": "MU2EyI9XpXnV",
        "outputId": "818d726b-111a-48f3-bed8-16568b40fe8a"
      },
      "execution_count": null,
      "outputs": [
        {
          "output_type": "display_data",
          "data": {
            "text/html": "'hello'",
            "text/markdown": "'hello'",
            "text/latex": "'hello'",
            "text/plain": "[1] \"hello\""
          },
          "metadata": {}
        }
      ]
    },
    {
      "cell_type": "code",
      "source": [
        "#check the datatype of the variable\n",
        "typeof(model1)"
      ],
      "metadata": {
        "_uuid": "051d70d956493feee0c6d64651c6a088724dca2a",
        "_execution_state": "idle",
        "execution": {
          "iopub.status.busy": "2022-04-27T16:36:51.300752Z",
          "iopub.execute_input": "2022-04-27T16:36:51.338238Z",
          "iopub.status.idle": "2022-04-27T16:36:51.354838Z"
        },
        "trusted": true,
        "id": "DcU1jvKmpXnh",
        "outputId": "a202dd31-c5c5-450b-e063-2dd15eee9687"
      },
      "execution_count": null,
      "outputs": [
        {
          "output_type": "display_data",
          "data": {
            "text/html": "'character'",
            "text/markdown": "'character'",
            "text/latex": "'character'",
            "text/plain": "[1] \"character\""
          },
          "metadata": {}
        }
      ]
    },
    {
      "cell_type": "code",
      "source": [
        "#check the class of the variable\n",
        "class(model1)"
      ],
      "metadata": {
        "execution": {
          "iopub.status.busy": "2022-04-27T16:36:52.158558Z",
          "iopub.execute_input": "2022-04-27T16:36:52.160126Z",
          "iopub.status.idle": "2022-04-27T16:36:52.178956Z"
        },
        "trusted": true,
        "id": "qHkQMMXwpXnh",
        "outputId": "a3c1fa52-8019-4ff1-8bb1-7332605b52f0"
      },
      "execution_count": null,
      "outputs": [
        {
          "output_type": "display_data",
          "data": {
            "text/html": "'character'",
            "text/markdown": "'character'",
            "text/latex": "'character'",
            "text/plain": "[1] \"character\""
          },
          "metadata": {}
        }
      ]
    },
    {
      "cell_type": "code",
      "source": [
        ".2pairs <- 100 #cannot add a number in variable name ever after the period"
      ],
      "metadata": {
        "execution": {
          "iopub.status.busy": "2022-04-27T16:36:52.990820Z",
          "iopub.execute_input": "2022-04-27T16:36:52.992411Z",
          "iopub.status.idle": "2022-04-27T16:36:53.004339Z"
        },
        "trusted": true,
        "id": "ypBy6HzNpXni",
        "outputId": "9e09fa57-ac7e-45c5-fb2d-ac12a7dddbda"
      },
      "execution_count": null,
      "outputs": [
        {
          "ename": "ERROR",
          "evalue": "Error in parse(text = x, srcfile = src): <text>:1:3: unexpected symbol\n1: .2pairs\n      ^\n",
          "traceback": [
            "Error in parse(text = x, srcfile = src): <text>:1:3: unexpected symbol\n1: .2pairs\n      ^\nTraceback:\n"
          ],
          "output_type": "error"
        }
      ]
    },
    {
      "cell_type": "code",
      "source": [
        "#can add a period at the beginning of the variable\n",
        ".pairs <- 100\n",
        ".pairs"
      ],
      "metadata": {
        "execution": {
          "iopub.status.busy": "2022-04-27T16:36:55.037781Z",
          "iopub.execute_input": "2022-04-27T16:36:55.039346Z",
          "iopub.status.idle": "2022-04-27T16:36:55.057117Z"
        },
        "trusted": true,
        "id": "RVHbPPCypXni",
        "outputId": "3bbff3bd-d508-4fed-9f1a-5cb60726eccd"
      },
      "execution_count": null,
      "outputs": [
        {
          "output_type": "display_data",
          "data": {
            "text/html": "100",
            "text/markdown": "100",
            "text/latex": "100",
            "text/plain": "[1] 100"
          },
          "metadata": {}
        }
      ]
    },
    {
      "cell_type": "code",
      "source": [
        "#R language is case sensitive so the spelling matters \n",
        "First_Num <- 100\n",
        "First_Num\n",
        "first_num"
      ],
      "metadata": {
        "execution": {
          "iopub.status.busy": "2022-04-27T16:36:55.964761Z",
          "iopub.execute_input": "2022-04-27T16:36:55.966320Z",
          "iopub.status.idle": "2022-04-27T16:36:56.013936Z"
        },
        "trusted": true,
        "id": "y57GvOrmpXni",
        "outputId": "7d21e5b4-b7a5-40e3-e2e6-ad8070606552"
      },
      "execution_count": null,
      "outputs": [
        {
          "output_type": "display_data",
          "data": {
            "text/html": "100",
            "text/markdown": "100",
            "text/latex": "100",
            "text/plain": "[1] 100"
          },
          "metadata": {}
        },
        {
          "ename": "ERROR",
          "evalue": "Error in eval(expr, envir, enclos): object 'first_num' not found\n",
          "traceback": [
            "Error in eval(expr, envir, enclos): object 'first_num' not found\nTraceback:\n"
          ],
          "output_type": "error"
        }
      ]
    },
    {
      "cell_type": "code",
      "source": [
        "animal <- 'tiger'\n",
        "animal"
      ],
      "metadata": {
        "execution": {
          "iopub.status.busy": "2022-04-27T16:36:58.369168Z",
          "iopub.execute_input": "2022-04-27T16:36:58.370861Z",
          "iopub.status.idle": "2022-04-27T16:36:58.391732Z"
        },
        "trusted": true,
        "id": "e0nkUGPcpXnj",
        "outputId": "7216d662-1c2f-42d9-9143-1e6434d0a00b"
      },
      "execution_count": null,
      "outputs": [
        {
          "output_type": "display_data",
          "data": {
            "text/html": "'tiger'",
            "text/markdown": "'tiger'",
            "text/latex": "'tiger'",
            "text/plain": "[1] \"tiger\""
          },
          "metadata": {}
        }
      ]
    },
    {
      "cell_type": "markdown",
      "source": [
        "# Logical Operators"
      ],
      "metadata": {
        "id": "TNJyuHRipXnj"
      }
    },
    {
      "cell_type": "markdown",
      "source": [
        "### Arthimetic operators:\n",
        "- Addition\n",
        "- Subtraction\n",
        "- Multiplication\n",
        "- Division\n",
        "- Remainder/Modulus\n",
        "- Exponent\n",
        "\n",
        "### Order of Operations:\n",
        "- Parenthesis()\n",
        "- Exponent (^)\n",
        "- Multiplication and Division (left to right)\n",
        "- Add and Subtract (left to right)\n",
        "\n",
        "### Rational/Logical operators:\n",
        "- Greater than(>)\n",
        "- Less than(<)\n",
        "- Greater than/equal(>=)\n",
        "- Less than/equal(<=)\n",
        "- Equal to (=)\n",
        "- Not equal to (!=)"
      ],
      "metadata": {
        "id": "DEWXcGULpXnj"
      }
    },
    {
      "cell_type": "code",
      "source": [
        "#Basic Arithmetic operations\n",
        "150+350\n",
        "98-23\n",
        "5*4\n",
        "15/3\n",
        "5^4\n",
        "(500*2)+(400/2)\n"
      ],
      "metadata": {
        "execution": {
          "iopub.status.busy": "2022-04-27T16:37:00.355736Z",
          "iopub.execute_input": "2022-04-27T16:37:00.357402Z",
          "iopub.status.idle": "2022-04-27T16:37:00.407987Z"
        },
        "trusted": true,
        "id": "8pH98NkApXnk",
        "outputId": "2e38e4f7-b1ad-44e9-df52-efc050973abb"
      },
      "execution_count": null,
      "outputs": [
        {
          "output_type": "display_data",
          "data": {
            "text/html": "500",
            "text/markdown": "500",
            "text/latex": "500",
            "text/plain": "[1] 500"
          },
          "metadata": {}
        },
        {
          "output_type": "display_data",
          "data": {
            "text/html": "75",
            "text/markdown": "75",
            "text/latex": "75",
            "text/plain": "[1] 75"
          },
          "metadata": {}
        },
        {
          "output_type": "display_data",
          "data": {
            "text/html": "20",
            "text/markdown": "20",
            "text/latex": "20",
            "text/plain": "[1] 20"
          },
          "metadata": {}
        },
        {
          "output_type": "display_data",
          "data": {
            "text/html": "5",
            "text/markdown": "5",
            "text/latex": "5",
            "text/plain": "[1] 5"
          },
          "metadata": {}
        },
        {
          "output_type": "display_data",
          "data": {
            "text/html": "625",
            "text/markdown": "625",
            "text/latex": "625",
            "text/plain": "[1] 625"
          },
          "metadata": {}
        },
        {
          "output_type": "display_data",
          "data": {
            "text/html": "1200",
            "text/markdown": "1200",
            "text/latex": "1200",
            "text/plain": "[1] 1200"
          },
          "metadata": {}
        }
      ]
    },
    {
      "cell_type": "code",
      "source": [
        "stock.data <- read.csv(\"../input/stock-prices/all_stocks_5yr.csv\")"
      ],
      "metadata": {
        "execution": {
          "iopub.status.busy": "2022-04-27T16:37:01.266982Z",
          "iopub.execute_input": "2022-04-27T16:37:01.269880Z",
          "iopub.status.idle": "2022-04-27T16:37:05.599704Z"
        },
        "trusted": true,
        "id": "0CG_SSvYpXnk"
      },
      "execution_count": null,
      "outputs": []
    },
    {
      "cell_type": "code",
      "source": [
        "stock.data"
      ],
      "metadata": {
        "execution": {
          "iopub.status.busy": "2022-04-27T16:37:05.602113Z",
          "iopub.execute_input": "2022-04-27T16:37:05.603489Z",
          "iopub.status.idle": "2022-04-27T16:37:05.874186Z"
        },
        "trusted": true,
        "id": "ec52G16QpXnk",
        "outputId": "a4277de4-fea8-4dd0-e66c-ae62dd87b2a8"
      },
      "execution_count": null,
      "outputs": [
        {
          "output_type": "display_data",
          "data": {
            "text/html": "<table class=\"dataframe\">\n<caption>A data.frame: 619040 × 7</caption>\n<thead>\n\t<tr><th scope=col>date</th><th scope=col>open</th><th scope=col>high</th><th scope=col>low</th><th scope=col>close</th><th scope=col>volume</th><th scope=col>Name</th></tr>\n\t<tr><th scope=col>&lt;chr&gt;</th><th scope=col>&lt;dbl&gt;</th><th scope=col>&lt;dbl&gt;</th><th scope=col>&lt;dbl&gt;</th><th scope=col>&lt;dbl&gt;</th><th scope=col>&lt;int&gt;</th><th scope=col>&lt;chr&gt;</th></tr>\n</thead>\n<tbody>\n\t<tr><td>2013-02-08</td><td>15.07</td><td>15.12</td><td>14.63</td><td>14.75</td><td> 8407500</td><td>AAL</td></tr>\n\t<tr><td>2013-02-11</td><td>14.89</td><td>15.01</td><td>14.26</td><td>14.46</td><td> 8882000</td><td>AAL</td></tr>\n\t<tr><td>2013-02-12</td><td>14.45</td><td>14.51</td><td>14.10</td><td>14.27</td><td> 8126000</td><td>AAL</td></tr>\n\t<tr><td>2013-02-13</td><td>14.30</td><td>14.94</td><td>14.25</td><td>14.66</td><td>10259500</td><td>AAL</td></tr>\n\t<tr><td>2013-02-14</td><td>14.94</td><td>14.96</td><td>13.16</td><td>13.99</td><td>31879900</td><td>AAL</td></tr>\n\t<tr><td>2013-02-15</td><td>13.93</td><td>14.61</td><td>13.93</td><td>14.50</td><td>15628000</td><td>AAL</td></tr>\n\t<tr><td>2013-02-19</td><td>14.33</td><td>14.56</td><td>14.08</td><td>14.26</td><td>11354400</td><td>AAL</td></tr>\n\t<tr><td>2013-02-20</td><td>14.17</td><td>14.26</td><td>13.15</td><td>13.33</td><td>14725200</td><td>AAL</td></tr>\n\t<tr><td>2013-02-21</td><td>13.62</td><td>13.95</td><td>12.90</td><td>13.37</td><td>11922100</td><td>AAL</td></tr>\n\t<tr><td>2013-02-22</td><td>13.57</td><td>13.60</td><td>13.21</td><td>13.57</td><td> 6071400</td><td>AAL</td></tr>\n\t<tr><td>2013-02-25</td><td>13.60</td><td>13.76</td><td>13.00</td><td>13.02</td><td> 7186400</td><td>AAL</td></tr>\n\t<tr><td>2013-02-26</td><td>13.14</td><td>13.42</td><td>12.70</td><td>13.26</td><td> 9419000</td><td>AAL</td></tr>\n\t<tr><td>2013-02-27</td><td>13.28</td><td>13.62</td><td>13.18</td><td>13.41</td><td> 7390500</td><td>AAL</td></tr>\n\t<tr><td>2013-02-28</td><td>13.49</td><td>13.63</td><td>13.39</td><td>13.43</td><td> 6143600</td><td>AAL</td></tr>\n\t<tr><td>2013-03-01</td><td>13.37</td><td>13.95</td><td>13.32</td><td>13.61</td><td> 7376800</td><td>AAL</td></tr>\n\t<tr><td>2013-03-04</td><td>13.50</td><td>14.07</td><td>13.47</td><td>13.90</td><td> 8174800</td><td>AAL</td></tr>\n\t<tr><td>2013-03-05</td><td>14.01</td><td>14.05</td><td>13.71</td><td>14.05</td><td> 7676100</td><td>AAL</td></tr>\n\t<tr><td>2013-03-06</td><td>14.52</td><td>14.68</td><td>14.25</td><td>14.57</td><td>13243200</td><td>AAL</td></tr>\n\t<tr><td>2013-03-07</td><td>14.70</td><td>14.93</td><td>14.50</td><td>14.82</td><td> 9125300</td><td>AAL</td></tr>\n\t<tr><td>2013-03-08</td><td>14.99</td><td>15.20</td><td>14.84</td><td>14.92</td><td>10593700</td><td>AAL</td></tr>\n\t<tr><td>2013-03-11</td><td>14.85</td><td>15.15</td><td>14.71</td><td>15.13</td><td> 6961800</td><td>AAL</td></tr>\n\t<tr><td>2013-03-12</td><td>15.14</td><td>15.60</td><td>14.95</td><td>15.50</td><td> 8999100</td><td>AAL</td></tr>\n\t<tr><td>2013-03-13</td><td>15.54</td><td>16.20</td><td>15.48</td><td>15.91</td><td>11380000</td><td>AAL</td></tr>\n\t<tr><td>2013-03-14</td><td>15.98</td><td>16.36</td><td>15.93</td><td>16.25</td><td> 8383300</td><td>AAL</td></tr>\n\t<tr><td>2013-03-15</td><td>16.45</td><td>16.54</td><td>15.88</td><td>15.98</td><td>17667700</td><td>AAL</td></tr>\n\t<tr><td>2013-03-18</td><td>15.80</td><td>16.33</td><td>15.71</td><td>16.29</td><td> 6514100</td><td>AAL</td></tr>\n\t<tr><td>2013-03-19</td><td>16.48</td><td>16.85</td><td>16.41</td><td>16.78</td><td>11805300</td><td>AAL</td></tr>\n\t<tr><td>2013-03-20</td><td>17.13</td><td>17.33</td><td>16.87</td><td>17.23</td><td>10819800</td><td>AAL</td></tr>\n\t<tr><td>2013-03-21</td><td>17.21</td><td>17.43</td><td>16.87</td><td>17.00</td><td>10740800</td><td>AAL</td></tr>\n\t<tr><td>2013-03-22</td><td>17.10</td><td>17.29</td><td>16.77</td><td>16.86</td><td> 8545200</td><td>AAL</td></tr>\n\t<tr><td>⋮</td><td>⋮</td><td>⋮</td><td>⋮</td><td>⋮</td><td>⋮</td><td>⋮</td></tr>\n\t<tr><td>2017-12-26</td><td>72.40</td><td>72.5500</td><td>71.9000</td><td>72.34</td><td> 792134</td><td>ZTS</td></tr>\n\t<tr><td>2017-12-27</td><td>72.59</td><td>72.6900</td><td>72.2500</td><td>72.45</td><td>1159771</td><td>ZTS</td></tr>\n\t<tr><td>2017-12-28</td><td>72.49</td><td>72.6000</td><td>72.1400</td><td>72.39</td><td> 710499</td><td>ZTS</td></tr>\n\t<tr><td>2017-12-29</td><td>72.55</td><td>72.7600</td><td>72.0400</td><td>72.04</td><td>1704122</td><td>ZTS</td></tr>\n\t<tr><td>2018-01-02</td><td>72.54</td><td>72.5900</td><td>71.4650</td><td>71.77</td><td>2135564</td><td>ZTS</td></tr>\n\t<tr><td>2018-01-03</td><td>71.77</td><td>72.1800</td><td>71.3400</td><td>72.10</td><td>2328506</td><td>ZTS</td></tr>\n\t<tr><td>2018-01-04</td><td>72.75</td><td>72.9128</td><td>72.2600</td><td>72.53</td><td>2534010</td><td>ZTS</td></tr>\n\t<tr><td>2018-01-05</td><td>72.83</td><td>73.9200</td><td>72.5700</td><td>73.36</td><td>2166065</td><td>ZTS</td></tr>\n\t<tr><td>2018-01-08</td><td>73.43</td><td>74.4200</td><td>73.1607</td><td>74.24</td><td>3631552</td><td>ZTS</td></tr>\n\t<tr><td>2018-01-09</td><td>74.70</td><td>75.4750</td><td>74.4650</td><td>75.11</td><td>2721946</td><td>ZTS</td></tr>\n\t<tr><td>2018-01-10</td><td>74.58</td><td>74.8000</td><td>73.2800</td><td>73.91</td><td>2257464</td><td>ZTS</td></tr>\n\t<tr><td>2018-01-11</td><td>74.05</td><td>74.6800</td><td>73.7200</td><td>74.59</td><td>1629279</td><td>ZTS</td></tr>\n\t<tr><td>2018-01-12</td><td>74.91</td><td>75.6900</td><td>74.7700</td><td>75.39</td><td>1915669</td><td>ZTS</td></tr>\n\t<tr><td>2018-01-16</td><td>76.06</td><td>76.4000</td><td>75.2100</td><td>75.54</td><td>2599094</td><td>ZTS</td></tr>\n\t<tr><td>2018-01-17</td><td>75.81</td><td>77.0300</td><td>75.3900</td><td>76.77</td><td>2769587</td><td>ZTS</td></tr>\n\t<tr><td>2018-01-18</td><td>76.65</td><td>76.6500</td><td>75.8500</td><td>76.33</td><td>2588995</td><td>ZTS</td></tr>\n\t<tr><td>2018-01-19</td><td>76.69</td><td>76.9100</td><td>76.2200</td><td>76.62</td><td>4829602</td><td>ZTS</td></tr>\n\t<tr><td>2018-01-22</td><td>76.67</td><td>77.5800</td><td>76.6200</td><td>77.48</td><td>4195103</td><td>ZTS</td></tr>\n\t<tr><td>2018-01-23</td><td>77.30</td><td>78.3200</td><td>76.9700</td><td>77.59</td><td>2264132</td><td>ZTS</td></tr>\n\t<tr><td>2018-01-24</td><td>78.16</td><td>78.5100</td><td>77.6000</td><td>78.33</td><td>2585326</td><td>ZTS</td></tr>\n\t<tr><td>2018-01-25</td><td>78.47</td><td>79.3800</td><td>78.3450</td><td>79.25</td><td>2327262</td><td>ZTS</td></tr>\n\t<tr><td>2018-01-26</td><td>79.49</td><td>80.1300</td><td>79.3800</td><td>80.09</td><td>2532808</td><td>ZTS</td></tr>\n\t<tr><td>2018-01-29</td><td>79.81</td><td>79.9500</td><td>79.1100</td><td>79.18</td><td>2662383</td><td>ZTS</td></tr>\n\t<tr><td>2018-01-30</td><td>78.44</td><td>78.6900</td><td>77.9100</td><td>78.35</td><td>3808707</td><td>ZTS</td></tr>\n\t<tr><td>2018-01-31</td><td>78.49</td><td>78.7700</td><td>76.5400</td><td>76.73</td><td>4136360</td><td>ZTS</td></tr>\n\t<tr><td>2018-02-01</td><td>76.84</td><td>78.2700</td><td>76.6900</td><td>77.82</td><td>2982259</td><td>ZTS</td></tr>\n\t<tr><td>2018-02-02</td><td>77.53</td><td>78.1200</td><td>76.7300</td><td>76.78</td><td>2595187</td><td>ZTS</td></tr>\n\t<tr><td>2018-02-05</td><td>76.64</td><td>76.9200</td><td>73.1800</td><td>73.83</td><td>2962031</td><td>ZTS</td></tr>\n\t<tr><td>2018-02-06</td><td>72.74</td><td>74.5600</td><td>72.1300</td><td>73.27</td><td>4924323</td><td>ZTS</td></tr>\n\t<tr><td>2018-02-07</td><td>72.70</td><td>75.0000</td><td>72.6900</td><td>73.86</td><td>4534912</td><td>ZTS</td></tr>\n</tbody>\n</table>\n",
            "text/markdown": "\nA data.frame: 619040 × 7\n\n| date &lt;chr&gt; | open &lt;dbl&gt; | high &lt;dbl&gt; | low &lt;dbl&gt; | close &lt;dbl&gt; | volume &lt;int&gt; | Name &lt;chr&gt; |\n|---|---|---|---|---|---|---|\n| 2013-02-08 | 15.07 | 15.12 | 14.63 | 14.75 |  8407500 | AAL |\n| 2013-02-11 | 14.89 | 15.01 | 14.26 | 14.46 |  8882000 | AAL |\n| 2013-02-12 | 14.45 | 14.51 | 14.10 | 14.27 |  8126000 | AAL |\n| 2013-02-13 | 14.30 | 14.94 | 14.25 | 14.66 | 10259500 | AAL |\n| 2013-02-14 | 14.94 | 14.96 | 13.16 | 13.99 | 31879900 | AAL |\n| 2013-02-15 | 13.93 | 14.61 | 13.93 | 14.50 | 15628000 | AAL |\n| 2013-02-19 | 14.33 | 14.56 | 14.08 | 14.26 | 11354400 | AAL |\n| 2013-02-20 | 14.17 | 14.26 | 13.15 | 13.33 | 14725200 | AAL |\n| 2013-02-21 | 13.62 | 13.95 | 12.90 | 13.37 | 11922100 | AAL |\n| 2013-02-22 | 13.57 | 13.60 | 13.21 | 13.57 |  6071400 | AAL |\n| 2013-02-25 | 13.60 | 13.76 | 13.00 | 13.02 |  7186400 | AAL |\n| 2013-02-26 | 13.14 | 13.42 | 12.70 | 13.26 |  9419000 | AAL |\n| 2013-02-27 | 13.28 | 13.62 | 13.18 | 13.41 |  7390500 | AAL |\n| 2013-02-28 | 13.49 | 13.63 | 13.39 | 13.43 |  6143600 | AAL |\n| 2013-03-01 | 13.37 | 13.95 | 13.32 | 13.61 |  7376800 | AAL |\n| 2013-03-04 | 13.50 | 14.07 | 13.47 | 13.90 |  8174800 | AAL |\n| 2013-03-05 | 14.01 | 14.05 | 13.71 | 14.05 |  7676100 | AAL |\n| 2013-03-06 | 14.52 | 14.68 | 14.25 | 14.57 | 13243200 | AAL |\n| 2013-03-07 | 14.70 | 14.93 | 14.50 | 14.82 |  9125300 | AAL |\n| 2013-03-08 | 14.99 | 15.20 | 14.84 | 14.92 | 10593700 | AAL |\n| 2013-03-11 | 14.85 | 15.15 | 14.71 | 15.13 |  6961800 | AAL |\n| 2013-03-12 | 15.14 | 15.60 | 14.95 | 15.50 |  8999100 | AAL |\n| 2013-03-13 | 15.54 | 16.20 | 15.48 | 15.91 | 11380000 | AAL |\n| 2013-03-14 | 15.98 | 16.36 | 15.93 | 16.25 |  8383300 | AAL |\n| 2013-03-15 | 16.45 | 16.54 | 15.88 | 15.98 | 17667700 | AAL |\n| 2013-03-18 | 15.80 | 16.33 | 15.71 | 16.29 |  6514100 | AAL |\n| 2013-03-19 | 16.48 | 16.85 | 16.41 | 16.78 | 11805300 | AAL |\n| 2013-03-20 | 17.13 | 17.33 | 16.87 | 17.23 | 10819800 | AAL |\n| 2013-03-21 | 17.21 | 17.43 | 16.87 | 17.00 | 10740800 | AAL |\n| 2013-03-22 | 17.10 | 17.29 | 16.77 | 16.86 |  8545200 | AAL |\n| ⋮ | ⋮ | ⋮ | ⋮ | ⋮ | ⋮ | ⋮ |\n| 2017-12-26 | 72.40 | 72.5500 | 71.9000 | 72.34 |  792134 | ZTS |\n| 2017-12-27 | 72.59 | 72.6900 | 72.2500 | 72.45 | 1159771 | ZTS |\n| 2017-12-28 | 72.49 | 72.6000 | 72.1400 | 72.39 |  710499 | ZTS |\n| 2017-12-29 | 72.55 | 72.7600 | 72.0400 | 72.04 | 1704122 | ZTS |\n| 2018-01-02 | 72.54 | 72.5900 | 71.4650 | 71.77 | 2135564 | ZTS |\n| 2018-01-03 | 71.77 | 72.1800 | 71.3400 | 72.10 | 2328506 | ZTS |\n| 2018-01-04 | 72.75 | 72.9128 | 72.2600 | 72.53 | 2534010 | ZTS |\n| 2018-01-05 | 72.83 | 73.9200 | 72.5700 | 73.36 | 2166065 | ZTS |\n| 2018-01-08 | 73.43 | 74.4200 | 73.1607 | 74.24 | 3631552 | ZTS |\n| 2018-01-09 | 74.70 | 75.4750 | 74.4650 | 75.11 | 2721946 | ZTS |\n| 2018-01-10 | 74.58 | 74.8000 | 73.2800 | 73.91 | 2257464 | ZTS |\n| 2018-01-11 | 74.05 | 74.6800 | 73.7200 | 74.59 | 1629279 | ZTS |\n| 2018-01-12 | 74.91 | 75.6900 | 74.7700 | 75.39 | 1915669 | ZTS |\n| 2018-01-16 | 76.06 | 76.4000 | 75.2100 | 75.54 | 2599094 | ZTS |\n| 2018-01-17 | 75.81 | 77.0300 | 75.3900 | 76.77 | 2769587 | ZTS |\n| 2018-01-18 | 76.65 | 76.6500 | 75.8500 | 76.33 | 2588995 | ZTS |\n| 2018-01-19 | 76.69 | 76.9100 | 76.2200 | 76.62 | 4829602 | ZTS |\n| 2018-01-22 | 76.67 | 77.5800 | 76.6200 | 77.48 | 4195103 | ZTS |\n| 2018-01-23 | 77.30 | 78.3200 | 76.9700 | 77.59 | 2264132 | ZTS |\n| 2018-01-24 | 78.16 | 78.5100 | 77.6000 | 78.33 | 2585326 | ZTS |\n| 2018-01-25 | 78.47 | 79.3800 | 78.3450 | 79.25 | 2327262 | ZTS |\n| 2018-01-26 | 79.49 | 80.1300 | 79.3800 | 80.09 | 2532808 | ZTS |\n| 2018-01-29 | 79.81 | 79.9500 | 79.1100 | 79.18 | 2662383 | ZTS |\n| 2018-01-30 | 78.44 | 78.6900 | 77.9100 | 78.35 | 3808707 | ZTS |\n| 2018-01-31 | 78.49 | 78.7700 | 76.5400 | 76.73 | 4136360 | ZTS |\n| 2018-02-01 | 76.84 | 78.2700 | 76.6900 | 77.82 | 2982259 | ZTS |\n| 2018-02-02 | 77.53 | 78.1200 | 76.7300 | 76.78 | 2595187 | ZTS |\n| 2018-02-05 | 76.64 | 76.9200 | 73.1800 | 73.83 | 2962031 | ZTS |\n| 2018-02-06 | 72.74 | 74.5600 | 72.1300 | 73.27 | 4924323 | ZTS |\n| 2018-02-07 | 72.70 | 75.0000 | 72.6900 | 73.86 | 4534912 | ZTS |\n\n",
            "text/latex": "A data.frame: 619040 × 7\n\\begin{tabular}{lllllll}\n date & open & high & low & close & volume & Name\\\\\n <chr> & <dbl> & <dbl> & <dbl> & <dbl> & <int> & <chr>\\\\\n\\hline\n\t 2013-02-08 & 15.07 & 15.12 & 14.63 & 14.75 &  8407500 & AAL\\\\\n\t 2013-02-11 & 14.89 & 15.01 & 14.26 & 14.46 &  8882000 & AAL\\\\\n\t 2013-02-12 & 14.45 & 14.51 & 14.10 & 14.27 &  8126000 & AAL\\\\\n\t 2013-02-13 & 14.30 & 14.94 & 14.25 & 14.66 & 10259500 & AAL\\\\\n\t 2013-02-14 & 14.94 & 14.96 & 13.16 & 13.99 & 31879900 & AAL\\\\\n\t 2013-02-15 & 13.93 & 14.61 & 13.93 & 14.50 & 15628000 & AAL\\\\\n\t 2013-02-19 & 14.33 & 14.56 & 14.08 & 14.26 & 11354400 & AAL\\\\\n\t 2013-02-20 & 14.17 & 14.26 & 13.15 & 13.33 & 14725200 & AAL\\\\\n\t 2013-02-21 & 13.62 & 13.95 & 12.90 & 13.37 & 11922100 & AAL\\\\\n\t 2013-02-22 & 13.57 & 13.60 & 13.21 & 13.57 &  6071400 & AAL\\\\\n\t 2013-02-25 & 13.60 & 13.76 & 13.00 & 13.02 &  7186400 & AAL\\\\\n\t 2013-02-26 & 13.14 & 13.42 & 12.70 & 13.26 &  9419000 & AAL\\\\\n\t 2013-02-27 & 13.28 & 13.62 & 13.18 & 13.41 &  7390500 & AAL\\\\\n\t 2013-02-28 & 13.49 & 13.63 & 13.39 & 13.43 &  6143600 & AAL\\\\\n\t 2013-03-01 & 13.37 & 13.95 & 13.32 & 13.61 &  7376800 & AAL\\\\\n\t 2013-03-04 & 13.50 & 14.07 & 13.47 & 13.90 &  8174800 & AAL\\\\\n\t 2013-03-05 & 14.01 & 14.05 & 13.71 & 14.05 &  7676100 & AAL\\\\\n\t 2013-03-06 & 14.52 & 14.68 & 14.25 & 14.57 & 13243200 & AAL\\\\\n\t 2013-03-07 & 14.70 & 14.93 & 14.50 & 14.82 &  9125300 & AAL\\\\\n\t 2013-03-08 & 14.99 & 15.20 & 14.84 & 14.92 & 10593700 & AAL\\\\\n\t 2013-03-11 & 14.85 & 15.15 & 14.71 & 15.13 &  6961800 & AAL\\\\\n\t 2013-03-12 & 15.14 & 15.60 & 14.95 & 15.50 &  8999100 & AAL\\\\\n\t 2013-03-13 & 15.54 & 16.20 & 15.48 & 15.91 & 11380000 & AAL\\\\\n\t 2013-03-14 & 15.98 & 16.36 & 15.93 & 16.25 &  8383300 & AAL\\\\\n\t 2013-03-15 & 16.45 & 16.54 & 15.88 & 15.98 & 17667700 & AAL\\\\\n\t 2013-03-18 & 15.80 & 16.33 & 15.71 & 16.29 &  6514100 & AAL\\\\\n\t 2013-03-19 & 16.48 & 16.85 & 16.41 & 16.78 & 11805300 & AAL\\\\\n\t 2013-03-20 & 17.13 & 17.33 & 16.87 & 17.23 & 10819800 & AAL\\\\\n\t 2013-03-21 & 17.21 & 17.43 & 16.87 & 17.00 & 10740800 & AAL\\\\\n\t 2013-03-22 & 17.10 & 17.29 & 16.77 & 16.86 &  8545200 & AAL\\\\\n\t ⋮ & ⋮ & ⋮ & ⋮ & ⋮ & ⋮ & ⋮\\\\\n\t 2017-12-26 & 72.40 & 72.5500 & 71.9000 & 72.34 &  792134 & ZTS\\\\\n\t 2017-12-27 & 72.59 & 72.6900 & 72.2500 & 72.45 & 1159771 & ZTS\\\\\n\t 2017-12-28 & 72.49 & 72.6000 & 72.1400 & 72.39 &  710499 & ZTS\\\\\n\t 2017-12-29 & 72.55 & 72.7600 & 72.0400 & 72.04 & 1704122 & ZTS\\\\\n\t 2018-01-02 & 72.54 & 72.5900 & 71.4650 & 71.77 & 2135564 & ZTS\\\\\n\t 2018-01-03 & 71.77 & 72.1800 & 71.3400 & 72.10 & 2328506 & ZTS\\\\\n\t 2018-01-04 & 72.75 & 72.9128 & 72.2600 & 72.53 & 2534010 & ZTS\\\\\n\t 2018-01-05 & 72.83 & 73.9200 & 72.5700 & 73.36 & 2166065 & ZTS\\\\\n\t 2018-01-08 & 73.43 & 74.4200 & 73.1607 & 74.24 & 3631552 & ZTS\\\\\n\t 2018-01-09 & 74.70 & 75.4750 & 74.4650 & 75.11 & 2721946 & ZTS\\\\\n\t 2018-01-10 & 74.58 & 74.8000 & 73.2800 & 73.91 & 2257464 & ZTS\\\\\n\t 2018-01-11 & 74.05 & 74.6800 & 73.7200 & 74.59 & 1629279 & ZTS\\\\\n\t 2018-01-12 & 74.91 & 75.6900 & 74.7700 & 75.39 & 1915669 & ZTS\\\\\n\t 2018-01-16 & 76.06 & 76.4000 & 75.2100 & 75.54 & 2599094 & ZTS\\\\\n\t 2018-01-17 & 75.81 & 77.0300 & 75.3900 & 76.77 & 2769587 & ZTS\\\\\n\t 2018-01-18 & 76.65 & 76.6500 & 75.8500 & 76.33 & 2588995 & ZTS\\\\\n\t 2018-01-19 & 76.69 & 76.9100 & 76.2200 & 76.62 & 4829602 & ZTS\\\\\n\t 2018-01-22 & 76.67 & 77.5800 & 76.6200 & 77.48 & 4195103 & ZTS\\\\\n\t 2018-01-23 & 77.30 & 78.3200 & 76.9700 & 77.59 & 2264132 & ZTS\\\\\n\t 2018-01-24 & 78.16 & 78.5100 & 77.6000 & 78.33 & 2585326 & ZTS\\\\\n\t 2018-01-25 & 78.47 & 79.3800 & 78.3450 & 79.25 & 2327262 & ZTS\\\\\n\t 2018-01-26 & 79.49 & 80.1300 & 79.3800 & 80.09 & 2532808 & ZTS\\\\\n\t 2018-01-29 & 79.81 & 79.9500 & 79.1100 & 79.18 & 2662383 & ZTS\\\\\n\t 2018-01-30 & 78.44 & 78.6900 & 77.9100 & 78.35 & 3808707 & ZTS\\\\\n\t 2018-01-31 & 78.49 & 78.7700 & 76.5400 & 76.73 & 4136360 & ZTS\\\\\n\t 2018-02-01 & 76.84 & 78.2700 & 76.6900 & 77.82 & 2982259 & ZTS\\\\\n\t 2018-02-02 & 77.53 & 78.1200 & 76.7300 & 76.78 & 2595187 & ZTS\\\\\n\t 2018-02-05 & 76.64 & 76.9200 & 73.1800 & 73.83 & 2962031 & ZTS\\\\\n\t 2018-02-06 & 72.74 & 74.5600 & 72.1300 & 73.27 & 4924323 & ZTS\\\\\n\t 2018-02-07 & 72.70 & 75.0000 & 72.6900 & 73.86 & 4534912 & ZTS\\\\\n\\end{tabular}\n",
            "text/plain": "       date       open  high    low     close volume   Name\n1      2013-02-08 15.07 15.12   14.63   14.75  8407500 AAL \n2      2013-02-11 14.89 15.01   14.26   14.46  8882000 AAL \n3      2013-02-12 14.45 14.51   14.10   14.27  8126000 AAL \n4      2013-02-13 14.30 14.94   14.25   14.66 10259500 AAL \n5      2013-02-14 14.94 14.96   13.16   13.99 31879900 AAL \n6      2013-02-15 13.93 14.61   13.93   14.50 15628000 AAL \n7      2013-02-19 14.33 14.56   14.08   14.26 11354400 AAL \n8      2013-02-20 14.17 14.26   13.15   13.33 14725200 AAL \n9      2013-02-21 13.62 13.95   12.90   13.37 11922100 AAL \n10     2013-02-22 13.57 13.60   13.21   13.57  6071400 AAL \n11     2013-02-25 13.60 13.76   13.00   13.02  7186400 AAL \n12     2013-02-26 13.14 13.42   12.70   13.26  9419000 AAL \n13     2013-02-27 13.28 13.62   13.18   13.41  7390500 AAL \n14     2013-02-28 13.49 13.63   13.39   13.43  6143600 AAL \n15     2013-03-01 13.37 13.95   13.32   13.61  7376800 AAL \n16     2013-03-04 13.50 14.07   13.47   13.90  8174800 AAL \n17     2013-03-05 14.01 14.05   13.71   14.05  7676100 AAL \n18     2013-03-06 14.52 14.68   14.25   14.57 13243200 AAL \n19     2013-03-07 14.70 14.93   14.50   14.82  9125300 AAL \n20     2013-03-08 14.99 15.20   14.84   14.92 10593700 AAL \n21     2013-03-11 14.85 15.15   14.71   15.13  6961800 AAL \n22     2013-03-12 15.14 15.60   14.95   15.50  8999100 AAL \n23     2013-03-13 15.54 16.20   15.48   15.91 11380000 AAL \n24     2013-03-14 15.98 16.36   15.93   16.25  8383300 AAL \n25     2013-03-15 16.45 16.54   15.88   15.98 17667700 AAL \n26     2013-03-18 15.80 16.33   15.71   16.29  6514100 AAL \n27     2013-03-19 16.48 16.85   16.41   16.78 11805300 AAL \n28     2013-03-20 17.13 17.33   16.87   17.23 10819800 AAL \n29     2013-03-21 17.21 17.43   16.87   17.00 10740800 AAL \n30     2013-03-22 17.10 17.29   16.77   16.86  8545200 AAL \n⋮      ⋮          ⋮     ⋮       ⋮       ⋮     ⋮        ⋮   \n619011 2017-12-26 72.40 72.5500 71.9000 72.34  792134  ZTS \n619012 2017-12-27 72.59 72.6900 72.2500 72.45 1159771  ZTS \n619013 2017-12-28 72.49 72.6000 72.1400 72.39  710499  ZTS \n619014 2017-12-29 72.55 72.7600 72.0400 72.04 1704122  ZTS \n619015 2018-01-02 72.54 72.5900 71.4650 71.77 2135564  ZTS \n619016 2018-01-03 71.77 72.1800 71.3400 72.10 2328506  ZTS \n619017 2018-01-04 72.75 72.9128 72.2600 72.53 2534010  ZTS \n619018 2018-01-05 72.83 73.9200 72.5700 73.36 2166065  ZTS \n619019 2018-01-08 73.43 74.4200 73.1607 74.24 3631552  ZTS \n619020 2018-01-09 74.70 75.4750 74.4650 75.11 2721946  ZTS \n619021 2018-01-10 74.58 74.8000 73.2800 73.91 2257464  ZTS \n619022 2018-01-11 74.05 74.6800 73.7200 74.59 1629279  ZTS \n619023 2018-01-12 74.91 75.6900 74.7700 75.39 1915669  ZTS \n619024 2018-01-16 76.06 76.4000 75.2100 75.54 2599094  ZTS \n619025 2018-01-17 75.81 77.0300 75.3900 76.77 2769587  ZTS \n619026 2018-01-18 76.65 76.6500 75.8500 76.33 2588995  ZTS \n619027 2018-01-19 76.69 76.9100 76.2200 76.62 4829602  ZTS \n619028 2018-01-22 76.67 77.5800 76.6200 77.48 4195103  ZTS \n619029 2018-01-23 77.30 78.3200 76.9700 77.59 2264132  ZTS \n619030 2018-01-24 78.16 78.5100 77.6000 78.33 2585326  ZTS \n619031 2018-01-25 78.47 79.3800 78.3450 79.25 2327262  ZTS \n619032 2018-01-26 79.49 80.1300 79.3800 80.09 2532808  ZTS \n619033 2018-01-29 79.81 79.9500 79.1100 79.18 2662383  ZTS \n619034 2018-01-30 78.44 78.6900 77.9100 78.35 3808707  ZTS \n619035 2018-01-31 78.49 78.7700 76.5400 76.73 4136360  ZTS \n619036 2018-02-01 76.84 78.2700 76.6900 77.82 2982259  ZTS \n619037 2018-02-02 77.53 78.1200 76.7300 76.78 2595187  ZTS \n619038 2018-02-05 76.64 76.9200 73.1800 73.83 2962031  ZTS \n619039 2018-02-06 72.74 74.5600 72.1300 73.27 4924323  ZTS \n619040 2018-02-07 72.70 75.0000 72.6900 73.86 4534912  ZTS "
          },
          "metadata": {}
        }
      ]
    },
    {
      "cell_type": "code",
      "source": [
        "head(stock.data)"
      ],
      "metadata": {
        "execution": {
          "iopub.status.busy": "2022-04-27T16:37:05.876629Z",
          "iopub.execute_input": "2022-04-27T16:37:05.878006Z",
          "iopub.status.idle": "2022-04-27T16:37:05.905569Z"
        },
        "trusted": true,
        "id": "rpNv-d-8pXnl",
        "outputId": "b0843816-3c2f-4baa-95d7-2a0a0a3b0c22"
      },
      "execution_count": null,
      "outputs": [
        {
          "output_type": "display_data",
          "data": {
            "text/html": "<table class=\"dataframe\">\n<caption>A data.frame: 6 × 7</caption>\n<thead>\n\t<tr><th></th><th scope=col>date</th><th scope=col>open</th><th scope=col>high</th><th scope=col>low</th><th scope=col>close</th><th scope=col>volume</th><th scope=col>Name</th></tr>\n\t<tr><th></th><th scope=col>&lt;chr&gt;</th><th scope=col>&lt;dbl&gt;</th><th scope=col>&lt;dbl&gt;</th><th scope=col>&lt;dbl&gt;</th><th scope=col>&lt;dbl&gt;</th><th scope=col>&lt;int&gt;</th><th scope=col>&lt;chr&gt;</th></tr>\n</thead>\n<tbody>\n\t<tr><th scope=row>1</th><td>2013-02-08</td><td>15.07</td><td>15.12</td><td>14.63</td><td>14.75</td><td> 8407500</td><td>AAL</td></tr>\n\t<tr><th scope=row>2</th><td>2013-02-11</td><td>14.89</td><td>15.01</td><td>14.26</td><td>14.46</td><td> 8882000</td><td>AAL</td></tr>\n\t<tr><th scope=row>3</th><td>2013-02-12</td><td>14.45</td><td>14.51</td><td>14.10</td><td>14.27</td><td> 8126000</td><td>AAL</td></tr>\n\t<tr><th scope=row>4</th><td>2013-02-13</td><td>14.30</td><td>14.94</td><td>14.25</td><td>14.66</td><td>10259500</td><td>AAL</td></tr>\n\t<tr><th scope=row>5</th><td>2013-02-14</td><td>14.94</td><td>14.96</td><td>13.16</td><td>13.99</td><td>31879900</td><td>AAL</td></tr>\n\t<tr><th scope=row>6</th><td>2013-02-15</td><td>13.93</td><td>14.61</td><td>13.93</td><td>14.50</td><td>15628000</td><td>AAL</td></tr>\n</tbody>\n</table>\n",
            "text/markdown": "\nA data.frame: 6 × 7\n\n| <!--/--> | date &lt;chr&gt; | open &lt;dbl&gt; | high &lt;dbl&gt; | low &lt;dbl&gt; | close &lt;dbl&gt; | volume &lt;int&gt; | Name &lt;chr&gt; |\n|---|---|---|---|---|---|---|---|\n| 1 | 2013-02-08 | 15.07 | 15.12 | 14.63 | 14.75 |  8407500 | AAL |\n| 2 | 2013-02-11 | 14.89 | 15.01 | 14.26 | 14.46 |  8882000 | AAL |\n| 3 | 2013-02-12 | 14.45 | 14.51 | 14.10 | 14.27 |  8126000 | AAL |\n| 4 | 2013-02-13 | 14.30 | 14.94 | 14.25 | 14.66 | 10259500 | AAL |\n| 5 | 2013-02-14 | 14.94 | 14.96 | 13.16 | 13.99 | 31879900 | AAL |\n| 6 | 2013-02-15 | 13.93 | 14.61 | 13.93 | 14.50 | 15628000 | AAL |\n\n",
            "text/latex": "A data.frame: 6 × 7\n\\begin{tabular}{r|lllllll}\n  & date & open & high & low & close & volume & Name\\\\\n  & <chr> & <dbl> & <dbl> & <dbl> & <dbl> & <int> & <chr>\\\\\n\\hline\n\t1 & 2013-02-08 & 15.07 & 15.12 & 14.63 & 14.75 &  8407500 & AAL\\\\\n\t2 & 2013-02-11 & 14.89 & 15.01 & 14.26 & 14.46 &  8882000 & AAL\\\\\n\t3 & 2013-02-12 & 14.45 & 14.51 & 14.10 & 14.27 &  8126000 & AAL\\\\\n\t4 & 2013-02-13 & 14.30 & 14.94 & 14.25 & 14.66 & 10259500 & AAL\\\\\n\t5 & 2013-02-14 & 14.94 & 14.96 & 13.16 & 13.99 & 31879900 & AAL\\\\\n\t6 & 2013-02-15 & 13.93 & 14.61 & 13.93 & 14.50 & 15628000 & AAL\\\\\n\\end{tabular}\n",
            "text/plain": "  date       open  high  low   close volume   Name\n1 2013-02-08 15.07 15.12 14.63 14.75  8407500 AAL \n2 2013-02-11 14.89 15.01 14.26 14.46  8882000 AAL \n3 2013-02-12 14.45 14.51 14.10 14.27  8126000 AAL \n4 2013-02-13 14.30 14.94 14.25 14.66 10259500 AAL \n5 2013-02-14 14.94 14.96 13.16 13.99 31879900 AAL \n6 2013-02-15 13.93 14.61 13.93 14.50 15628000 AAL "
          },
          "metadata": {}
        }
      ]
    },
    {
      "cell_type": "code",
      "source": [
        "x <- stock.data[stock.data$Name == \"AAL\" & stock.data$open == \"15.07\"]"
      ],
      "metadata": {
        "execution": {
          "iopub.status.busy": "2022-04-27T16:37:05.909174Z",
          "iopub.execute_input": "2022-04-27T16:37:05.911098Z",
          "iopub.status.idle": "2022-04-27T16:37:06.722529Z"
        },
        "trusted": true,
        "id": "BoCfvG-ApXnl"
      },
      "execution_count": null,
      "outputs": []
    },
    {
      "cell_type": "code",
      "source": [
        "x"
      ],
      "metadata": {
        "execution": {
          "iopub.status.busy": "2022-04-27T16:37:06.724944Z",
          "iopub.execute_input": "2022-04-27T16:37:06.726329Z",
          "iopub.status.idle": "2022-04-27T16:37:06.765677Z"
        },
        "trusted": true,
        "id": "Rj-D6OYgpXnl",
        "outputId": "5a4014f6-7122-4ef7-b206-d03b21f08579"
      },
      "execution_count": null,
      "outputs": [
        {
          "output_type": "display_data",
          "data": {
            "text/html": "<table class=\"dataframe\">\n<caption>A data.frame: 619040 × 1</caption>\n<thead>\n\t<tr><th scope=col>date</th></tr>\n\t<tr><th scope=col>&lt;chr&gt;</th></tr>\n</thead>\n<tbody>\n\t<tr><td>2013-02-08</td></tr>\n\t<tr><td>2013-02-11</td></tr>\n\t<tr><td>2013-02-12</td></tr>\n\t<tr><td>2013-02-13</td></tr>\n\t<tr><td>2013-02-14</td></tr>\n\t<tr><td>2013-02-15</td></tr>\n\t<tr><td>2013-02-19</td></tr>\n\t<tr><td>2013-02-20</td></tr>\n\t<tr><td>2013-02-21</td></tr>\n\t<tr><td>2013-02-22</td></tr>\n\t<tr><td>2013-02-25</td></tr>\n\t<tr><td>2013-02-26</td></tr>\n\t<tr><td>2013-02-27</td></tr>\n\t<tr><td>2013-02-28</td></tr>\n\t<tr><td>2013-03-01</td></tr>\n\t<tr><td>2013-03-04</td></tr>\n\t<tr><td>2013-03-05</td></tr>\n\t<tr><td>2013-03-06</td></tr>\n\t<tr><td>2013-03-07</td></tr>\n\t<tr><td>2013-03-08</td></tr>\n\t<tr><td>2013-03-11</td></tr>\n\t<tr><td>2013-03-12</td></tr>\n\t<tr><td>2013-03-13</td></tr>\n\t<tr><td>2013-03-14</td></tr>\n\t<tr><td>2013-03-15</td></tr>\n\t<tr><td>2013-03-18</td></tr>\n\t<tr><td>2013-03-19</td></tr>\n\t<tr><td>2013-03-20</td></tr>\n\t<tr><td>2013-03-21</td></tr>\n\t<tr><td>2013-03-22</td></tr>\n\t<tr><td>⋮</td></tr>\n\t<tr><td>2017-12-26</td></tr>\n\t<tr><td>2017-12-27</td></tr>\n\t<tr><td>2017-12-28</td></tr>\n\t<tr><td>2017-12-29</td></tr>\n\t<tr><td>2018-01-02</td></tr>\n\t<tr><td>2018-01-03</td></tr>\n\t<tr><td>2018-01-04</td></tr>\n\t<tr><td>2018-01-05</td></tr>\n\t<tr><td>2018-01-08</td></tr>\n\t<tr><td>2018-01-09</td></tr>\n\t<tr><td>2018-01-10</td></tr>\n\t<tr><td>2018-01-11</td></tr>\n\t<tr><td>2018-01-12</td></tr>\n\t<tr><td>2018-01-16</td></tr>\n\t<tr><td>2018-01-17</td></tr>\n\t<tr><td>2018-01-18</td></tr>\n\t<tr><td>2018-01-19</td></tr>\n\t<tr><td>2018-01-22</td></tr>\n\t<tr><td>2018-01-23</td></tr>\n\t<tr><td>2018-01-24</td></tr>\n\t<tr><td>2018-01-25</td></tr>\n\t<tr><td>2018-01-26</td></tr>\n\t<tr><td>2018-01-29</td></tr>\n\t<tr><td>2018-01-30</td></tr>\n\t<tr><td>2018-01-31</td></tr>\n\t<tr><td>2018-02-01</td></tr>\n\t<tr><td>2018-02-02</td></tr>\n\t<tr><td>2018-02-05</td></tr>\n\t<tr><td>2018-02-06</td></tr>\n\t<tr><td>2018-02-07</td></tr>\n</tbody>\n</table>\n",
            "text/markdown": "\nA data.frame: 619040 × 1\n\n| date &lt;chr&gt; |\n|---|\n| 2013-02-08 |\n| 2013-02-11 |\n| 2013-02-12 |\n| 2013-02-13 |\n| 2013-02-14 |\n| 2013-02-15 |\n| 2013-02-19 |\n| 2013-02-20 |\n| 2013-02-21 |\n| 2013-02-22 |\n| 2013-02-25 |\n| 2013-02-26 |\n| 2013-02-27 |\n| 2013-02-28 |\n| 2013-03-01 |\n| 2013-03-04 |\n| 2013-03-05 |\n| 2013-03-06 |\n| 2013-03-07 |\n| 2013-03-08 |\n| 2013-03-11 |\n| 2013-03-12 |\n| 2013-03-13 |\n| 2013-03-14 |\n| 2013-03-15 |\n| 2013-03-18 |\n| 2013-03-19 |\n| 2013-03-20 |\n| 2013-03-21 |\n| 2013-03-22 |\n| ⋮ |\n| 2017-12-26 |\n| 2017-12-27 |\n| 2017-12-28 |\n| 2017-12-29 |\n| 2018-01-02 |\n| 2018-01-03 |\n| 2018-01-04 |\n| 2018-01-05 |\n| 2018-01-08 |\n| 2018-01-09 |\n| 2018-01-10 |\n| 2018-01-11 |\n| 2018-01-12 |\n| 2018-01-16 |\n| 2018-01-17 |\n| 2018-01-18 |\n| 2018-01-19 |\n| 2018-01-22 |\n| 2018-01-23 |\n| 2018-01-24 |\n| 2018-01-25 |\n| 2018-01-26 |\n| 2018-01-29 |\n| 2018-01-30 |\n| 2018-01-31 |\n| 2018-02-01 |\n| 2018-02-02 |\n| 2018-02-05 |\n| 2018-02-06 |\n| 2018-02-07 |\n\n",
            "text/latex": "A data.frame: 619040 × 1\n\\begin{tabular}{l}\n date\\\\\n <chr>\\\\\n\\hline\n\t 2013-02-08\\\\\n\t 2013-02-11\\\\\n\t 2013-02-12\\\\\n\t 2013-02-13\\\\\n\t 2013-02-14\\\\\n\t 2013-02-15\\\\\n\t 2013-02-19\\\\\n\t 2013-02-20\\\\\n\t 2013-02-21\\\\\n\t 2013-02-22\\\\\n\t 2013-02-25\\\\\n\t 2013-02-26\\\\\n\t 2013-02-27\\\\\n\t 2013-02-28\\\\\n\t 2013-03-01\\\\\n\t 2013-03-04\\\\\n\t 2013-03-05\\\\\n\t 2013-03-06\\\\\n\t 2013-03-07\\\\\n\t 2013-03-08\\\\\n\t 2013-03-11\\\\\n\t 2013-03-12\\\\\n\t 2013-03-13\\\\\n\t 2013-03-14\\\\\n\t 2013-03-15\\\\\n\t 2013-03-18\\\\\n\t 2013-03-19\\\\\n\t 2013-03-20\\\\\n\t 2013-03-21\\\\\n\t 2013-03-22\\\\\n\t ⋮\\\\\n\t 2017-12-26\\\\\n\t 2017-12-27\\\\\n\t 2017-12-28\\\\\n\t 2017-12-29\\\\\n\t 2018-01-02\\\\\n\t 2018-01-03\\\\\n\t 2018-01-04\\\\\n\t 2018-01-05\\\\\n\t 2018-01-08\\\\\n\t 2018-01-09\\\\\n\t 2018-01-10\\\\\n\t 2018-01-11\\\\\n\t 2018-01-12\\\\\n\t 2018-01-16\\\\\n\t 2018-01-17\\\\\n\t 2018-01-18\\\\\n\t 2018-01-19\\\\\n\t 2018-01-22\\\\\n\t 2018-01-23\\\\\n\t 2018-01-24\\\\\n\t 2018-01-25\\\\\n\t 2018-01-26\\\\\n\t 2018-01-29\\\\\n\t 2018-01-30\\\\\n\t 2018-01-31\\\\\n\t 2018-02-01\\\\\n\t 2018-02-02\\\\\n\t 2018-02-05\\\\\n\t 2018-02-06\\\\\n\t 2018-02-07\\\\\n\\end{tabular}\n",
            "text/plain": "       date      \n1      2013-02-08\n2      2013-02-11\n3      2013-02-12\n4      2013-02-13\n5      2013-02-14\n6      2013-02-15\n7      2013-02-19\n8      2013-02-20\n9      2013-02-21\n10     2013-02-22\n11     2013-02-25\n12     2013-02-26\n13     2013-02-27\n14     2013-02-28\n15     2013-03-01\n16     2013-03-04\n17     2013-03-05\n18     2013-03-06\n19     2013-03-07\n20     2013-03-08\n21     2013-03-11\n22     2013-03-12\n23     2013-03-13\n24     2013-03-14\n25     2013-03-15\n26     2013-03-18\n27     2013-03-19\n28     2013-03-20\n29     2013-03-21\n30     2013-03-22\n⋮      ⋮         \n619011 2017-12-26\n619012 2017-12-27\n619013 2017-12-28\n619014 2017-12-29\n619015 2018-01-02\n619016 2018-01-03\n619017 2018-01-04\n619018 2018-01-05\n619019 2018-01-08\n619020 2018-01-09\n619021 2018-01-10\n619022 2018-01-11\n619023 2018-01-12\n619024 2018-01-16\n619025 2018-01-17\n619026 2018-01-18\n619027 2018-01-19\n619028 2018-01-22\n619029 2018-01-23\n619030 2018-01-24\n619031 2018-01-25\n619032 2018-01-26\n619033 2018-01-29\n619034 2018-01-30\n619035 2018-01-31\n619036 2018-02-01\n619037 2018-02-02\n619038 2018-02-05\n619039 2018-02-06\n619040 2018-02-07"
          },
          "metadata": {}
        }
      ]
    },
    {
      "cell_type": "code",
      "source": [
        "#Printing formating\n",
        "print(paste(\"Hello\",\"World\"))"
      ],
      "metadata": {
        "execution": {
          "iopub.status.busy": "2022-04-27T16:37:06.768142Z",
          "iopub.execute_input": "2022-04-27T16:37:06.769583Z",
          "iopub.status.idle": "2022-04-27T16:37:06.783738Z"
        },
        "trusted": true,
        "id": "UlU9iIFSpXnm",
        "outputId": "fb87ff07-30e4-4b02-94db-56be7f80dcdc"
      },
      "execution_count": null,
      "outputs": [
        {
          "name": "stdout",
          "text": "[1] \"Hello World\"\n",
          "output_type": "stream"
        }
      ]
    },
    {
      "cell_type": "code",
      "source": [
        "print(paste(\"Hello\",\"World\", sep='-'))"
      ],
      "metadata": {
        "execution": {
          "iopub.status.busy": "2022-04-27T16:37:06.786195Z",
          "iopub.execute_input": "2022-04-27T16:37:06.787634Z",
          "iopub.status.idle": "2022-04-27T16:37:06.801146Z"
        },
        "trusted": true,
        "id": "Nfft4mkXpXnn",
        "outputId": "479526b0-42a6-4fd9-d9e7-d3419ad4259c"
      },
      "execution_count": null,
      "outputs": [
        {
          "name": "stdout",
          "text": "[1] \"Hello-World\"\n",
          "output_type": "stream"
        }
      ]
    },
    {
      "cell_type": "code",
      "source": [
        "sprintf(\"%s is %f tall\", \"Ashley\", 5.1)"
      ],
      "metadata": {
        "execution": {
          "iopub.status.busy": "2022-04-27T16:37:06.803709Z",
          "iopub.execute_input": "2022-04-27T16:37:06.805125Z",
          "iopub.status.idle": "2022-04-27T16:37:06.820338Z"
        },
        "trusted": true,
        "id": "xLyP3m0OpXnn",
        "outputId": "b6651ca5-70c5-4bd8-8778-71af2f04f244"
      },
      "execution_count": null,
      "outputs": [
        {
          "output_type": "display_data",
          "data": {
            "text/html": "'Ashley is 5.100000 tall'",
            "text/markdown": "'Ashley is 5.100000 tall'",
            "text/latex": "'Ashley is 5.100000 tall'",
            "text/plain": "[1] \"Ashley is 5.100000 tall\""
          },
          "metadata": {}
        }
      ]
    }
  ]
}