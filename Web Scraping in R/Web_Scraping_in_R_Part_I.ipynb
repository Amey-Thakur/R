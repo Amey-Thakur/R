{
  "cells": [
    {
      "cell_type": "markdown",
      "metadata": {
        "id": "view-in-github",
        "colab_type": "text"
      },
      "source": [
        "<a href=\"https://colab.research.google.com/github/msatmod/R/blob/main/Web_Scraping_in_R_Part_I.ipynb\" target=\"_parent\"><img src=\"https://colab.research.google.com/assets/colab-badge.svg\" alt=\"Open In Colab\"/></a>"
      ]
    },
    {
      "cell_type": "markdown",
      "id": "70b2d38f",
      "metadata": {
        "papermill": {
          "duration": 0.002857,
          "end_time": "2022-08-25T05:15:10.082053",
          "exception": false,
          "start_time": "2022-08-25T05:15:10.079196",
          "status": "completed"
        },
        "tags": [],
        "id": "70b2d38f"
      },
      "source": [
        "# Web Scraping in R\n",
        "\n",
        "## Part I"
      ]
    },
    {
      "cell_type": "code",
      "execution_count": null,
      "id": "8addf2fb",
      "metadata": {
        "execution": {
          "iopub.execute_input": "2022-08-25T05:15:10.089458Z",
          "iopub.status.busy": "2022-08-25T05:15:10.087610Z",
          "iopub.status.idle": "2022-08-25T05:15:10.214504Z",
          "shell.execute_reply": "2022-08-25T05:15:10.213182Z"
        },
        "papermill": {
          "duration": 0.132779,
          "end_time": "2022-08-25T05:15:10.216833",
          "exception": false,
          "start_time": "2022-08-25T05:15:10.084054",
          "status": "completed"
        },
        "tags": [],
        "id": "8addf2fb"
      },
      "outputs": [],
      "source": [
        "# Install Libraries\n",
        "\n",
        "# install.packages(\"dplyr\")\n",
        "# install.packages(\"rvest\")"
      ]
    },
    {
      "cell_type": "code",
      "execution_count": null,
      "id": "872b1d9b",
      "metadata": {
        "execution": {
          "iopub.execute_input": "2022-08-25T05:15:10.248320Z",
          "iopub.status.busy": "2022-08-25T05:15:10.221898Z",
          "iopub.status.idle": "2022-08-25T05:15:10.337111Z",
          "shell.execute_reply": "2022-08-25T05:15:10.335683Z"
        },
        "papermill": {
          "duration": 0.120676,
          "end_time": "2022-08-25T05:15:10.339399",
          "exception": false,
          "start_time": "2022-08-25T05:15:10.218723",
          "status": "completed"
        },
        "tags": [],
        "id": "872b1d9b",
        "outputId": "e5beb3ca-0588-45e4-bf13-9cb319b1c6d1"
      },
      "outputs": [
        {
          "name": "stderr",
          "output_type": "stream",
          "text": [
            "\n",
            "Attaching package: ‘dplyr’\n",
            "\n",
            "\n",
            "The following objects are masked from ‘package:stats’:\n",
            "\n",
            "    filter, lag\n",
            "\n",
            "\n",
            "The following objects are masked from ‘package:base’:\n",
            "\n",
            "    intersect, setdiff, setequal, union\n",
            "\n",
            "\n"
          ]
        }
      ],
      "source": [
        "# Load the libraries\n",
        "library(dplyr)\n",
        "library(rvest)"
      ]
    },
    {
      "cell_type": "code",
      "execution_count": null,
      "id": "0974442d",
      "metadata": {
        "execution": {
          "iopub.execute_input": "2022-08-25T05:15:10.345835Z",
          "iopub.status.busy": "2022-08-25T05:15:10.344808Z",
          "iopub.status.idle": "2022-08-25T05:15:13.007520Z",
          "shell.execute_reply": "2022-08-25T05:15:13.006171Z"
        },
        "papermill": {
          "duration": 2.667627,
          "end_time": "2022-08-25T05:15:13.009251",
          "exception": false,
          "start_time": "2022-08-25T05:15:10.341624",
          "status": "completed"
        },
        "tags": [],
        "id": "0974442d"
      },
      "outputs": [],
      "source": [
        "# Read the link\n",
        "link = \"https://www.imdb.com/search/title/?groups=top_250&sort=user_rating\"\n",
        "page = read_html(link)"
      ]
    },
    {
      "cell_type": "code",
      "execution_count": null,
      "id": "c296c0df",
      "metadata": {
        "execution": {
          "iopub.execute_input": "2022-08-25T05:15:13.015770Z",
          "iopub.status.busy": "2022-08-25T05:15:13.014678Z",
          "iopub.status.idle": "2022-08-25T05:15:13.141165Z",
          "shell.execute_reply": "2022-08-25T05:15:13.139784Z"
        },
        "papermill": {
          "duration": 0.131938,
          "end_time": "2022-08-25T05:15:13.143405",
          "exception": false,
          "start_time": "2022-08-25T05:15:13.011467",
          "status": "completed"
        },
        "tags": [],
        "id": "c296c0df"
      },
      "outputs": [],
      "source": [
        "# Get data\n",
        "name = page %>% html_nodes(\".lister-item-header a\") %>% html_text()\n",
        "year = page %>% html_nodes(\".text-muted.unbold\") %>% html_text()\n",
        "rating = page %>% html_nodes(\".ratings-imdb-rating strong\") %>% html_text()\n",
        "synopsis = page %>% html_nodes(\".ratings-bar+ .text-muted\") %>% html_text()"
      ]
    },
    {
      "cell_type": "code",
      "execution_count": null,
      "id": "4d28dc01",
      "metadata": {
        "execution": {
          "iopub.execute_input": "2022-08-25T05:15:13.149956Z",
          "iopub.status.busy": "2022-08-25T05:15:13.148904Z",
          "iopub.status.idle": "2022-08-25T05:15:13.209565Z",
          "shell.execute_reply": "2022-08-25T05:15:13.208153Z"
        },
        "papermill": {
          "duration": 0.0661,
          "end_time": "2022-08-25T05:15:13.211776",
          "exception": false,
          "start_time": "2022-08-25T05:15:13.145676",
          "status": "completed"
        },
        "tags": [],
        "id": "4d28dc01"
      },
      "outputs": [],
      "source": [
        "# Create DataFrame\n",
        "movies = data.frame(name, year, rating, synopsis, stringsAsFactors = FALSE)\n",
        "\n",
        "# Write DataFrame\n",
        "write.csv(movies, \"movies.csv\")"
      ]
    },
    {
      "cell_type": "code",
      "execution_count": null,
      "id": "ad91ce1e",
      "metadata": {
        "execution": {
          "iopub.execute_input": "2022-08-25T05:15:13.218237Z",
          "iopub.status.busy": "2022-08-25T05:15:13.217189Z",
          "iopub.status.idle": "2022-08-25T05:15:13.239337Z",
          "shell.execute_reply": "2022-08-25T05:15:13.237532Z"
        },
        "papermill": {
          "duration": 0.027283,
          "end_time": "2022-08-25T05:15:13.241335",
          "exception": false,
          "start_time": "2022-08-25T05:15:13.214052",
          "status": "completed"
        },
        "tags": [],
        "id": "ad91ce1e",
        "outputId": "5c034baa-a48b-4bf8-92ae-de3660f7a0bc"
      },
      "outputs": [
        {
          "data": {
            "text/html": [
              "<table class=\"dataframe\">\n",
              "<caption>A data.frame: 6 × 4</caption>\n",
              "<thead>\n",
              "\t<tr><th></th><th scope=col>name</th><th scope=col>year</th><th scope=col>rating</th><th scope=col>synopsis</th></tr>\n",
              "\t<tr><th></th><th scope=col>&lt;chr&gt;</th><th scope=col>&lt;chr&gt;</th><th scope=col>&lt;chr&gt;</th><th scope=col>&lt;chr&gt;</th></tr>\n",
              "</thead>\n",
              "<tbody>\n",
              "\t<tr><th scope=row>1</th><td>The Shawshank Redemption                     </td><td>(1994)</td><td>9.3</td><td>\n",
              "Two imprisoned men bond over a number of years, finding solace and eventual redemption through acts of common decency.                                                                       </td></tr>\n",
              "\t<tr><th scope=row>2</th><td>The Godfather                                </td><td>(1972)</td><td>9.2</td><td>\n",
              "The aging patriarch of an organized crime dynasty in postwar New York City transfers control of his clandestine empire to his reluctant youngest son.                                        </td></tr>\n",
              "\t<tr><th scope=row>3</th><td>The Dark Knight                              </td><td>(2008)</td><td>9.0</td><td>\n",
              "When the menace known as the Joker wreaks havoc and chaos on the people of Gotham, Batman must accept one of the greatest psychological and physical tests of his ability to fight injustice.</td></tr>\n",
              "\t<tr><th scope=row>4</th><td>The Lord of the Rings: The Return of the King</td><td>(2003)</td><td>9.0</td><td>\n",
              "Gandalf and Aragorn lead the World of Men against Sauron's army to draw his gaze from Frodo and Sam as they approach Mount Doom with the One Ring.                                           </td></tr>\n",
              "\t<tr><th scope=row>5</th><td>Schindler's List                             </td><td>(1993)</td><td>9.0</td><td>\n",
              "In German-occupied Poland during World War II, industrialist Oskar Schindler gradually becomes concerned for his Jewish workforce after witnessing their persecution by the Nazis.           </td></tr>\n",
              "\t<tr><th scope=row>6</th><td>The Godfather Part II                        </td><td>(1974)</td><td>9.0</td><td>\n",
              "The early life and career of Vito Corleone in 1920s New York City is portrayed, while his son, Michael, expands and tightens his grip on the family crime syndicate.                         </td></tr>\n",
              "</tbody>\n",
              "</table>\n"
            ],
            "text/latex": [
              "A data.frame: 6 × 4\n",
              "\\begin{tabular}{r|llll}\n",
              "  & name & year & rating & synopsis\\\\\n",
              "  & <chr> & <chr> & <chr> & <chr>\\\\\n",
              "\\hline\n",
              "\t1 & The Shawshank Redemption                      & (1994) & 9.3 & \n",
              "Two imprisoned men bond over a number of years, finding solace and eventual redemption through acts of common decency.                                                                       \\\\\n",
              "\t2 & The Godfather                                 & (1972) & 9.2 & \n",
              "The aging patriarch of an organized crime dynasty in postwar New York City transfers control of his clandestine empire to his reluctant youngest son.                                        \\\\\n",
              "\t3 & The Dark Knight                               & (2008) & 9.0 & \n",
              "When the menace known as the Joker wreaks havoc and chaos on the people of Gotham, Batman must accept one of the greatest psychological and physical tests of his ability to fight injustice.\\\\\n",
              "\t4 & The Lord of the Rings: The Return of the King & (2003) & 9.0 & \n",
              "Gandalf and Aragorn lead the World of Men against Sauron's army to draw his gaze from Frodo and Sam as they approach Mount Doom with the One Ring.                                           \\\\\n",
              "\t5 & Schindler's List                              & (1993) & 9.0 & \n",
              "In German-occupied Poland during World War II, industrialist Oskar Schindler gradually becomes concerned for his Jewish workforce after witnessing their persecution by the Nazis.           \\\\\n",
              "\t6 & The Godfather Part II                         & (1974) & 9.0 & \n",
              "The early life and career of Vito Corleone in 1920s New York City is portrayed, while his son, Michael, expands and tightens his grip on the family crime syndicate.                         \\\\\n",
              "\\end{tabular}\n"
            ],
            "text/markdown": [
              "\n",
              "A data.frame: 6 × 4\n",
              "\n",
              "| <!--/--> | name &lt;chr&gt; | year &lt;chr&gt; | rating &lt;chr&gt; | synopsis &lt;chr&gt; |\n",
              "|---|---|---|---|---|\n",
              "| 1 | The Shawshank Redemption                      | (1994) | 9.3 | \n",
              "Two imprisoned men bond over a number of years, finding solace and eventual redemption through acts of common decency.                                                                        |\n",
              "| 2 | The Godfather                                 | (1972) | 9.2 | \n",
              "The aging patriarch of an organized crime dynasty in postwar New York City transfers control of his clandestine empire to his reluctant youngest son.                                         |\n",
              "| 3 | The Dark Knight                               | (2008) | 9.0 | \n",
              "When the menace known as the Joker wreaks havoc and chaos on the people of Gotham, Batman must accept one of the greatest psychological and physical tests of his ability to fight injustice. |\n",
              "| 4 | The Lord of the Rings: The Return of the King | (2003) | 9.0 | \n",
              "Gandalf and Aragorn lead the World of Men against Sauron's army to draw his gaze from Frodo and Sam as they approach Mount Doom with the One Ring.                                            |\n",
              "| 5 | Schindler's List                              | (1993) | 9.0 | \n",
              "In German-occupied Poland during World War II, industrialist Oskar Schindler gradually becomes concerned for his Jewish workforce after witnessing their persecution by the Nazis.            |\n",
              "| 6 | The Godfather Part II                         | (1974) | 9.0 | \n",
              "The early life and career of Vito Corleone in 1920s New York City is portrayed, while his son, Michael, expands and tightens his grip on the family crime syndicate.                          |\n",
              "\n"
            ],
            "text/plain": [
              "  name                                          year   rating\n",
              "1 The Shawshank Redemption                      (1994) 9.3   \n",
              "2 The Godfather                                 (1972) 9.2   \n",
              "3 The Dark Knight                               (2008) 9.0   \n",
              "4 The Lord of the Rings: The Return of the King (2003) 9.0   \n",
              "5 Schindler's List                              (1993) 9.0   \n",
              "6 The Godfather Part II                         (1974) 9.0   \n",
              "  synopsis                                                                                                                                                                                       \n",
              "1 \\nTwo imprisoned men bond over a number of years, finding solace and eventual redemption through acts of common decency.                                                                       \n",
              "2 \\nThe aging patriarch of an organized crime dynasty in postwar New York City transfers control of his clandestine empire to his reluctant youngest son.                                        \n",
              "3 \\nWhen the menace known as the Joker wreaks havoc and chaos on the people of Gotham, Batman must accept one of the greatest psychological and physical tests of his ability to fight injustice.\n",
              "4 \\nGandalf and Aragorn lead the World of Men against Sauron's army to draw his gaze from Frodo and Sam as they approach Mount Doom with the One Ring.                                           \n",
              "5 \\nIn German-occupied Poland during World War II, industrialist Oskar Schindler gradually becomes concerned for his Jewish workforce after witnessing their persecution by the Nazis.           \n",
              "6 \\nThe early life and career of Vito Corleone in 1920s New York City is portrayed, while his son, Michael, expands and tightens his grip on the family crime syndicate.                         "
            ]
          },
          "metadata": {},
          "output_type": "display_data"
        }
      ],
      "source": [
        "# Check few rows of dataframe\n",
        "head(movies)"
      ]
    },
    {
      "cell_type": "markdown",
      "id": "717121c5",
      "metadata": {
        "papermill": {
          "duration": 0.00229,
          "end_time": "2022-08-25T05:15:13.246131",
          "exception": false,
          "start_time": "2022-08-25T05:15:13.243841",
          "status": "completed"
        },
        "tags": [],
        "id": "717121c5"
      },
      "source": [
        "## Web Scraping [Part II](https://www.kaggle.com/code/ameythakur20/web-scrapping-in-r-part-ii)\n",
        "## Web Scraping [Part III](https://www.kaggle.com/code/ameythakur20/web-scraping-in-r-part-iii)\n",
        "## Web Scraping [Part IV](https://www.kaggle.com/code/ameythakur20/web-scraping-in-r-part-iv)"
      ]
    }
  ],
  "metadata": {
    "kernelspec": {
      "display_name": "R",
      "language": "R",
      "name": "ir"
    },
    "language_info": {
      "codemirror_mode": "r",
      "file_extension": ".r",
      "mimetype": "text/x-r-source",
      "name": "R",
      "pygments_lexer": "r",
      "version": "4.0.5"
    },
    "papermill": {
      "default_parameters": {},
      "duration": 6.40929,
      "end_time": "2022-08-25T05:15:13.464936",
      "environment_variables": {},
      "exception": null,
      "input_path": "__notebook__.ipynb",
      "output_path": "__notebook__.ipynb",
      "parameters": {},
      "start_time": "2022-08-25T05:15:07.055646",
      "version": "2.3.4"
    },
    "colab": {
      "name": "Web Scraping in R - Part I.ipynb",
      "provenance": [],
      "include_colab_link": true
    }
  },
  "nbformat": 4,
  "nbformat_minor": 5
}