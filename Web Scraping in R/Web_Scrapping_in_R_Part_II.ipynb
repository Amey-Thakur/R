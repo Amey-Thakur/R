{
  "cells": [
    {
      "cell_type": "markdown",
      "metadata": {
        "id": "view-in-github",
        "colab_type": "text"
      },
      "source": [
        "<a href=\"https://colab.research.google.com/github/msatmod/R/blob/main/Web_Scrapping_in_R_Part_II.ipynb\" target=\"_parent\"><img src=\"https://colab.research.google.com/assets/colab-badge.svg\" alt=\"Open In Colab\"/></a>"
      ]
    },
    {
      "cell_type": "markdown",
      "id": "a812797e",
      "metadata": {
        "papermill": {
          "duration": 0.003208,
          "end_time": "2022-08-25T05:13:48.825717",
          "exception": false,
          "start_time": "2022-08-25T05:13:48.822509",
          "status": "completed"
        },
        "tags": [],
        "id": "a812797e"
      },
      "source": [
        "# Web Scrapping in R \n",
        "\n",
        "## Part II"
      ]
    },
    {
      "cell_type": "code",
      "execution_count": null,
      "id": "af7c27cb",
      "metadata": {
        "execution": {
          "iopub.execute_input": "2022-08-25T05:13:48.835428Z",
          "iopub.status.busy": "2022-08-25T05:13:48.832544Z",
          "iopub.status.idle": "2022-08-25T05:13:49.070153Z",
          "shell.execute_reply": "2022-08-25T05:13:49.068247Z"
        },
        "papermill": {
          "duration": 0.244707,
          "end_time": "2022-08-25T05:13:49.072770",
          "exception": false,
          "start_time": "2022-08-25T05:13:48.828063",
          "status": "completed"
        },
        "tags": [],
        "id": "af7c27cb",
        "outputId": "52361fd2-51dc-4ccc-b213-00dcd9df25d1"
      },
      "outputs": [
        {
          "name": "stderr",
          "output_type": "stream",
          "text": [
            "\n",
            "Attaching package: ‘dplyr’\n",
            "\n",
            "\n",
            "The following objects are masked from ‘package:stats’:\n",
            "\n",
            "    filter, lag\n",
            "\n",
            "\n",
            "The following objects are masked from ‘package:base’:\n",
            "\n",
            "    intersect, setdiff, setequal, union\n",
            "\n",
            "\n"
          ]
        }
      ],
      "source": [
        "# Load the libraries\n",
        "library(dplyr)\n",
        "library(rvest)"
      ]
    },
    {
      "cell_type": "code",
      "execution_count": null,
      "id": "63eec2a1",
      "metadata": {
        "execution": {
          "iopub.execute_input": "2022-08-25T05:13:49.110288Z",
          "iopub.status.busy": "2022-08-25T05:13:49.079352Z",
          "iopub.status.idle": "2022-08-25T05:13:51.070199Z",
          "shell.execute_reply": "2022-08-25T05:13:51.068150Z"
        },
        "papermill": {
          "duration": 1.998248,
          "end_time": "2022-08-25T05:13:51.073508",
          "exception": false,
          "start_time": "2022-08-25T05:13:49.075260",
          "status": "completed"
        },
        "tags": [],
        "id": "63eec2a1"
      },
      "outputs": [],
      "source": [
        "# Read the link\n",
        "link = \"https://www.imdb.com/search/title/?groups=top_250&sort=user_rating\"\n",
        "page = read_html(link)"
      ]
    },
    {
      "cell_type": "code",
      "execution_count": null,
      "id": "429c895b",
      "metadata": {
        "execution": {
          "iopub.execute_input": "2022-08-25T05:13:51.083951Z",
          "iopub.status.busy": "2022-08-25T05:13:51.082310Z",
          "iopub.status.idle": "2022-08-25T05:13:51.275048Z",
          "shell.execute_reply": "2022-08-25T05:13:51.273211Z"
        },
        "papermill": {
          "duration": 0.199638,
          "end_time": "2022-08-25T05:13:51.277611",
          "exception": false,
          "start_time": "2022-08-25T05:13:51.077973",
          "status": "completed"
        },
        "tags": [],
        "id": "429c895b"
      },
      "outputs": [],
      "source": [
        "# Get data\n",
        "name = page %>% html_nodes(\".lister-item-header a\") %>% html_text()\n",
        "director = page %>% html_nodes(\".text-muted+ p a:nth-child(1)\") %>% html_text()\n",
        "year = page %>% html_nodes(\".text-muted.unbold\") %>% html_text()\n",
        "rating = page %>% html_nodes(\".ratings-imdb-rating strong\") %>% html_text()\n",
        "synopsis = page %>% html_nodes(\".ratings-bar+ .text-muted\") %>% html_text()"
      ]
    },
    {
      "cell_type": "code",
      "execution_count": null,
      "id": "9d569965",
      "metadata": {
        "execution": {
          "iopub.execute_input": "2022-08-25T05:13:51.285603Z",
          "iopub.status.busy": "2022-08-25T05:13:51.284122Z",
          "iopub.status.idle": "2022-08-25T05:13:51.356463Z",
          "shell.execute_reply": "2022-08-25T05:13:51.354502Z"
        },
        "papermill": {
          "duration": 0.079207,
          "end_time": "2022-08-25T05:13:51.359222",
          "exception": false,
          "start_time": "2022-08-25T05:13:51.280015",
          "status": "completed"
        },
        "tags": [],
        "id": "9d569965"
      },
      "outputs": [],
      "source": [
        "# Add column to dataframe\n",
        "movies = data.frame(name, director, year, rating, synopsis, stringsAsFactors = FALSE)\n",
        "\n",
        "write.csv(movies, \"movies.csv\")"
      ]
    },
    {
      "cell_type": "code",
      "execution_count": null,
      "id": "84731484",
      "metadata": {
        "execution": {
          "iopub.execute_input": "2022-08-25T05:13:51.367979Z",
          "iopub.status.busy": "2022-08-25T05:13:51.366297Z",
          "iopub.status.idle": "2022-08-25T05:13:51.382547Z",
          "shell.execute_reply": "2022-08-25T05:13:51.379990Z"
        },
        "papermill": {
          "duration": 0.023456,
          "end_time": "2022-08-25T05:13:51.385210",
          "exception": false,
          "start_time": "2022-08-25T05:13:51.361754",
          "status": "completed"
        },
        "tags": [],
        "id": "84731484",
        "outputId": "aff1dd91-3510-44e2-adae-b7d77b98536d"
      },
      "outputs": [
        {
          "name": "stdout",
          "output_type": "stream",
          "text": [
            " [1] \"Frank Darabont\"       \"Francis Ford Coppola\" \"Christopher Nolan\"   \n",
            " [4] \"Peter Jackson\"        \"Steven Spielberg\"     \"Francis Ford Coppola\"\n",
            " [7] \"Sidney Lumet\"         \"T.J. Gnanavel\"        \"Quentin Tarantino\"   \n",
            "[10] \"Christopher Nolan\"    \"Peter Jackson\"        \"David Fincher\"       \n",
            "[13] \"Peter Jackson\"        \"Robert Zemeckis\"      \"Sergio Leone\"        \n",
            "[16] \"Lana Wachowski\"       \"Martin Scorsese\"      \"Irvin Kershner\"      \n",
            "[19] \"Milos Forman\"         \"Christopher Nolan\"    \"Fernando Meirelles\"  \n",
            "[22] \"Hayao Miyazaki\"       \"Steven Spielberg\"     \"Frank Darabont\"      \n",
            "[25] \"Roberto Benigni\"      \"David Fincher\"        \"James Cameron\"       \n",
            "[28] \"Jonathan Demme\"       \"George Lucas\"         \"Masaki Kobayashi\"    \n",
            "[31] \"Akira Kurosawa\"       \"Frank Capra\"          \"Bong Joon Ho\"        \n",
            "[34] \"Damien Chazelle\"      \"Joseph Kosinski\"      \"Olivier Nakache\"     \n",
            "[37] \"Christopher Nolan\"    \"Martin Scorsese\"      \"Roman Polanski\"      \n",
            "[40] \"Ridley Scott\"         \"Tony Kaye\"            \"Bryan Singer\"        \n",
            "[43] \"Luc Besson\"           \"Roger Allers\"         \"Giuseppe Tornatore\"  \n",
            "[46] \"Isao Takahata\"        \"Robert Zemeckis\"      \"Francis Ford Coppola\"\n",
            "[49] \"Ridley Scott\"         \"Sergio Leone\"        \n"
          ]
        }
      ],
      "source": [
        "print(director)"
      ]
    },
    {
      "cell_type": "markdown",
      "id": "0b656653",
      "metadata": {
        "papermill": {
          "duration": 0.002829,
          "end_time": "2022-08-25T05:13:51.390601",
          "exception": false,
          "start_time": "2022-08-25T05:13:51.387772",
          "status": "completed"
        },
        "tags": [],
        "id": "0b656653"
      },
      "source": [
        "## Web Scraping [Part I](https://www.kaggle.com/code/ameythakur20/web-scraping-in-r-part-i)\n",
        "## Web Scraping [Part III](https://www.kaggle.com/code/ameythakur20/web-scraping-in-r-part-iii)\n",
        "## Web Scraping [Part IV](https://www.kaggle.com/code/ameythakur20/web-scraping-in-r-part-iv)"
      ]
    }
  ],
  "metadata": {
    "kernelspec": {
      "display_name": "R",
      "language": "R",
      "name": "ir"
    },
    "language_info": {
      "codemirror_mode": "r",
      "file_extension": ".r",
      "mimetype": "text/x-r-source",
      "name": "R",
      "pygments_lexer": "r",
      "version": "4.0.5"
    },
    "papermill": {
      "default_parameters": {},
      "duration": 6.429493,
      "end_time": "2022-08-25T05:13:51.514239",
      "environment_variables": {},
      "exception": null,
      "input_path": "__notebook__.ipynb",
      "output_path": "__notebook__.ipynb",
      "parameters": {},
      "start_time": "2022-08-25T05:13:45.084746",
      "version": "2.3.4"
    },
    "colab": {
      "name": "Web Scrapping in R - Part II.ipynb",
      "provenance": [],
      "include_colab_link": true
    }
  },
  "nbformat": 4,
  "nbformat_minor": 5
}