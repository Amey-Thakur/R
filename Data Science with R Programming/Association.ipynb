{
  "metadata": {
    "kernelspec": {
      "name": "ir",
      "display_name": "R",
      "language": "R"
    },
    "language_info": {
      "name": "R",
      "codemirror_mode": "r",
      "pygments_lexer": "r",
      "mimetype": "text/x-r-source",
      "file_extension": ".r",
      "version": "4.0.5"
    },
    "colab": {
      "name": "Association.ipynb",
      "provenance": [],
      "include_colab_link": true
    }
  },
  "nbformat_minor": 0,
  "nbformat": 4,
  "cells": [
    {
      "cell_type": "markdown",
      "metadata": {
        "id": "view-in-github",
        "colab_type": "text"
      },
      "source": [
        "<a href=\"https://colab.research.google.com/github/msatmod/R/blob/main/Association.ipynb\" target=\"_parent\"><img src=\"https://colab.research.google.com/assets/colab-badge.svg\" alt=\"Open In Colab\"/></a>"
      ]
    },
    {
      "cell_type": "code",
      "source": [
        "library(arules)"
      ],
      "metadata": {
        "_uuid": "051d70d956493feee0c6d64651c6a088724dca2a",
        "_execution_state": "idle",
        "execution": {
          "iopub.status.busy": "2022-05-05T09:13:05.851357Z",
          "iopub.execute_input": "2022-05-05T09:13:05.853703Z",
          "iopub.status.idle": "2022-05-05T09:13:07.792036Z"
        },
        "trusted": true,
        "id": "XT8bgDPnE_d5",
        "outputId": "1376a5bb-442d-496e-b090-4c10ece88af6"
      },
      "execution_count": null,
      "outputs": [
        {
          "name": "stderr",
          "text": "Loading required package: Matrix\n\n\nAttaching package: ‘arules’\n\n\nThe following objects are masked from ‘package:base’:\n\n    abbreviate, write\n\n\n",
          "output_type": "stream"
        }
      ]
    },
    {
      "cell_type": "code",
      "source": [
        "groceries_item <- read.transactions('../input/groceries/Groceries.csv', sep='.')"
      ],
      "metadata": {
        "execution": {
          "iopub.status.busy": "2022-05-05T09:13:07.795473Z",
          "iopub.execute_input": "2022-05-05T09:13:07.830029Z",
          "iopub.status.idle": "2022-05-05T09:13:09.233276Z"
        },
        "trusted": true,
        "id": "5qNJE0-SE_eG"
      },
      "execution_count": null,
      "outputs": []
    },
    {
      "cell_type": "code",
      "source": [
        "inspect(groceries_item[1:10])"
      ],
      "metadata": {
        "execution": {
          "iopub.status.busy": "2022-05-05T09:13:09.237208Z",
          "iopub.execute_input": "2022-05-05T09:13:09.239113Z",
          "iopub.status.idle": "2022-05-05T09:13:09.272737Z"
        },
        "trusted": true,
        "id": "c-DrTFc8E_eI",
        "outputId": "9dc5a37a-0d96-4d83-cace-248b42219e23"
      },
      "execution_count": null,
      "outputs": [
        {
          "name": "stdout",
          "text": "     items                                                                                            \n[1]  {citrus fruit,semi-finished bread,margarine,ready soups,,,,,,,,,,,,,,,,,,,,,,,,,,,,}             \n[2]  {tropical fruit,yogurt,coffee,,,,,,,,,,,,,,,,,,,,,,,,,,,,,}                                      \n[3]  {whole milk,,,,,,,,,,,,,,,,,,,,,,,,,,,,,,,}                                                      \n[4]  {pip fruit,yogurt,cream cheese ,meat spreads,,,,,,,,,,,,,,,,,,,,,,,,,,,,}                        \n[5]  {other vegetables,whole milk,condensed milk,long life bakery product,,,,,,,,,,,,,,,,,,,,,,,,,,,,}\n[6]  {whole milk,butter,yogurt,rice,abrasive cleaner,,,,,,,,,,,,,,,,,,,,,,,,,,,}                      \n[7]  {rolls/buns,,,,,,,,,,,,,,,,,,,,,,,,,,,,,,,}                                                      \n[8]  {other vegetables,UHT-milk,rolls/buns,bottled beer,liquor (appetizer),,,,,,,,,,,,,,,,,,,,,,,,,,,}\n[9]  {pot plants,,,,,,,,,,,,,,,,,,,,,,,,,,,,,,,}                                                      \n[10] {whole milk,cereals,,,,,,,,,,,,,,,,,,,,,,,,,,,,,,}                                               \n",
          "output_type": "stream"
        }
      ]
    },
    {
      "cell_type": "code",
      "source": [
        "AprioriForGroceries = apriori(groceries_item, parameter=list(support=.006, confidence=.5))\n",
        "summary(AprioriForGroceries)"
      ],
      "metadata": {
        "execution": {
          "iopub.status.busy": "2022-05-05T09:13:09.275267Z",
          "iopub.execute_input": "2022-05-05T09:13:09.276798Z",
          "iopub.status.idle": "2022-05-05T09:13:09.357888Z"
        },
        "trusted": true,
        "id": "r07vYPUuE_eK",
        "outputId": "60e10b41-eec9-4222-8e21-d01a68f99250"
      },
      "execution_count": null,
      "outputs": [
        {
          "name": "stdout",
          "text": "Apriori\n\nParameter specification:\n confidence minval smax arem  aval originalSupport maxtime support minlen\n        0.5    0.1    1 none FALSE            TRUE       5   0.006      1\n maxlen target  ext\n     10  rules TRUE\n\nAlgorithmic control:\n filter tree heap memopt load sort verbose\n    0.1 TRUE TRUE  FALSE TRUE    2    TRUE\n\nAbsolute minimum support count: 59 \n\nset item appearances ...[0 item(s)] done [0.00s].\nset transactions ...[7176 item(s), 9835 transaction(s)] done [0.01s].\nsorting and recoding items ... [7 item(s)] done [0.00s].\ncreating transaction tree ... done [0.00s].\nchecking subsets of size 1 done [0.00s].\nwriting ... [0 rule(s)] done [0.00s].\ncreating S4 object  ... done [0.00s].\n",
          "output_type": "stream"
        },
        {
          "output_type": "display_data",
          "data": {
            "text/plain": "set of 0 rules\n"
          },
          "metadata": {}
        }
      ]
    },
    {
      "cell_type": "code",
      "source": [
        "AprioriForGroceries = apriori(groceries_item, parameter=list(support=.01, confidence=.5))\n",
        "summary(AprioriForGroceries)"
      ],
      "metadata": {
        "execution": {
          "iopub.status.busy": "2022-05-05T09:13:09.360301Z",
          "iopub.execute_input": "2022-05-05T09:13:09.361824Z",
          "iopub.status.idle": "2022-05-05T09:13:09.412509Z"
        },
        "trusted": true,
        "id": "w8GBDkYfE_eM",
        "outputId": "c16c1fba-7e35-48d4-ad98-0c91994fabb3"
      },
      "execution_count": null,
      "outputs": [
        {
          "name": "stdout",
          "text": "Apriori\n\nParameter specification:\n confidence minval smax arem  aval originalSupport maxtime support minlen\n        0.5    0.1    1 none FALSE            TRUE       5    0.01      1\n maxlen target  ext\n     10  rules TRUE\n\nAlgorithmic control:\n filter tree heap memopt load sort verbose\n    0.1 TRUE TRUE  FALSE TRUE    2    TRUE\n\nAbsolute minimum support count: 98 \n\nset item appearances ...[0 item(s)] done [0.00s].\nset transactions ...[7176 item(s), 9835 transaction(s)] done [0.01s].\nsorting and recoding items ... [5 item(s)] done [0.00s].\ncreating transaction tree ... done [0.00s].\nchecking subsets of size 1 done [0.00s].\nwriting ... [0 rule(s)] done [0.00s].\ncreating S4 object  ... done [0.00s].\n",
          "output_type": "stream"
        },
        {
          "output_type": "display_data",
          "data": {
            "text/plain": "set of 0 rules\n"
          },
          "metadata": {}
        }
      ]
    }
  ]
}