{
  "metadata": {
    "kernelspec": {
      "name": "ir",
      "display_name": "R",
      "language": "R"
    },
    "language_info": {
      "name": "R",
      "codemirror_mode": "r",
      "pygments_lexer": "r",
      "mimetype": "text/x-r-source",
      "file_extension": ".r",
      "version": "4.0.5"
    },
    "colab": {
      "name": "Statistical Analysis on Covid19 Dataset.ipynb",
      "provenance": [],
      "include_colab_link": true
    }
  },
  "nbformat_minor": 0,
  "nbformat": 4,
  "cells": [
    {
      "cell_type": "markdown",
      "metadata": {
        "id": "view-in-github",
        "colab_type": "text"
      },
      "source": [
        "<a href=\"https://colab.research.google.com/github/msatmod/R/blob/main/Statistical_Analysis_on_Covid19_Dataset.ipynb\" target=\"_parent\"><img src=\"https://colab.research.google.com/assets/colab-badge.svg\" alt=\"Open In Colab\"/></a>"
      ]
    },
    {
      "cell_type": "code",
      "source": [
        "rm(list=ls()) # removes all variables stored previously\n",
        "library(Hmisc) # import\n",
        "\n",
        "data <- read.csv(\"../input/covid19-line-list/COVID19_line_list_data.csv\")\n",
        "describe(data) # Hmisc command\n",
        "\n",
        "# cleaned up death column\n",
        "data$death_dummy <- as.integer(data$death != 0)\n",
        "\n",
        "# death rate\n",
        "sum(data$death_dummy) / nrow(data)\n",
        "\n",
        "# AGE\n",
        "# claim: people who die are older\n",
        "dead = subset(data, death_dummy == 1)\n",
        "alive = subset(data, death_dummy == 0)\n",
        "mean(dead$age, na.rm = TRUE)\n",
        "mean(alive$age, na.rm = TRUE)\n",
        "\n",
        "# is this statistically significant?\n",
        "t.test(alive$age, dead$age, alternative=\"two.sided\", conf.level = 0.99)\n",
        "# normally, if p-value < 0.05, we reject null hypothesis \n",
        "# here, p-value ~ 0, so we reject the l hypothesis and conclude that this is statistically significant\n",
        "\n",
        "# GENDER\n",
        "# claim: gender has no effect\n",
        "men = subset(data, gender == \"male\")\n",
        "women = subset(data, gender == \"female\")\n",
        "mean(men$death_dummy, na.rm = TRUE) #8.5%!\n",
        "mean(women$death_dummy, na.rm = TRUE) #3.7%\n",
        "\n",
        "# is this statistically significant?\n",
        "t.test(men$death_dummy, women$death_dummy, alternative=\"two.sided\", conf.level = 0.99)\n",
        "# 99% confidence: men have m 0.8% to 8.8% higher chance of dying.\n",
        "# p-value = 0.002 0.05, so this is statistically significant."
      ],
      "metadata": {
        "_uuid": "051d70d956493feee0c6d64651c6a088724dca2a",
        "_execution_state": "idle",
        "execution": {
          "iopub.status.busy": "2022-05-09T17:28:28.671663Z",
          "iopub.execute_input": "2022-05-09T17:28:28.673288Z",
          "iopub.status.idle": "2022-05-09T17:28:31.406019Z"
        },
        "trusted": true,
        "id": "V-t1JM3MGGmx",
        "outputId": "c3f27a8e-994b-4fa9-a27c-90da4207d5f0"
      },
      "execution_count": null,
      "outputs": [
        {
          "name": "stderr",
          "text": "Loading required package: lattice\n\nLoading required package: survival\n\nLoading required package: Formula\n\nLoading required package: ggplot2\n\n\nAttaching package: ‘Hmisc’\n\n\nThe following objects are masked from ‘package:base’:\n\n    format.pval, units\n\n\n",
          "output_type": "stream"
        },
        {
          "output_type": "display_data",
          "data": {
            "text/plain": "data \n\n 27  Variables      1085  Observations\n--------------------------------------------------------------------------------\nid \n       n  missing distinct     Info     Mean      Gmd      .05      .10 \n    1085        0     1085        1      543      362     55.2    109.4 \n     .25      .50      .75      .90      .95 \n   272.0    543.0    814.0    976.6   1030.8 \n\nlowest :    1    2    3    4    5, highest: 1081 1082 1083 1084 1085\n--------------------------------------------------------------------------------\ncase_in_country \n       n  missing distinct     Info     Mean      Gmd      .05      .10 \n     888      197      197        1    48.84    54.99     2.00     4.00 \n     .25      .50      .75      .90      .95 \n   11.00    28.00    67.25   110.30   153.65 \n\nlowest :    1    2    3    4    5, highest:  365  443  875  925 1443\n                                                                            \nValue          0    20    40    60    80   100   120   140   160   180   200\nFrequency    215   241   137    81    84    40    22    19    22    19     1\nProportion 0.242 0.271 0.154 0.091 0.095 0.045 0.025 0.021 0.025 0.021 0.001\n                                                    \nValue        280   300   360   440   880   920  1440\nFrequency      1     1     1     1     1     1     1\nProportion 0.001 0.001 0.001 0.001 0.001 0.001 0.001\n\nFor the frequency table, variable is rounded to the nearest 20\n--------------------------------------------------------------------------------\nreporting.date \n       n  missing distinct \n    1084        1       43 \n\nlowest : 02/01/20  02/02/20  02/03/20  02/04/20  02/05/20 \nhighest: 2/24/2020 2/25/2020 2/26/2020 2/27/2020 2/28/2020\n--------------------------------------------------------------------------------\nsummary \n       n  missing distinct \n    1080        5      967 \n\nlowest : confirmed COVID-19 pneumonia patient No.11 in Tianjin: female, 55, symptom onset on 01/23/2020, hospitalized on 01/23/2020, confirmed on 01/26/2020                                                                                                 confirmed COVID-19 pneumonia patient No.12 in Tianjin: female, 79, symptom onset on 01/24/2020, hospitalized on 01/24/2020, confirmed on 01/26/2020                                                                                                 confirmed COVID-19 pneumonia patient No.13 in Tianjin: female, 19, symptom onset on 01/19/2020, hospitalized on 01/20/2020, confirmed on 01/26/2020                                                                                                 confirmed COVID-19 pneumonia patient No.14 in Tianjin: male, 71, Wuhan resident, visited Malaysia from 01/19/2020 to 01/25/2020, arrived in Tianjin on 01/25/2020, symptom onset on 01/25/2020, hospitalized on 01/25/2020, confirmed on 01/26/2020 confirmed imported COVID-19 pneumonia patient in Gansu: female, 20, lives in Wuhan, arrived in Gansu on 01/18/2020, symptom onset on 01/19/2020, visit clinic on 01/24/2020, hospitalized on 01/24/2020.                                           \nhighest: new recovered imported COVID-19 pneumonia patient in Beijing: female, returned to Beijing from Wuhan on 01/08/2020, symptom onset afterwards, recovered on 01/24/2020.                                                                              new recovered imported COVID-19 pneumonia patient in Beijing: male, returned to Beijing from Wuhan on 01/08/2020, symptom onset afterwards, recovered on 01/25/2020.                                                                                Second confirmed imported COVID-19 pneumonia patient in Guangxi: male, 46, in contact with individuals from Wuhan before symptom onset. symptom onset on 01/20/2020.                                                                                Second confirmed imported COVID-19 pneumonia patient in Liaoning: male, 40, works in Wuhan, visit Fushun, Liaoning on 01/12/2020, symptom onset on 01/14/2020, visit clinic in Fushun Dalian on 01/19/2020.                                         Second confirmed imported COVID-19 pneumonia patient in Sichuan: male, 57, Wuhan resident, visited Sichuan on 01/15/2020, symptom onset on 01/16/2020 and hospitalized.                                                                            \n--------------------------------------------------------------------------------\nlocation \n       n  missing distinct \n    1085        0      156 \n\nlowest : Afghanistan      Aichi Prefecture Alappuzha        Algeria          Amiens          \nhighest: Yunnan           Zabaikalsky      Zaragoza         Zhejiang         Zhuhai          \n--------------------------------------------------------------------------------\ncountry \n       n  missing distinct \n    1085        0       38 \n\nlowest : Afghanistan Algeria     Australia   Austria     Bahrain    \nhighest: Thailand    UAE         UK          USA         Vietnam    \n--------------------------------------------------------------------------------\ngender \n       n  missing distinct \n     902      183        2 \n                        \nValue      female   male\nFrequency     382    520\nProportion  0.424  0.576\n--------------------------------------------------------------------------------\nage \n       n  missing distinct     Info     Mean      Gmd      .05      .10 \n     843      242       85    0.999    49.48    20.79     22.0     25.0 \n     .25      .50      .75      .90      .95 \n    35.0     51.0     64.0     75.0     78.9 \n\nlowest :  0.25  0.50  1.00  2.00  4.00, highest: 86.00 87.00 89.00 91.00 96.00\n--------------------------------------------------------------------------------\nsymptom_onset \n       n  missing distinct \n     563      522       70 \n\nlowest : 01/02/20  01/03/20  01/04/20  01/05/20  01/06/20 \nhighest: 2/22/2020 2/23/2020 2/24/2020 2/25/2020 2/26/2020\n--------------------------------------------------------------------------------\nIf_onset_approximated \n       n  missing distinct     Info      Sum     Mean      Gmd \n     560      525        2    0.123       24  0.04286  0.08219 \n\n--------------------------------------------------------------------------------\nhosp_visit_date \n       n  missing distinct \n     507      578       60 \n\nlowest : 01/01/20  01/03/20  01/05/20  01/06/20  01/08/20 \nhighest: 2/24/2020 2/25/2020 2/26/2020 2/27/2020 2/28/2020\n--------------------------------------------------------------------------------\nexposure_start \n       n  missing distinct \n     128      957       39 \n\nlowest : 01/03/20  01/06/20  01/08/20  01/09/20  01/10/20 \nhighest: 2/15/2020 2/17/2020 2/19/2020 2/20/2020 2/21/2020\n--------------------------------------------------------------------------------\nexposure_end \n       n  missing distinct \n     341      744       52 \n\nlowest : 01/02/20  01/03/20  01/04/20  01/05/20  01/06/20 \nhighest: 2/21/2020 2/22/2020 2/23/2020 2/24/2020 2/25/2020\n--------------------------------------------------------------------------------\nvisiting.Wuhan \n       n  missing distinct     Info      Sum     Mean      Gmd \n    1085        0        2    0.437      192    0.177   0.2916 \n\n--------------------------------------------------------------------------------\nfrom.Wuhan \n       n  missing distinct     Info      Sum     Mean      Gmd \n    1081        4        2     0.37      156   0.1443   0.2472 \n\n--------------------------------------------------------------------------------\ndeath \n       n  missing distinct \n    1085        0       14 \n\nlowest : 0         02/01/20  1         2/13/2020 2/14/2020\nhighest: 2/24/2020 2/25/2020 2/26/2020 2/27/2020 2/28/2020\n\n0 (1022, 0.942), 02/01/20 (1, 0.001), 1 (42, 0.039), 2/13/2020 (1, 0.001),\n2/14/2020 (1, 0.001), 2/19/2020 (2, 0.002), 2/21/2020 (2, 0.002), 2/22/2020 (1,\n0.001), 2/23/2020 (4, 0.004), 2/24/2020 (1, 0.001), 2/25/2020 (2, 0.002),\n2/26/2020 (3, 0.003), 2/27/2020 (2, 0.002), 2/28/2020 (1, 0.001)\n--------------------------------------------------------------------------------\nrecovered \n       n  missing distinct \n    1085        0       32 \n\nlowest : 0         02/02/20  02/04/20  02/05/20  02/06/20 \nhighest: 2/24/2020 2/25/2020 2/26/2020 2/27/2020 2/28/2020\n--------------------------------------------------------------------------------\nsymptom \n       n  missing distinct \n     270      815      108 \n\nlowest : chest discomfort                    chills                              cold, fever, pneumonia              cough                               cough with sputum                  \nhighest: throat pain, chills                 throat pain, fever                  tired                               vomiting, cough, fever, sore throat vomiting, diarrhea, fever, cough   \n--------------------------------------------------------------------------------\nsource \n       n  missing distinct \n    1085        0       85 \n\nlowest : ABC                 ABC News            Al Arabiya          Aljazeera           Bangkok Post       \nhighest: Yonnhap News Agency 人民日报            人民日报官方微博    央视新闻            新浪               \n--------------------------------------------------------------------------------\nlink \n       n  missing distinct \n    1085        0      490 \n\nlowest : http://behdasht.gov.ir/news/%DA%A9%D8%B1%D9%88%D9%86%D8%A7+%D9%88%DB%8C%D8%B1%D9%88%D8%B3/199807/%D8%AF%D8%B1+%D8%B1%D9%88%D8%B2%D9%87%D8%A7%DB%8C+%DA%AF%D8%B0%D8%B4%D8%AA%D9%87+735+%D8%A8%DB%8C%D9%85%D8%A7%D8%B1+%D8%A8%D8%A7+%D8%B9%D9%84%D8%A7%D8%A6%D9%85+%D8%B4%D8%A8%D9%87+%D8%A2%D9%86%D9%81%D9%84%D9%88%D8%A2%D9%86%D8%B2%D8%A7+%D8%AF%D8%B1+%DA%A9%D8%B4%D9%88%D8%B1+%D8%A8%D8%B3%D8%AA%D8%B1%DB%8C+%D8%B4%D8%AF%D9%86%D8%AF+%D8%A8%D8%B1+%D8%A7%D8%B3%D8%A7%D8%B3+%D8%A2%D8%AE%D8%B1%DB%8C%D9%86+%D9%86%D8%AA%D8%A7%DB%8C%D8%AC+%D8%A2%D8%B2%D9%85%D8%A7%DB%8C%D8%B4+%D9%87%D8%A7+%D8%A7%D8%A8%D8%AA%D9%84%D8%A7%DB%8C+13+%D9%85%D9%88%D8%B1%D8%AF+%D8%AF%DB%8C%DA%AF%D8%B1+%D8%A8%D9%87+%DA%A9%D9%88%D9%88%DB%8C%D8%AF19+%D9%82%D8%B7%D8%B9%DB%8C+%D8%A8%D9%87+%D9%86%D8%B8%D8%B1+%D9%85%DB%8C+%D8%B1%D8%B3%D8%AF http://english.alarabiya.net/en/News/gulf/2020/02/25/Number-of-Kuwait-coronavirus-cases-rises-to-eight-KUNA.html                                                                                                                                                                                                                                                                                                                                                                                                                                                                                                                                                                                                                                                                                                                http://sxwjw.shaanxi.gov.cn/art/2020/1/27/art_9_67483.html                                                                                                                                                                                                                                                                                                                                                                                                                                                                                                                                                                                                                                                                                                                                                                      http://wjw.beijing.gov.cn/xwzx_20031/wnxw/202001/t20200121_1620353.html                                                                                                                                                                                                                                                                                                                                                                                                                                                                                                                                                                                                                                                                                                                                                         http://wjw.sz.gov.cn/wzx/202001/t20200120_18987787.htm                                                                                                                                                                                                                                                                                                                                                                                                                                                                                                                                                                                                                                                                                                                                                                         \nhighest: https://www3.nhk.or.jp/nhkworld/en/news/20200116_23/                                                                                                                                                                                                                                                                                                                                                                                                                                                                                                                                                                                                                                                                                                                                                                            https://www3.nhk.or.jp/nhkworld/en/news/20200124_14/                                                                                                                                                                                                                                                                                                                                                                                                                                                                                                                                                                                                                                                                                                                                                                            https://www3.nhk.or.jp/nhkworld/en/news/20200126_31/                                                                                                                                                                                                                                                                                                                                                                                                                                                                                                                                                                                                                                                                                                                                                                            https://www3.nhk.or.jp/nhkworld/en/news/20200130_02/                                                                                                                                                                                                                                                                                                                                                                                                                                                                                                                                                                                                                                                                                                                                                                            https://www3.nhk.or.jp/nhkworld/en/news/20200131_01/                                                                                                                                                                                                                                                                                                                                                                                                                                                                                                                                                                                                                                                                                                                                                                           \n--------------------------------------------------------------------------------\n\nVariables with all observations missing:\n\n[1] X   X.1 X.2 X.3 X.4 X.5 X.6"
          },
          "metadata": {}
        },
        {
          "output_type": "display_data",
          "data": {
            "text/html": "0.0580645161290323",
            "text/markdown": "0.0580645161290323",
            "text/latex": "0.0580645161290323",
            "text/plain": "[1] 0.05806452"
          },
          "metadata": {}
        },
        {
          "output_type": "display_data",
          "data": {
            "text/html": "68.5862068965517",
            "text/markdown": "68.5862068965517",
            "text/latex": "68.5862068965517",
            "text/plain": "[1] 68.58621"
          },
          "metadata": {}
        },
        {
          "output_type": "display_data",
          "data": {
            "text/html": "48.0722929936306",
            "text/markdown": "48.0722929936306",
            "text/latex": "48.0722929936306",
            "text/plain": "[1] 48.07229"
          },
          "metadata": {}
        },
        {
          "output_type": "display_data",
          "data": {
            "text/plain": "\n\tWelch Two Sample t-test\n\ndata:  alive$age and dead$age\nt = -10.839, df = 72.234, p-value < 2.2e-16\nalternative hypothesis: true difference in means is not equal to 0\n99 percent confidence interval:\n -25.52122 -15.50661\nsample estimates:\nmean of x mean of y \n 48.07229  68.58621 \n"
          },
          "metadata": {}
        },
        {
          "output_type": "display_data",
          "data": {
            "text/html": "0.0846153846153846",
            "text/markdown": "0.0846153846153846",
            "text/latex": "0.0846153846153846",
            "text/plain": "[1] 0.08461538"
          },
          "metadata": {}
        },
        {
          "output_type": "display_data",
          "data": {
            "text/html": "0.0366492146596859",
            "text/markdown": "0.0366492146596859",
            "text/latex": "0.0366492146596859",
            "text/plain": "[1] 0.03664921"
          },
          "metadata": {}
        },
        {
          "output_type": "display_data",
          "data": {
            "text/plain": "\n\tWelch Two Sample t-test\n\ndata:  men$death_dummy and women$death_dummy\nt = 3.084, df = 894.06, p-value = 0.002105\nalternative hypothesis: true difference in means is not equal to 0\n99 percent confidence interval:\n 0.007817675 0.088114665\nsample estimates:\n mean of x  mean of y \n0.08461538 0.03664921 \n"
          },
          "metadata": {}
        }
      ]
    }
  ]
}