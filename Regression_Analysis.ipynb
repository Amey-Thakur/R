{
  "metadata": {
    "kernelspec": {
      "name": "ir",
      "display_name": "R",
      "language": "R"
    },
    "language_info": {
      "name": "R",
      "codemirror_mode": "r",
      "pygments_lexer": "r",
      "mimetype": "text/x-r-source",
      "file_extension": ".r",
      "version": "4.0.5"
    },
    "colab": {
      "name": "Regression Analysis.ipynb",
      "provenance": [],
      "include_colab_link": true
    }
  },
  "nbformat_minor": 0,
  "nbformat": 4,
  "cells": [
    {
      "cell_type": "markdown",
      "metadata": {
        "id": "view-in-github",
        "colab_type": "text"
      },
      "source": [
        "<a href=\"https://colab.research.google.com/github/msatmod/R/blob/main/Regression_Analysis.ipynb\" target=\"_parent\"><img src=\"https://colab.research.google.com/assets/colab-badge.svg\" alt=\"Open In Colab\"/></a>"
      ]
    },
    {
      "cell_type": "markdown",
      "source": [
        "### Simple Linear Regression"
      ],
      "metadata": {
        "id": "HW3eCmWVEVG0"
      }
    },
    {
      "cell_type": "code",
      "source": [
        "#read the dataset\n",
        "Class <- read.csv('../input/class-data/Class.csv')\n",
        "head(Class)"
      ],
      "metadata": {
        "execution": {
          "iopub.status.busy": "2022-05-04T14:00:15.489316Z",
          "iopub.execute_input": "2022-05-04T14:00:15.491277Z",
          "iopub.status.idle": "2022-05-04T14:00:15.638353Z"
        },
        "trusted": true,
        "id": "4whq5dgiEVG_",
        "outputId": "c87cb4e2-2018-4621-e002-5bb37d2807eb"
      },
      "execution_count": null,
      "outputs": [
        {
          "output_type": "display_data",
          "data": {
            "text/html": "<table class=\"dataframe\">\n<caption>A data.frame: 6 × 5</caption>\n<thead>\n\t<tr><th></th><th scope=col>Name</th><th scope=col>Sex</th><th scope=col>Age</th><th scope=col>Height</th><th scope=col>Weight</th></tr>\n\t<tr><th></th><th scope=col>&lt;chr&gt;</th><th scope=col>&lt;chr&gt;</th><th scope=col>&lt;int&gt;</th><th scope=col>&lt;dbl&gt;</th><th scope=col>&lt;dbl&gt;</th></tr>\n</thead>\n<tbody>\n\t<tr><th scope=row>1</th><td>Alfred </td><td>M</td><td>14</td><td>69.0</td><td>112.5</td></tr>\n\t<tr><th scope=row>2</th><td>Alice  </td><td>F</td><td>13</td><td>56.5</td><td> 84.0</td></tr>\n\t<tr><th scope=row>3</th><td>Barbara</td><td>F</td><td>13</td><td>65.3</td><td> 98.0</td></tr>\n\t<tr><th scope=row>4</th><td>Carol  </td><td>F</td><td>14</td><td>62.8</td><td>102.5</td></tr>\n\t<tr><th scope=row>5</th><td>Henry  </td><td>M</td><td>14</td><td>63.5</td><td>102.5</td></tr>\n\t<tr><th scope=row>6</th><td>James  </td><td>M</td><td>12</td><td>57.3</td><td> 83.0</td></tr>\n</tbody>\n</table>\n",
            "text/markdown": "\nA data.frame: 6 × 5\n\n| <!--/--> | Name &lt;chr&gt; | Sex &lt;chr&gt; | Age &lt;int&gt; | Height &lt;dbl&gt; | Weight &lt;dbl&gt; |\n|---|---|---|---|---|---|\n| 1 | Alfred  | M | 14 | 69.0 | 112.5 |\n| 2 | Alice   | F | 13 | 56.5 |  84.0 |\n| 3 | Barbara | F | 13 | 65.3 |  98.0 |\n| 4 | Carol   | F | 14 | 62.8 | 102.5 |\n| 5 | Henry   | M | 14 | 63.5 | 102.5 |\n| 6 | James   | M | 12 | 57.3 |  83.0 |\n\n",
            "text/latex": "A data.frame: 6 × 5\n\\begin{tabular}{r|lllll}\n  & Name & Sex & Age & Height & Weight\\\\\n  & <chr> & <chr> & <int> & <dbl> & <dbl>\\\\\n\\hline\n\t1 & Alfred  & M & 14 & 69.0 & 112.5\\\\\n\t2 & Alice   & F & 13 & 56.5 &  84.0\\\\\n\t3 & Barbara & F & 13 & 65.3 &  98.0\\\\\n\t4 & Carol   & F & 14 & 62.8 & 102.5\\\\\n\t5 & Henry   & M & 14 & 63.5 & 102.5\\\\\n\t6 & James   & M & 12 & 57.3 &  83.0\\\\\n\\end{tabular}\n",
            "text/plain": "  Name    Sex Age Height Weight\n1 Alfred  M   14  69.0   112.5 \n2 Alice   F   13  56.5    84.0 \n3 Barbara F   13  65.3    98.0 \n4 Carol   F   14  62.8   102.5 \n5 Henry   M   14  63.5   102.5 \n6 James   M   12  57.3    83.0 "
          },
          "metadata": {}
        }
      ]
    },
    {
      "cell_type": "code",
      "source": [
        "str(Class)"
      ],
      "metadata": {
        "execution": {
          "iopub.status.busy": "2022-05-04T14:00:15.641686Z",
          "iopub.execute_input": "2022-05-04T14:00:15.679894Z",
          "iopub.status.idle": "2022-05-04T14:00:15.699965Z"
        },
        "trusted": true,
        "id": "aNw1CwY9EVHg",
        "outputId": "5c6a9c24-84cd-40cf-f618-755a590c44e8"
      },
      "execution_count": null,
      "outputs": [
        {
          "name": "stdout",
          "text": "'data.frame':\t19 obs. of  5 variables:\n $ Name  : chr  \"Alfred\" \"Alice\" \"Barbara\" \"Carol\" ...\n $ Sex   : chr  \"M\" \"F\" \"F\" \"F\" ...\n $ Age   : int  14 13 13 14 14 12 12 15 13 12 ...\n $ Height: num  69 56.5 65.3 62.8 63.5 57.3 59.8 62.5 62.5 59 ...\n $ Weight: num  112 84 98 102 102 ...\n",
          "output_type": "stream"
        }
      ]
    },
    {
      "cell_type": "code",
      "source": [
        "summary(Class)"
      ],
      "metadata": {
        "execution": {
          "iopub.status.busy": "2022-05-04T14:00:15.702168Z",
          "iopub.execute_input": "2022-05-04T14:00:15.703494Z",
          "iopub.status.idle": "2022-05-04T14:00:15.720257Z"
        },
        "trusted": true,
        "id": "7xbFabTdEVHh",
        "outputId": "933fe7d4-66f2-4c32-ee25-3817a8d5492e"
      },
      "execution_count": null,
      "outputs": [
        {
          "output_type": "display_data",
          "data": {
            "text/plain": "     Name               Sex                 Age            Height     \n Length:19          Length:19          Min.   :11.00   Min.   :51.30  \n Class :character   Class :character   1st Qu.:12.00   1st Qu.:58.25  \n Mode  :character   Mode  :character   Median :13.00   Median :62.80  \n                                       Mean   :13.32   Mean   :62.34  \n                                       3rd Qu.:14.50   3rd Qu.:65.90  \n                                       Max.   :16.00   Max.   :72.00  \n     Weight      \n Min.   : 50.50  \n 1st Qu.: 84.25  \n Median : 99.50  \n Mean   :100.03  \n 3rd Qu.:112.25  \n Max.   :150.00  "
          },
          "metadata": {}
        }
      ]
    },
    {
      "cell_type": "code",
      "source": [
        "#predict the weight based on height\n",
        "\n",
        "results <- lm(formula = Weight ~ Height, data=Class)\n",
        "results"
      ],
      "metadata": {
        "execution": {
          "iopub.status.busy": "2022-05-04T14:00:15.722417Z",
          "iopub.execute_input": "2022-05-04T14:00:15.723715Z",
          "iopub.status.idle": "2022-05-04T14:00:15.748625Z"
        },
        "trusted": true,
        "id": "_6MQelowEVHi",
        "outputId": "ccb03695-4adf-44ff-9013-59314268ab53"
      },
      "execution_count": null,
      "outputs": [
        {
          "output_type": "display_data",
          "data": {
            "text/plain": "\nCall:\nlm(formula = Weight ~ Height, data = Class)\n\nCoefficients:\n(Intercept)       Height  \n   -143.027        3.899  \n"
          },
          "metadata": {}
        }
      ]
    },
    {
      "cell_type": "code",
      "source": [
        "summary(results)"
      ],
      "metadata": {
        "execution": {
          "iopub.status.busy": "2022-05-04T14:00:15.750839Z",
          "iopub.execute_input": "2022-05-04T14:00:15.752177Z",
          "iopub.status.idle": "2022-05-04T14:00:15.777932Z"
        },
        "trusted": true,
        "id": "YrPuB9WAEVHj",
        "outputId": "002142c0-2ecf-4734-926a-d9edb3e8a2a5"
      },
      "execution_count": null,
      "outputs": [
        {
          "output_type": "display_data",
          "data": {
            "text/plain": "\nCall:\nlm(formula = Weight ~ Height, data = Class)\n\nResiduals:\n     Min       1Q   Median       3Q      Max \n-17.6807  -6.0642   0.5115   9.2846  18.3698 \n\nCoefficients:\n             Estimate Std. Error t value Pr(>|t|)    \n(Intercept) -143.0269    32.2746  -4.432 0.000366 ***\nHeight         3.8990     0.5161   7.555 7.89e-07 ***\n---\nSignif. codes:  0 ‘***’ 0.001 ‘**’ 0.01 ‘*’ 0.05 ‘.’ 0.1 ‘ ’ 1\n\nResidual standard error: 11.23 on 17 degrees of freedom\nMultiple R-squared:  0.7705,\tAdjusted R-squared:  0.757 \nF-statistic: 57.08 on 1 and 17 DF,  p-value: 7.887e-07\n"
          },
          "metadata": {}
        }
      ]
    },
    {
      "cell_type": "markdown",
      "source": [
        "### Regression Analysis with Multiple Variables"
      ],
      "metadata": {
        "id": "jOksicKeEVHk"
      }
    },
    {
      "cell_type": "code",
      "source": [
        "cars_data <- read.csv('../input/cars1/CARS.csv')\n",
        "head(cars_data)"
      ],
      "metadata": {
        "execution": {
          "iopub.status.busy": "2022-05-04T14:00:15.780749Z",
          "iopub.execute_input": "2022-05-04T14:00:15.782245Z",
          "iopub.status.idle": "2022-05-04T14:00:15.827780Z"
        },
        "trusted": true,
        "id": "TJal4d-BEVHl",
        "outputId": "7df170d2-0180-42ff-e6b3-4c328fae05d3"
      },
      "execution_count": null,
      "outputs": [
        {
          "output_type": "display_data",
          "data": {
            "text/html": "<table class=\"dataframe\">\n<caption>A data.frame: 6 × 15</caption>\n<thead>\n\t<tr><th></th><th scope=col>Make</th><th scope=col>Model</th><th scope=col>Type</th><th scope=col>Origin</th><th scope=col>DriveTrain</th><th scope=col>MSRP</th><th scope=col>Invoice</th><th scope=col>EngineSize</th><th scope=col>Cylinders</th><th scope=col>Horsepower</th><th scope=col>MPG_City</th><th scope=col>MPG_Highway</th><th scope=col>Weight</th><th scope=col>Wheelbase</th><th scope=col>Length</th></tr>\n\t<tr><th></th><th scope=col>&lt;chr&gt;</th><th scope=col>&lt;chr&gt;</th><th scope=col>&lt;chr&gt;</th><th scope=col>&lt;chr&gt;</th><th scope=col>&lt;chr&gt;</th><th scope=col>&lt;chr&gt;</th><th scope=col>&lt;chr&gt;</th><th scope=col>&lt;dbl&gt;</th><th scope=col>&lt;int&gt;</th><th scope=col>&lt;int&gt;</th><th scope=col>&lt;int&gt;</th><th scope=col>&lt;int&gt;</th><th scope=col>&lt;int&gt;</th><th scope=col>&lt;int&gt;</th><th scope=col>&lt;int&gt;</th></tr>\n</thead>\n<tbody>\n\t<tr><th scope=row>1</th><td>Acura</td><td>MDX                    </td><td>SUV  </td><td>Asia</td><td>All  </td><td>$36,945</td><td>$33,337</td><td>3.5</td><td>6</td><td>265</td><td>17</td><td>23</td><td>4451</td><td>106</td><td>189</td></tr>\n\t<tr><th scope=row>2</th><td>Acura</td><td>RSX Type S 2dr         </td><td>Sedan</td><td>Asia</td><td>Front</td><td>$23,820</td><td>$21,761</td><td>2.0</td><td>4</td><td>200</td><td>24</td><td>31</td><td>2778</td><td>101</td><td>172</td></tr>\n\t<tr><th scope=row>3</th><td>Acura</td><td>TSX 4dr                </td><td>Sedan</td><td>Asia</td><td>Front</td><td>$26,990</td><td>$24,647</td><td>2.4</td><td>4</td><td>200</td><td>22</td><td>29</td><td>3230</td><td>105</td><td>183</td></tr>\n\t<tr><th scope=row>4</th><td>Acura</td><td>TL 4dr                 </td><td>Sedan</td><td>Asia</td><td>Front</td><td>$33,195</td><td>$30,299</td><td>3.2</td><td>6</td><td>270</td><td>20</td><td>28</td><td>3575</td><td>108</td><td>186</td></tr>\n\t<tr><th scope=row>5</th><td>Acura</td><td>3.5 RL 4dr             </td><td>Sedan</td><td>Asia</td><td>Front</td><td>$43,755</td><td>$39,014</td><td>3.5</td><td>6</td><td>225</td><td>18</td><td>24</td><td>3880</td><td>115</td><td>197</td></tr>\n\t<tr><th scope=row>6</th><td>Acura</td><td>3.5 RL w/Navigation 4dr</td><td>Sedan</td><td>Asia</td><td>Front</td><td>$46,100</td><td>$41,100</td><td>3.5</td><td>6</td><td>225</td><td>18</td><td>24</td><td>3893</td><td>115</td><td>197</td></tr>\n</tbody>\n</table>\n",
            "text/markdown": "\nA data.frame: 6 × 15\n\n| <!--/--> | Make &lt;chr&gt; | Model &lt;chr&gt; | Type &lt;chr&gt; | Origin &lt;chr&gt; | DriveTrain &lt;chr&gt; | MSRP &lt;chr&gt; | Invoice &lt;chr&gt; | EngineSize &lt;dbl&gt; | Cylinders &lt;int&gt; | Horsepower &lt;int&gt; | MPG_City &lt;int&gt; | MPG_Highway &lt;int&gt; | Weight &lt;int&gt; | Wheelbase &lt;int&gt; | Length &lt;int&gt; |\n|---|---|---|---|---|---|---|---|---|---|---|---|---|---|---|---|\n| 1 | Acura | MDX                     | SUV   | Asia | All   | $36,945 | $33,337 | 3.5 | 6 | 265 | 17 | 23 | 4451 | 106 | 189 |\n| 2 | Acura | RSX Type S 2dr          | Sedan | Asia | Front | $23,820 | $21,761 | 2.0 | 4 | 200 | 24 | 31 | 2778 | 101 | 172 |\n| 3 | Acura | TSX 4dr                 | Sedan | Asia | Front | $26,990 | $24,647 | 2.4 | 4 | 200 | 22 | 29 | 3230 | 105 | 183 |\n| 4 | Acura | TL 4dr                  | Sedan | Asia | Front | $33,195 | $30,299 | 3.2 | 6 | 270 | 20 | 28 | 3575 | 108 | 186 |\n| 5 | Acura | 3.5 RL 4dr              | Sedan | Asia | Front | $43,755 | $39,014 | 3.5 | 6 | 225 | 18 | 24 | 3880 | 115 | 197 |\n| 6 | Acura | 3.5 RL w/Navigation 4dr | Sedan | Asia | Front | $46,100 | $41,100 | 3.5 | 6 | 225 | 18 | 24 | 3893 | 115 | 197 |\n\n",
            "text/latex": "A data.frame: 6 × 15\n\\begin{tabular}{r|lllllllllllllll}\n  & Make & Model & Type & Origin & DriveTrain & MSRP & Invoice & EngineSize & Cylinders & Horsepower & MPG\\_City & MPG\\_Highway & Weight & Wheelbase & Length\\\\\n  & <chr> & <chr> & <chr> & <chr> & <chr> & <chr> & <chr> & <dbl> & <int> & <int> & <int> & <int> & <int> & <int> & <int>\\\\\n\\hline\n\t1 & Acura & MDX                     & SUV   & Asia & All   & \\$36,945 & \\$33,337 & 3.5 & 6 & 265 & 17 & 23 & 4451 & 106 & 189\\\\\n\t2 & Acura & RSX Type S 2dr          & Sedan & Asia & Front & \\$23,820 & \\$21,761 & 2.0 & 4 & 200 & 24 & 31 & 2778 & 101 & 172\\\\\n\t3 & Acura & TSX 4dr                 & Sedan & Asia & Front & \\$26,990 & \\$24,647 & 2.4 & 4 & 200 & 22 & 29 & 3230 & 105 & 183\\\\\n\t4 & Acura & TL 4dr                  & Sedan & Asia & Front & \\$33,195 & \\$30,299 & 3.2 & 6 & 270 & 20 & 28 & 3575 & 108 & 186\\\\\n\t5 & Acura & 3.5 RL 4dr              & Sedan & Asia & Front & \\$43,755 & \\$39,014 & 3.5 & 6 & 225 & 18 & 24 & 3880 & 115 & 197\\\\\n\t6 & Acura & 3.5 RL w/Navigation 4dr & Sedan & Asia & Front & \\$46,100 & \\$41,100 & 3.5 & 6 & 225 & 18 & 24 & 3893 & 115 & 197\\\\\n\\end{tabular}\n",
            "text/plain": "  Make  Model                   Type  Origin DriveTrain MSRP    Invoice\n1 Acura MDX                     SUV   Asia   All        $36,945 $33,337\n2 Acura RSX Type S 2dr          Sedan Asia   Front      $23,820 $21,761\n3 Acura TSX 4dr                 Sedan Asia   Front      $26,990 $24,647\n4 Acura TL 4dr                  Sedan Asia   Front      $33,195 $30,299\n5 Acura 3.5 RL 4dr              Sedan Asia   Front      $43,755 $39,014\n6 Acura 3.5 RL w/Navigation 4dr Sedan Asia   Front      $46,100 $41,100\n  EngineSize Cylinders Horsepower MPG_City MPG_Highway Weight Wheelbase Length\n1 3.5        6         265        17       23          4451   106       189   \n2 2.0        4         200        24       31          2778   101       172   \n3 2.4        4         200        22       29          3230   105       183   \n4 3.2        6         270        20       28          3575   108       186   \n5 3.5        6         225        18       24          3880   115       197   \n6 3.5        6         225        18       24          3893   115       197   "
          },
          "metadata": {}
        }
      ]
    },
    {
      "cell_type": "code",
      "source": [
        "summary(cars_data)"
      ],
      "metadata": {
        "execution": {
          "iopub.status.busy": "2022-05-04T14:00:15.830028Z",
          "iopub.execute_input": "2022-05-04T14:00:15.831385Z",
          "iopub.status.idle": "2022-05-04T14:00:15.848745Z"
        },
        "trusted": true,
        "id": "ClcBDYOiEVHm",
        "outputId": "e7a137c9-c928-4542-ac40-5d82de3a05b4"
      },
      "execution_count": null,
      "outputs": [
        {
          "output_type": "display_data",
          "data": {
            "text/plain": "     Make              Model               Type              Origin         \n Length:428         Length:428         Length:428         Length:428        \n Class :character   Class :character   Class :character   Class :character  \n Mode  :character   Mode  :character   Mode  :character   Mode  :character  \n                                                                            \n                                                                            \n                                                                            \n                                                                            \n  DriveTrain            MSRP             Invoice            EngineSize   \n Length:428         Length:428         Length:428         Min.   :1.300  \n Class :character   Class :character   Class :character   1st Qu.:2.375  \n Mode  :character   Mode  :character   Mode  :character   Median :3.000  \n                                                          Mean   :3.197  \n                                                          3rd Qu.:3.900  \n                                                          Max.   :8.300  \n                                                                         \n   Cylinders        Horsepower       MPG_City      MPG_Highway   \n Min.   : 3.000   Min.   : 73.0   Min.   :10.00   Min.   :12.00  \n 1st Qu.: 4.000   1st Qu.:165.0   1st Qu.:17.00   1st Qu.:24.00  \n Median : 6.000   Median :210.0   Median :19.00   Median :26.00  \n Mean   : 5.808   Mean   :215.9   Mean   :20.06   Mean   :26.84  \n 3rd Qu.: 6.000   3rd Qu.:255.0   3rd Qu.:21.25   3rd Qu.:29.00  \n Max.   :12.000   Max.   :500.0   Max.   :60.00   Max.   :66.00  \n NA's   :2                                                       \n     Weight       Wheelbase         Length     \n Min.   :1850   Min.   : 89.0   Min.   :143.0  \n 1st Qu.:3104   1st Qu.:103.0   1st Qu.:178.0  \n Median :3474   Median :107.0   Median :187.0  \n Mean   :3578   Mean   :108.2   Mean   :186.4  \n 3rd Qu.:3978   3rd Qu.:112.0   3rd Qu.:194.0  \n Max.   :7190   Max.   :144.0   Max.   :238.0  \n                                               "
          },
          "metadata": {}
        }
      ]
    },
    {
      "cell_type": "code",
      "source": [
        "str(cars_data)"
      ],
      "metadata": {
        "execution": {
          "iopub.status.busy": "2022-05-04T14:00:15.850871Z",
          "iopub.execute_input": "2022-05-04T14:00:15.852199Z",
          "iopub.status.idle": "2022-05-04T14:00:15.913786Z"
        },
        "trusted": true,
        "id": "Gv9ta0doEVHn",
        "outputId": "9e7c38fe-6665-4d48-de34-72b0548c1e09"
      },
      "execution_count": null,
      "outputs": [
        {
          "name": "stdout",
          "text": "'data.frame':\t428 obs. of  15 variables:\n $ Make       : chr  \"Acura\" \"Acura\" \"Acura\" \"Acura\" ...\n $ Model      : chr  \"MDX\" \"RSX Type S 2dr\" \"TSX 4dr\" \"TL 4dr\" ...\n $ Type       : chr  \"SUV\" \"Sedan\" \"Sedan\" \"Sedan\" ...\n $ Origin     : chr  \"Asia\" \"Asia\" \"Asia\" \"Asia\" ...\n $ DriveTrain : chr  \"All\" \"Front\" \"Front\" \"Front\" ...\n $ MSRP       : chr  \"$36,945\" \"$23,820\" \"$26,990\" \"$33,195\" ...\n $ Invoice    : chr  \"$33,337\" \"$21,761\" \"$24,647\" \"$30,299\" ...\n $ EngineSize : num  3.5 2 2.4 3.2 3.5 3.5 3.2 1.8 1.8 3 ...\n $ Cylinders  : int  6 4 4 6 6 6 6 4 4 6 ...\n $ Horsepower : int  265 200 200 270 225 225 290 170 170 220 ...\n $ MPG_City   : int  17 24 22 20 18 18 17 22 23 20 ...\n $ MPG_Highway: int  23 31 29 28 24 24 24 31 30 28 ...\n $ Weight     : int  4451 2778 3230 3575 3880 3893 3153 3252 3638 3462 ...\n $ Wheelbase  : int  106 101 105 108 115 115 100 104 105 104 ...\n $ Length     : int  189 172 183 186 197 197 174 179 180 179 ...\n",
          "output_type": "stream"
        }
      ]
    },
    {
      "cell_type": "code",
      "source": [
        "cars_results <- lm(formula = MPG_City ~ Type + Origin + DriveTrain + EngineSize + Cylinders + Horsepower\n",
        "                  + Weight + Wheelbase + Length, data = cars_data)"
      ],
      "metadata": {
        "execution": {
          "iopub.status.busy": "2022-05-04T14:00:15.916074Z",
          "iopub.execute_input": "2022-05-04T14:00:15.917509Z",
          "iopub.status.idle": "2022-05-04T14:00:15.932931Z"
        },
        "trusted": true,
        "id": "t6ekXksSEVHn"
      },
      "execution_count": null,
      "outputs": []
    },
    {
      "cell_type": "code",
      "source": [
        "summary(cars_results)"
      ],
      "metadata": {
        "execution": {
          "iopub.status.busy": "2022-05-04T14:00:15.935563Z",
          "iopub.execute_input": "2022-05-04T14:00:15.936939Z",
          "iopub.status.idle": "2022-05-04T14:00:15.954073Z"
        },
        "trusted": true,
        "id": "pn1PYhS-EVHo",
        "outputId": "5e660cd3-81bd-4b58-c16a-89fb60f99ac2"
      },
      "execution_count": null,
      "outputs": [
        {
          "output_type": "display_data",
          "data": {
            "text/plain": "\nCall:\nlm(formula = MPG_City ~ Type + Origin + DriveTrain + EngineSize + \n    Cylinders + Horsepower + Weight + Wheelbase + Length, data = cars_data)\n\nResiduals:\n    Min      1Q  Median      3Q     Max \n-8.0895 -1.2792 -0.1612  0.8440 13.7522 \n\nCoefficients:\n                  Estimate Std. Error t value Pr(>|t|)    \n(Intercept)      6.492e+01  2.650e+00  24.496  < 2e-16 ***\nTypeSedan       -2.823e+01  1.237e+00 -22.817  < 2e-16 ***\nTypeSports      -2.943e+01  1.326e+00 -22.195  < 2e-16 ***\nTypeSUV         -2.934e+01  1.299e+00 -22.581  < 2e-16 ***\nTypeTruck       -2.908e+01  1.347e+00 -21.595  < 2e-16 ***\nTypeWagon       -2.816e+01  1.292e+00 -21.801  < 2e-16 ***\nOriginEurope    -5.380e-01  3.152e-01  -1.707  0.08867 .  \nOriginUSA       -3.720e-01  2.742e-01  -1.357  0.17565    \nDriveTrainFront  1.076e+00  3.289e-01   3.272  0.00116 ** \nDriveTrainRear   1.489e-01  3.694e-01   0.403  0.68713    \nEngineSize      -2.476e-01  3.223e-01  -0.768  0.44272    \nCylinders       -1.729e-01  1.839e-01  -0.941  0.34746    \nHorsepower      -1.277e-02  3.206e-03  -3.984 8.02e-05 ***\nWeight          -2.739e-03  3.869e-04  -7.080 6.30e-12 ***\nWheelbase        6.780e-02  3.393e-02   1.998  0.04638 *  \nLength          -5.247e-02  1.767e-02  -2.970  0.00315 ** \n---\nSignif. codes:  0 ‘***’ 0.001 ‘**’ 0.01 ‘*’ 0.05 ‘.’ 0.1 ‘ ’ 1\n\nResidual standard error: 2.09 on 410 degrees of freedom\n  (2 observations deleted due to missingness)\nMultiple R-squared:  0.847,\tAdjusted R-squared:  0.8414 \nF-statistic: 151.3 on 15 and 410 DF,  p-value: < 2.2e-16\n"
          },
          "metadata": {}
        }
      ]
    },
    {
      "cell_type": "code",
      "source": [
        " #Boston Dataset\n",
        "\n",
        "boston_data <- read.csv('../input/data-science-machine-learning-and-ai-using-python/Boston.csv')\n",
        "head(boston_data)"
      ],
      "metadata": {
        "execution": {
          "iopub.status.busy": "2022-05-04T14:00:15.956246Z",
          "iopub.execute_input": "2022-05-04T14:00:15.957523Z",
          "iopub.status.idle": "2022-05-04T14:00:15.999664Z"
        },
        "trusted": true,
        "id": "keDD_81gEVHp",
        "outputId": "2a7aead5-c918-4db7-90c4-7ff6f220a266"
      },
      "execution_count": null,
      "outputs": [
        {
          "output_type": "display_data",
          "data": {
            "text/html": "<table class=\"dataframe\">\n<caption>A data.frame: 6 × 15</caption>\n<thead>\n\t<tr><th></th><th scope=col>X</th><th scope=col>crim</th><th scope=col>zn</th><th scope=col>indus</th><th scope=col>chas</th><th scope=col>nox</th><th scope=col>rm</th><th scope=col>age</th><th scope=col>dis</th><th scope=col>rad</th><th scope=col>tax</th><th scope=col>ptratio</th><th scope=col>black</th><th scope=col>lstat</th><th scope=col>medv</th></tr>\n\t<tr><th></th><th scope=col>&lt;int&gt;</th><th scope=col>&lt;dbl&gt;</th><th scope=col>&lt;dbl&gt;</th><th scope=col>&lt;dbl&gt;</th><th scope=col>&lt;int&gt;</th><th scope=col>&lt;dbl&gt;</th><th scope=col>&lt;dbl&gt;</th><th scope=col>&lt;dbl&gt;</th><th scope=col>&lt;dbl&gt;</th><th scope=col>&lt;int&gt;</th><th scope=col>&lt;int&gt;</th><th scope=col>&lt;dbl&gt;</th><th scope=col>&lt;dbl&gt;</th><th scope=col>&lt;dbl&gt;</th><th scope=col>&lt;dbl&gt;</th></tr>\n</thead>\n<tbody>\n\t<tr><th scope=row>1</th><td>1</td><td>0.00632</td><td>18</td><td>2.31</td><td>0</td><td>0.538</td><td>6.575</td><td>65.2</td><td>4.0900</td><td>1</td><td>296</td><td>15.3</td><td>396.90</td><td>4.98</td><td>24.0</td></tr>\n\t<tr><th scope=row>2</th><td>2</td><td>0.02731</td><td> 0</td><td>7.07</td><td>0</td><td>0.469</td><td>6.421</td><td>78.9</td><td>4.9671</td><td>2</td><td>242</td><td>17.8</td><td>396.90</td><td>9.14</td><td>21.6</td></tr>\n\t<tr><th scope=row>3</th><td>3</td><td>0.02729</td><td> 0</td><td>7.07</td><td>0</td><td>0.469</td><td>7.185</td><td>61.1</td><td>4.9671</td><td>2</td><td>242</td><td>17.8</td><td>392.83</td><td>4.03</td><td>34.7</td></tr>\n\t<tr><th scope=row>4</th><td>4</td><td>0.03237</td><td> 0</td><td>2.18</td><td>0</td><td>0.458</td><td>6.998</td><td>45.8</td><td>6.0622</td><td>3</td><td>222</td><td>18.7</td><td>394.63</td><td>2.94</td><td>33.4</td></tr>\n\t<tr><th scope=row>5</th><td>5</td><td>0.06905</td><td> 0</td><td>2.18</td><td>0</td><td>0.458</td><td>7.147</td><td>54.2</td><td>6.0622</td><td>3</td><td>222</td><td>18.7</td><td>396.90</td><td>5.33</td><td>36.2</td></tr>\n\t<tr><th scope=row>6</th><td>6</td><td>0.02985</td><td> 0</td><td>2.18</td><td>0</td><td>0.458</td><td>6.430</td><td>58.7</td><td>6.0622</td><td>3</td><td>222</td><td>18.7</td><td>394.12</td><td>5.21</td><td>28.7</td></tr>\n</tbody>\n</table>\n",
            "text/markdown": "\nA data.frame: 6 × 15\n\n| <!--/--> | X &lt;int&gt; | crim &lt;dbl&gt; | zn &lt;dbl&gt; | indus &lt;dbl&gt; | chas &lt;int&gt; | nox &lt;dbl&gt; | rm &lt;dbl&gt; | age &lt;dbl&gt; | dis &lt;dbl&gt; | rad &lt;int&gt; | tax &lt;int&gt; | ptratio &lt;dbl&gt; | black &lt;dbl&gt; | lstat &lt;dbl&gt; | medv &lt;dbl&gt; |\n|---|---|---|---|---|---|---|---|---|---|---|---|---|---|---|---|\n| 1 | 1 | 0.00632 | 18 | 2.31 | 0 | 0.538 | 6.575 | 65.2 | 4.0900 | 1 | 296 | 15.3 | 396.90 | 4.98 | 24.0 |\n| 2 | 2 | 0.02731 |  0 | 7.07 | 0 | 0.469 | 6.421 | 78.9 | 4.9671 | 2 | 242 | 17.8 | 396.90 | 9.14 | 21.6 |\n| 3 | 3 | 0.02729 |  0 | 7.07 | 0 | 0.469 | 7.185 | 61.1 | 4.9671 | 2 | 242 | 17.8 | 392.83 | 4.03 | 34.7 |\n| 4 | 4 | 0.03237 |  0 | 2.18 | 0 | 0.458 | 6.998 | 45.8 | 6.0622 | 3 | 222 | 18.7 | 394.63 | 2.94 | 33.4 |\n| 5 | 5 | 0.06905 |  0 | 2.18 | 0 | 0.458 | 7.147 | 54.2 | 6.0622 | 3 | 222 | 18.7 | 396.90 | 5.33 | 36.2 |\n| 6 | 6 | 0.02985 |  0 | 2.18 | 0 | 0.458 | 6.430 | 58.7 | 6.0622 | 3 | 222 | 18.7 | 394.12 | 5.21 | 28.7 |\n\n",
            "text/latex": "A data.frame: 6 × 15\n\\begin{tabular}{r|lllllllllllllll}\n  & X & crim & zn & indus & chas & nox & rm & age & dis & rad & tax & ptratio & black & lstat & medv\\\\\n  & <int> & <dbl> & <dbl> & <dbl> & <int> & <dbl> & <dbl> & <dbl> & <dbl> & <int> & <int> & <dbl> & <dbl> & <dbl> & <dbl>\\\\\n\\hline\n\t1 & 1 & 0.00632 & 18 & 2.31 & 0 & 0.538 & 6.575 & 65.2 & 4.0900 & 1 & 296 & 15.3 & 396.90 & 4.98 & 24.0\\\\\n\t2 & 2 & 0.02731 &  0 & 7.07 & 0 & 0.469 & 6.421 & 78.9 & 4.9671 & 2 & 242 & 17.8 & 396.90 & 9.14 & 21.6\\\\\n\t3 & 3 & 0.02729 &  0 & 7.07 & 0 & 0.469 & 7.185 & 61.1 & 4.9671 & 2 & 242 & 17.8 & 392.83 & 4.03 & 34.7\\\\\n\t4 & 4 & 0.03237 &  0 & 2.18 & 0 & 0.458 & 6.998 & 45.8 & 6.0622 & 3 & 222 & 18.7 & 394.63 & 2.94 & 33.4\\\\\n\t5 & 5 & 0.06905 &  0 & 2.18 & 0 & 0.458 & 7.147 & 54.2 & 6.0622 & 3 & 222 & 18.7 & 396.90 & 5.33 & 36.2\\\\\n\t6 & 6 & 0.02985 &  0 & 2.18 & 0 & 0.458 & 6.430 & 58.7 & 6.0622 & 3 & 222 & 18.7 & 394.12 & 5.21 & 28.7\\\\\n\\end{tabular}\n",
            "text/plain": "  X crim    zn indus chas nox   rm    age  dis    rad tax ptratio black  lstat\n1 1 0.00632 18 2.31  0    0.538 6.575 65.2 4.0900 1   296 15.3    396.90 4.98 \n2 2 0.02731  0 7.07  0    0.469 6.421 78.9 4.9671 2   242 17.8    396.90 9.14 \n3 3 0.02729  0 7.07  0    0.469 7.185 61.1 4.9671 2   242 17.8    392.83 4.03 \n4 4 0.03237  0 2.18  0    0.458 6.998 45.8 6.0622 3   222 18.7    394.63 2.94 \n5 5 0.06905  0 2.18  0    0.458 7.147 54.2 6.0622 3   222 18.7    396.90 5.33 \n6 6 0.02985  0 2.18  0    0.458 6.430 58.7 6.0622 3   222 18.7    394.12 5.21 \n  medv\n1 24.0\n2 21.6\n3 34.7\n4 33.4\n5 36.2\n6 28.7"
          },
          "metadata": {}
        }
      ]
    },
    {
      "cell_type": "code",
      "source": [
        "summary(boston_data)"
      ],
      "metadata": {
        "execution": {
          "iopub.status.busy": "2022-05-04T14:00:16.001979Z",
          "iopub.execute_input": "2022-05-04T14:00:16.003406Z",
          "iopub.status.idle": "2022-05-04T14:00:16.026473Z"
        },
        "trusted": true,
        "id": "3p9wRjXKEVHq",
        "outputId": "c8da1031-96fa-477e-d5b7-bf100e9c7e0d"
      },
      "execution_count": null,
      "outputs": [
        {
          "output_type": "display_data",
          "data": {
            "text/plain": "       X              crim                zn             indus      \n Min.   :  1.0   Min.   : 0.00632   Min.   :  0.00   Min.   : 0.46  \n 1st Qu.:127.2   1st Qu.: 0.08205   1st Qu.:  0.00   1st Qu.: 5.19  \n Median :253.5   Median : 0.25651   Median :  0.00   Median : 9.69  \n Mean   :253.5   Mean   : 3.61352   Mean   : 11.36   Mean   :11.14  \n 3rd Qu.:379.8   3rd Qu.: 3.67708   3rd Qu.: 12.50   3rd Qu.:18.10  \n Max.   :506.0   Max.   :88.97620   Max.   :100.00   Max.   :27.74  \n      chas              nox               rm             age        \n Min.   :0.00000   Min.   :0.3850   Min.   :3.561   Min.   :  2.90  \n 1st Qu.:0.00000   1st Qu.:0.4490   1st Qu.:5.886   1st Qu.: 45.02  \n Median :0.00000   Median :0.5380   Median :6.208   Median : 77.50  \n Mean   :0.06917   Mean   :0.5547   Mean   :6.285   Mean   : 68.57  \n 3rd Qu.:0.00000   3rd Qu.:0.6240   3rd Qu.:6.623   3rd Qu.: 94.08  \n Max.   :1.00000   Max.   :0.8710   Max.   :8.780   Max.   :100.00  \n      dis              rad              tax           ptratio     \n Min.   : 1.130   Min.   : 1.000   Min.   :187.0   Min.   :12.60  \n 1st Qu.: 2.100   1st Qu.: 4.000   1st Qu.:279.0   1st Qu.:17.40  \n Median : 3.207   Median : 5.000   Median :330.0   Median :19.05  \n Mean   : 3.795   Mean   : 9.549   Mean   :408.2   Mean   :18.46  \n 3rd Qu.: 5.188   3rd Qu.:24.000   3rd Qu.:666.0   3rd Qu.:20.20  \n Max.   :12.127   Max.   :24.000   Max.   :711.0   Max.   :22.00  \n     black            lstat            medv      \n Min.   :  0.32   Min.   : 1.73   Min.   : 5.00  \n 1st Qu.:375.38   1st Qu.: 6.95   1st Qu.:17.02  \n Median :391.44   Median :11.36   Median :21.20  \n Mean   :356.67   Mean   :12.65   Mean   :22.53  \n 3rd Qu.:396.23   3rd Qu.:16.95   3rd Qu.:25.00  \n Max.   :396.90   Max.   :37.97   Max.   :50.00  "
          },
          "metadata": {}
        }
      ]
    },
    {
      "cell_type": "code",
      "source": [
        "str(boston_data)"
      ],
      "metadata": {
        "execution": {
          "iopub.status.busy": "2022-05-04T14:00:16.028684Z",
          "iopub.execute_input": "2022-05-04T14:00:16.030020Z",
          "iopub.status.idle": "2022-05-04T14:00:16.053033Z"
        },
        "trusted": true,
        "id": "JfTjzqegEVHq",
        "outputId": "31244e13-2d78-4e93-938f-bea3e16d5aa4"
      },
      "execution_count": null,
      "outputs": [
        {
          "name": "stdout",
          "text": "'data.frame':\t506 obs. of  15 variables:\n $ X      : int  1 2 3 4 5 6 7 8 9 10 ...\n $ crim   : num  0.00632 0.02731 0.02729 0.03237 0.06905 ...\n $ zn     : num  18 0 0 0 0 0 12.5 12.5 12.5 12.5 ...\n $ indus  : num  2.31 7.07 7.07 2.18 2.18 2.18 7.87 7.87 7.87 7.87 ...\n $ chas   : int  0 0 0 0 0 0 0 0 0 0 ...\n $ nox    : num  0.538 0.469 0.469 0.458 0.458 0.458 0.524 0.524 0.524 0.524 ...\n $ rm     : num  6.58 6.42 7.18 7 7.15 ...\n $ age    : num  65.2 78.9 61.1 45.8 54.2 58.7 66.6 96.1 100 85.9 ...\n $ dis    : num  4.09 4.97 4.97 6.06 6.06 ...\n $ rad    : int  1 2 2 3 3 3 5 5 5 5 ...\n $ tax    : int  296 242 242 222 222 222 311 311 311 311 ...\n $ ptratio: num  15.3 17.8 17.8 18.7 18.7 18.7 15.2 15.2 15.2 15.2 ...\n $ black  : num  397 397 393 395 397 ...\n $ lstat  : num  4.98 9.14 4.03 2.94 5.33 ...\n $ medv   : num  24 21.6 34.7 33.4 36.2 28.7 22.9 27.1 16.5 18.9 ...\n",
          "output_type": "stream"
        }
      ]
    },
    {
      "cell_type": "code",
      "source": [
        "boston_results <- lm(formula = medv ~ ., data=boston_data)"
      ],
      "metadata": {
        "execution": {
          "iopub.status.busy": "2022-05-04T14:00:16.055201Z",
          "iopub.execute_input": "2022-05-04T14:00:16.056597Z",
          "iopub.status.idle": "2022-05-04T14:00:16.070204Z"
        },
        "trusted": true,
        "id": "WEdqhQzGEVHr"
      },
      "execution_count": null,
      "outputs": []
    },
    {
      "cell_type": "code",
      "source": [
        "summary(boston_results)"
      ],
      "metadata": {
        "execution": {
          "iopub.status.busy": "2022-05-04T14:00:16.072545Z",
          "iopub.execute_input": "2022-05-04T14:00:16.073912Z",
          "iopub.status.idle": "2022-05-04T14:00:16.093924Z"
        },
        "trusted": true,
        "id": "HqkaQBEoEVHs",
        "outputId": "cf2c6c67-f165-4ee1-cbc9-95814b8ab93d"
      },
      "execution_count": null,
      "outputs": [
        {
          "output_type": "display_data",
          "data": {
            "text/plain": "\nCall:\nlm(formula = medv ~ ., data = boston_data)\n\nResiduals:\n     Min       1Q   Median       3Q      Max \n-15.8948  -2.7585  -0.4663   1.7963  26.0911 \n\nCoefficients:\n              Estimate Std. Error t value Pr(>|t|)    \n(Intercept)  36.461352   5.100994   7.148 3.21e-12 ***\nX            -0.002526   0.002080  -1.215 0.225046    \ncrim         -0.108762   0.032855  -3.310 0.001000 ** \nzn            0.048031   0.013785   3.484 0.000538 ***\nindus         0.019932   0.061468   0.324 0.745871    \nchas          2.705245   0.861298   3.141 0.001786 ** \nnox         -17.541602   3.822390  -4.589 5.66e-06 ***\nrm            3.839225   0.418422   9.175  < 2e-16 ***\nage          -0.001938   0.013380  -0.145 0.884866    \ndis          -1.493304   0.199892  -7.471 3.68e-13 ***\nrad           0.324925   0.068111   4.771 2.43e-06 ***\ntax          -0.011598   0.003807  -3.046 0.002443 ** \nptratio      -0.947985   0.130822  -7.246 1.67e-12 ***\nblack         0.009357   0.002685   3.485 0.000536 ***\nlstat        -0.526184   0.050704 -10.377  < 2e-16 ***\n---\nSignif. codes:  0 ‘***’ 0.001 ‘**’ 0.01 ‘*’ 0.05 ‘.’ 0.1 ‘ ’ 1\n\nResidual standard error: 4.743 on 491 degrees of freedom\nMultiple R-squared:  0.7414,\tAdjusted R-squared:  0.734 \nF-statistic: 100.6 on 14 and 491 DF,  p-value: < 2.2e-16\n"
          },
          "metadata": {}
        }
      ]
    }
  ]
}