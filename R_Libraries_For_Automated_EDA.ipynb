{
  "metadata": {
    "kernelspec": {
      "name": "ir",
      "display_name": "R",
      "language": "R"
    },
    "language_info": {
      "name": "R",
      "codemirror_mode": "r",
      "pygments_lexer": "r",
      "mimetype": "text/x-r-source",
      "file_extension": ".r",
      "version": "4.0.5"
    },
    "colab": {
      "name": "R Libraries For Automated EDA.ipynb",
      "provenance": [],
      "include_colab_link": true
    }
  },
  "nbformat_minor": 0,
  "nbformat": 4,
  "cells": [
    {
      "cell_type": "markdown",
      "metadata": {
        "id": "view-in-github",
        "colab_type": "text"
      },
      "source": [
        "<a href=\"https://colab.research.google.com/github/msatmod/R/blob/main/R_Libraries_For_Automated_EDA.ipynb\" target=\"_parent\"><img src=\"https://colab.research.google.com/assets/colab-badge.svg\" alt=\"Open In Colab\"/></a>"
      ]
    },
    {
      "cell_type": "markdown",
      "source": [
        "# The Data Explorer Package"
      ],
      "metadata": {
        "id": "ZIvPBwzAGc5W"
      }
    },
    {
      "cell_type": "code",
      "source": [
        "## Install & load data.table\n",
        "\n",
        "install.packages(\"palmerpenguins\")\n",
        "library(palmerpenguins)\n",
        "df = penguins"
      ],
      "metadata": {
        "trusted": true,
        "id": "3Xcc8KFiGc5a"
      },
      "execution_count": null,
      "outputs": []
    },
    {
      "cell_type": "code",
      "source": [
        "## Install package\n",
        "install.packages(\"DataExplorer\")\n",
        "## Import library\n",
        "library(DataExplorer)\n",
        "## Create report\n",
        "create_report(df)"
      ],
      "metadata": {
        "trusted": true,
        "id": "wb_idfpAGc5f"
      },
      "execution_count": null,
      "outputs": []
    },
    {
      "cell_type": "markdown",
      "source": [
        "# The SmartEDA Package"
      ],
      "metadata": {
        "id": "Tj16jcdQGc5g"
      }
    },
    {
      "cell_type": "code",
      "source": [
        "## Install package\n",
        "install.packages(\"ExPanDaR\") \n",
        "## Import library\n",
        "library(ExPanDaR)\n",
        "## Create report\n",
        "ExPanD(df)"
      ],
      "metadata": {
        "trusted": true,
        "id": "PYaF6vQpGc5g"
      },
      "execution_count": null,
      "outputs": []
    },
    {
      "cell_type": "markdown",
      "source": [
        "# The DataMaid Package"
      ],
      "metadata": {
        "id": "rHTDPv-IGc5i"
      }
    },
    {
      "cell_type": "code",
      "source": [
        "## Install package\n",
        "install.packages(\"dataMaid\")\n",
        "## Import library\n",
        "library(dataMaid)\n",
        "## Create report\n",
        "makeDataReport(df, output = \"html\", replace = TRUE)"
      ],
      "metadata": {
        "trusted": true,
        "id": "LpKwRI_aGc5n"
      },
      "execution_count": null,
      "outputs": []
    },
    {
      "cell_type": "markdown",
      "source": [
        "# The Dlookr Package"
      ],
      "metadata": {
        "id": "BU4AzleaGc5n"
      }
    },
    {
      "cell_type": "code",
      "source": [
        "## Install package\n",
        "install.packages('dlookr')\n",
        "## Load library\n",
        "library(dlookr)\n",
        "## Create diagnostic report\n",
        "diagnose_web_report(df, output_format = \"html\")\n",
        "## Create EDA report\n",
        "eda_web_report(df,output_format = \"html\")"
      ],
      "metadata": {
        "trusted": true,
        "id": "sY2O6cWNGc5o"
      },
      "execution_count": null,
      "outputs": []
    }
  ]
}