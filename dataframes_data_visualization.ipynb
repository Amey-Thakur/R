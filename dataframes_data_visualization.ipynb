{
  "metadata": {
    "kernelspec": {
      "name": "ir",
      "display_name": "R",
      "language": "R"
    },
    "language_info": {
      "name": "R",
      "codemirror_mode": "r",
      "pygments_lexer": "r",
      "mimetype": "text/x-r-source",
      "file_extension": ".r",
      "version": "4.0.5"
    },
    "colab": {
      "name": "dataframes-data-visualization.ipynb",
      "provenance": [],
      "include_colab_link": true
    }
  },
  "nbformat_minor": 0,
  "nbformat": 4,
  "cells": [
    {
      "cell_type": "markdown",
      "metadata": {
        "id": "view-in-github",
        "colab_type": "text"
      },
      "source": [
        "<a href=\"https://colab.research.google.com/github/msatmod/R/blob/main/dataframes_data_visualization.ipynb\" target=\"_parent\"><img src=\"https://colab.research.google.com/assets/colab-badge.svg\" alt=\"Open In Colab\"/></a>"
      ]
    },
    {
      "cell_type": "markdown",
      "source": [
        "## Dataframes"
      ],
      "metadata": {
        "id": "-O9IkEv7qOCa"
      }
    },
    {
      "cell_type": "code",
      "source": [
        "#creating a dataframe\n",
        "name <- c(\"john\",\"bob\",\"patrick\",\"julie\",\"marie\")\n",
        "age <- c(45,40,39,35,42)\n",
        "children <- c(FALSE,TRUE,TRUE,FALSE,TRUE)\n",
        "df <- data.frame(name,age,children)\n",
        "df"
      ],
      "metadata": {
        "execution": {
          "iopub.status.busy": "2022-04-29T13:47:11.377201Z",
          "iopub.execute_input": "2022-04-29T13:47:11.378611Z",
          "iopub.status.idle": "2022-04-29T13:47:11.412791Z"
        },
        "trusted": true,
        "id": "41kxUIaWqOCd",
        "outputId": "8fce30b7-cdb0-4401-c2bd-5ab2234ec634"
      },
      "execution_count": null,
      "outputs": [
        {
          "output_type": "display_data",
          "data": {
            "text/html": "<table class=\"dataframe\">\n<caption>A data.frame: 5 × 3</caption>\n<thead>\n\t<tr><th scope=col>name</th><th scope=col>age</th><th scope=col>children</th></tr>\n\t<tr><th scope=col>&lt;chr&gt;</th><th scope=col>&lt;dbl&gt;</th><th scope=col>&lt;lgl&gt;</th></tr>\n</thead>\n<tbody>\n\t<tr><td>john   </td><td>45</td><td>FALSE</td></tr>\n\t<tr><td>bob    </td><td>40</td><td> TRUE</td></tr>\n\t<tr><td>patrick</td><td>39</td><td> TRUE</td></tr>\n\t<tr><td>julie  </td><td>35</td><td>FALSE</td></tr>\n\t<tr><td>marie  </td><td>42</td><td> TRUE</td></tr>\n</tbody>\n</table>\n",
            "text/markdown": "\nA data.frame: 5 × 3\n\n| name &lt;chr&gt; | age &lt;dbl&gt; | children &lt;lgl&gt; |\n|---|---|---|\n| john    | 45 | FALSE |\n| bob     | 40 |  TRUE |\n| patrick | 39 |  TRUE |\n| julie   | 35 | FALSE |\n| marie   | 42 |  TRUE |\n\n",
            "text/latex": "A data.frame: 5 × 3\n\\begin{tabular}{lll}\n name & age & children\\\\\n <chr> & <dbl> & <lgl>\\\\\n\\hline\n\t john    & 45 & FALSE\\\\\n\t bob     & 40 &  TRUE\\\\\n\t patrick & 39 &  TRUE\\\\\n\t julie   & 35 & FALSE\\\\\n\t marie   & 42 &  TRUE\\\\\n\\end{tabular}\n",
            "text/plain": "  name    age children\n1 john    45  FALSE   \n2 bob     40   TRUE   \n3 patrick 39   TRUE   \n4 julie   35  FALSE   \n5 marie   42   TRUE   "
          },
          "metadata": {}
        }
      ]
    },
    {
      "cell_type": "code",
      "source": [
        "#another way to create a dataframe\n",
        "df <- data.frame(Name=name,Age=age,Children=children)\n",
        "df"
      ],
      "metadata": {
        "execution": {
          "iopub.status.busy": "2022-04-29T13:48:34.037634Z",
          "iopub.execute_input": "2022-04-29T13:48:34.039123Z",
          "iopub.status.idle": "2022-04-29T13:48:34.060002Z"
        },
        "trusted": true,
        "id": "mlPG6pFVqOCn",
        "outputId": "64e3906d-8c4e-412b-939d-88bde420626f"
      },
      "execution_count": null,
      "outputs": [
        {
          "output_type": "display_data",
          "data": {
            "text/html": "<table class=\"dataframe\">\n<caption>A data.frame: 5 × 3</caption>\n<thead>\n\t<tr><th scope=col>Name</th><th scope=col>Age</th><th scope=col>Children</th></tr>\n\t<tr><th scope=col>&lt;chr&gt;</th><th scope=col>&lt;dbl&gt;</th><th scope=col>&lt;lgl&gt;</th></tr>\n</thead>\n<tbody>\n\t<tr><td>john   </td><td>45</td><td>FALSE</td></tr>\n\t<tr><td>bob    </td><td>40</td><td> TRUE</td></tr>\n\t<tr><td>patrick</td><td>39</td><td> TRUE</td></tr>\n\t<tr><td>julie  </td><td>35</td><td>FALSE</td></tr>\n\t<tr><td>marie  </td><td>42</td><td> TRUE</td></tr>\n</tbody>\n</table>\n",
            "text/markdown": "\nA data.frame: 5 × 3\n\n| Name &lt;chr&gt; | Age &lt;dbl&gt; | Children &lt;lgl&gt; |\n|---|---|---|\n| john    | 45 | FALSE |\n| bob     | 40 |  TRUE |\n| patrick | 39 |  TRUE |\n| julie   | 35 | FALSE |\n| marie   | 42 |  TRUE |\n\n",
            "text/latex": "A data.frame: 5 × 3\n\\begin{tabular}{lll}\n Name & Age & Children\\\\\n <chr> & <dbl> & <lgl>\\\\\n\\hline\n\t john    & 45 & FALSE\\\\\n\t bob     & 40 &  TRUE\\\\\n\t patrick & 39 &  TRUE\\\\\n\t julie   & 35 & FALSE\\\\\n\t marie   & 42 &  TRUE\\\\\n\\end{tabular}\n",
            "text/plain": "  Name    Age Children\n1 john    45  FALSE   \n2 bob     40   TRUE   \n3 patrick 39   TRUE   \n4 julie   35  FALSE   \n5 marie   42   TRUE   "
          },
          "metadata": {}
        }
      ]
    },
    {
      "cell_type": "code",
      "source": [
        "#Row is a DataFrame & Column is a Vector\n",
        "#DataFrame is a list containing vectors of same length\n",
        "df[3,]\n",
        "df[2]"
      ],
      "metadata": {
        "execution": {
          "iopub.status.busy": "2022-04-29T13:51:46.507855Z",
          "iopub.execute_input": "2022-04-29T13:51:46.509474Z",
          "iopub.status.idle": "2022-04-29T13:51:46.567828Z"
        },
        "trusted": true,
        "id": "uHAlcv9DqOCn",
        "outputId": "8bfdd3b3-8f0f-4c18-ad24-c531cc4e7c07"
      },
      "execution_count": null,
      "outputs": [
        {
          "output_type": "display_data",
          "data": {
            "text/html": "<table class=\"dataframe\">\n<caption>A data.frame: 1 × 3</caption>\n<thead>\n\t<tr><th></th><th scope=col>Name</th><th scope=col>Age</th><th scope=col>Children</th></tr>\n\t<tr><th></th><th scope=col>&lt;chr&gt;</th><th scope=col>&lt;dbl&gt;</th><th scope=col>&lt;lgl&gt;</th></tr>\n</thead>\n<tbody>\n\t<tr><th scope=row>3</th><td>patrick</td><td>39</td><td>TRUE</td></tr>\n</tbody>\n</table>\n",
            "text/markdown": "\nA data.frame: 1 × 3\n\n| <!--/--> | Name &lt;chr&gt; | Age &lt;dbl&gt; | Children &lt;lgl&gt; |\n|---|---|---|---|\n| 3 | patrick | 39 | TRUE |\n\n",
            "text/latex": "A data.frame: 1 × 3\n\\begin{tabular}{r|lll}\n  & Name & Age & Children\\\\\n  & <chr> & <dbl> & <lgl>\\\\\n\\hline\n\t3 & patrick & 39 & TRUE\\\\\n\\end{tabular}\n",
            "text/plain": "  Name    Age Children\n3 patrick 39  TRUE    "
          },
          "metadata": {}
        },
        {
          "output_type": "display_data",
          "data": {
            "text/html": "<table class=\"dataframe\">\n<caption>A data.frame: 5 × 1</caption>\n<thead>\n\t<tr><th scope=col>Age</th></tr>\n\t<tr><th scope=col>&lt;dbl&gt;</th></tr>\n</thead>\n<tbody>\n\t<tr><td>45</td></tr>\n\t<tr><td>40</td></tr>\n\t<tr><td>39</td></tr>\n\t<tr><td>35</td></tr>\n\t<tr><td>42</td></tr>\n</tbody>\n</table>\n",
            "text/markdown": "\nA data.frame: 5 × 1\n\n| Age &lt;dbl&gt; |\n|---|\n| 45 |\n| 40 |\n| 39 |\n| 35 |\n| 42 |\n\n",
            "text/latex": "A data.frame: 5 × 1\n\\begin{tabular}{l}\n Age\\\\\n <dbl>\\\\\n\\hline\n\t 45\\\\\n\t 40\\\\\n\t 39\\\\\n\t 35\\\\\n\t 42\\\\\n\\end{tabular}\n",
            "text/plain": "  Age\n1 45 \n2 40 \n3 39 \n4 35 \n5 42 "
          },
          "metadata": {}
        }
      ]
    },
    {
      "cell_type": "code",
      "source": [
        "#add column to df\n",
        "height <- c(179, 181, 175, 172, 161)\n",
        "df$Height <- height\n",
        "df"
      ],
      "metadata": {
        "execution": {
          "iopub.status.busy": "2022-04-29T13:54:58.260726Z",
          "iopub.execute_input": "2022-04-29T13:54:58.262214Z",
          "iopub.status.idle": "2022-04-29T13:54:58.284832Z"
        },
        "trusted": true,
        "id": "FvXZ-e1IqOCn",
        "outputId": "4ac1a6a3-592f-4d50-a52c-58ec7f04f142"
      },
      "execution_count": null,
      "outputs": [
        {
          "output_type": "display_data",
          "data": {
            "text/html": "<table class=\"dataframe\">\n<caption>A data.frame: 5 × 4</caption>\n<thead>\n\t<tr><th scope=col>Name</th><th scope=col>Age</th><th scope=col>Children</th><th scope=col>Height</th></tr>\n\t<tr><th scope=col>&lt;chr&gt;</th><th scope=col>&lt;dbl&gt;</th><th scope=col>&lt;lgl&gt;</th><th scope=col>&lt;dbl&gt;</th></tr>\n</thead>\n<tbody>\n\t<tr><td>john   </td><td>45</td><td>FALSE</td><td>179</td></tr>\n\t<tr><td>bob    </td><td>40</td><td> TRUE</td><td>181</td></tr>\n\t<tr><td>patrick</td><td>39</td><td> TRUE</td><td>175</td></tr>\n\t<tr><td>julie  </td><td>35</td><td>FALSE</td><td>172</td></tr>\n\t<tr><td>marie  </td><td>42</td><td> TRUE</td><td>161</td></tr>\n</tbody>\n</table>\n",
            "text/markdown": "\nA data.frame: 5 × 4\n\n| Name &lt;chr&gt; | Age &lt;dbl&gt; | Children &lt;lgl&gt; | Height &lt;dbl&gt; |\n|---|---|---|---|\n| john    | 45 | FALSE | 179 |\n| bob     | 40 |  TRUE | 181 |\n| patrick | 39 |  TRUE | 175 |\n| julie   | 35 | FALSE | 172 |\n| marie   | 42 |  TRUE | 161 |\n\n",
            "text/latex": "A data.frame: 5 × 4\n\\begin{tabular}{llll}\n Name & Age & Children & Height\\\\\n <chr> & <dbl> & <lgl> & <dbl>\\\\\n\\hline\n\t john    & 45 & FALSE & 179\\\\\n\t bob     & 40 &  TRUE & 181\\\\\n\t patrick & 39 &  TRUE & 175\\\\\n\t julie   & 35 & FALSE & 172\\\\\n\t marie   & 42 &  TRUE & 161\\\\\n\\end{tabular}\n",
            "text/plain": "  Name    Age Children Height\n1 john    45  FALSE    179   \n2 bob     40   TRUE    181   \n3 patrick 39   TRUE    175   \n4 julie   35  FALSE    172   \n5 marie   42   TRUE    161   "
          },
          "metadata": {}
        }
      ]
    },
    {
      "cell_type": "code",
      "source": [
        "#using cbind\n",
        "weight <- c(75, 68, 78, 56, 58)\n",
        "cbind(df, weight)\n",
        "df"
      ],
      "metadata": {
        "execution": {
          "iopub.status.busy": "2022-04-29T14:03:28.759246Z",
          "iopub.execute_input": "2022-04-29T14:03:28.760796Z",
          "iopub.status.idle": "2022-04-29T14:03:28.799055Z"
        },
        "trusted": true,
        "id": "Fs65lCVeqOCo",
        "outputId": "76be883f-5c2c-47c3-958b-c49b4493f763"
      },
      "execution_count": null,
      "outputs": [
        {
          "output_type": "display_data",
          "data": {
            "text/html": "<table class=\"dataframe\">\n<caption>A data.frame: 5 × 5</caption>\n<thead>\n\t<tr><th scope=col>Name</th><th scope=col>Age</th><th scope=col>Children</th><th scope=col>Height</th><th scope=col>weight</th></tr>\n\t<tr><th scope=col>&lt;chr&gt;</th><th scope=col>&lt;dbl&gt;</th><th scope=col>&lt;lgl&gt;</th><th scope=col>&lt;dbl&gt;</th><th scope=col>&lt;dbl&gt;</th></tr>\n</thead>\n<tbody>\n\t<tr><td>john   </td><td>45</td><td>FALSE</td><td>179</td><td>75</td></tr>\n\t<tr><td>bob    </td><td>40</td><td> TRUE</td><td>181</td><td>68</td></tr>\n\t<tr><td>patrick</td><td>39</td><td> TRUE</td><td>175</td><td>78</td></tr>\n\t<tr><td>julie  </td><td>35</td><td>FALSE</td><td>172</td><td>56</td></tr>\n\t<tr><td>marie  </td><td>42</td><td> TRUE</td><td>161</td><td>58</td></tr>\n</tbody>\n</table>\n",
            "text/markdown": "\nA data.frame: 5 × 5\n\n| Name &lt;chr&gt; | Age &lt;dbl&gt; | Children &lt;lgl&gt; | Height &lt;dbl&gt; | weight &lt;dbl&gt; |\n|---|---|---|---|---|\n| john    | 45 | FALSE | 179 | 75 |\n| bob     | 40 |  TRUE | 181 | 68 |\n| patrick | 39 |  TRUE | 175 | 78 |\n| julie   | 35 | FALSE | 172 | 56 |\n| marie   | 42 |  TRUE | 161 | 58 |\n\n",
            "text/latex": "A data.frame: 5 × 5\n\\begin{tabular}{lllll}\n Name & Age & Children & Height & weight\\\\\n <chr> & <dbl> & <lgl> & <dbl> & <dbl>\\\\\n\\hline\n\t john    & 45 & FALSE & 179 & 75\\\\\n\t bob     & 40 &  TRUE & 181 & 68\\\\\n\t patrick & 39 &  TRUE & 175 & 78\\\\\n\t julie   & 35 & FALSE & 172 & 56\\\\\n\t marie   & 42 &  TRUE & 161 & 58\\\\\n\\end{tabular}\n",
            "text/plain": "  Name    Age Children Height weight\n1 john    45  FALSE    179    75    \n2 bob     40   TRUE    181    68    \n3 patrick 39   TRUE    175    78    \n4 julie   35  FALSE    172    56    \n5 marie   42   TRUE    161    58    "
          },
          "metadata": {}
        },
        {
          "output_type": "display_data",
          "data": {
            "text/html": "<table class=\"dataframe\">\n<caption>A data.frame: 5 × 4</caption>\n<thead>\n\t<tr><th scope=col>Name</th><th scope=col>Age</th><th scope=col>Children</th><th scope=col>Height</th></tr>\n\t<tr><th scope=col>&lt;chr&gt;</th><th scope=col>&lt;dbl&gt;</th><th scope=col>&lt;lgl&gt;</th><th scope=col>&lt;dbl&gt;</th></tr>\n</thead>\n<tbody>\n\t<tr><td>john   </td><td>45</td><td>FALSE</td><td>179</td></tr>\n\t<tr><td>bob    </td><td>40</td><td> TRUE</td><td>181</td></tr>\n\t<tr><td>patrick</td><td>39</td><td> TRUE</td><td>175</td></tr>\n\t<tr><td>julie  </td><td>35</td><td>FALSE</td><td>172</td></tr>\n\t<tr><td>marie  </td><td>42</td><td> TRUE</td><td>161</td></tr>\n</tbody>\n</table>\n",
            "text/markdown": "\nA data.frame: 5 × 4\n\n| Name &lt;chr&gt; | Age &lt;dbl&gt; | Children &lt;lgl&gt; | Height &lt;dbl&gt; |\n|---|---|---|---|\n| john    | 45 | FALSE | 179 |\n| bob     | 40 |  TRUE | 181 |\n| patrick | 39 |  TRUE | 175 |\n| julie   | 35 | FALSE | 172 |\n| marie   | 42 |  TRUE | 161 |\n\n",
            "text/latex": "A data.frame: 5 × 4\n\\begin{tabular}{llll}\n Name & Age & Children & Height\\\\\n <chr> & <dbl> & <lgl> & <dbl>\\\\\n\\hline\n\t john    & 45 & FALSE & 179\\\\\n\t bob     & 40 &  TRUE & 181\\\\\n\t patrick & 39 &  TRUE & 175\\\\\n\t julie   & 35 & FALSE & 172\\\\\n\t marie   & 42 &  TRUE & 161\\\\\n\\end{tabular}\n",
            "text/plain": "  Name    Age Children Height\n1 john    45  FALSE    179   \n2 bob     40   TRUE    181   \n3 patrick 39   TRUE    175   \n4 julie   35  FALSE    172   \n5 marie   42   TRUE    161   "
          },
          "metadata": {}
        }
      ]
    },
    {
      "cell_type": "code",
      "source": [
        "#using rbind()\n",
        "Tom <- data.frame(Name=\"tom\",Age=39,Children=FALSE, Height=176)\n",
        "rbind(df,Tom)"
      ],
      "metadata": {
        "execution": {
          "iopub.status.busy": "2022-04-29T14:03:45.820848Z",
          "iopub.execute_input": "2022-04-29T14:03:45.822317Z",
          "iopub.status.idle": "2022-04-29T14:03:45.850610Z"
        },
        "trusted": true,
        "id": "SjVCYB4xqOCo",
        "outputId": "8607e2f9-01e8-465e-e08c-d767176b8fa9"
      },
      "execution_count": null,
      "outputs": [
        {
          "output_type": "display_data",
          "data": {
            "text/html": "<table class=\"dataframe\">\n<caption>A data.frame: 6 × 4</caption>\n<thead>\n\t<tr><th scope=col>Name</th><th scope=col>Age</th><th scope=col>Children</th><th scope=col>Height</th></tr>\n\t<tr><th scope=col>&lt;chr&gt;</th><th scope=col>&lt;dbl&gt;</th><th scope=col>&lt;lgl&gt;</th><th scope=col>&lt;dbl&gt;</th></tr>\n</thead>\n<tbody>\n\t<tr><td>john   </td><td>45</td><td>FALSE</td><td>179</td></tr>\n\t<tr><td>bob    </td><td>40</td><td> TRUE</td><td>181</td></tr>\n\t<tr><td>patrick</td><td>39</td><td> TRUE</td><td>175</td></tr>\n\t<tr><td>julie  </td><td>35</td><td>FALSE</td><td>172</td></tr>\n\t<tr><td>marie  </td><td>42</td><td> TRUE</td><td>161</td></tr>\n\t<tr><td>tom    </td><td>39</td><td>FALSE</td><td>176</td></tr>\n</tbody>\n</table>\n",
            "text/markdown": "\nA data.frame: 6 × 4\n\n| Name &lt;chr&gt; | Age &lt;dbl&gt; | Children &lt;lgl&gt; | Height &lt;dbl&gt; |\n|---|---|---|---|\n| john    | 45 | FALSE | 179 |\n| bob     | 40 |  TRUE | 181 |\n| patrick | 39 |  TRUE | 175 |\n| julie   | 35 | FALSE | 172 |\n| marie   | 42 |  TRUE | 161 |\n| tom     | 39 | FALSE | 176 |\n\n",
            "text/latex": "A data.frame: 6 × 4\n\\begin{tabular}{llll}\n Name & Age & Children & Height\\\\\n <chr> & <dbl> & <lgl> & <dbl>\\\\\n\\hline\n\t john    & 45 & FALSE & 179\\\\\n\t bob     & 40 &  TRUE & 181\\\\\n\t patrick & 39 &  TRUE & 175\\\\\n\t julie   & 35 & FALSE & 172\\\\\n\t marie   & 42 &  TRUE & 161\\\\\n\t tom     & 39 & FALSE & 176\\\\\n\\end{tabular}\n",
            "text/plain": "  Name    Age Children Height\n1 john    45  FALSE    179   \n2 bob     40   TRUE    181   \n3 patrick 39   TRUE    175   \n4 julie   35  FALSE    172   \n5 marie   42   TRUE    161   \n6 tom     39  FALSE    176   "
          },
          "metadata": {}
        }
      ]
    },
    {
      "cell_type": "code",
      "source": [
        "# Basic Operations on Vectors\n",
        "v1 <- c(2,1,4)\n",
        "v2 <- c(5,6,7)\n",
        "\n",
        "v1+v2 #adding vectors"
      ],
      "metadata": {
        "execution": {
          "iopub.status.busy": "2022-04-29T14:09:39.198539Z",
          "iopub.execute_input": "2022-04-29T14:09:39.199973Z",
          "iopub.status.idle": "2022-04-29T14:09:39.220451Z"
        },
        "trusted": true,
        "id": "iP5ay1lYqOCo",
        "outputId": "e6c670dd-43ac-45d9-f683-4067e05a1522"
      },
      "execution_count": null,
      "outputs": [
        {
          "output_type": "display_data",
          "data": {
            "text/html": "<style>\n.list-inline {list-style: none; margin:0; padding: 0}\n.list-inline>li {display: inline-block}\n.list-inline>li:not(:last-child)::after {content: \"\\00b7\"; padding: 0 .5ex}\n</style>\n<ol class=list-inline><li>7</li><li>7</li><li>11</li></ol>\n",
            "text/markdown": "1. 7\n2. 7\n3. 11\n\n\n",
            "text/latex": "\\begin{enumerate*}\n\\item 7\n\\item 7\n\\item 11\n\\end{enumerate*}\n",
            "text/plain": "[1]  7  7 11"
          },
          "metadata": {}
        }
      ]
    },
    {
      "cell_type": "code",
      "source": [
        "#subtracting 2 vectors\n",
        "v2-v1"
      ],
      "metadata": {
        "execution": {
          "iopub.status.busy": "2022-04-29T14:09:55.920138Z",
          "iopub.execute_input": "2022-04-29T14:09:55.921602Z",
          "iopub.status.idle": "2022-04-29T14:09:55.941204Z"
        },
        "trusted": true,
        "id": "y956dVm7qOCo",
        "outputId": "b48631af-5185-42aa-9735-e41d406a5a18"
      },
      "execution_count": null,
      "outputs": [
        {
          "output_type": "display_data",
          "data": {
            "text/html": "<style>\n.list-inline {list-style: none; margin:0; padding: 0}\n.list-inline>li {display: inline-block}\n.list-inline>li:not(:last-child)::after {content: \"\\00b7\"; padding: 0 .5ex}\n</style>\n<ol class=list-inline><li>3</li><li>5</li><li>3</li></ol>\n",
            "text/markdown": "1. 3\n2. 5\n3. 3\n\n\n",
            "text/latex": "\\begin{enumerate*}\n\\item 3\n\\item 5\n\\item 3\n\\end{enumerate*}\n",
            "text/plain": "[1] 3 5 3"
          },
          "metadata": {}
        }
      ]
    },
    {
      "cell_type": "code",
      "source": [
        "#multiply\n",
        "v1*v2"
      ],
      "metadata": {
        "execution": {
          "iopub.status.busy": "2022-04-29T14:10:10.650329Z",
          "iopub.execute_input": "2022-04-29T14:10:10.652116Z",
          "iopub.status.idle": "2022-04-29T14:10:10.667780Z"
        },
        "trusted": true,
        "id": "dGAeNsM2qOCp",
        "outputId": "70675bf7-b69b-49ad-9bfc-eefac76e3511"
      },
      "execution_count": null,
      "outputs": [
        {
          "output_type": "display_data",
          "data": {
            "text/html": "<style>\n.list-inline {list-style: none; margin:0; padding: 0}\n.list-inline>li {display: inline-block}\n.list-inline>li:not(:last-child)::after {content: \"\\00b7\"; padding: 0 .5ex}\n</style>\n<ol class=list-inline><li>10</li><li>6</li><li>28</li></ol>\n",
            "text/markdown": "1. 10\n2. 6\n3. 28\n\n\n",
            "text/latex": "\\begin{enumerate*}\n\\item 10\n\\item 6\n\\item 28\n\\end{enumerate*}\n",
            "text/plain": "[1] 10  6 28"
          },
          "metadata": {}
        }
      ]
    },
    {
      "cell_type": "code",
      "source": [
        "#basic maths functions\n",
        "\n",
        "sum(v1) #sum of elements\n",
        "sd(v1)  #standard deviation\n",
        "var(v1) #get the variance\n",
        "max(v1) #get the maximum value\n",
        "prod(v1) #get the product of vector values\n",
        "min(v1) #get the minimum value"
      ],
      "metadata": {
        "execution": {
          "iopub.status.busy": "2022-04-29T14:11:03.303695Z",
          "iopub.execute_input": "2022-04-29T14:11:03.305110Z",
          "iopub.status.idle": "2022-04-29T14:11:03.344940Z"
        },
        "trusted": true,
        "id": "No7zDHNrqOCp",
        "outputId": "c49268c7-e9ab-4f86-d64a-145b09750641"
      },
      "execution_count": null,
      "outputs": [
        {
          "output_type": "display_data",
          "data": {
            "text/html": "7",
            "text/markdown": "7",
            "text/latex": "7",
            "text/plain": "[1] 7"
          },
          "metadata": {}
        },
        {
          "output_type": "display_data",
          "data": {
            "text/html": "1.52752523165195",
            "text/markdown": "1.52752523165195",
            "text/latex": "1.52752523165195",
            "text/plain": "[1] 1.527525"
          },
          "metadata": {}
        },
        {
          "output_type": "display_data",
          "data": {
            "text/html": "2.33333333333333",
            "text/markdown": "2.33333333333333",
            "text/latex": "2.33333333333333",
            "text/plain": "[1] 2.333333"
          },
          "metadata": {}
        },
        {
          "output_type": "display_data",
          "data": {
            "text/html": "4",
            "text/markdown": "4",
            "text/latex": "4",
            "text/plain": "[1] 4"
          },
          "metadata": {}
        },
        {
          "output_type": "display_data",
          "data": {
            "text/html": "8",
            "text/markdown": "8",
            "text/latex": "8",
            "text/plain": "[1] 8"
          },
          "metadata": {}
        },
        {
          "output_type": "display_data",
          "data": {
            "text/html": "1",
            "text/markdown": "1",
            "text/latex": "1",
            "text/plain": "[1] 1"
          },
          "metadata": {}
        }
      ]
    },
    {
      "cell_type": "code",
      "source": [
        "#comparing vectors\n",
        "\n",
        "v1<v2\n",
        "v1>v2\n",
        "v1!=v2\n",
        "v1==v2"
      ],
      "metadata": {
        "execution": {
          "iopub.status.busy": "2022-04-29T14:13:36.062263Z",
          "iopub.execute_input": "2022-04-29T14:13:36.063711Z",
          "iopub.status.idle": "2022-04-29T14:13:36.093327Z"
        },
        "trusted": true,
        "id": "fNbAPjH4qOCq",
        "outputId": "49ba6e4a-1d2b-4549-b1c8-fbfe50771e7c"
      },
      "execution_count": null,
      "outputs": [
        {
          "output_type": "display_data",
          "data": {
            "text/html": "<style>\n.list-inline {list-style: none; margin:0; padding: 0}\n.list-inline>li {display: inline-block}\n.list-inline>li:not(:last-child)::after {content: \"\\00b7\"; padding: 0 .5ex}\n</style>\n<ol class=list-inline><li>TRUE</li><li>TRUE</li><li>TRUE</li></ol>\n",
            "text/markdown": "1. TRUE\n2. TRUE\n3. TRUE\n\n\n",
            "text/latex": "\\begin{enumerate*}\n\\item TRUE\n\\item TRUE\n\\item TRUE\n\\end{enumerate*}\n",
            "text/plain": "[1] TRUE TRUE TRUE"
          },
          "metadata": {}
        },
        {
          "output_type": "display_data",
          "data": {
            "text/html": "<style>\n.list-inline {list-style: none; margin:0; padding: 0}\n.list-inline>li {display: inline-block}\n.list-inline>li:not(:last-child)::after {content: \"\\00b7\"; padding: 0 .5ex}\n</style>\n<ol class=list-inline><li>FALSE</li><li>FALSE</li><li>FALSE</li></ol>\n",
            "text/markdown": "1. FALSE\n2. FALSE\n3. FALSE\n\n\n",
            "text/latex": "\\begin{enumerate*}\n\\item FALSE\n\\item FALSE\n\\item FALSE\n\\end{enumerate*}\n",
            "text/plain": "[1] FALSE FALSE FALSE"
          },
          "metadata": {}
        },
        {
          "output_type": "display_data",
          "data": {
            "text/html": "<style>\n.list-inline {list-style: none; margin:0; padding: 0}\n.list-inline>li {display: inline-block}\n.list-inline>li:not(:last-child)::after {content: \"\\00b7\"; padding: 0 .5ex}\n</style>\n<ol class=list-inline><li>TRUE</li><li>TRUE</li><li>TRUE</li></ol>\n",
            "text/markdown": "1. TRUE\n2. TRUE\n3. TRUE\n\n\n",
            "text/latex": "\\begin{enumerate*}\n\\item TRUE\n\\item TRUE\n\\item TRUE\n\\end{enumerate*}\n",
            "text/plain": "[1] TRUE TRUE TRUE"
          },
          "metadata": {}
        },
        {
          "output_type": "display_data",
          "data": {
            "text/html": "<style>\n.list-inline {list-style: none; margin:0; padding: 0}\n.list-inline>li {display: inline-block}\n.list-inline>li:not(:last-child)::after {content: \"\\00b7\"; padding: 0 .5ex}\n</style>\n<ol class=list-inline><li>FALSE</li><li>FALSE</li><li>FALSE</li></ol>\n",
            "text/markdown": "1. FALSE\n2. FALSE\n3. FALSE\n\n\n",
            "text/latex": "\\begin{enumerate*}\n\\item FALSE\n\\item FALSE\n\\item FALSE\n\\end{enumerate*}\n",
            "text/plain": "[1] FALSE FALSE FALSE"
          },
          "metadata": {}
        }
      ]
    },
    {
      "cell_type": "code",
      "source": [
        "#vector slicing and indexing\n",
        "\n",
        "price1 <- seq(550,670, 20)\n",
        "names(price1) <- paste('p', 1:7)\n",
        "price1\n",
        "\n",
        "#use index position\n",
        "price1[3]\n",
        "price1[3:4]\n",
        "price1[c(1,4)]\n",
        "\n",
        "#using names\n",
        "price1[c(\"p 3\")]\n",
        "price1[c(\"p 3\",\"p 4\",\"p 5\")]"
      ],
      "metadata": {
        "execution": {
          "iopub.status.busy": "2022-04-29T14:19:24.106217Z",
          "iopub.execute_input": "2022-04-29T14:19:24.107985Z",
          "iopub.status.idle": "2022-04-29T14:19:24.154774Z"
        },
        "trusted": true,
        "id": "abT7Hw_kqOCq",
        "outputId": "5b7ca4d3-5481-4e8d-d3c7-c8816e4d7282"
      },
      "execution_count": null,
      "outputs": [
        {
          "output_type": "display_data",
          "data": {
            "text/html": "<style>\n.dl-inline {width: auto; margin:0; padding: 0}\n.dl-inline>dt, .dl-inline>dd {float: none; width: auto; display: inline-block}\n.dl-inline>dt::after {content: \":\\0020\"; padding-right: .5ex}\n.dl-inline>dt:not(:first-of-type) {padding-left: .5ex}\n</style><dl class=dl-inline><dt>p 1</dt><dd>550</dd><dt>p 2</dt><dd>570</dd><dt>p 3</dt><dd>590</dd><dt>p 4</dt><dd>610</dd><dt>p 5</dt><dd>630</dd><dt>p 6</dt><dd>650</dd><dt>p 7</dt><dd>670</dd></dl>\n",
            "text/markdown": "p 1\n:   550p 2\n:   570p 3\n:   590p 4\n:   610p 5\n:   630p 6\n:   650p 7\n:   670\n\n",
            "text/latex": "\\begin{description*}\n\\item[p 1] 550\n\\item[p 2] 570\n\\item[p 3] 590\n\\item[p 4] 610\n\\item[p 5] 630\n\\item[p 6] 650\n\\item[p 7] 670\n\\end{description*}\n",
            "text/plain": "p 1 p 2 p 3 p 4 p 5 p 6 p 7 \n550 570 590 610 630 650 670 "
          },
          "metadata": {}
        },
        {
          "output_type": "display_data",
          "data": {
            "text/html": "<strong>p 3:</strong> 590",
            "text/markdown": "**p 3:** 590",
            "text/latex": "\\textbf{p 3:} 590",
            "text/plain": "p 3 \n590 "
          },
          "metadata": {}
        },
        {
          "output_type": "display_data",
          "data": {
            "text/html": "<style>\n.dl-inline {width: auto; margin:0; padding: 0}\n.dl-inline>dt, .dl-inline>dd {float: none; width: auto; display: inline-block}\n.dl-inline>dt::after {content: \":\\0020\"; padding-right: .5ex}\n.dl-inline>dt:not(:first-of-type) {padding-left: .5ex}\n</style><dl class=dl-inline><dt>p 3</dt><dd>590</dd><dt>p 4</dt><dd>610</dd></dl>\n",
            "text/markdown": "p 3\n:   590p 4\n:   610\n\n",
            "text/latex": "\\begin{description*}\n\\item[p 3] 590\n\\item[p 4] 610\n\\end{description*}\n",
            "text/plain": "p 3 p 4 \n590 610 "
          },
          "metadata": {}
        },
        {
          "output_type": "display_data",
          "data": {
            "text/html": "<style>\n.dl-inline {width: auto; margin:0; padding: 0}\n.dl-inline>dt, .dl-inline>dd {float: none; width: auto; display: inline-block}\n.dl-inline>dt::after {content: \":\\0020\"; padding-right: .5ex}\n.dl-inline>dt:not(:first-of-type) {padding-left: .5ex}\n</style><dl class=dl-inline><dt>p 1</dt><dd>550</dd><dt>p 4</dt><dd>610</dd></dl>\n",
            "text/markdown": "p 1\n:   550p 4\n:   610\n\n",
            "text/latex": "\\begin{description*}\n\\item[p 1] 550\n\\item[p 4] 610\n\\end{description*}\n",
            "text/plain": "p 1 p 4 \n550 610 "
          },
          "metadata": {}
        },
        {
          "output_type": "display_data",
          "data": {
            "text/html": "<strong>p 3:</strong> 590",
            "text/markdown": "**p 3:** 590",
            "text/latex": "\\textbf{p 3:} 590",
            "text/plain": "p 3 \n590 "
          },
          "metadata": {}
        },
        {
          "output_type": "display_data",
          "data": {
            "text/html": "<style>\n.dl-inline {width: auto; margin:0; padding: 0}\n.dl-inline>dt, .dl-inline>dd {float: none; width: auto; display: inline-block}\n.dl-inline>dt::after {content: \":\\0020\"; padding-right: .5ex}\n.dl-inline>dt:not(:first-of-type) {padding-left: .5ex}\n</style><dl class=dl-inline><dt>p 3</dt><dd>590</dd><dt>p 4</dt><dd>610</dd><dt>p 5</dt><dd>630</dd></dl>\n",
            "text/markdown": "p 3\n:   590p 4\n:   610p 5\n:   630\n\n",
            "text/latex": "\\begin{description*}\n\\item[p 3] 590\n\\item[p 4] 610\n\\item[p 5] 630\n\\end{description*}\n",
            "text/plain": "p 3 p 4 p 5 \n590 610 630 "
          },
          "metadata": {}
        }
      ]
    },
    {
      "cell_type": "code",
      "source": [
        "#using logical position\n",
        "price1[c(T,F,T,T,F,F,F)]\n",
        "\n",
        "#using exclude position method\n",
        "price1[-2]\n",
        "price1[c(-1,-4)]"
      ],
      "metadata": {
        "execution": {
          "iopub.status.busy": "2022-04-29T14:22:15.582288Z",
          "iopub.execute_input": "2022-04-29T14:22:15.588802Z",
          "iopub.status.idle": "2022-04-29T14:22:15.628692Z"
        },
        "trusted": true,
        "id": "hw7mIXNaqOCq",
        "outputId": "a425771f-c69c-4e87-8fad-22f0c8dc8381"
      },
      "execution_count": null,
      "outputs": [
        {
          "output_type": "display_data",
          "data": {
            "text/html": "<style>\n.dl-inline {width: auto; margin:0; padding: 0}\n.dl-inline>dt, .dl-inline>dd {float: none; width: auto; display: inline-block}\n.dl-inline>dt::after {content: \":\\0020\"; padding-right: .5ex}\n.dl-inline>dt:not(:first-of-type) {padding-left: .5ex}\n</style><dl class=dl-inline><dt>p 1</dt><dd>550</dd><dt>p 3</dt><dd>590</dd><dt>p 4</dt><dd>610</dd></dl>\n",
            "text/markdown": "p 1\n:   550p 3\n:   590p 4\n:   610\n\n",
            "text/latex": "\\begin{description*}\n\\item[p 1] 550\n\\item[p 3] 590\n\\item[p 4] 610\n\\end{description*}\n",
            "text/plain": "p 1 p 3 p 4 \n550 590 610 "
          },
          "metadata": {}
        },
        {
          "output_type": "display_data",
          "data": {
            "text/html": "<style>\n.dl-inline {width: auto; margin:0; padding: 0}\n.dl-inline>dt, .dl-inline>dd {float: none; width: auto; display: inline-block}\n.dl-inline>dt::after {content: \":\\0020\"; padding-right: .5ex}\n.dl-inline>dt:not(:first-of-type) {padding-left: .5ex}\n</style><dl class=dl-inline><dt>p 1</dt><dd>550</dd><dt>p 3</dt><dd>590</dd><dt>p 4</dt><dd>610</dd><dt>p 5</dt><dd>630</dd><dt>p 6</dt><dd>650</dd><dt>p 7</dt><dd>670</dd></dl>\n",
            "text/markdown": "p 1\n:   550p 3\n:   590p 4\n:   610p 5\n:   630p 6\n:   650p 7\n:   670\n\n",
            "text/latex": "\\begin{description*}\n\\item[p 1] 550\n\\item[p 3] 590\n\\item[p 4] 610\n\\item[p 5] 630\n\\item[p 6] 650\n\\item[p 7] 670\n\\end{description*}\n",
            "text/plain": "p 1 p 3 p 4 p 5 p 6 p 7 \n550 590 610 630 650 670 "
          },
          "metadata": {}
        },
        {
          "output_type": "display_data",
          "data": {
            "text/html": "<style>\n.dl-inline {width: auto; margin:0; padding: 0}\n.dl-inline>dt, .dl-inline>dd {float: none; width: auto; display: inline-block}\n.dl-inline>dt::after {content: \":\\0020\"; padding-right: .5ex}\n.dl-inline>dt:not(:first-of-type) {padding-left: .5ex}\n</style><dl class=dl-inline><dt>p 2</dt><dd>570</dd><dt>p 3</dt><dd>590</dd><dt>p 5</dt><dd>630</dd><dt>p 6</dt><dd>650</dd><dt>p 7</dt><dd>670</dd></dl>\n",
            "text/markdown": "p 2\n:   570p 3\n:   590p 5\n:   630p 6\n:   650p 7\n:   670\n\n",
            "text/latex": "\\begin{description*}\n\\item[p 2] 570\n\\item[p 3] 590\n\\item[p 5] 630\n\\item[p 6] 650\n\\item[p 7] 670\n\\end{description*}\n",
            "text/plain": "p 2 p 3 p 5 p 6 p 7 \n570 590 630 650 670 "
          },
          "metadata": {}
        }
      ]
    },
    {
      "cell_type": "code",
      "source": [
        "#handling NA values in vectors\n",
        "\n",
        "order_detail <- c(10,20,30,NA,50, 60)\n",
        "order_detail\n",
        "names(order_detail) <- c(\"Mon\", \"Tue\", \"Wed\", \"Thu\", \"Fri\", \"Sat\")\n",
        "order_detail\n",
        "order_detail + 5"
      ],
      "metadata": {
        "execution": {
          "iopub.status.busy": "2022-04-29T14:26:12.472362Z",
          "iopub.execute_input": "2022-04-29T14:26:12.477702Z",
          "iopub.status.idle": "2022-04-29T14:26:12.509560Z"
        },
        "trusted": true,
        "id": "GF6aFenbqOCr",
        "outputId": "5f353724-c413-48cf-be0f-2a94c08715d0"
      },
      "execution_count": null,
      "outputs": [
        {
          "output_type": "display_data",
          "data": {
            "text/html": "<style>\n.list-inline {list-style: none; margin:0; padding: 0}\n.list-inline>li {display: inline-block}\n.list-inline>li:not(:last-child)::after {content: \"\\00b7\"; padding: 0 .5ex}\n</style>\n<ol class=list-inline><li>10</li><li>20</li><li>30</li><li>&lt;NA&gt;</li><li>50</li><li>60</li></ol>\n",
            "text/markdown": "1. 10\n2. 20\n3. 30\n4. &lt;NA&gt;\n5. 50\n6. 60\n\n\n",
            "text/latex": "\\begin{enumerate*}\n\\item 10\n\\item 20\n\\item 30\n\\item <NA>\n\\item 50\n\\item 60\n\\end{enumerate*}\n",
            "text/plain": "[1] 10 20 30 NA 50 60"
          },
          "metadata": {}
        },
        {
          "output_type": "display_data",
          "data": {
            "text/html": "<style>\n.dl-inline {width: auto; margin:0; padding: 0}\n.dl-inline>dt, .dl-inline>dd {float: none; width: auto; display: inline-block}\n.dl-inline>dt::after {content: \":\\0020\"; padding-right: .5ex}\n.dl-inline>dt:not(:first-of-type) {padding-left: .5ex}\n</style><dl class=dl-inline><dt>Mon</dt><dd>10</dd><dt>Tue</dt><dd>20</dd><dt>Wed</dt><dd>30</dd><dt>Thu</dt><dd>&lt;NA&gt;</dd><dt>Fri</dt><dd>50</dd><dt>Sat</dt><dd>60</dd></dl>\n",
            "text/markdown": "Mon\n:   10Tue\n:   20Wed\n:   30Thu\n:   &lt;NA&gt;Fri\n:   50Sat\n:   60\n\n",
            "text/latex": "\\begin{description*}\n\\item[Mon] 10\n\\item[Tue] 20\n\\item[Wed] 30\n\\item[Thu] <NA>\n\\item[Fri] 50\n\\item[Sat] 60\n\\end{description*}\n",
            "text/plain": "Mon Tue Wed Thu Fri Sat \n 10  20  30  NA  50  60 "
          },
          "metadata": {}
        },
        {
          "output_type": "display_data",
          "data": {
            "text/html": "<style>\n.dl-inline {width: auto; margin:0; padding: 0}\n.dl-inline>dt, .dl-inline>dd {float: none; width: auto; display: inline-block}\n.dl-inline>dt::after {content: \":\\0020\"; padding-right: .5ex}\n.dl-inline>dt:not(:first-of-type) {padding-left: .5ex}\n</style><dl class=dl-inline><dt>Mon</dt><dd>15</dd><dt>Tue</dt><dd>25</dd><dt>Wed</dt><dd>35</dd><dt>Thu</dt><dd>&lt;NA&gt;</dd><dt>Fri</dt><dd>55</dd><dt>Sat</dt><dd>65</dd></dl>\n",
            "text/markdown": "Mon\n:   15Tue\n:   25Wed\n:   35Thu\n:   &lt;NA&gt;Fri\n:   55Sat\n:   65\n\n",
            "text/latex": "\\begin{description*}\n\\item[Mon] 15\n\\item[Tue] 25\n\\item[Wed] 35\n\\item[Thu] <NA>\n\\item[Fri] 55\n\\item[Sat] 65\n\\end{description*}\n",
            "text/plain": "Mon Tue Wed Thu Fri Sat \n 15  25  35  NA  55  65 "
          },
          "metadata": {}
        }
      ]
    },
    {
      "cell_type": "code",
      "source": [
        "#creating subset of vector\n",
        "firsttwo<-order_detail[1:2]\n",
        "firsttwo\n",
        "l<-length(order_detail)\n",
        "l"
      ],
      "metadata": {
        "execution": {
          "iopub.status.busy": "2022-04-29T14:28:42.112052Z",
          "iopub.execute_input": "2022-04-29T14:28:42.114441Z",
          "iopub.status.idle": "2022-04-29T14:28:42.154626Z"
        },
        "trusted": true,
        "id": "VEG45XawqOCr",
        "outputId": "97125ccf-239b-4f8f-a39a-15daed33c896"
      },
      "execution_count": null,
      "outputs": [
        {
          "output_type": "display_data",
          "data": {
            "text/html": "<style>\n.dl-inline {width: auto; margin:0; padding: 0}\n.dl-inline>dt, .dl-inline>dd {float: none; width: auto; display: inline-block}\n.dl-inline>dt::after {content: \":\\0020\"; padding-right: .5ex}\n.dl-inline>dt:not(:first-of-type) {padding-left: .5ex}\n</style><dl class=dl-inline><dt>Mon</dt><dd>10</dd><dt>Tue</dt><dd>20</dd></dl>\n",
            "text/markdown": "Mon\n:   10Tue\n:   20\n\n",
            "text/latex": "\\begin{description*}\n\\item[Mon] 10\n\\item[Tue] 20\n\\end{description*}\n",
            "text/plain": "Mon Tue \n 10  20 "
          },
          "metadata": {}
        },
        {
          "output_type": "display_data",
          "data": {
            "text/html": "6",
            "text/markdown": "6",
            "text/latex": "6",
            "text/plain": "[1] 6"
          },
          "metadata": {}
        }
      ]
    },
    {
      "cell_type": "code",
      "source": [
        "v1<- order_detail[(l-1):1]\n",
        "v1\n",
        "v2<- order_detail[(l-1):2]\n",
        "v2\n",
        "v3<- order_detail[l:1]\n",
        "v3\n",
        "v4<- order_detail[(l-2):1]\n",
        "v4"
      ],
      "metadata": {
        "execution": {
          "iopub.status.busy": "2022-04-29T14:31:47.097600Z",
          "iopub.execute_input": "2022-04-29T14:31:47.099093Z",
          "iopub.status.idle": "2022-04-29T14:31:47.134468Z"
        },
        "trusted": true,
        "id": "3L4CT_j1qOCr",
        "outputId": "a132caa1-ca36-488f-e3ba-e5d4496b33df"
      },
      "execution_count": null,
      "outputs": [
        {
          "output_type": "display_data",
          "data": {
            "text/html": "<style>\n.dl-inline {width: auto; margin:0; padding: 0}\n.dl-inline>dt, .dl-inline>dd {float: none; width: auto; display: inline-block}\n.dl-inline>dt::after {content: \":\\0020\"; padding-right: .5ex}\n.dl-inline>dt:not(:first-of-type) {padding-left: .5ex}\n</style><dl class=dl-inline><dt>Fri</dt><dd>50</dd><dt>Thu</dt><dd>&lt;NA&gt;</dd><dt>Wed</dt><dd>30</dd><dt>Tue</dt><dd>20</dd><dt>Mon</dt><dd>10</dd></dl>\n",
            "text/markdown": "Fri\n:   50Thu\n:   &lt;NA&gt;Wed\n:   30Tue\n:   20Mon\n:   10\n\n",
            "text/latex": "\\begin{description*}\n\\item[Fri] 50\n\\item[Thu] <NA>\n\\item[Wed] 30\n\\item[Tue] 20\n\\item[Mon] 10\n\\end{description*}\n",
            "text/plain": "Fri Thu Wed Tue Mon \n 50  NA  30  20  10 "
          },
          "metadata": {}
        },
        {
          "output_type": "display_data",
          "data": {
            "text/html": "<style>\n.dl-inline {width: auto; margin:0; padding: 0}\n.dl-inline>dt, .dl-inline>dd {float: none; width: auto; display: inline-block}\n.dl-inline>dt::after {content: \":\\0020\"; padding-right: .5ex}\n.dl-inline>dt:not(:first-of-type) {padding-left: .5ex}\n</style><dl class=dl-inline><dt>Fri</dt><dd>50</dd><dt>Thu</dt><dd>&lt;NA&gt;</dd><dt>Wed</dt><dd>30</dd><dt>Tue</dt><dd>20</dd></dl>\n",
            "text/markdown": "Fri\n:   50Thu\n:   &lt;NA&gt;Wed\n:   30Tue\n:   20\n\n",
            "text/latex": "\\begin{description*}\n\\item[Fri] 50\n\\item[Thu] <NA>\n\\item[Wed] 30\n\\item[Tue] 20\n\\end{description*}\n",
            "text/plain": "Fri Thu Wed Tue \n 50  NA  30  20 "
          },
          "metadata": {}
        },
        {
          "output_type": "display_data",
          "data": {
            "text/html": "<style>\n.dl-inline {width: auto; margin:0; padding: 0}\n.dl-inline>dt, .dl-inline>dd {float: none; width: auto; display: inline-block}\n.dl-inline>dt::after {content: \":\\0020\"; padding-right: .5ex}\n.dl-inline>dt:not(:first-of-type) {padding-left: .5ex}\n</style><dl class=dl-inline><dt>Sat</dt><dd>60</dd><dt>Fri</dt><dd>50</dd><dt>Thu</dt><dd>&lt;NA&gt;</dd><dt>Wed</dt><dd>30</dd><dt>Tue</dt><dd>20</dd><dt>Mon</dt><dd>10</dd></dl>\n",
            "text/markdown": "Sat\n:   60Fri\n:   50Thu\n:   &lt;NA&gt;Wed\n:   30Tue\n:   20Mon\n:   10\n\n",
            "text/latex": "\\begin{description*}\n\\item[Sat] 60\n\\item[Fri] 50\n\\item[Thu] <NA>\n\\item[Wed] 30\n\\item[Tue] 20\n\\item[Mon] 10\n\\end{description*}\n",
            "text/plain": "Sat Fri Thu Wed Tue Mon \n 60  50  NA  30  20  10 "
          },
          "metadata": {}
        },
        {
          "output_type": "display_data",
          "data": {
            "text/html": "<style>\n.dl-inline {width: auto; margin:0; padding: 0}\n.dl-inline>dt, .dl-inline>dd {float: none; width: auto; display: inline-block}\n.dl-inline>dt::after {content: \":\\0020\"; padding-right: .5ex}\n.dl-inline>dt:not(:first-of-type) {padding-left: .5ex}\n</style><dl class=dl-inline><dt>Thu</dt><dd>&lt;NA&gt;</dd><dt>Wed</dt><dd>30</dd><dt>Tue</dt><dd>20</dd><dt>Mon</dt><dd>10</dd></dl>\n",
            "text/markdown": "Thu\n:   &lt;NA&gt;Wed\n:   30Tue\n:   20Mon\n:   10\n\n",
            "text/latex": "\\begin{description*}\n\\item[Thu] <NA>\n\\item[Wed] 30\n\\item[Tue] 20\n\\item[Mon] 10\n\\end{description*}\n",
            "text/plain": "Thu Wed Tue Mon \n NA  30  20  10 "
          },
          "metadata": {}
        }
      ]
    },
    {
      "cell_type": "code",
      "source": [
        "#to omit NA value from the vector\n",
        "na.omit(order_detail[order_detail<30])"
      ],
      "metadata": {
        "execution": {
          "iopub.status.busy": "2022-04-29T14:32:45.478523Z",
          "iopub.execute_input": "2022-04-29T14:32:45.479974Z",
          "iopub.status.idle": "2022-04-29T14:32:45.501041Z"
        },
        "trusted": true,
        "id": "P8KDicW1qOCr",
        "outputId": "f8ce411f-f437-45c8-c933-a9b31a2e92b1"
      },
      "execution_count": null,
      "outputs": [
        {
          "output_type": "display_data",
          "data": {
            "text/html": "<style>\n.dl-inline {width: auto; margin:0; padding: 0}\n.dl-inline>dt, .dl-inline>dd {float: none; width: auto; display: inline-block}\n.dl-inline>dt::after {content: \":\\0020\"; padding-right: .5ex}\n.dl-inline>dt:not(:first-of-type) {padding-left: .5ex}\n</style><dl class=dl-inline><dt>Mon</dt><dd>10</dd><dt>Tue</dt><dd>20</dd></dl>\n",
            "text/markdown": "Mon\n:   10Tue\n:   20\n\n",
            "text/latex": "\\begin{description*}\n\\item[Mon] 10\n\\item[Tue] 20\n\\end{description*}\n",
            "text/plain": "Mon Tue \n 10  20 \nattr(,\"na.action\")\n<NA> \n   3 \nattr(,\"class\")\n[1] \"omit\""
          },
          "metadata": {}
        }
      ]
    },
    {
      "cell_type": "code",
      "source": [
        "#use na.rm to remove the NA value\n",
        "sum(order_detail, na.rm=TRUE)"
      ],
      "metadata": {
        "execution": {
          "iopub.status.busy": "2022-04-29T14:34:10.319794Z",
          "iopub.execute_input": "2022-04-29T14:34:10.321299Z",
          "iopub.status.idle": "2022-04-29T14:34:10.338136Z"
        },
        "trusted": true,
        "id": "jozAC_WcqOCs",
        "outputId": "6aa848fe-0cfe-41e4-8b11-691ce3d92f50"
      },
      "execution_count": null,
      "outputs": [
        {
          "output_type": "display_data",
          "data": {
            "text/html": "170",
            "text/markdown": "170",
            "text/latex": "170",
            "text/plain": "[1] 170"
          },
          "metadata": {}
        }
      ]
    },
    {
      "cell_type": "markdown",
      "source": [
        "### Matrix"
      ],
      "metadata": {
        "id": "SpwAIU6eqOCs"
      }
    },
    {
      "cell_type": "code",
      "source": [
        "mat1 <- matrix(0,3,3)\n",
        "mat1\n",
        "mat2 <- matrix(1:9,3,3)\n",
        "mat2\n",
        "\n",
        "mat3 <- matrix(1:9, nrow=3, byrow=T)"
      ],
      "metadata": {
        "execution": {
          "iopub.status.busy": "2022-04-29T14:37:00.557724Z",
          "iopub.execute_input": "2022-04-29T14:37:00.559146Z",
          "iopub.status.idle": "2022-04-29T14:37:00.592752Z"
        },
        "trusted": true,
        "id": "5uSNRIWvqOCs",
        "outputId": "ceabee93-2cd9-4035-99cd-7ccbfd969d71"
      },
      "execution_count": null,
      "outputs": [
        {
          "output_type": "display_data",
          "data": {
            "text/html": "<table class=\"dataframe\">\n<caption>A matrix: 3 × 3 of type dbl</caption>\n<tbody>\n\t<tr><td>0</td><td>0</td><td>0</td></tr>\n\t<tr><td>0</td><td>0</td><td>0</td></tr>\n\t<tr><td>0</td><td>0</td><td>0</td></tr>\n</tbody>\n</table>\n",
            "text/markdown": "\nA matrix: 3 × 3 of type dbl\n\n| 0 | 0 | 0 |\n| 0 | 0 | 0 |\n| 0 | 0 | 0 |\n\n",
            "text/latex": "A matrix: 3 × 3 of type dbl\n\\begin{tabular}{lll}\n\t 0 & 0 & 0\\\\\n\t 0 & 0 & 0\\\\\n\t 0 & 0 & 0\\\\\n\\end{tabular}\n",
            "text/plain": "     [,1] [,2] [,3]\n[1,] 0    0    0   \n[2,] 0    0    0   \n[3,] 0    0    0   "
          },
          "metadata": {}
        },
        {
          "output_type": "display_data",
          "data": {
            "text/html": "<table class=\"dataframe\">\n<caption>A matrix: 3 × 3 of type int</caption>\n<tbody>\n\t<tr><td>1</td><td>4</td><td>7</td></tr>\n\t<tr><td>2</td><td>5</td><td>8</td></tr>\n\t<tr><td>3</td><td>6</td><td>9</td></tr>\n</tbody>\n</table>\n",
            "text/markdown": "\nA matrix: 3 × 3 of type int\n\n| 1 | 4 | 7 |\n| 2 | 5 | 8 |\n| 3 | 6 | 9 |\n\n",
            "text/latex": "A matrix: 3 × 3 of type int\n\\begin{tabular}{lll}\n\t 1 & 4 & 7\\\\\n\t 2 & 5 & 8\\\\\n\t 3 & 6 & 9\\\\\n\\end{tabular}\n",
            "text/plain": "     [,1] [,2] [,3]\n[1,] 1    4    7   \n[2,] 2    5    8   \n[3,] 3    6    9   "
          },
          "metadata": {}
        }
      ]
    },
    {
      "cell_type": "code",
      "source": [
        "#create matrix using vectors\n",
        "stock1 <- c(450, 451, 452, 453,445)\n",
        "stock2 <- c(230, 238, 289, 228, 229)\n",
        "stocks <- c(stock1, stock2)\n",
        "stocks"
      ],
      "metadata": {
        "execution": {
          "iopub.status.busy": "2022-04-29T14:40:08.374770Z",
          "iopub.execute_input": "2022-04-29T14:40:08.376262Z",
          "iopub.status.idle": "2022-04-29T14:40:08.396104Z"
        },
        "trusted": true,
        "id": "hUhfJVd4qOCs",
        "outputId": "8be372b9-9647-44b0-8599-03d3c4be9120"
      },
      "execution_count": null,
      "outputs": [
        {
          "output_type": "display_data",
          "data": {
            "text/html": "<style>\n.list-inline {list-style: none; margin:0; padding: 0}\n.list-inline>li {display: inline-block}\n.list-inline>li:not(:last-child)::after {content: \"\\00b7\"; padding: 0 .5ex}\n</style>\n<ol class=list-inline><li>450</li><li>451</li><li>452</li><li>453</li><li>445</li><li>230</li><li>238</li><li>289</li><li>228</li><li>229</li></ol>\n",
            "text/markdown": "1. 450\n2. 451\n3. 452\n4. 453\n5. 445\n6. 230\n7. 238\n8. 289\n9. 228\n10. 229\n\n\n",
            "text/latex": "\\begin{enumerate*}\n\\item 450\n\\item 451\n\\item 452\n\\item 453\n\\item 445\n\\item 230\n\\item 238\n\\item 289\n\\item 228\n\\item 229\n\\end{enumerate*}\n",
            "text/plain": " [1] 450 451 452 453 445 230 238 289 228 229"
          },
          "metadata": {}
        }
      ]
    },
    {
      "cell_type": "code",
      "source": [
        "stock.matrix <- matrix(stocks, byrow=TRUE, nrow=2)\n",
        "stock.matrix"
      ],
      "metadata": {
        "execution": {
          "iopub.status.busy": "2022-04-29T14:40:48.238969Z",
          "iopub.execute_input": "2022-04-29T14:40:48.240475Z",
          "iopub.status.idle": "2022-04-29T14:40:48.261352Z"
        },
        "trusted": true,
        "id": "CwyaaiWlqOCt",
        "outputId": "7f73456a-2bdf-45a9-ef8c-6935f0d333c3"
      },
      "execution_count": null,
      "outputs": [
        {
          "output_type": "display_data",
          "data": {
            "text/html": "<table class=\"dataframe\">\n<caption>A matrix: 2 × 5 of type dbl</caption>\n<tbody>\n\t<tr><td>450</td><td>451</td><td>452</td><td>453</td><td>445</td></tr>\n\t<tr><td>230</td><td>238</td><td>289</td><td>228</td><td>229</td></tr>\n</tbody>\n</table>\n",
            "text/markdown": "\nA matrix: 2 × 5 of type dbl\n\n| 450 | 451 | 452 | 453 | 445 |\n| 230 | 238 | 289 | 228 | 229 |\n\n",
            "text/latex": "A matrix: 2 × 5 of type dbl\n\\begin{tabular}{lllll}\n\t 450 & 451 & 452 & 453 & 445\\\\\n\t 230 & 238 & 289 & 228 & 229\\\\\n\\end{tabular}\n",
            "text/plain": "     [,1] [,2] [,3] [,4] [,5]\n[1,] 450  451  452  453  445 \n[2,] 230  238  289  228  229 "
          },
          "metadata": {}
        }
      ]
    },
    {
      "cell_type": "code",
      "source": [
        "#naming matrix using colnames() and rownames()\n",
        "\n",
        "days <- c('Mon', 'Tue', 'Wed', 'Thu', 'Fri')\n",
        "st.names <- c('Stock1', 'Stock2')\n",
        "\n",
        "colnames(stock.matrix) <- days\n",
        "rownames(stock.matrix) <- st.names\n",
        "\n",
        "stock.matrix"
      ],
      "metadata": {
        "execution": {
          "iopub.status.busy": "2022-04-29T14:44:15.749377Z",
          "iopub.execute_input": "2022-04-29T14:44:15.750867Z",
          "iopub.status.idle": "2022-04-29T14:44:15.775989Z"
        },
        "trusted": true,
        "id": "qq6OhZN3qOCt",
        "outputId": "ec89eb9f-3137-4a1d-a1c4-4cd36ab90691"
      },
      "execution_count": null,
      "outputs": [
        {
          "output_type": "display_data",
          "data": {
            "text/html": "<table class=\"dataframe\">\n<caption>A matrix: 2 × 5 of type dbl</caption>\n<thead>\n\t<tr><th></th><th scope=col>Mon</th><th scope=col>Tue</th><th scope=col>Wed</th><th scope=col>Thu</th><th scope=col>Fri</th></tr>\n</thead>\n<tbody>\n\t<tr><th scope=row>Stock1</th><td>450</td><td>451</td><td>452</td><td>453</td><td>445</td></tr>\n\t<tr><th scope=row>Stock2</th><td>230</td><td>238</td><td>289</td><td>228</td><td>229</td></tr>\n</tbody>\n</table>\n",
            "text/markdown": "\nA matrix: 2 × 5 of type dbl\n\n| <!--/--> | Mon | Tue | Wed | Thu | Fri |\n|---|---|---|---|---|---|\n| Stock1 | 450 | 451 | 452 | 453 | 445 |\n| Stock2 | 230 | 238 | 289 | 228 | 229 |\n\n",
            "text/latex": "A matrix: 2 × 5 of type dbl\n\\begin{tabular}{r|lllll}\n  & Mon & Tue & Wed & Thu & Fri\\\\\n\\hline\n\tStock1 & 450 & 451 & 452 & 453 & 445\\\\\n\tStock2 & 230 & 238 & 289 & 228 & 229\\\\\n\\end{tabular}\n",
            "text/plain": "       Mon Tue Wed Thu Fri\nStock1 450 451 452 453 445\nStock2 230 238 289 228 229"
          },
          "metadata": {}
        }
      ]
    },
    {
      "cell_type": "code",
      "source": [
        "#Arithmetic Operations on Matrix\n",
        "\n",
        "mat1 <- matrix(1:50, byrow=TRUE, nrow=5)\n",
        "mat1\n",
        "\n",
        "#add\n",
        "5+mat1\n",
        "\n",
        "#multiply\n",
        "5*mat1\n",
        "\n",
        "#divide\n",
        "2/mat1 #returns the reciprocal\n",
        "\n",
        "mat1/2 #returns the quotient\n",
        "\n",
        "#exponent\n",
        "mat1^2\n",
        "\n",
        "#matrix arithmetic with multiple matrices\n",
        "\n",
        "mat1 + mat1\n",
        "mat1 - mat1"
      ],
      "metadata": {
        "execution": {
          "iopub.status.busy": "2022-04-29T14:52:15.656913Z",
          "iopub.execute_input": "2022-04-29T14:52:15.658559Z",
          "iopub.status.idle": "2022-04-29T14:52:15.758398Z"
        },
        "trusted": true,
        "id": "tggZ4t1NqOCt",
        "outputId": "4fcf81a0-30a7-4487-db08-f036407310f2"
      },
      "execution_count": null,
      "outputs": [
        {
          "output_type": "display_data",
          "data": {
            "text/html": "<table class=\"dataframe\">\n<caption>A matrix: 5 × 10 of type int</caption>\n<tbody>\n\t<tr><td> 1</td><td> 2</td><td> 3</td><td> 4</td><td> 5</td><td> 6</td><td> 7</td><td> 8</td><td> 9</td><td>10</td></tr>\n\t<tr><td>11</td><td>12</td><td>13</td><td>14</td><td>15</td><td>16</td><td>17</td><td>18</td><td>19</td><td>20</td></tr>\n\t<tr><td>21</td><td>22</td><td>23</td><td>24</td><td>25</td><td>26</td><td>27</td><td>28</td><td>29</td><td>30</td></tr>\n\t<tr><td>31</td><td>32</td><td>33</td><td>34</td><td>35</td><td>36</td><td>37</td><td>38</td><td>39</td><td>40</td></tr>\n\t<tr><td>41</td><td>42</td><td>43</td><td>44</td><td>45</td><td>46</td><td>47</td><td>48</td><td>49</td><td>50</td></tr>\n</tbody>\n</table>\n",
            "text/markdown": "\nA matrix: 5 × 10 of type int\n\n|  1 |  2 |  3 |  4 |  5 |  6 |  7 |  8 |  9 | 10 |\n| 11 | 12 | 13 | 14 | 15 | 16 | 17 | 18 | 19 | 20 |\n| 21 | 22 | 23 | 24 | 25 | 26 | 27 | 28 | 29 | 30 |\n| 31 | 32 | 33 | 34 | 35 | 36 | 37 | 38 | 39 | 40 |\n| 41 | 42 | 43 | 44 | 45 | 46 | 47 | 48 | 49 | 50 |\n\n",
            "text/latex": "A matrix: 5 × 10 of type int\n\\begin{tabular}{llllllllll}\n\t  1 &  2 &  3 &  4 &  5 &  6 &  7 &  8 &  9 & 10\\\\\n\t 11 & 12 & 13 & 14 & 15 & 16 & 17 & 18 & 19 & 20\\\\\n\t 21 & 22 & 23 & 24 & 25 & 26 & 27 & 28 & 29 & 30\\\\\n\t 31 & 32 & 33 & 34 & 35 & 36 & 37 & 38 & 39 & 40\\\\\n\t 41 & 42 & 43 & 44 & 45 & 46 & 47 & 48 & 49 & 50\\\\\n\\end{tabular}\n",
            "text/plain": "     [,1] [,2] [,3] [,4] [,5] [,6] [,7] [,8] [,9] [,10]\n[1,]  1    2    3    4    5    6    7    8    9   10   \n[2,] 11   12   13   14   15   16   17   18   19   20   \n[3,] 21   22   23   24   25   26   27   28   29   30   \n[4,] 31   32   33   34   35   36   37   38   39   40   \n[5,] 41   42   43   44   45   46   47   48   49   50   "
          },
          "metadata": {}
        },
        {
          "output_type": "display_data",
          "data": {
            "text/html": "<table class=\"dataframe\">\n<caption>A matrix: 5 × 10 of type dbl</caption>\n<tbody>\n\t<tr><td> 6</td><td> 7</td><td> 8</td><td> 9</td><td>10</td><td>11</td><td>12</td><td>13</td><td>14</td><td>15</td></tr>\n\t<tr><td>16</td><td>17</td><td>18</td><td>19</td><td>20</td><td>21</td><td>22</td><td>23</td><td>24</td><td>25</td></tr>\n\t<tr><td>26</td><td>27</td><td>28</td><td>29</td><td>30</td><td>31</td><td>32</td><td>33</td><td>34</td><td>35</td></tr>\n\t<tr><td>36</td><td>37</td><td>38</td><td>39</td><td>40</td><td>41</td><td>42</td><td>43</td><td>44</td><td>45</td></tr>\n\t<tr><td>46</td><td>47</td><td>48</td><td>49</td><td>50</td><td>51</td><td>52</td><td>53</td><td>54</td><td>55</td></tr>\n</tbody>\n</table>\n",
            "text/markdown": "\nA matrix: 5 × 10 of type dbl\n\n|  6 |  7 |  8 |  9 | 10 | 11 | 12 | 13 | 14 | 15 |\n| 16 | 17 | 18 | 19 | 20 | 21 | 22 | 23 | 24 | 25 |\n| 26 | 27 | 28 | 29 | 30 | 31 | 32 | 33 | 34 | 35 |\n| 36 | 37 | 38 | 39 | 40 | 41 | 42 | 43 | 44 | 45 |\n| 46 | 47 | 48 | 49 | 50 | 51 | 52 | 53 | 54 | 55 |\n\n",
            "text/latex": "A matrix: 5 × 10 of type dbl\n\\begin{tabular}{llllllllll}\n\t  6 &  7 &  8 &  9 & 10 & 11 & 12 & 13 & 14 & 15\\\\\n\t 16 & 17 & 18 & 19 & 20 & 21 & 22 & 23 & 24 & 25\\\\\n\t 26 & 27 & 28 & 29 & 30 & 31 & 32 & 33 & 34 & 35\\\\\n\t 36 & 37 & 38 & 39 & 40 & 41 & 42 & 43 & 44 & 45\\\\\n\t 46 & 47 & 48 & 49 & 50 & 51 & 52 & 53 & 54 & 55\\\\\n\\end{tabular}\n",
            "text/plain": "     [,1] [,2] [,3] [,4] [,5] [,6] [,7] [,8] [,9] [,10]\n[1,]  6    7    8    9   10   11   12   13   14   15   \n[2,] 16   17   18   19   20   21   22   23   24   25   \n[3,] 26   27   28   29   30   31   32   33   34   35   \n[4,] 36   37   38   39   40   41   42   43   44   45   \n[5,] 46   47   48   49   50   51   52   53   54   55   "
          },
          "metadata": {}
        },
        {
          "output_type": "display_data",
          "data": {
            "text/html": "<table class=\"dataframe\">\n<caption>A matrix: 5 × 10 of type dbl</caption>\n<tbody>\n\t<tr><td>  5</td><td> 10</td><td> 15</td><td> 20</td><td> 25</td><td> 30</td><td> 35</td><td> 40</td><td> 45</td><td> 50</td></tr>\n\t<tr><td> 55</td><td> 60</td><td> 65</td><td> 70</td><td> 75</td><td> 80</td><td> 85</td><td> 90</td><td> 95</td><td>100</td></tr>\n\t<tr><td>105</td><td>110</td><td>115</td><td>120</td><td>125</td><td>130</td><td>135</td><td>140</td><td>145</td><td>150</td></tr>\n\t<tr><td>155</td><td>160</td><td>165</td><td>170</td><td>175</td><td>180</td><td>185</td><td>190</td><td>195</td><td>200</td></tr>\n\t<tr><td>205</td><td>210</td><td>215</td><td>220</td><td>225</td><td>230</td><td>235</td><td>240</td><td>245</td><td>250</td></tr>\n</tbody>\n</table>\n",
            "text/markdown": "\nA matrix: 5 × 10 of type dbl\n\n|   5 |  10 |  15 |  20 |  25 |  30 |  35 |  40 |  45 |  50 |\n|  55 |  60 |  65 |  70 |  75 |  80 |  85 |  90 |  95 | 100 |\n| 105 | 110 | 115 | 120 | 125 | 130 | 135 | 140 | 145 | 150 |\n| 155 | 160 | 165 | 170 | 175 | 180 | 185 | 190 | 195 | 200 |\n| 205 | 210 | 215 | 220 | 225 | 230 | 235 | 240 | 245 | 250 |\n\n",
            "text/latex": "A matrix: 5 × 10 of type dbl\n\\begin{tabular}{llllllllll}\n\t   5 &  10 &  15 &  20 &  25 &  30 &  35 &  40 &  45 &  50\\\\\n\t  55 &  60 &  65 &  70 &  75 &  80 &  85 &  90 &  95 & 100\\\\\n\t 105 & 110 & 115 & 120 & 125 & 130 & 135 & 140 & 145 & 150\\\\\n\t 155 & 160 & 165 & 170 & 175 & 180 & 185 & 190 & 195 & 200\\\\\n\t 205 & 210 & 215 & 220 & 225 & 230 & 235 & 240 & 245 & 250\\\\\n\\end{tabular}\n",
            "text/plain": "     [,1] [,2] [,3] [,4] [,5] [,6] [,7] [,8] [,9] [,10]\n[1,]   5   10   15   20   25   30   35   40   45   50  \n[2,]  55   60   65   70   75   80   85   90   95  100  \n[3,] 105  110  115  120  125  130  135  140  145  150  \n[4,] 155  160  165  170  175  180  185  190  195  200  \n[5,] 205  210  215  220  225  230  235  240  245  250  "
          },
          "metadata": {}
        },
        {
          "output_type": "display_data",
          "data": {
            "text/html": "<table class=\"dataframe\">\n<caption>A matrix: 5 × 10 of type dbl</caption>\n<tbody>\n\t<tr><td>2.00000000</td><td>1.00000000</td><td>0.66666667</td><td>0.50000000</td><td>0.40000000</td><td>0.33333333</td><td>0.28571429</td><td>0.25000000</td><td>0.22222222</td><td>0.20000000</td></tr>\n\t<tr><td>0.18181818</td><td>0.16666667</td><td>0.15384615</td><td>0.14285714</td><td>0.13333333</td><td>0.12500000</td><td>0.11764706</td><td>0.11111111</td><td>0.10526316</td><td>0.10000000</td></tr>\n\t<tr><td>0.09523810</td><td>0.09090909</td><td>0.08695652</td><td>0.08333333</td><td>0.08000000</td><td>0.07692308</td><td>0.07407407</td><td>0.07142857</td><td>0.06896552</td><td>0.06666667</td></tr>\n\t<tr><td>0.06451613</td><td>0.06250000</td><td>0.06060606</td><td>0.05882353</td><td>0.05714286</td><td>0.05555556</td><td>0.05405405</td><td>0.05263158</td><td>0.05128205</td><td>0.05000000</td></tr>\n\t<tr><td>0.04878049</td><td>0.04761905</td><td>0.04651163</td><td>0.04545455</td><td>0.04444444</td><td>0.04347826</td><td>0.04255319</td><td>0.04166667</td><td>0.04081633</td><td>0.04000000</td></tr>\n</tbody>\n</table>\n",
            "text/markdown": "\nA matrix: 5 × 10 of type dbl\n\n| 2.00000000 | 1.00000000 | 0.66666667 | 0.50000000 | 0.40000000 | 0.33333333 | 0.28571429 | 0.25000000 | 0.22222222 | 0.20000000 |\n| 0.18181818 | 0.16666667 | 0.15384615 | 0.14285714 | 0.13333333 | 0.12500000 | 0.11764706 | 0.11111111 | 0.10526316 | 0.10000000 |\n| 0.09523810 | 0.09090909 | 0.08695652 | 0.08333333 | 0.08000000 | 0.07692308 | 0.07407407 | 0.07142857 | 0.06896552 | 0.06666667 |\n| 0.06451613 | 0.06250000 | 0.06060606 | 0.05882353 | 0.05714286 | 0.05555556 | 0.05405405 | 0.05263158 | 0.05128205 | 0.05000000 |\n| 0.04878049 | 0.04761905 | 0.04651163 | 0.04545455 | 0.04444444 | 0.04347826 | 0.04255319 | 0.04166667 | 0.04081633 | 0.04000000 |\n\n",
            "text/latex": "A matrix: 5 × 10 of type dbl\n\\begin{tabular}{llllllllll}\n\t 2.00000000 & 1.00000000 & 0.66666667 & 0.50000000 & 0.40000000 & 0.33333333 & 0.28571429 & 0.25000000 & 0.22222222 & 0.20000000\\\\\n\t 0.18181818 & 0.16666667 & 0.15384615 & 0.14285714 & 0.13333333 & 0.12500000 & 0.11764706 & 0.11111111 & 0.10526316 & 0.10000000\\\\\n\t 0.09523810 & 0.09090909 & 0.08695652 & 0.08333333 & 0.08000000 & 0.07692308 & 0.07407407 & 0.07142857 & 0.06896552 & 0.06666667\\\\\n\t 0.06451613 & 0.06250000 & 0.06060606 & 0.05882353 & 0.05714286 & 0.05555556 & 0.05405405 & 0.05263158 & 0.05128205 & 0.05000000\\\\\n\t 0.04878049 & 0.04761905 & 0.04651163 & 0.04545455 & 0.04444444 & 0.04347826 & 0.04255319 & 0.04166667 & 0.04081633 & 0.04000000\\\\\n\\end{tabular}\n",
            "text/plain": "     [,1]       [,2]       [,3]       [,4]       [,5]       [,6]      \n[1,] 2.00000000 1.00000000 0.66666667 0.50000000 0.40000000 0.33333333\n[2,] 0.18181818 0.16666667 0.15384615 0.14285714 0.13333333 0.12500000\n[3,] 0.09523810 0.09090909 0.08695652 0.08333333 0.08000000 0.07692308\n[4,] 0.06451613 0.06250000 0.06060606 0.05882353 0.05714286 0.05555556\n[5,] 0.04878049 0.04761905 0.04651163 0.04545455 0.04444444 0.04347826\n     [,7]       [,8]       [,9]       [,10]     \n[1,] 0.28571429 0.25000000 0.22222222 0.20000000\n[2,] 0.11764706 0.11111111 0.10526316 0.10000000\n[3,] 0.07407407 0.07142857 0.06896552 0.06666667\n[4,] 0.05405405 0.05263158 0.05128205 0.05000000\n[5,] 0.04255319 0.04166667 0.04081633 0.04000000"
          },
          "metadata": {}
        },
        {
          "output_type": "display_data",
          "data": {
            "text/html": "<table class=\"dataframe\">\n<caption>A matrix: 5 × 10 of type dbl</caption>\n<tbody>\n\t<tr><td> 0.5</td><td> 1</td><td> 1.5</td><td> 2</td><td> 2.5</td><td> 3</td><td> 3.5</td><td> 4</td><td> 4.5</td><td> 5</td></tr>\n\t<tr><td> 5.5</td><td> 6</td><td> 6.5</td><td> 7</td><td> 7.5</td><td> 8</td><td> 8.5</td><td> 9</td><td> 9.5</td><td>10</td></tr>\n\t<tr><td>10.5</td><td>11</td><td>11.5</td><td>12</td><td>12.5</td><td>13</td><td>13.5</td><td>14</td><td>14.5</td><td>15</td></tr>\n\t<tr><td>15.5</td><td>16</td><td>16.5</td><td>17</td><td>17.5</td><td>18</td><td>18.5</td><td>19</td><td>19.5</td><td>20</td></tr>\n\t<tr><td>20.5</td><td>21</td><td>21.5</td><td>22</td><td>22.5</td><td>23</td><td>23.5</td><td>24</td><td>24.5</td><td>25</td></tr>\n</tbody>\n</table>\n",
            "text/markdown": "\nA matrix: 5 × 10 of type dbl\n\n|  0.5 |  1 |  1.5 |  2 |  2.5 |  3 |  3.5 |  4 |  4.5 |  5 |\n|  5.5 |  6 |  6.5 |  7 |  7.5 |  8 |  8.5 |  9 |  9.5 | 10 |\n| 10.5 | 11 | 11.5 | 12 | 12.5 | 13 | 13.5 | 14 | 14.5 | 15 |\n| 15.5 | 16 | 16.5 | 17 | 17.5 | 18 | 18.5 | 19 | 19.5 | 20 |\n| 20.5 | 21 | 21.5 | 22 | 22.5 | 23 | 23.5 | 24 | 24.5 | 25 |\n\n",
            "text/latex": "A matrix: 5 × 10 of type dbl\n\\begin{tabular}{llllllllll}\n\t  0.5 &  1 &  1.5 &  2 &  2.5 &  3 &  3.5 &  4 &  4.5 &  5\\\\\n\t  5.5 &  6 &  6.5 &  7 &  7.5 &  8 &  8.5 &  9 &  9.5 & 10\\\\\n\t 10.5 & 11 & 11.5 & 12 & 12.5 & 13 & 13.5 & 14 & 14.5 & 15\\\\\n\t 15.5 & 16 & 16.5 & 17 & 17.5 & 18 & 18.5 & 19 & 19.5 & 20\\\\\n\t 20.5 & 21 & 21.5 & 22 & 22.5 & 23 & 23.5 & 24 & 24.5 & 25\\\\\n\\end{tabular}\n",
            "text/plain": "     [,1] [,2] [,3] [,4] [,5] [,6] [,7] [,8] [,9] [,10]\n[1,]  0.5  1    1.5  2    2.5  3    3.5  4    4.5  5   \n[2,]  5.5  6    6.5  7    7.5  8    8.5  9    9.5 10   \n[3,] 10.5 11   11.5 12   12.5 13   13.5 14   14.5 15   \n[4,] 15.5 16   16.5 17   17.5 18   18.5 19   19.5 20   \n[5,] 20.5 21   21.5 22   22.5 23   23.5 24   24.5 25   "
          },
          "metadata": {}
        },
        {
          "output_type": "display_data",
          "data": {
            "text/html": "<table class=\"dataframe\">\n<caption>A matrix: 5 × 10 of type dbl</caption>\n<tbody>\n\t<tr><td>   1</td><td>   4</td><td>   9</td><td>  16</td><td>  25</td><td>  36</td><td>  49</td><td>  64</td><td>  81</td><td> 100</td></tr>\n\t<tr><td> 121</td><td> 144</td><td> 169</td><td> 196</td><td> 225</td><td> 256</td><td> 289</td><td> 324</td><td> 361</td><td> 400</td></tr>\n\t<tr><td> 441</td><td> 484</td><td> 529</td><td> 576</td><td> 625</td><td> 676</td><td> 729</td><td> 784</td><td> 841</td><td> 900</td></tr>\n\t<tr><td> 961</td><td>1024</td><td>1089</td><td>1156</td><td>1225</td><td>1296</td><td>1369</td><td>1444</td><td>1521</td><td>1600</td></tr>\n\t<tr><td>1681</td><td>1764</td><td>1849</td><td>1936</td><td>2025</td><td>2116</td><td>2209</td><td>2304</td><td>2401</td><td>2500</td></tr>\n</tbody>\n</table>\n",
            "text/markdown": "\nA matrix: 5 × 10 of type dbl\n\n|    1 |    4 |    9 |   16 |   25 |   36 |   49 |   64 |   81 |  100 |\n|  121 |  144 |  169 |  196 |  225 |  256 |  289 |  324 |  361 |  400 |\n|  441 |  484 |  529 |  576 |  625 |  676 |  729 |  784 |  841 |  900 |\n|  961 | 1024 | 1089 | 1156 | 1225 | 1296 | 1369 | 1444 | 1521 | 1600 |\n| 1681 | 1764 | 1849 | 1936 | 2025 | 2116 | 2209 | 2304 | 2401 | 2500 |\n\n",
            "text/latex": "A matrix: 5 × 10 of type dbl\n\\begin{tabular}{llllllllll}\n\t    1 &    4 &    9 &   16 &   25 &   36 &   49 &   64 &   81 &  100\\\\\n\t  121 &  144 &  169 &  196 &  225 &  256 &  289 &  324 &  361 &  400\\\\\n\t  441 &  484 &  529 &  576 &  625 &  676 &  729 &  784 &  841 &  900\\\\\n\t  961 & 1024 & 1089 & 1156 & 1225 & 1296 & 1369 & 1444 & 1521 & 1600\\\\\n\t 1681 & 1764 & 1849 & 1936 & 2025 & 2116 & 2209 & 2304 & 2401 & 2500\\\\\n\\end{tabular}\n",
            "text/plain": "     [,1] [,2] [,3] [,4] [,5] [,6] [,7] [,8] [,9] [,10]\n[1,]    1    4    9   16   25   36   49   64   81  100 \n[2,]  121  144  169  196  225  256  289  324  361  400 \n[3,]  441  484  529  576  625  676  729  784  841  900 \n[4,]  961 1024 1089 1156 1225 1296 1369 1444 1521 1600 \n[5,] 1681 1764 1849 1936 2025 2116 2209 2304 2401 2500 "
          },
          "metadata": {}
        },
        {
          "output_type": "display_data",
          "data": {
            "text/html": "<table class=\"dataframe\">\n<caption>A matrix: 5 × 10 of type int</caption>\n<tbody>\n\t<tr><td> 2</td><td> 4</td><td> 6</td><td> 8</td><td>10</td><td>12</td><td>14</td><td>16</td><td>18</td><td> 20</td></tr>\n\t<tr><td>22</td><td>24</td><td>26</td><td>28</td><td>30</td><td>32</td><td>34</td><td>36</td><td>38</td><td> 40</td></tr>\n\t<tr><td>42</td><td>44</td><td>46</td><td>48</td><td>50</td><td>52</td><td>54</td><td>56</td><td>58</td><td> 60</td></tr>\n\t<tr><td>62</td><td>64</td><td>66</td><td>68</td><td>70</td><td>72</td><td>74</td><td>76</td><td>78</td><td> 80</td></tr>\n\t<tr><td>82</td><td>84</td><td>86</td><td>88</td><td>90</td><td>92</td><td>94</td><td>96</td><td>98</td><td>100</td></tr>\n</tbody>\n</table>\n",
            "text/markdown": "\nA matrix: 5 × 10 of type int\n\n|  2 |  4 |  6 |  8 | 10 | 12 | 14 | 16 | 18 |  20 |\n| 22 | 24 | 26 | 28 | 30 | 32 | 34 | 36 | 38 |  40 |\n| 42 | 44 | 46 | 48 | 50 | 52 | 54 | 56 | 58 |  60 |\n| 62 | 64 | 66 | 68 | 70 | 72 | 74 | 76 | 78 |  80 |\n| 82 | 84 | 86 | 88 | 90 | 92 | 94 | 96 | 98 | 100 |\n\n",
            "text/latex": "A matrix: 5 × 10 of type int\n\\begin{tabular}{llllllllll}\n\t  2 &  4 &  6 &  8 & 10 & 12 & 14 & 16 & 18 &  20\\\\\n\t 22 & 24 & 26 & 28 & 30 & 32 & 34 & 36 & 38 &  40\\\\\n\t 42 & 44 & 46 & 48 & 50 & 52 & 54 & 56 & 58 &  60\\\\\n\t 62 & 64 & 66 & 68 & 70 & 72 & 74 & 76 & 78 &  80\\\\\n\t 82 & 84 & 86 & 88 & 90 & 92 & 94 & 96 & 98 & 100\\\\\n\\end{tabular}\n",
            "text/plain": "     [,1] [,2] [,3] [,4] [,5] [,6] [,7] [,8] [,9] [,10]\n[1,]  2    4    6    8   10   12   14   16   18    20  \n[2,] 22   24   26   28   30   32   34   36   38    40  \n[3,] 42   44   46   48   50   52   54   56   58    60  \n[4,] 62   64   66   68   70   72   74   76   78    80  \n[5,] 82   84   86   88   90   92   94   96   98   100  "
          },
          "metadata": {}
        },
        {
          "output_type": "display_data",
          "data": {
            "text/html": "<table class=\"dataframe\">\n<caption>A matrix: 5 × 10 of type int</caption>\n<tbody>\n\t<tr><td>0</td><td>0</td><td>0</td><td>0</td><td>0</td><td>0</td><td>0</td><td>0</td><td>0</td><td>0</td></tr>\n\t<tr><td>0</td><td>0</td><td>0</td><td>0</td><td>0</td><td>0</td><td>0</td><td>0</td><td>0</td><td>0</td></tr>\n\t<tr><td>0</td><td>0</td><td>0</td><td>0</td><td>0</td><td>0</td><td>0</td><td>0</td><td>0</td><td>0</td></tr>\n\t<tr><td>0</td><td>0</td><td>0</td><td>0</td><td>0</td><td>0</td><td>0</td><td>0</td><td>0</td><td>0</td></tr>\n\t<tr><td>0</td><td>0</td><td>0</td><td>0</td><td>0</td><td>0</td><td>0</td><td>0</td><td>0</td><td>0</td></tr>\n</tbody>\n</table>\n",
            "text/markdown": "\nA matrix: 5 × 10 of type int\n\n| 0 | 0 | 0 | 0 | 0 | 0 | 0 | 0 | 0 | 0 |\n| 0 | 0 | 0 | 0 | 0 | 0 | 0 | 0 | 0 | 0 |\n| 0 | 0 | 0 | 0 | 0 | 0 | 0 | 0 | 0 | 0 |\n| 0 | 0 | 0 | 0 | 0 | 0 | 0 | 0 | 0 | 0 |\n| 0 | 0 | 0 | 0 | 0 | 0 | 0 | 0 | 0 | 0 |\n\n",
            "text/latex": "A matrix: 5 × 10 of type int\n\\begin{tabular}{llllllllll}\n\t 0 & 0 & 0 & 0 & 0 & 0 & 0 & 0 & 0 & 0\\\\\n\t 0 & 0 & 0 & 0 & 0 & 0 & 0 & 0 & 0 & 0\\\\\n\t 0 & 0 & 0 & 0 & 0 & 0 & 0 & 0 & 0 & 0\\\\\n\t 0 & 0 & 0 & 0 & 0 & 0 & 0 & 0 & 0 & 0\\\\\n\t 0 & 0 & 0 & 0 & 0 & 0 & 0 & 0 & 0 & 0\\\\\n\\end{tabular}\n",
            "text/plain": "     [,1] [,2] [,3] [,4] [,5] [,6] [,7] [,8] [,9] [,10]\n[1,] 0    0    0    0    0    0    0    0    0    0    \n[2,] 0    0    0    0    0    0    0    0    0    0    \n[3,] 0    0    0    0    0    0    0    0    0    0    \n[4,] 0    0    0    0    0    0    0    0    0    0    \n[5,] 0    0    0    0    0    0    0    0    0    0    "
          },
          "metadata": {}
        }
      ]
    },
    {
      "cell_type": "code",
      "source": [
        "#Matrix Operations\n",
        "colSums(stock.matrix) #sum for each column\n",
        "rowSums(stock.matrix) #sum for each row\n",
        "rowMeans(stock.matrix) #mean for each row\n",
        "\n",
        "#adding rows and columns to a matrix using rbind() and cbind()\n",
        "\n",
        "stock3 <- c(150, 151, 149, 120, 113)\n",
        "total_stock <- rbind(stock.matrix, stock3)\n",
        "total_stock\n",
        "\n",
        "avg <- rowMeans(total_stock)\n",
        "avg\n",
        "\n",
        "total_stock <- cbind(total_stock, avg)"
      ],
      "metadata": {
        "execution": {
          "iopub.status.busy": "2022-04-29T14:52:11.792743Z",
          "iopub.execute_input": "2022-04-29T14:52:11.794194Z",
          "iopub.status.idle": "2022-04-29T14:52:11.847446Z"
        },
        "trusted": true,
        "id": "LpkJiIdMqOCt",
        "outputId": "a22e3b74-111f-4c75-9827-c5975de8a6a6"
      },
      "execution_count": null,
      "outputs": [
        {
          "output_type": "display_data",
          "data": {
            "text/html": "<style>\n.dl-inline {width: auto; margin:0; padding: 0}\n.dl-inline>dt, .dl-inline>dd {float: none; width: auto; display: inline-block}\n.dl-inline>dt::after {content: \":\\0020\"; padding-right: .5ex}\n.dl-inline>dt:not(:first-of-type) {padding-left: .5ex}\n</style><dl class=dl-inline><dt>Mon</dt><dd>680</dd><dt>Tue</dt><dd>689</dd><dt>Wed</dt><dd>741</dd><dt>Thu</dt><dd>681</dd><dt>Fri</dt><dd>674</dd></dl>\n",
            "text/markdown": "Mon\n:   680Tue\n:   689Wed\n:   741Thu\n:   681Fri\n:   674\n\n",
            "text/latex": "\\begin{description*}\n\\item[Mon] 680\n\\item[Tue] 689\n\\item[Wed] 741\n\\item[Thu] 681\n\\item[Fri] 674\n\\end{description*}\n",
            "text/plain": "Mon Tue Wed Thu Fri \n680 689 741 681 674 "
          },
          "metadata": {}
        },
        {
          "output_type": "display_data",
          "data": {
            "text/html": "<style>\n.dl-inline {width: auto; margin:0; padding: 0}\n.dl-inline>dt, .dl-inline>dd {float: none; width: auto; display: inline-block}\n.dl-inline>dt::after {content: \":\\0020\"; padding-right: .5ex}\n.dl-inline>dt:not(:first-of-type) {padding-left: .5ex}\n</style><dl class=dl-inline><dt>Stock1</dt><dd>2251</dd><dt>Stock2</dt><dd>1214</dd></dl>\n",
            "text/markdown": "Stock1\n:   2251Stock2\n:   1214\n\n",
            "text/latex": "\\begin{description*}\n\\item[Stock1] 2251\n\\item[Stock2] 1214\n\\end{description*}\n",
            "text/plain": "Stock1 Stock2 \n  2251   1214 "
          },
          "metadata": {}
        },
        {
          "output_type": "display_data",
          "data": {
            "text/html": "<style>\n.dl-inline {width: auto; margin:0; padding: 0}\n.dl-inline>dt, .dl-inline>dd {float: none; width: auto; display: inline-block}\n.dl-inline>dt::after {content: \":\\0020\"; padding-right: .5ex}\n.dl-inline>dt:not(:first-of-type) {padding-left: .5ex}\n</style><dl class=dl-inline><dt>Stock1</dt><dd>450.2</dd><dt>Stock2</dt><dd>242.8</dd></dl>\n",
            "text/markdown": "Stock1\n:   450.2Stock2\n:   242.8\n\n",
            "text/latex": "\\begin{description*}\n\\item[Stock1] 450.2\n\\item[Stock2] 242.8\n\\end{description*}\n",
            "text/plain": "Stock1 Stock2 \n 450.2  242.8 "
          },
          "metadata": {}
        },
        {
          "output_type": "display_data",
          "data": {
            "text/html": "<table class=\"dataframe\">\n<caption>A matrix: 3 × 5 of type dbl</caption>\n<thead>\n\t<tr><th></th><th scope=col>Mon</th><th scope=col>Tue</th><th scope=col>Wed</th><th scope=col>Thu</th><th scope=col>Fri</th></tr>\n</thead>\n<tbody>\n\t<tr><th scope=row>Stock1</th><td>450</td><td>451</td><td>452</td><td>453</td><td>445</td></tr>\n\t<tr><th scope=row>Stock2</th><td>230</td><td>238</td><td>289</td><td>228</td><td>229</td></tr>\n\t<tr><th scope=row>stock3</th><td>150</td><td>151</td><td>149</td><td>120</td><td>113</td></tr>\n</tbody>\n</table>\n",
            "text/markdown": "\nA matrix: 3 × 5 of type dbl\n\n| <!--/--> | Mon | Tue | Wed | Thu | Fri |\n|---|---|---|---|---|---|\n| Stock1 | 450 | 451 | 452 | 453 | 445 |\n| Stock2 | 230 | 238 | 289 | 228 | 229 |\n| stock3 | 150 | 151 | 149 | 120 | 113 |\n\n",
            "text/latex": "A matrix: 3 × 5 of type dbl\n\\begin{tabular}{r|lllll}\n  & Mon & Tue & Wed & Thu & Fri\\\\\n\\hline\n\tStock1 & 450 & 451 & 452 & 453 & 445\\\\\n\tStock2 & 230 & 238 & 289 & 228 & 229\\\\\n\tstock3 & 150 & 151 & 149 & 120 & 113\\\\\n\\end{tabular}\n",
            "text/plain": "       Mon Tue Wed Thu Fri\nStock1 450 451 452 453 445\nStock2 230 238 289 228 229\nstock3 150 151 149 120 113"
          },
          "metadata": {}
        },
        {
          "output_type": "display_data",
          "data": {
            "text/html": "<style>\n.dl-inline {width: auto; margin:0; padding: 0}\n.dl-inline>dt, .dl-inline>dd {float: none; width: auto; display: inline-block}\n.dl-inline>dt::after {content: \":\\0020\"; padding-right: .5ex}\n.dl-inline>dt:not(:first-of-type) {padding-left: .5ex}\n</style><dl class=dl-inline><dt>Stock1</dt><dd>450.2</dd><dt>Stock2</dt><dd>242.8</dd><dt>stock3</dt><dd>136.6</dd></dl>\n",
            "text/markdown": "Stock1\n:   450.2Stock2\n:   242.8stock3\n:   136.6\n\n",
            "text/latex": "\\begin{description*}\n\\item[Stock1] 450.2\n\\item[Stock2] 242.8\n\\item[stock3] 136.6\n\\end{description*}\n",
            "text/plain": "Stock1 Stock2 stock3 \n 450.2  242.8  136.6 "
          },
          "metadata": {}
        }
      ]
    },
    {
      "cell_type": "markdown",
      "source": [
        "### Dataframes"
      ],
      "metadata": {
        "id": "Y8sP1KxOqOCu"
      }
    },
    {
      "cell_type": "code",
      "source": [
        "data()\n",
        "data(AirPassengers)"
      ],
      "metadata": {
        "execution": {
          "iopub.status.busy": "2022-04-29T14:57:11.020857Z",
          "iopub.execute_input": "2022-04-29T14:57:11.022425Z",
          "iopub.status.idle": "2022-04-29T14:57:11.081915Z"
        },
        "trusted": true,
        "id": "Wk-ISAVcqOCu",
        "outputId": "e89b73fe-79e7-44aa-f18f-377a88996374"
      },
      "execution_count": null,
      "outputs": [
        {
          "output_type": "display_data",
          "data": {
            "text/html": "<h3>Data sets</h3>\n<table class=\"dataframe\">\n<caption>A data.frame: 104 × 3</caption>\n<thead>\n\t<tr><th scope=col>Package</th><th scope=col>Item</th><th scope=col>Title</th></tr>\n\t<tr><th scope=col>&lt;chr&gt;</th><th scope=col>&lt;chr&gt;</th><th scope=col>&lt;chr&gt;</th></tr>\n</thead>\n<tbody>\n\t<tr><td>datasets</td><td>AirPassengers         </td><td>Monthly Airline Passenger Numbers 1949-1960                    </td></tr>\n\t<tr><td>datasets</td><td>BJsales               </td><td>Sales Data with Leading Indicator                              </td></tr>\n\t<tr><td>datasets</td><td>BJsales.lead (BJsales)</td><td>Sales Data with Leading Indicator                              </td></tr>\n\t<tr><td>datasets</td><td>BOD                   </td><td>Biochemical Oxygen Demand                                      </td></tr>\n\t<tr><td>datasets</td><td>CO2                   </td><td>Carbon Dioxide Uptake in Grass Plants                          </td></tr>\n\t<tr><td>datasets</td><td>ChickWeight           </td><td>Weight versus age of chicks on different diets                 </td></tr>\n\t<tr><td>datasets</td><td>DNase                 </td><td>Elisa assay of DNase                                           </td></tr>\n\t<tr><td>datasets</td><td>EuStockMarkets        </td><td>Daily Closing Prices of Major European Stock Indices, 1991-1998</td></tr>\n\t<tr><td>datasets</td><td>Formaldehyde          </td><td>Determination of Formaldehyde                                  </td></tr>\n\t<tr><td>datasets</td><td>HairEyeColor          </td><td>Hair and Eye Color of Statistics Students                      </td></tr>\n\t<tr><td>datasets</td><td>Harman23.cor          </td><td>Harman Example 2.3                                             </td></tr>\n\t<tr><td>datasets</td><td>Harman74.cor          </td><td>Harman Example 7.4                                             </td></tr>\n\t<tr><td>datasets</td><td>Indometh              </td><td>Pharmacokinetics of Indomethacin                               </td></tr>\n\t<tr><td>datasets</td><td>InsectSprays          </td><td>Effectiveness of Insect Sprays                                 </td></tr>\n\t<tr><td>datasets</td><td><span style=white-space:pre-wrap>JohnsonJohnson        </span></td><td><span style=white-space:pre-wrap>Quarterly Earnings per Johnson &amp; Johnson Share                 </span></td></tr>\n\t<tr><td>datasets</td><td>LakeHuron             </td><td>Level of Lake Huron 1875-1972                                  </td></tr>\n\t<tr><td>datasets</td><td>LifeCycleSavings      </td><td>Intercountry Life-Cycle Savings Data                           </td></tr>\n\t<tr><td>datasets</td><td>Loblolly              </td><td>Growth of Loblolly pine trees                                  </td></tr>\n\t<tr><td>datasets</td><td>Nile                  </td><td>Flow of the River Nile                                         </td></tr>\n\t<tr><td>datasets</td><td>Orange                </td><td>Growth of Orange Trees                                         </td></tr>\n\t<tr><td>datasets</td><td>OrchardSprays         </td><td>Potency of Orchard Sprays                                      </td></tr>\n\t<tr><td>datasets</td><td>PlantGrowth           </td><td>Results from an Experiment on Plant Growth                     </td></tr>\n\t<tr><td>datasets</td><td>Puromycin             </td><td>Reaction Velocity of an Enzymatic Reaction                     </td></tr>\n\t<tr><td>datasets</td><td>Seatbelts             </td><td>Road Casualties in Great Britain 1969-84                       </td></tr>\n\t<tr><td>datasets</td><td>Theoph                </td><td>Pharmacokinetics of Theophylline                               </td></tr>\n\t<tr><td>datasets</td><td>Titanic               </td><td>Survival of passengers on the Titanic                          </td></tr>\n\t<tr><td>datasets</td><td>ToothGrowth           </td><td>The Effect of Vitamin C on Tooth Growth in Guinea Pigs         </td></tr>\n\t<tr><td>datasets</td><td>UCBAdmissions         </td><td>Student Admissions at UC Berkeley                              </td></tr>\n\t<tr><td>datasets</td><td>UKDriverDeaths        </td><td>Road Casualties in Great Britain 1969-84                       </td></tr>\n\t<tr><td>datasets</td><td>UKgas                 </td><td>UK Quarterly Gas Consumption                                   </td></tr>\n\t<tr><td>datasets</td><td>USAccDeaths           </td><td>Accidental Deaths in the US 1973-1978                          </td></tr>\n\t<tr><td>datasets</td><td>USArrests             </td><td>Violent Crime Rates by US State                                </td></tr>\n\t<tr><td>datasets</td><td>USJudgeRatings        </td><td>Lawyers' Ratings of State Judges in the US Superior Court      </td></tr>\n\t<tr><td>datasets</td><td>USPersonalExpenditure </td><td>Personal Expenditure Data                                      </td></tr>\n\t<tr><td>datasets</td><td>UScitiesD             </td><td>Distances Between European Cities and Between US Cities        </td></tr>\n\t<tr><td>datasets</td><td>VADeaths              </td><td>Death Rates in Virginia (1940)                                 </td></tr>\n\t<tr><td>datasets</td><td>WWWusage              </td><td>Internet Usage per Minute                                      </td></tr>\n\t<tr><td>datasets</td><td>WorldPhones           </td><td>The World's Telephones                                         </td></tr>\n\t<tr><td>datasets</td><td>ability.cov           </td><td>Ability and Intelligence Tests                                 </td></tr>\n\t<tr><td>datasets</td><td>airmiles              </td><td>Passenger Miles on Commercial US Airlines, 1937-1960           </td></tr>\n\t<tr><td>datasets</td><td>airquality            </td><td>New York Air Quality Measurements                              </td></tr>\n\t<tr><td>datasets</td><td>anscombe              </td><td>Anscombe's Quartet of 'Identical' Simple Linear Regressions    </td></tr>\n\t<tr><td>datasets</td><td>attenu                </td><td>The Joyner-Boore Attenuation Data                              </td></tr>\n\t<tr><td>datasets</td><td>attitude              </td><td>The Chatterjee-Price Attitude Data                             </td></tr>\n\t<tr><td>datasets</td><td>austres               </td><td>Quarterly Time Series of the Number of Australian Residents    </td></tr>\n\t<tr><td>datasets</td><td>beaver1 (beavers)     </td><td>Body Temperature Series of Two Beavers                         </td></tr>\n\t<tr><td>datasets</td><td>beaver2 (beavers)     </td><td>Body Temperature Series of Two Beavers                         </td></tr>\n\t<tr><td>datasets</td><td>cars                  </td><td>Speed and Stopping Distances of Cars                           </td></tr>\n\t<tr><td>datasets</td><td>chickwts              </td><td>Chicken Weights by Feed Type                                   </td></tr>\n\t<tr><td>datasets</td><td>co2                   </td><td>Mauna Loa Atmospheric CO2 Concentration                        </td></tr>\n\t<tr><td>datasets</td><td>crimtab               </td><td>Student's 3000 Criminals Data                                  </td></tr>\n\t<tr><td>datasets</td><td>discoveries           </td><td>Yearly Numbers of Important Discoveries                        </td></tr>\n\t<tr><td>datasets</td><td>esoph                 </td><td>Smoking, Alcohol and (O)esophageal Cancer                      </td></tr>\n\t<tr><td>datasets</td><td>euro                  </td><td>Conversion Rates of Euro Currencies                            </td></tr>\n\t<tr><td>datasets</td><td>euro.cross (euro)     </td><td>Conversion Rates of Euro Currencies                            </td></tr>\n\t<tr><td>datasets</td><td>eurodist              </td><td>Distances Between European Cities and Between US Cities        </td></tr>\n\t<tr><td>datasets</td><td>faithful              </td><td>Old Faithful Geyser Data                                       </td></tr>\n\t<tr><td>datasets</td><td>fdeaths (UKLungDeaths)</td><td>Monthly Deaths from Lung Diseases in the UK                    </td></tr>\n\t<tr><td>datasets</td><td>freeny                </td><td>Freeny's Revenue Data                                          </td></tr>\n\t<tr><td>datasets</td><td>freeny.x (freeny)     </td><td>Freeny's Revenue Data                                          </td></tr>\n\t<tr><td>datasets</td><td>freeny.y (freeny)     </td><td>Freeny's Revenue Data                                          </td></tr>\n\t<tr><td>datasets</td><td>infert                </td><td>Infertility after Spontaneous and Induced Abortion             </td></tr>\n\t<tr><td>datasets</td><td>iris                  </td><td>Edgar Anderson's Iris Data                                     </td></tr>\n\t<tr><td>datasets</td><td>iris3                 </td><td>Edgar Anderson's Iris Data                                     </td></tr>\n\t<tr><td>datasets</td><td>islands               </td><td>Areas of the World's Major Landmasses                          </td></tr>\n\t<tr><td>datasets</td><td>ldeaths (UKLungDeaths)</td><td>Monthly Deaths from Lung Diseases in the UK                    </td></tr>\n\t<tr><td>datasets</td><td>lh                    </td><td>Luteinizing Hormone in Blood Samples                           </td></tr>\n\t<tr><td>datasets</td><td>longley               </td><td>Longley's Economic Regression Data                             </td></tr>\n\t<tr><td>datasets</td><td>lynx                  </td><td>Annual Canadian Lynx trappings 1821-1934                       </td></tr>\n\t<tr><td>datasets</td><td>mdeaths (UKLungDeaths)</td><td>Monthly Deaths from Lung Diseases in the UK                    </td></tr>\n\t<tr><td>datasets</td><td>morley                </td><td>Michelson Speed of Light Data                                  </td></tr>\n\t<tr><td>datasets</td><td>mtcars                </td><td>Motor Trend Car Road Tests                                     </td></tr>\n\t<tr><td>datasets</td><td>nhtemp                </td><td>Average Yearly Temperatures in New Haven                       </td></tr>\n\t<tr><td>datasets</td><td>nottem                </td><td>Average Monthly Temperatures at Nottingham, 1920-1939          </td></tr>\n\t<tr><td>datasets</td><td>npk                   </td><td>Classical N, P, K Factorial Experiment                         </td></tr>\n\t<tr><td>datasets</td><td>occupationalStatus    </td><td>Occupational Status of Fathers and their Sons                  </td></tr>\n\t<tr><td>datasets</td><td>precip                </td><td>Annual Precipitation in US Cities                              </td></tr>\n\t<tr><td>datasets</td><td>presidents            </td><td>Quarterly Approval Ratings of US Presidents                    </td></tr>\n\t<tr><td>datasets</td><td>pressure              </td><td>Vapor Pressure of Mercury as a Function of Temperature         </td></tr>\n\t<tr><td>datasets</td><td>quakes                </td><td>Locations of Earthquakes off Fiji                              </td></tr>\n\t<tr><td>datasets</td><td>randu                 </td><td>Random Numbers from Congruential Generator RANDU               </td></tr>\n\t<tr><td>datasets</td><td>rivers                </td><td>Lengths of Major North American Rivers                         </td></tr>\n\t<tr><td>datasets</td><td>rock                  </td><td>Measurements on Petroleum Rock Samples                         </td></tr>\n\t<tr><td>datasets</td><td>sleep                 </td><td>Student's Sleep Data                                           </td></tr>\n\t<tr><td>datasets</td><td>stack.loss (stackloss)</td><td>Brownlee's Stack Loss Plant Data                               </td></tr>\n\t<tr><td>datasets</td><td>stack.x (stackloss)   </td><td>Brownlee's Stack Loss Plant Data                               </td></tr>\n\t<tr><td>datasets</td><td>stackloss             </td><td>Brownlee's Stack Loss Plant Data                               </td></tr>\n\t<tr><td>datasets</td><td>state.abb (state)     </td><td>US State Facts and Figures                                     </td></tr>\n\t<tr><td>datasets</td><td>state.area (state)    </td><td>US State Facts and Figures                                     </td></tr>\n\t<tr><td>datasets</td><td>state.center (state)  </td><td>US State Facts and Figures                                     </td></tr>\n\t<tr><td>datasets</td><td>state.division (state)</td><td>US State Facts and Figures                                     </td></tr>\n\t<tr><td>datasets</td><td>state.name (state)    </td><td>US State Facts and Figures                                     </td></tr>\n\t<tr><td>datasets</td><td>state.region (state)  </td><td>US State Facts and Figures                                     </td></tr>\n\t<tr><td>datasets</td><td>state.x77 (state)     </td><td>US State Facts and Figures                                     </td></tr>\n\t<tr><td>datasets</td><td>sunspot.month         </td><td>Monthly Sunspot Data, from 1749 to \"Present\"                   </td></tr>\n\t<tr><td>datasets</td><td>sunspot.year          </td><td>Yearly Sunspot Data, 1700-1988                                 </td></tr>\n\t<tr><td>datasets</td><td>sunspots              </td><td>Monthly Sunspot Numbers, 1749-1983                             </td></tr>\n\t<tr><td>datasets</td><td>swiss                 </td><td>Swiss Fertility and Socioeconomic Indicators (1888) Data       </td></tr>\n\t<tr><td>datasets</td><td>treering              </td><td>Yearly Treering Data, -6000-1979                               </td></tr>\n\t<tr><td>datasets</td><td>trees                 </td><td>Diameter, Height and Volume for Black Cherry Trees             </td></tr>\n\t<tr><td>datasets</td><td>uspop                 </td><td>Populations Recorded by the US Census                          </td></tr>\n\t<tr><td>datasets</td><td>volcano               </td><td>Topographic Information on Auckland's Maunga Whau Volcano      </td></tr>\n\t<tr><td>datasets</td><td>warpbreaks            </td><td>The Number of Breaks in Yarn during Weaving                    </td></tr>\n\t<tr><td>datasets</td><td>women                 </td><td>Average Heights and Weights for American Women                 </td></tr>\n</tbody>\n</table>\n\n<p>Use ‘data(package = .packages(all.available = TRUE))’\nto list the data sets in all *available* packages.</p>",
            "text/plain": "Data sets in package ‘datasets’:\n\nAirPassengers           Monthly Airline Passenger Numbers 1949-1960\nBJsales                 Sales Data with Leading Indicator\nBJsales.lead (BJsales)\n                        Sales Data with Leading Indicator\nBOD                     Biochemical Oxygen Demand\nCO2                     Carbon Dioxide Uptake in Grass Plants\nChickWeight             Weight versus age of chicks on different diets\nDNase                   Elisa assay of DNase\nEuStockMarkets          Daily Closing Prices of Major European Stock\n                        Indices, 1991-1998\nFormaldehyde            Determination of Formaldehyde\nHairEyeColor            Hair and Eye Color of Statistics Students\nHarman23.cor            Harman Example 2.3\nHarman74.cor            Harman Example 7.4\nIndometh                Pharmacokinetics of Indomethacin\nInsectSprays            Effectiveness of Insect Sprays\nJohnsonJohnson          Quarterly Earnings per Johnson & Johnson Share\nLakeHuron               Level of Lake Huron 1875-1972\nLifeCycleSavings        Intercountry Life-Cycle Savings Data\nLoblolly                Growth of Loblolly pine trees\nNile                    Flow of the River Nile\nOrange                  Growth of Orange Trees\nOrchardSprays           Potency of Orchard Sprays\nPlantGrowth             Results from an Experiment on Plant Growth\nPuromycin               Reaction Velocity of an Enzymatic Reaction\nSeatbelts               Road Casualties in Great Britain 1969-84\nTheoph                  Pharmacokinetics of Theophylline\nTitanic                 Survival of passengers on the Titanic\nToothGrowth             The Effect of Vitamin C on Tooth Growth in\n                        Guinea Pigs\nUCBAdmissions           Student Admissions at UC Berkeley\nUKDriverDeaths          Road Casualties in Great Britain 1969-84\nUKgas                   UK Quarterly Gas Consumption\nUSAccDeaths             Accidental Deaths in the US 1973-1978\nUSArrests               Violent Crime Rates by US State\nUSJudgeRatings          Lawyers' Ratings of State Judges in the US\n                        Superior Court\nUSPersonalExpenditure   Personal Expenditure Data\nUScitiesD               Distances Between European Cities and Between\n                        US Cities\nVADeaths                Death Rates in Virginia (1940)\nWWWusage                Internet Usage per Minute\nWorldPhones             The World's Telephones\nability.cov             Ability and Intelligence Tests\nairmiles                Passenger Miles on Commercial US Airlines,\n                        1937-1960\nairquality              New York Air Quality Measurements\nanscombe                Anscombe's Quartet of 'Identical' Simple Linear\n                        Regressions\nattenu                  The Joyner-Boore Attenuation Data\nattitude                The Chatterjee-Price Attitude Data\naustres                 Quarterly Time Series of the Number of\n                        Australian Residents\nbeaver1 (beavers)       Body Temperature Series of Two Beavers\nbeaver2 (beavers)       Body Temperature Series of Two Beavers\ncars                    Speed and Stopping Distances of Cars\nchickwts                Chicken Weights by Feed Type\nco2                     Mauna Loa Atmospheric CO2 Concentration\ncrimtab                 Student's 3000 Criminals Data\ndiscoveries             Yearly Numbers of Important Discoveries\nesoph                   Smoking, Alcohol and (O)esophageal Cancer\neuro                    Conversion Rates of Euro Currencies\neuro.cross (euro)       Conversion Rates of Euro Currencies\neurodist                Distances Between European Cities and Between\n                        US Cities\nfaithful                Old Faithful Geyser Data\nfdeaths (UKLungDeaths)\n                        Monthly Deaths from Lung Diseases in the UK\nfreeny                  Freeny's Revenue Data\nfreeny.x (freeny)       Freeny's Revenue Data\nfreeny.y (freeny)       Freeny's Revenue Data\ninfert                  Infertility after Spontaneous and Induced\n                        Abortion\niris                    Edgar Anderson's Iris Data\niris3                   Edgar Anderson's Iris Data\nislands                 Areas of the World's Major Landmasses\nldeaths (UKLungDeaths)\n                        Monthly Deaths from Lung Diseases in the UK\nlh                      Luteinizing Hormone in Blood Samples\nlongley                 Longley's Economic Regression Data\nlynx                    Annual Canadian Lynx trappings 1821-1934\nmdeaths (UKLungDeaths)\n                        Monthly Deaths from Lung Diseases in the UK\nmorley                  Michelson Speed of Light Data\nmtcars                  Motor Trend Car Road Tests\nnhtemp                  Average Yearly Temperatures in New Haven\nnottem                  Average Monthly Temperatures at Nottingham,\n                        1920-1939\nnpk                     Classical N, P, K Factorial Experiment\noccupationalStatus      Occupational Status of Fathers and their Sons\nprecip                  Annual Precipitation in US Cities\npresidents              Quarterly Approval Ratings of US Presidents\npressure                Vapor Pressure of Mercury as a Function of\n                        Temperature\nquakes                  Locations of Earthquakes off Fiji\nrandu                   Random Numbers from Congruential Generator\n                        RANDU\nrivers                  Lengths of Major North American Rivers\nrock                    Measurements on Petroleum Rock Samples\nsleep                   Student's Sleep Data\nstack.loss (stackloss)\n                        Brownlee's Stack Loss Plant Data\nstack.x (stackloss)     Brownlee's Stack Loss Plant Data\nstackloss               Brownlee's Stack Loss Plant Data\nstate.abb (state)       US State Facts and Figures\nstate.area (state)      US State Facts and Figures\nstate.center (state)    US State Facts and Figures\nstate.division (state)\n                        US State Facts and Figures\nstate.name (state)      US State Facts and Figures\nstate.region (state)    US State Facts and Figures\nstate.x77 (state)       US State Facts and Figures\nsunspot.month           Monthly Sunspot Data, from 1749 to \"Present\"\nsunspot.year            Yearly Sunspot Data, 1700-1988\nsunspots                Monthly Sunspot Numbers, 1749-1983\nswiss                   Swiss Fertility and Socioeconomic Indicators\n                        (1888) Data\ntreering                Yearly Treering Data, -6000-1979\ntrees                   Diameter, Height and Volume for Black Cherry\n                        Trees\nuspop                   Populations Recorded by the US Census\nvolcano                 Topographic Information on Auckland's Maunga\n                        Whau Volcano\nwarpbreaks              The Number of Breaks in Yarn during Weaving\nwomen                   Average Heights and Weights for American Women\n\nUse ‘data(package = .packages(all.available = TRUE))’\nto list the data sets in all *available* packages."
          },
          "metadata": {}
        }
      ]
    },
    {
      "cell_type": "code",
      "source": [
        "head(AirPassengers)"
      ],
      "metadata": {
        "execution": {
          "iopub.status.busy": "2022-04-29T14:57:28.736913Z",
          "iopub.execute_input": "2022-04-29T14:57:28.738783Z",
          "iopub.status.idle": "2022-04-29T14:57:28.759475Z"
        },
        "trusted": true,
        "id": "odwnP6YgqOCu",
        "outputId": "fb058480-e114-4e82-ad38-43da8627ca36"
      },
      "execution_count": null,
      "outputs": [
        {
          "output_type": "display_data",
          "data": {
            "text/html": "<style>\n.list-inline {list-style: none; margin:0; padding: 0}\n.list-inline>li {display: inline-block}\n.list-inline>li:not(:last-child)::after {content: \"\\00b7\"; padding: 0 .5ex}\n</style>\n<ol class=list-inline><li>112</li><li>118</li><li>132</li><li>129</li><li>121</li><li>135</li></ol>\n",
            "text/markdown": "1. 112\n2. 118\n3. 132\n4. 129\n5. 121\n6. 135\n\n\n",
            "text/latex": "\\begin{enumerate*}\n\\item 112\n\\item 118\n\\item 132\n\\item 129\n\\item 121\n\\item 135\n\\end{enumerate*}\n",
            "text/plain": "[1] 112 118 132 129 121 135"
          },
          "metadata": {}
        }
      ]
    },
    {
      "cell_type": "code",
      "source": [
        "head(iris)"
      ],
      "metadata": {
        "execution": {
          "iopub.status.busy": "2022-04-29T14:57:40.553871Z",
          "iopub.execute_input": "2022-04-29T14:57:40.555330Z",
          "iopub.status.idle": "2022-04-29T14:57:40.578853Z"
        },
        "trusted": true,
        "id": "66imceOtqOCu",
        "outputId": "30fc2572-a582-47f7-8d82-287bc8be7272"
      },
      "execution_count": null,
      "outputs": [
        {
          "output_type": "display_data",
          "data": {
            "text/html": "<table class=\"dataframe\">\n<caption>A data.frame: 6 × 5</caption>\n<thead>\n\t<tr><th></th><th scope=col>Sepal.Length</th><th scope=col>Sepal.Width</th><th scope=col>Petal.Length</th><th scope=col>Petal.Width</th><th scope=col>Species</th></tr>\n\t<tr><th></th><th scope=col>&lt;dbl&gt;</th><th scope=col>&lt;dbl&gt;</th><th scope=col>&lt;dbl&gt;</th><th scope=col>&lt;dbl&gt;</th><th scope=col>&lt;fct&gt;</th></tr>\n</thead>\n<tbody>\n\t<tr><th scope=row>1</th><td>5.1</td><td>3.5</td><td>1.4</td><td>0.2</td><td>setosa</td></tr>\n\t<tr><th scope=row>2</th><td>4.9</td><td>3.0</td><td>1.4</td><td>0.2</td><td>setosa</td></tr>\n\t<tr><th scope=row>3</th><td>4.7</td><td>3.2</td><td>1.3</td><td>0.2</td><td>setosa</td></tr>\n\t<tr><th scope=row>4</th><td>4.6</td><td>3.1</td><td>1.5</td><td>0.2</td><td>setosa</td></tr>\n\t<tr><th scope=row>5</th><td>5.0</td><td>3.6</td><td>1.4</td><td>0.2</td><td>setosa</td></tr>\n\t<tr><th scope=row>6</th><td>5.4</td><td>3.9</td><td>1.7</td><td>0.4</td><td>setosa</td></tr>\n</tbody>\n</table>\n",
            "text/markdown": "\nA data.frame: 6 × 5\n\n| <!--/--> | Sepal.Length &lt;dbl&gt; | Sepal.Width &lt;dbl&gt; | Petal.Length &lt;dbl&gt; | Petal.Width &lt;dbl&gt; | Species &lt;fct&gt; |\n|---|---|---|---|---|---|\n| 1 | 5.1 | 3.5 | 1.4 | 0.2 | setosa |\n| 2 | 4.9 | 3.0 | 1.4 | 0.2 | setosa |\n| 3 | 4.7 | 3.2 | 1.3 | 0.2 | setosa |\n| 4 | 4.6 | 3.1 | 1.5 | 0.2 | setosa |\n| 5 | 5.0 | 3.6 | 1.4 | 0.2 | setosa |\n| 6 | 5.4 | 3.9 | 1.7 | 0.4 | setosa |\n\n",
            "text/latex": "A data.frame: 6 × 5\n\\begin{tabular}{r|lllll}\n  & Sepal.Length & Sepal.Width & Petal.Length & Petal.Width & Species\\\\\n  & <dbl> & <dbl> & <dbl> & <dbl> & <fct>\\\\\n\\hline\n\t1 & 5.1 & 3.5 & 1.4 & 0.2 & setosa\\\\\n\t2 & 4.9 & 3.0 & 1.4 & 0.2 & setosa\\\\\n\t3 & 4.7 & 3.2 & 1.3 & 0.2 & setosa\\\\\n\t4 & 4.6 & 3.1 & 1.5 & 0.2 & setosa\\\\\n\t5 & 5.0 & 3.6 & 1.4 & 0.2 & setosa\\\\\n\t6 & 5.4 & 3.9 & 1.7 & 0.4 & setosa\\\\\n\\end{tabular}\n",
            "text/plain": "  Sepal.Length Sepal.Width Petal.Length Petal.Width Species\n1 5.1          3.5         1.4          0.2         setosa \n2 4.9          3.0         1.4          0.2         setosa \n3 4.7          3.2         1.3          0.2         setosa \n4 4.6          3.1         1.5          0.2         setosa \n5 5.0          3.6         1.4          0.2         setosa \n6 5.4          3.9         1.7          0.4         setosa "
          },
          "metadata": {}
        }
      ]
    },
    {
      "cell_type": "code",
      "source": [
        "summary(iris)"
      ],
      "metadata": {
        "execution": {
          "iopub.status.busy": "2022-04-29T14:57:52.288731Z",
          "iopub.execute_input": "2022-04-29T14:57:52.294164Z",
          "iopub.status.idle": "2022-04-29T14:57:52.315697Z"
        },
        "trusted": true,
        "id": "OxfGljFhqOCu",
        "outputId": "d0c00b80-5e3a-4de3-d69a-025665f12783"
      },
      "execution_count": null,
      "outputs": [
        {
          "output_type": "display_data",
          "data": {
            "text/plain": "  Sepal.Length    Sepal.Width     Petal.Length    Petal.Width   \n Min.   :4.300   Min.   :2.000   Min.   :1.000   Min.   :0.100  \n 1st Qu.:5.100   1st Qu.:2.800   1st Qu.:1.600   1st Qu.:0.300  \n Median :5.800   Median :3.000   Median :4.350   Median :1.300  \n Mean   :5.843   Mean   :3.057   Mean   :3.758   Mean   :1.199  \n 3rd Qu.:6.400   3rd Qu.:3.300   3rd Qu.:5.100   3rd Qu.:1.800  \n Max.   :7.900   Max.   :4.400   Max.   :6.900   Max.   :2.500  \n       Species  \n setosa    :50  \n versicolor:50  \n virginica :50  \n                \n                \n                "
          },
          "metadata": {}
        }
      ]
    },
    {
      "cell_type": "code",
      "source": [
        "str(iris)"
      ],
      "metadata": {
        "execution": {
          "iopub.status.busy": "2022-04-29T14:58:07.136289Z",
          "iopub.execute_input": "2022-04-29T14:58:07.137907Z",
          "iopub.status.idle": "2022-04-29T14:58:07.159399Z"
        },
        "trusted": true,
        "id": "YDt0Rn1gqOCv",
        "outputId": "9313cc3a-ebec-4d22-96fe-6ccf100f10b3"
      },
      "execution_count": null,
      "outputs": [
        {
          "name": "stdout",
          "text": "'data.frame':\t150 obs. of  5 variables:\n $ Sepal.Length: num  5.1 4.9 4.7 4.6 5 5.4 4.6 5 4.4 4.9 ...\n $ Sepal.Width : num  3.5 3 3.2 3.1 3.6 3.9 3.4 3.4 2.9 3.1 ...\n $ Petal.Length: num  1.4 1.4 1.3 1.5 1.4 1.7 1.4 1.5 1.4 1.5 ...\n $ Petal.Width : num  0.2 0.2 0.2 0.2 0.2 0.4 0.3 0.2 0.2 0.1 ...\n $ Species     : Factor w/ 3 levels \"setosa\",\"versicolor\",..: 1 1 1 1 1 1 1 1 1 1 ...\n",
          "output_type": "stream"
        }
      ]
    },
    {
      "cell_type": "code",
      "source": [
        "#creating a dataframe using data.frame() function\n",
        "\n",
        "days <- c('mon','tue','wed','thu','fri')\n",
        "temp <- c(25.6,30.1,45,37.3,41.2)\n",
        "rain <- c(TRUE, TRUE, FALSE, FALSE, TRUE)\n",
        "\n",
        "df <- data.frame(days, temp, rain)\n",
        "print(df)"
      ],
      "metadata": {
        "execution": {
          "iopub.status.busy": "2022-04-29T15:00:58.181633Z",
          "iopub.execute_input": "2022-04-29T15:00:58.183086Z",
          "iopub.status.idle": "2022-04-29T15:00:58.212209Z"
        },
        "trusted": true,
        "id": "ZO3kTu6oqOCv",
        "outputId": "7624a8b1-2e4b-497f-e8ee-dee5f175d7c0"
      },
      "execution_count": null,
      "outputs": [
        {
          "name": "stdout",
          "text": "  days temp  rain\n1  mon 25.6  TRUE\n2  tue 30.1  TRUE\n3  wed 45.0 FALSE\n4  thu 37.3 FALSE\n5  fri 41.2  TRUE\n",
          "output_type": "stream"
        }
      ]
    },
    {
      "cell_type": "code",
      "source": [
        "summary(df)"
      ],
      "metadata": {
        "execution": {
          "iopub.status.busy": "2022-04-29T15:01:03.754648Z",
          "iopub.execute_input": "2022-04-29T15:01:03.756135Z",
          "iopub.status.idle": "2022-04-29T15:01:03.773748Z"
        },
        "trusted": true,
        "id": "ffzN-7IkqOCv",
        "outputId": "ae13f915-7e2a-4f73-e523-ea1748a1bf12"
      },
      "execution_count": null,
      "outputs": [
        {
          "output_type": "display_data",
          "data": {
            "text/plain": "     days                temp          rain        \n Length:5           Min.   :25.60   Mode :logical  \n Class :character   1st Qu.:30.10   FALSE:2        \n Mode  :character   Median :37.30   TRUE :3        \n                    Mean   :35.84                  \n                    3rd Qu.:41.20                  \n                    Max.   :45.00                  "
          },
          "metadata": {}
        }
      ]
    },
    {
      "cell_type": "code",
      "source": [
        "str(df)"
      ],
      "metadata": {
        "execution": {
          "iopub.status.busy": "2022-04-29T15:01:07.669916Z",
          "iopub.execute_input": "2022-04-29T15:01:07.671657Z",
          "iopub.status.idle": "2022-04-29T15:01:07.686708Z"
        },
        "trusted": true,
        "id": "jClv2DymqOCv",
        "outputId": "81669f54-16af-4ea4-91f9-85d3a39c510a"
      },
      "execution_count": null,
      "outputs": [
        {
          "name": "stdout",
          "text": "'data.frame':\t5 obs. of  3 variables:\n $ days: chr  \"mon\" \"tue\" \"wed\" \"thu\" ...\n $ temp: num  25.6 30.1 45 37.3 41.2\n $ rain: logi  TRUE TRUE FALSE FALSE TRUE\n",
          "output_type": "stream"
        }
      ]
    },
    {
      "cell_type": "code",
      "source": [
        "#data indexing using column names\n",
        "df[,'temp'] #extracts all temperature values\n",
        "df[2:4,c('days','temp')] #extracts the 2nd, 3rd and 4th row for days and temp "
      ],
      "metadata": {
        "execution": {
          "iopub.status.busy": "2022-04-29T15:02:51.531359Z",
          "iopub.execute_input": "2022-04-29T15:02:51.532955Z",
          "iopub.status.idle": "2022-04-29T15:02:51.564983Z"
        },
        "trusted": true,
        "id": "SnDn-MtVqOCv",
        "outputId": "2577932c-592f-4318-a2a0-9a6c5f950523"
      },
      "execution_count": null,
      "outputs": [
        {
          "output_type": "display_data",
          "data": {
            "text/html": "<style>\n.list-inline {list-style: none; margin:0; padding: 0}\n.list-inline>li {display: inline-block}\n.list-inline>li:not(:last-child)::after {content: \"\\00b7\"; padding: 0 .5ex}\n</style>\n<ol class=list-inline><li>25.6</li><li>30.1</li><li>45</li><li>37.3</li><li>41.2</li></ol>\n",
            "text/markdown": "1. 25.6\n2. 30.1\n3. 45\n4. 37.3\n5. 41.2\n\n\n",
            "text/latex": "\\begin{enumerate*}\n\\item 25.6\n\\item 30.1\n\\item 45\n\\item 37.3\n\\item 41.2\n\\end{enumerate*}\n",
            "text/plain": "[1] 25.6 30.1 45.0 37.3 41.2"
          },
          "metadata": {}
        },
        {
          "output_type": "display_data",
          "data": {
            "text/html": "<table class=\"dataframe\">\n<caption>A data.frame: 3 × 2</caption>\n<thead>\n\t<tr><th></th><th scope=col>days</th><th scope=col>temp</th></tr>\n\t<tr><th></th><th scope=col>&lt;chr&gt;</th><th scope=col>&lt;dbl&gt;</th></tr>\n</thead>\n<tbody>\n\t<tr><th scope=row>2</th><td>tue</td><td>30.1</td></tr>\n\t<tr><th scope=row>3</th><td>wed</td><td>45.0</td></tr>\n\t<tr><th scope=row>4</th><td>thu</td><td>37.3</td></tr>\n</tbody>\n</table>\n",
            "text/markdown": "\nA data.frame: 3 × 2\n\n| <!--/--> | days &lt;chr&gt; | temp &lt;dbl&gt; |\n|---|---|---|\n| 2 | tue | 30.1 |\n| 3 | wed | 45.0 |\n| 4 | thu | 37.3 |\n\n",
            "text/latex": "A data.frame: 3 × 2\n\\begin{tabular}{r|ll}\n  & days & temp\\\\\n  & <chr> & <dbl>\\\\\n\\hline\n\t2 & tue & 30.1\\\\\n\t3 & wed & 45.0\\\\\n\t4 & thu & 37.3\\\\\n\\end{tabular}\n",
            "text/plain": "  days temp\n2 tue  30.1\n3 wed  45.0\n4 thu  37.3"
          },
          "metadata": {}
        }
      ]
    },
    {
      "cell_type": "code",
      "source": [
        "#filtering dataframes using a subset function\n",
        "\n",
        "subset(df,subset=rain==TRUE) #returns all the columns where it rained\n",
        "subset(df, subset=temp>25) #returns all the columns where temperature > 25"
      ],
      "metadata": {
        "execution": {
          "iopub.status.busy": "2022-04-29T15:05:15.485782Z",
          "iopub.execute_input": "2022-04-29T15:05:15.487331Z",
          "iopub.status.idle": "2022-04-29T15:05:15.526460Z"
        },
        "trusted": true,
        "id": "2e1zw-v0qOCw",
        "outputId": "1161a4c9-5610-47f2-f51f-17ae2c180436"
      },
      "execution_count": null,
      "outputs": [
        {
          "output_type": "display_data",
          "data": {
            "text/html": "<table class=\"dataframe\">\n<caption>A data.frame: 3 × 3</caption>\n<thead>\n\t<tr><th></th><th scope=col>days</th><th scope=col>temp</th><th scope=col>rain</th></tr>\n\t<tr><th></th><th scope=col>&lt;chr&gt;</th><th scope=col>&lt;dbl&gt;</th><th scope=col>&lt;lgl&gt;</th></tr>\n</thead>\n<tbody>\n\t<tr><th scope=row>1</th><td>mon</td><td>25.6</td><td>TRUE</td></tr>\n\t<tr><th scope=row>2</th><td>tue</td><td>30.1</td><td>TRUE</td></tr>\n\t<tr><th scope=row>5</th><td>fri</td><td>41.2</td><td>TRUE</td></tr>\n</tbody>\n</table>\n",
            "text/markdown": "\nA data.frame: 3 × 3\n\n| <!--/--> | days &lt;chr&gt; | temp &lt;dbl&gt; | rain &lt;lgl&gt; |\n|---|---|---|---|\n| 1 | mon | 25.6 | TRUE |\n| 2 | tue | 30.1 | TRUE |\n| 5 | fri | 41.2 | TRUE |\n\n",
            "text/latex": "A data.frame: 3 × 3\n\\begin{tabular}{r|lll}\n  & days & temp & rain\\\\\n  & <chr> & <dbl> & <lgl>\\\\\n\\hline\n\t1 & mon & 25.6 & TRUE\\\\\n\t2 & tue & 30.1 & TRUE\\\\\n\t5 & fri & 41.2 & TRUE\\\\\n\\end{tabular}\n",
            "text/plain": "  days temp rain\n1 mon  25.6 TRUE\n2 tue  30.1 TRUE\n5 fri  41.2 TRUE"
          },
          "metadata": {}
        },
        {
          "output_type": "display_data",
          "data": {
            "text/html": "<table class=\"dataframe\">\n<caption>A data.frame: 5 × 3</caption>\n<thead>\n\t<tr><th></th><th scope=col>days</th><th scope=col>temp</th><th scope=col>rain</th></tr>\n\t<tr><th></th><th scope=col>&lt;chr&gt;</th><th scope=col>&lt;dbl&gt;</th><th scope=col>&lt;lgl&gt;</th></tr>\n</thead>\n<tbody>\n\t<tr><th scope=row>1</th><td>mon</td><td>25.6</td><td> TRUE</td></tr>\n\t<tr><th scope=row>2</th><td>tue</td><td>30.1</td><td> TRUE</td></tr>\n\t<tr><th scope=row>3</th><td>wed</td><td>45.0</td><td>FALSE</td></tr>\n\t<tr><th scope=row>4</th><td>thu</td><td>37.3</td><td>FALSE</td></tr>\n\t<tr><th scope=row>5</th><td>fri</td><td>41.2</td><td> TRUE</td></tr>\n</tbody>\n</table>\n",
            "text/markdown": "\nA data.frame: 5 × 3\n\n| <!--/--> | days &lt;chr&gt; | temp &lt;dbl&gt; | rain &lt;lgl&gt; |\n|---|---|---|---|\n| 1 | mon | 25.6 |  TRUE |\n| 2 | tue | 30.1 |  TRUE |\n| 3 | wed | 45.0 | FALSE |\n| 4 | thu | 37.3 | FALSE |\n| 5 | fri | 41.2 |  TRUE |\n\n",
            "text/latex": "A data.frame: 5 × 3\n\\begin{tabular}{r|lll}\n  & days & temp & rain\\\\\n  & <chr> & <dbl> & <lgl>\\\\\n\\hline\n\t1 & mon & 25.6 &  TRUE\\\\\n\t2 & tue & 30.1 &  TRUE\\\\\n\t3 & wed & 45.0 & FALSE\\\\\n\t4 & thu & 37.3 & FALSE\\\\\n\t5 & fri & 41.2 &  TRUE\\\\\n\\end{tabular}\n",
            "text/plain": "  days temp rain \n1 mon  25.6  TRUE\n2 tue  30.1  TRUE\n3 wed  45.0 FALSE\n4 thu  37.3 FALSE\n5 fri  41.2  TRUE"
          },
          "metadata": {}
        }
      ]
    },
    {
      "cell_type": "code",
      "source": [
        "#Merging DataFrames\n",
        "\n",
        "authors <- data.frame(\n",
        "    surname= I(c('Tukey','Venables','Tierney','Ripley','McNeil')),\n",
        "    nationality = c('US','Australia','US','UK','Australia'),\n",
        "    deceased = c('yes', rep('no',4)))\n",
        "\n",
        "authors"
      ],
      "metadata": {
        "execution": {
          "iopub.status.busy": "2022-04-29T15:09:05.880438Z",
          "iopub.execute_input": "2022-04-29T15:09:05.881864Z",
          "iopub.status.idle": "2022-04-29T15:09:05.907327Z"
        },
        "trusted": true,
        "id": "c3EG_2Z2qOCw",
        "outputId": "52d0036e-186a-4b95-caf4-14bbdaa3dafd"
      },
      "execution_count": null,
      "outputs": [
        {
          "output_type": "display_data",
          "data": {
            "text/html": "<table class=\"dataframe\">\n<caption>A data.frame: 5 × 3</caption>\n<thead>\n\t<tr><th scope=col>surname</th><th scope=col>nationality</th><th scope=col>deceased</th></tr>\n\t<tr><th scope=col>&lt;I&lt;chr&gt;&gt;</th><th scope=col>&lt;chr&gt;</th><th scope=col>&lt;chr&gt;</th></tr>\n</thead>\n<tbody>\n\t<tr><td>Tukey   </td><td>US       </td><td>yes</td></tr>\n\t<tr><td>Venables</td><td>Australia</td><td>no </td></tr>\n\t<tr><td>Tierney </td><td>US       </td><td>no </td></tr>\n\t<tr><td>Ripley  </td><td>UK       </td><td>no </td></tr>\n\t<tr><td>McNeil  </td><td>Australia</td><td>no </td></tr>\n</tbody>\n</table>\n",
            "text/markdown": "\nA data.frame: 5 × 3\n\n| surname &lt;I&lt;chr&gt;&gt; | nationality &lt;chr&gt; | deceased &lt;chr&gt; |\n|---|---|---|\n| Tukey    | US        | yes |\n| Venables | Australia | no  |\n| Tierney  | US        | no  |\n| Ripley   | UK        | no  |\n| McNeil   | Australia | no  |\n\n",
            "text/latex": "A data.frame: 5 × 3\n\\begin{tabular}{lll}\n surname & nationality & deceased\\\\\n <I<chr>> & <chr> & <chr>\\\\\n\\hline\n\t Tukey    & US        & yes\\\\\n\t Venables & Australia & no \\\\\n\t Tierney  & US        & no \\\\\n\t Ripley   & UK        & no \\\\\n\t McNeil   & Australia & no \\\\\n\\end{tabular}\n",
            "text/plain": "  surname  nationality deceased\n1 Tukey    US          yes     \n2 Venables Australia   no      \n3 Tierney  US          no      \n4 Ripley   UK          no      \n5 McNeil   Australia   no      "
          },
          "metadata": {}
        }
      ]
    },
    {
      "cell_type": "code",
      "source": [
        "books <- data.frame(\n",
        "    name = I(c('Tukey','Venables','Tierney','Ripley','Ripley', 'McNeil', 'R Core')),\n",
        "    title = c('Explorartory Data analysis', 'Modern Science Application', 'LISP-STAT','Spatial Statistics', 'Stochastic Simulation',\n",
        "             'Interactive Data Analysis', 'Introduction to R'),\n",
        "other.author = c(NA, 'Ripley', NA, NA, NA, NA, 'Venables & Smith'))\n",
        "\n",
        "books"
      ],
      "metadata": {
        "execution": {
          "iopub.status.busy": "2022-04-29T15:13:05.795636Z",
          "iopub.execute_input": "2022-04-29T15:13:05.797167Z",
          "iopub.status.idle": "2022-04-29T15:13:05.819648Z"
        },
        "trusted": true,
        "id": "-dvomHucqOCw",
        "outputId": "d6c87c9c-d439-4ce1-c34c-50b4f21cd829"
      },
      "execution_count": null,
      "outputs": [
        {
          "output_type": "display_data",
          "data": {
            "text/html": "<table class=\"dataframe\">\n<caption>A data.frame: 7 × 3</caption>\n<thead>\n\t<tr><th scope=col>name</th><th scope=col>title</th><th scope=col>other.author</th></tr>\n\t<tr><th scope=col>&lt;I&lt;chr&gt;&gt;</th><th scope=col>&lt;chr&gt;</th><th scope=col>&lt;chr&gt;</th></tr>\n</thead>\n<tbody>\n\t<tr><td>Tukey   </td><td>Explorartory Data analysis</td><td>NA              </td></tr>\n\t<tr><td>Venables</td><td>Modern Science Application</td><td>Ripley          </td></tr>\n\t<tr><td>Tierney </td><td>LISP-STAT                 </td><td>NA              </td></tr>\n\t<tr><td>Ripley  </td><td>Spatial Statistics        </td><td>NA              </td></tr>\n\t<tr><td>Ripley  </td><td>Stochastic Simulation     </td><td>NA              </td></tr>\n\t<tr><td>McNeil  </td><td>Interactive Data Analysis </td><td>NA              </td></tr>\n\t<tr><td><span style=white-space:pre-wrap>R Core  </span></td><td><span style=white-space:pre-wrap>Introduction to R         </span></td><td>Venables &amp; Smith</td></tr>\n</tbody>\n</table>\n",
            "text/markdown": "\nA data.frame: 7 × 3\n\n| name &lt;I&lt;chr&gt;&gt; | title &lt;chr&gt; | other.author &lt;chr&gt; |\n|---|---|---|\n| Tukey    | Explorartory Data analysis | NA               |\n| Venables | Modern Science Application | Ripley           |\n| Tierney  | LISP-STAT                  | NA               |\n| Ripley   | Spatial Statistics         | NA               |\n| Ripley   | Stochastic Simulation      | NA               |\n| McNeil   | Interactive Data Analysis  | NA               |\n| R Core   | Introduction to R          | Venables &amp; Smith |\n\n",
            "text/latex": "A data.frame: 7 × 3\n\\begin{tabular}{lll}\n name & title & other.author\\\\\n <I<chr>> & <chr> & <chr>\\\\\n\\hline\n\t Tukey    & Explorartory Data analysis & NA              \\\\\n\t Venables & Modern Science Application & Ripley          \\\\\n\t Tierney  & LISP-STAT                  & NA              \\\\\n\t Ripley   & Spatial Statistics         & NA              \\\\\n\t Ripley   & Stochastic Simulation      & NA              \\\\\n\t McNeil   & Interactive Data Analysis  & NA              \\\\\n\t R Core   & Introduction to R          & Venables \\& Smith\\\\\n\\end{tabular}\n",
            "text/plain": "  name     title                      other.author    \n1 Tukey    Explorartory Data analysis NA              \n2 Venables Modern Science Application Ripley          \n3 Tierney  LISP-STAT                  NA              \n4 Ripley   Spatial Statistics         NA              \n5 Ripley   Stochastic Simulation      NA              \n6 McNeil   Interactive Data Analysis  NA              \n7 R Core   Introduction to R          Venables & Smith"
          },
          "metadata": {}
        }
      ]
    },
    {
      "cell_type": "code",
      "source": [
        "m1 <- merge(authors, books, by.x='surname', by.y = 'name')"
      ],
      "metadata": {
        "execution": {
          "iopub.status.busy": "2022-04-29T15:14:08.738436Z",
          "iopub.execute_input": "2022-04-29T15:14:08.739923Z",
          "iopub.status.idle": "2022-04-29T15:14:08.752510Z"
        },
        "trusted": true,
        "id": "m9xl23sAqOCx"
      },
      "execution_count": null,
      "outputs": []
    },
    {
      "cell_type": "code",
      "source": [
        "m1"
      ],
      "metadata": {
        "execution": {
          "iopub.status.busy": "2022-04-29T15:14:12.077440Z",
          "iopub.execute_input": "2022-04-29T15:14:12.078929Z",
          "iopub.status.idle": "2022-04-29T15:14:12.102748Z"
        },
        "trusted": true,
        "id": "5xMxx_pJqOCx",
        "outputId": "bcb60edf-4033-44ac-ac8e-0202e078c31f"
      },
      "execution_count": null,
      "outputs": [
        {
          "output_type": "display_data",
          "data": {
            "text/html": "<table class=\"dataframe\">\n<caption>A data.frame: 6 × 5</caption>\n<thead>\n\t<tr><th scope=col>surname</th><th scope=col>nationality</th><th scope=col>deceased</th><th scope=col>title</th><th scope=col>other.author</th></tr>\n\t<tr><th scope=col>&lt;I&lt;chr&gt;&gt;</th><th scope=col>&lt;chr&gt;</th><th scope=col>&lt;chr&gt;</th><th scope=col>&lt;chr&gt;</th><th scope=col>&lt;chr&gt;</th></tr>\n</thead>\n<tbody>\n\t<tr><td>McNeil  </td><td>Australia</td><td>no </td><td>Interactive Data Analysis </td><td>NA    </td></tr>\n\t<tr><td>Ripley  </td><td>UK       </td><td>no </td><td>Spatial Statistics        </td><td>NA    </td></tr>\n\t<tr><td>Ripley  </td><td>UK       </td><td>no </td><td>Stochastic Simulation     </td><td>NA    </td></tr>\n\t<tr><td>Tierney </td><td>US       </td><td>no </td><td>LISP-STAT                 </td><td>NA    </td></tr>\n\t<tr><td>Tukey   </td><td>US       </td><td>yes</td><td>Explorartory Data analysis</td><td>NA    </td></tr>\n\t<tr><td>Venables</td><td>Australia</td><td>no </td><td>Modern Science Application</td><td>Ripley</td></tr>\n</tbody>\n</table>\n",
            "text/markdown": "\nA data.frame: 6 × 5\n\n| surname &lt;I&lt;chr&gt;&gt; | nationality &lt;chr&gt; | deceased &lt;chr&gt; | title &lt;chr&gt; | other.author &lt;chr&gt; |\n|---|---|---|---|---|\n| McNeil   | Australia | no  | Interactive Data Analysis  | NA     |\n| Ripley   | UK        | no  | Spatial Statistics         | NA     |\n| Ripley   | UK        | no  | Stochastic Simulation      | NA     |\n| Tierney  | US        | no  | LISP-STAT                  | NA     |\n| Tukey    | US        | yes | Explorartory Data analysis | NA     |\n| Venables | Australia | no  | Modern Science Application | Ripley |\n\n",
            "text/latex": "A data.frame: 6 × 5\n\\begin{tabular}{lllll}\n surname & nationality & deceased & title & other.author\\\\\n <I<chr>> & <chr> & <chr> & <chr> & <chr>\\\\\n\\hline\n\t McNeil   & Australia & no  & Interactive Data Analysis  & NA    \\\\\n\t Ripley   & UK        & no  & Spatial Statistics         & NA    \\\\\n\t Ripley   & UK        & no  & Stochastic Simulation      & NA    \\\\\n\t Tierney  & US        & no  & LISP-STAT                  & NA    \\\\\n\t Tukey    & US        & yes & Explorartory Data analysis & NA    \\\\\n\t Venables & Australia & no  & Modern Science Application & Ripley\\\\\n\\end{tabular}\n",
            "text/plain": "  surname  nationality deceased title                      other.author\n1 McNeil   Australia   no       Interactive Data Analysis  NA          \n2 Ripley   UK          no       Spatial Statistics         NA          \n3 Ripley   UK          no       Stochastic Simulation      NA          \n4 Tierney  US          no       LISP-STAT                  NA          \n5 Tukey    US          yes      Explorartory Data analysis NA          \n6 Venables Australia   no       Modern Science Application Ripley      "
          },
          "metadata": {}
        }
      ]
    },
    {
      "cell_type": "code",
      "source": [
        "#manipulation of dataframe\n",
        "\n",
        "sales.rep<-data.frame(Id=101:110, \n",
        "                      Product=c(\"A\", \"B\"),\n",
        "                     Unit.price=as.integer(runif(10,100,200)),\n",
        "                     qty= as.integer(runif(10,10,20)))\n",
        "sales.rep"
      ],
      "metadata": {
        "execution": {
          "iopub.status.busy": "2022-04-29T15:16:34.118818Z",
          "iopub.execute_input": "2022-04-29T15:16:34.120346Z",
          "iopub.status.idle": "2022-04-29T15:16:34.148141Z"
        },
        "trusted": true,
        "id": "Ct6IasknqOCx",
        "outputId": "871e1240-1bcf-4a71-f066-ee8297333a6b"
      },
      "execution_count": null,
      "outputs": [
        {
          "output_type": "display_data",
          "data": {
            "text/html": "<table class=\"dataframe\">\n<caption>A data.frame: 10 × 4</caption>\n<thead>\n\t<tr><th scope=col>Id</th><th scope=col>Product</th><th scope=col>Unit.price</th><th scope=col>qty</th></tr>\n\t<tr><th scope=col>&lt;int&gt;</th><th scope=col>&lt;chr&gt;</th><th scope=col>&lt;int&gt;</th><th scope=col>&lt;int&gt;</th></tr>\n</thead>\n<tbody>\n\t<tr><td>101</td><td>A</td><td>137</td><td>13</td></tr>\n\t<tr><td>102</td><td>B</td><td>120</td><td>16</td></tr>\n\t<tr><td>103</td><td>A</td><td>119</td><td>15</td></tr>\n\t<tr><td>104</td><td>B</td><td>138</td><td>14</td></tr>\n\t<tr><td>105</td><td>A</td><td>154</td><td>17</td></tr>\n\t<tr><td>106</td><td>B</td><td>102</td><td>17</td></tr>\n\t<tr><td>107</td><td>A</td><td>161</td><td>18</td></tr>\n\t<tr><td>108</td><td>B</td><td>162</td><td>15</td></tr>\n\t<tr><td>109</td><td>A</td><td>106</td><td>12</td></tr>\n\t<tr><td>110</td><td>B</td><td>189</td><td>16</td></tr>\n</tbody>\n</table>\n",
            "text/markdown": "\nA data.frame: 10 × 4\n\n| Id &lt;int&gt; | Product &lt;chr&gt; | Unit.price &lt;int&gt; | qty &lt;int&gt; |\n|---|---|---|---|\n| 101 | A | 137 | 13 |\n| 102 | B | 120 | 16 |\n| 103 | A | 119 | 15 |\n| 104 | B | 138 | 14 |\n| 105 | A | 154 | 17 |\n| 106 | B | 102 | 17 |\n| 107 | A | 161 | 18 |\n| 108 | B | 162 | 15 |\n| 109 | A | 106 | 12 |\n| 110 | B | 189 | 16 |\n\n",
            "text/latex": "A data.frame: 10 × 4\n\\begin{tabular}{llll}\n Id & Product & Unit.price & qty\\\\\n <int> & <chr> & <int> & <int>\\\\\n\\hline\n\t 101 & A & 137 & 13\\\\\n\t 102 & B & 120 & 16\\\\\n\t 103 & A & 119 & 15\\\\\n\t 104 & B & 138 & 14\\\\\n\t 105 & A & 154 & 17\\\\\n\t 106 & B & 102 & 17\\\\\n\t 107 & A & 161 & 18\\\\\n\t 108 & B & 162 & 15\\\\\n\t 109 & A & 106 & 12\\\\\n\t 110 & B & 189 & 16\\\\\n\\end{tabular}\n",
            "text/plain": "   Id  Product Unit.price qty\n1  101 A       137        13 \n2  102 B       120        16 \n3  103 A       119        15 \n4  104 B       138        14 \n5  105 A       154        17 \n6  106 B       102        17 \n7  107 A       161        18 \n8  108 B       162        15 \n9  109 A       106        12 \n10 110 B       189        16 "
          },
          "metadata": {}
        }
      ]
    },
    {
      "cell_type": "code",
      "source": [
        "#transpose dataframe\n",
        "transpose.salesrep<-t(sales.rep)\n",
        "transpose.salesrep"
      ],
      "metadata": {
        "execution": {
          "iopub.status.busy": "2022-04-29T15:17:12.156503Z",
          "iopub.execute_input": "2022-04-29T15:17:12.157933Z",
          "iopub.status.idle": "2022-04-29T15:17:12.178184Z"
        },
        "trusted": true,
        "id": "y8CsoPdoqOCy",
        "outputId": "e4a7d310-9fa4-4c6b-c3fb-c0f4ca9dc5ce"
      },
      "execution_count": null,
      "outputs": [
        {
          "output_type": "display_data",
          "data": {
            "text/html": "<table class=\"dataframe\">\n<caption>A matrix: 4 × 10 of type chr</caption>\n<tbody>\n\t<tr><th scope=row>Id</th><td>101</td><td>102</td><td>103</td><td>104</td><td>105</td><td>106</td><td>107</td><td>108</td><td>109</td><td>110</td></tr>\n\t<tr><th scope=row>Product</th><td>A  </td><td>B  </td><td>A  </td><td>B  </td><td>A  </td><td>B  </td><td>A  </td><td>B  </td><td>A  </td><td>B  </td></tr>\n\t<tr><th scope=row>Unit.price</th><td>137</td><td>120</td><td>119</td><td>138</td><td>154</td><td>102</td><td>161</td><td>162</td><td>106</td><td>189</td></tr>\n\t<tr><th scope=row>qty</th><td>13 </td><td>16 </td><td>15 </td><td>14 </td><td>17 </td><td>17 </td><td>18 </td><td>15 </td><td>12 </td><td>16 </td></tr>\n</tbody>\n</table>\n",
            "text/markdown": "\nA matrix: 4 × 10 of type chr\n\n| Id | 101 | 102 | 103 | 104 | 105 | 106 | 107 | 108 | 109 | 110 |\n| Product | A   | B   | A   | B   | A   | B   | A   | B   | A   | B   |\n| Unit.price | 137 | 120 | 119 | 138 | 154 | 102 | 161 | 162 | 106 | 189 |\n| qty | 13  | 16  | 15  | 14  | 17  | 17  | 18  | 15  | 12  | 16  |\n\n",
            "text/latex": "A matrix: 4 × 10 of type chr\n\\begin{tabular}{r|llllllllll}\n\tId & 101 & 102 & 103 & 104 & 105 & 106 & 107 & 108 & 109 & 110\\\\\n\tProduct & A   & B   & A   & B   & A   & B   & A   & B   & A   & B  \\\\\n\tUnit.price & 137 & 120 & 119 & 138 & 154 & 102 & 161 & 162 & 106 & 189\\\\\n\tqty & 13  & 16  & 15  & 14  & 17  & 17  & 18  & 15  & 12  & 16 \\\\\n\\end{tabular}\n",
            "text/plain": "           [,1] [,2] [,3] [,4] [,5] [,6] [,7] [,8] [,9] [,10]\nId         101  102  103  104  105  106  107  108  109  110  \nProduct    A    B    A    B    A    B    A    B    A    B    \nUnit.price 137  120  119  138  154  102  161  162  106  189  \nqty        13   16   15   14   17   17   18   15   12   16   "
          },
          "metadata": {}
        }
      ]
    },
    {
      "cell_type": "code",
      "source": [
        "#sort dataframe\n",
        "sales.rep[order(sales.rep$Unit.price),]"
      ],
      "metadata": {
        "execution": {
          "iopub.status.busy": "2022-04-29T15:18:19.965919Z",
          "iopub.execute_input": "2022-04-29T15:18:19.967374Z",
          "iopub.status.idle": "2022-04-29T15:18:19.993776Z"
        },
        "trusted": true,
        "id": "Ig9VUB4pqOCy",
        "outputId": "652536fb-eb85-45a7-bf74-e77d50051532"
      },
      "execution_count": null,
      "outputs": [
        {
          "output_type": "display_data",
          "data": {
            "text/html": "<table class=\"dataframe\">\n<caption>A data.frame: 10 × 4</caption>\n<thead>\n\t<tr><th></th><th scope=col>Id</th><th scope=col>Product</th><th scope=col>Unit.price</th><th scope=col>qty</th></tr>\n\t<tr><th></th><th scope=col>&lt;int&gt;</th><th scope=col>&lt;chr&gt;</th><th scope=col>&lt;int&gt;</th><th scope=col>&lt;int&gt;</th></tr>\n</thead>\n<tbody>\n\t<tr><th scope=row>6</th><td>106</td><td>B</td><td>102</td><td>17</td></tr>\n\t<tr><th scope=row>9</th><td>109</td><td>A</td><td>106</td><td>12</td></tr>\n\t<tr><th scope=row>3</th><td>103</td><td>A</td><td>119</td><td>15</td></tr>\n\t<tr><th scope=row>2</th><td>102</td><td>B</td><td>120</td><td>16</td></tr>\n\t<tr><th scope=row>1</th><td>101</td><td>A</td><td>137</td><td>13</td></tr>\n\t<tr><th scope=row>4</th><td>104</td><td>B</td><td>138</td><td>14</td></tr>\n\t<tr><th scope=row>5</th><td>105</td><td>A</td><td>154</td><td>17</td></tr>\n\t<tr><th scope=row>7</th><td>107</td><td>A</td><td>161</td><td>18</td></tr>\n\t<tr><th scope=row>8</th><td>108</td><td>B</td><td>162</td><td>15</td></tr>\n\t<tr><th scope=row>10</th><td>110</td><td>B</td><td>189</td><td>16</td></tr>\n</tbody>\n</table>\n",
            "text/markdown": "\nA data.frame: 10 × 4\n\n| <!--/--> | Id &lt;int&gt; | Product &lt;chr&gt; | Unit.price &lt;int&gt; | qty &lt;int&gt; |\n|---|---|---|---|---|\n| 6 | 106 | B | 102 | 17 |\n| 9 | 109 | A | 106 | 12 |\n| 3 | 103 | A | 119 | 15 |\n| 2 | 102 | B | 120 | 16 |\n| 1 | 101 | A | 137 | 13 |\n| 4 | 104 | B | 138 | 14 |\n| 5 | 105 | A | 154 | 17 |\n| 7 | 107 | A | 161 | 18 |\n| 8 | 108 | B | 162 | 15 |\n| 10 | 110 | B | 189 | 16 |\n\n",
            "text/latex": "A data.frame: 10 × 4\n\\begin{tabular}{r|llll}\n  & Id & Product & Unit.price & qty\\\\\n  & <int> & <chr> & <int> & <int>\\\\\n\\hline\n\t6 & 106 & B & 102 & 17\\\\\n\t9 & 109 & A & 106 & 12\\\\\n\t3 & 103 & A & 119 & 15\\\\\n\t2 & 102 & B & 120 & 16\\\\\n\t1 & 101 & A & 137 & 13\\\\\n\t4 & 104 & B & 138 & 14\\\\\n\t5 & 105 & A & 154 & 17\\\\\n\t7 & 107 & A & 161 & 18\\\\\n\t8 & 108 & B & 162 & 15\\\\\n\t10 & 110 & B & 189 & 16\\\\\n\\end{tabular}\n",
            "text/plain": "   Id  Product Unit.price qty\n6  106 B       102        17 \n9  109 A       106        12 \n3  103 A       119        15 \n2  102 B       120        16 \n1  101 A       137        13 \n4  104 B       138        14 \n5  105 A       154        17 \n7  107 A       161        18 \n8  108 B       162        15 \n10 110 B       189        16 "
          },
          "metadata": {}
        }
      ]
    },
    {
      "cell_type": "code",
      "source": [
        "#subsetting dataframe\n",
        "subset.productA<-subset(sales.rep, Product==\"A\")\n",
        "subset.productA"
      ],
      "metadata": {
        "execution": {
          "iopub.status.busy": "2022-04-29T15:19:22.584893Z",
          "iopub.execute_input": "2022-04-29T15:19:22.586357Z",
          "iopub.status.idle": "2022-04-29T15:19:22.608281Z"
        },
        "trusted": true,
        "id": "xs6koB4wqOCy",
        "outputId": "84c27c96-a6b4-46a6-95eb-db09f5fbabb0"
      },
      "execution_count": null,
      "outputs": [
        {
          "output_type": "display_data",
          "data": {
            "text/html": "<table class=\"dataframe\">\n<caption>A data.frame: 5 × 4</caption>\n<thead>\n\t<tr><th></th><th scope=col>Id</th><th scope=col>Product</th><th scope=col>Unit.price</th><th scope=col>qty</th></tr>\n\t<tr><th></th><th scope=col>&lt;int&gt;</th><th scope=col>&lt;chr&gt;</th><th scope=col>&lt;int&gt;</th><th scope=col>&lt;int&gt;</th></tr>\n</thead>\n<tbody>\n\t<tr><th scope=row>1</th><td>101</td><td>A</td><td>137</td><td>13</td></tr>\n\t<tr><th scope=row>3</th><td>103</td><td>A</td><td>119</td><td>15</td></tr>\n\t<tr><th scope=row>5</th><td>105</td><td>A</td><td>154</td><td>17</td></tr>\n\t<tr><th scope=row>7</th><td>107</td><td>A</td><td>161</td><td>18</td></tr>\n\t<tr><th scope=row>9</th><td>109</td><td>A</td><td>106</td><td>12</td></tr>\n</tbody>\n</table>\n",
            "text/markdown": "\nA data.frame: 5 × 4\n\n| <!--/--> | Id &lt;int&gt; | Product &lt;chr&gt; | Unit.price &lt;int&gt; | qty &lt;int&gt; |\n|---|---|---|---|---|\n| 1 | 101 | A | 137 | 13 |\n| 3 | 103 | A | 119 | 15 |\n| 5 | 105 | A | 154 | 17 |\n| 7 | 107 | A | 161 | 18 |\n| 9 | 109 | A | 106 | 12 |\n\n",
            "text/latex": "A data.frame: 5 × 4\n\\begin{tabular}{r|llll}\n  & Id & Product & Unit.price & qty\\\\\n  & <int> & <chr> & <int> & <int>\\\\\n\\hline\n\t1 & 101 & A & 137 & 13\\\\\n\t3 & 103 & A & 119 & 15\\\\\n\t5 & 105 & A & 154 & 17\\\\\n\t7 & 107 & A & 161 & 18\\\\\n\t9 & 109 & A & 106 & 12\\\\\n\\end{tabular}\n",
            "text/plain": "  Id  Product Unit.price qty\n1 101 A       137        13 \n3 103 A       119        15 \n5 105 A       154        17 \n7 107 A       161        18 \n9 109 A       106        12 "
          },
          "metadata": {}
        }
      ]
    },
    {
      "cell_type": "markdown",
      "source": [
        "### Lists"
      ],
      "metadata": {
        "id": "UKO51bcgqOCy"
      }
    },
    {
      "cell_type": "code",
      "source": [
        "list1 <- list(x=c(10,20,30),\n",
        "             y=c('a','b','c'),\n",
        "             z=c(TRUE,FALSE))\n",
        "list1"
      ],
      "metadata": {
        "execution": {
          "iopub.status.busy": "2022-04-29T15:40:03.159476Z",
          "iopub.execute_input": "2022-04-29T15:40:03.160970Z",
          "iopub.status.idle": "2022-04-29T15:40:03.181487Z"
        },
        "trusted": true,
        "id": "1-p5wo6cqOCz",
        "outputId": "1199b1cd-7fd1-402f-b478-883dceba4e0c"
      },
      "execution_count": null,
      "outputs": [
        {
          "output_type": "display_data",
          "data": {
            "text/html": "<dl>\n\t<dt>$x</dt>\n\t\t<dd><style>\n.list-inline {list-style: none; margin:0; padding: 0}\n.list-inline>li {display: inline-block}\n.list-inline>li:not(:last-child)::after {content: \"\\00b7\"; padding: 0 .5ex}\n</style>\n<ol class=list-inline><li>10</li><li>20</li><li>30</li></ol>\n</dd>\n\t<dt>$y</dt>\n\t\t<dd><style>\n.list-inline {list-style: none; margin:0; padding: 0}\n.list-inline>li {display: inline-block}\n.list-inline>li:not(:last-child)::after {content: \"\\00b7\"; padding: 0 .5ex}\n</style>\n<ol class=list-inline><li>'a'</li><li>'b'</li><li>'c'</li></ol>\n</dd>\n\t<dt>$z</dt>\n\t\t<dd><style>\n.list-inline {list-style: none; margin:0; padding: 0}\n.list-inline>li {display: inline-block}\n.list-inline>li:not(:last-child)::after {content: \"\\00b7\"; padding: 0 .5ex}\n</style>\n<ol class=list-inline><li>TRUE</li><li>FALSE</li></ol>\n</dd>\n</dl>\n",
            "text/markdown": "$x\n:   1. 10\n2. 20\n3. 30\n\n\n\n$y\n:   1. 'a'\n2. 'b'\n3. 'c'\n\n\n\n$z\n:   1. TRUE\n2. FALSE\n\n\n\n\n\n",
            "text/latex": "\\begin{description}\n\\item[\\$x] \\begin{enumerate*}\n\\item 10\n\\item 20\n\\item 30\n\\end{enumerate*}\n\n\\item[\\$y] \\begin{enumerate*}\n\\item 'a'\n\\item 'b'\n\\item 'c'\n\\end{enumerate*}\n\n\\item[\\$z] \\begin{enumerate*}\n\\item TRUE\n\\item FALSE\n\\end{enumerate*}\n\n\\end{description}\n",
            "text/plain": "$x\n[1] 10 20 30\n\n$y\n[1] \"a\" \"b\" \"c\"\n\n$z\n[1]  TRUE FALSE\n"
          },
          "metadata": {}
        }
      ]
    },
    {
      "cell_type": "code",
      "source": [
        "list2 <-list(vec=seq(1:10),mat=matrix(1:9,3,3),\n",
        "            lis=list(a=10,b=20))\n",
        "\n",
        "list2"
      ],
      "metadata": {
        "execution": {
          "iopub.status.busy": "2022-04-29T15:41:00.551972Z",
          "iopub.execute_input": "2022-04-29T15:41:00.553753Z",
          "iopub.status.idle": "2022-04-29T15:41:00.576246Z"
        },
        "trusted": true,
        "id": "eHgJNWKyqOCz",
        "outputId": "1aa2ec3f-7e68-4744-8812-dffbb0063c19"
      },
      "execution_count": null,
      "outputs": [
        {
          "output_type": "display_data",
          "data": {
            "text/html": "<dl>\n\t<dt>$vec</dt>\n\t\t<dd><style>\n.list-inline {list-style: none; margin:0; padding: 0}\n.list-inline>li {display: inline-block}\n.list-inline>li:not(:last-child)::after {content: \"\\00b7\"; padding: 0 .5ex}\n</style>\n<ol class=list-inline><li>1</li><li>2</li><li>3</li><li>4</li><li>5</li><li>6</li><li>7</li><li>8</li><li>9</li><li>10</li></ol>\n</dd>\n\t<dt>$mat</dt>\n\t\t<dd><table class=\"dataframe\">\n<caption>A matrix: 3 × 3 of type int</caption>\n<tbody>\n\t<tr><td>1</td><td>4</td><td>7</td></tr>\n\t<tr><td>2</td><td>5</td><td>8</td></tr>\n\t<tr><td>3</td><td>6</td><td>9</td></tr>\n</tbody>\n</table>\n</dd>\n\t<dt>$lis</dt>\n\t\t<dd><dl>\n\t<dt>$a</dt>\n\t\t<dd>10</dd>\n\t<dt>$b</dt>\n\t\t<dd>20</dd>\n</dl>\n</dd>\n</dl>\n",
            "text/markdown": "$vec\n:   1. 1\n2. 2\n3. 3\n4. 4\n5. 5\n6. 6\n7. 7\n8. 8\n9. 9\n10. 10\n\n\n\n$mat\n:   \nA matrix: 3 × 3 of type int\n\n| 1 | 4 | 7 |\n| 2 | 5 | 8 |\n| 3 | 6 | 9 |\n\n\n$lis\n:   $a\n:   10\n$b\n:   20\n\n\n\n\n\n",
            "text/latex": "\\begin{description}\n\\item[\\$vec] \\begin{enumerate*}\n\\item 1\n\\item 2\n\\item 3\n\\item 4\n\\item 5\n\\item 6\n\\item 7\n\\item 8\n\\item 9\n\\item 10\n\\end{enumerate*}\n\n\\item[\\$mat] A matrix: 3 × 3 of type int\n\\begin{tabular}{lll}\n\t 1 & 4 & 7\\\\\n\t 2 & 5 & 8\\\\\n\t 3 & 6 & 9\\\\\n\\end{tabular}\n\n\\item[\\$lis] \\begin{description}\n\\item[\\$a] 10\n\\item[\\$b] 20\n\\end{description}\n\n\\end{description}\n",
            "text/plain": "$vec\n [1]  1  2  3  4  5  6  7  8  9 10\n\n$mat\n     [,1] [,2] [,3]\n[1,]    1    4    7\n[2,]    2    5    8\n[3,]    3    6    9\n\n$lis\n$lis$a\n[1] 10\n\n$lis$b\n[1] 20\n\n"
          },
          "metadata": {}
        }
      ]
    },
    {
      "cell_type": "code",
      "source": [
        "#recursive variable is varaible can store values of its own type\n",
        "is.recursive(list2)"
      ],
      "metadata": {
        "execution": {
          "iopub.status.busy": "2022-04-29T15:41:32.473130Z",
          "iopub.execute_input": "2022-04-29T15:41:32.474606Z",
          "iopub.status.idle": "2022-04-29T15:41:32.491029Z"
        },
        "trusted": true,
        "id": "2KKIX5lpqOCz",
        "outputId": "d0d31eca-0a3d-4be0-9b1b-edc7ac2caded"
      },
      "execution_count": null,
      "outputs": [
        {
          "output_type": "display_data",
          "data": {
            "text/html": "TRUE",
            "text/markdown": "TRUE",
            "text/latex": "TRUE",
            "text/plain": "[1] TRUE"
          },
          "metadata": {}
        }
      ]
    },
    {
      "cell_type": "code",
      "source": [
        "#indexing of list\n",
        "list2[2]\n",
        "list2$mat\n",
        "list2['vec']\n",
        "\n",
        "length(list2)\n",
        "class(list2)"
      ],
      "metadata": {
        "execution": {
          "iopub.status.busy": "2022-04-29T15:42:31.587815Z",
          "iopub.execute_input": "2022-04-29T15:42:31.589652Z",
          "iopub.status.idle": "2022-04-29T15:42:31.632529Z"
        },
        "trusted": true,
        "id": "t6BdBcR_qOCz",
        "outputId": "b611b4a3-d08b-430e-bbf3-a9c5a53e8a20"
      },
      "execution_count": null,
      "outputs": [
        {
          "output_type": "display_data",
          "data": {
            "text/html": "<strong>$mat</strong> = <table class=\"dataframe\">\n<caption>A matrix: 3 × 3 of type int</caption>\n<tbody>\n\t<tr><td>1</td><td>4</td><td>7</td></tr>\n\t<tr><td>2</td><td>5</td><td>8</td></tr>\n\t<tr><td>3</td><td>6</td><td>9</td></tr>\n</tbody>\n</table>\n",
            "text/markdown": "**$mat** = \nA matrix: 3 × 3 of type int\n\n| 1 | 4 | 7 |\n| 2 | 5 | 8 |\n| 3 | 6 | 9 |\n\n",
            "text/latex": "\\textbf{\\$mat} = A matrix: 3 × 3 of type int\n\\begin{tabular}{lll}\n\t 1 & 4 & 7\\\\\n\t 2 & 5 & 8\\\\\n\t 3 & 6 & 9\\\\\n\\end{tabular}\n",
            "text/plain": "$mat\n     [,1] [,2] [,3]\n[1,]    1    4    7\n[2,]    2    5    8\n[3,]    3    6    9\n"
          },
          "metadata": {}
        },
        {
          "output_type": "display_data",
          "data": {
            "text/html": "<table class=\"dataframe\">\n<caption>A matrix: 3 × 3 of type int</caption>\n<tbody>\n\t<tr><td>1</td><td>4</td><td>7</td></tr>\n\t<tr><td>2</td><td>5</td><td>8</td></tr>\n\t<tr><td>3</td><td>6</td><td>9</td></tr>\n</tbody>\n</table>\n",
            "text/markdown": "\nA matrix: 3 × 3 of type int\n\n| 1 | 4 | 7 |\n| 2 | 5 | 8 |\n| 3 | 6 | 9 |\n\n",
            "text/latex": "A matrix: 3 × 3 of type int\n\\begin{tabular}{lll}\n\t 1 & 4 & 7\\\\\n\t 2 & 5 & 8\\\\\n\t 3 & 6 & 9\\\\\n\\end{tabular}\n",
            "text/plain": "     [,1] [,2] [,3]\n[1,] 1    4    7   \n[2,] 2    5    8   \n[3,] 3    6    9   "
          },
          "metadata": {}
        },
        {
          "output_type": "display_data",
          "data": {
            "text/html": "<strong>$vec</strong> = <style>\n.list-inline {list-style: none; margin:0; padding: 0}\n.list-inline>li {display: inline-block}\n.list-inline>li:not(:last-child)::after {content: \"\\00b7\"; padding: 0 .5ex}\n</style>\n<ol class=list-inline><li>1</li><li>2</li><li>3</li><li>4</li><li>5</li><li>6</li><li>7</li><li>8</li><li>9</li><li>10</li></ol>\n",
            "text/markdown": "**$vec** = 1. 1\n2. 2\n3. 3\n4. 4\n5. 5\n6. 6\n7. 7\n8. 8\n9. 9\n10. 10\n\n\n",
            "text/latex": "\\textbf{\\$vec} = \\begin{enumerate*}\n\\item 1\n\\item 2\n\\item 3\n\\item 4\n\\item 5\n\\item 6\n\\item 7\n\\item 8\n\\item 9\n\\item 10\n\\end{enumerate*}\n",
            "text/plain": "$vec\n [1]  1  2  3  4  5  6  7  8  9 10\n"
          },
          "metadata": {}
        },
        {
          "output_type": "display_data",
          "data": {
            "text/html": "3",
            "text/markdown": "3",
            "text/latex": "3",
            "text/plain": "[1] 3"
          },
          "metadata": {}
        },
        {
          "output_type": "display_data",
          "data": {
            "text/html": "'list'",
            "text/markdown": "'list'",
            "text/latex": "'list'",
            "text/plain": "[1] \"list\""
          },
          "metadata": {}
        }
      ]
    },
    {
      "cell_type": "code",
      "source": [
        "#conversion of vectors to list\n",
        "price <- c(10,20,30)\n",
        "pricelist <-as.list(price)\n",
        "pricelist\n",
        "price"
      ],
      "metadata": {
        "execution": {
          "iopub.status.busy": "2022-04-29T15:43:07.807723Z",
          "iopub.execute_input": "2022-04-29T15:43:07.809257Z",
          "iopub.status.idle": "2022-04-29T15:43:07.838177Z"
        },
        "trusted": true,
        "id": "k4dvyst0qOC0",
        "outputId": "6505c17f-fc80-4cb0-87b9-a80456105ce2"
      },
      "execution_count": null,
      "outputs": [
        {
          "output_type": "display_data",
          "data": {
            "text/html": "<ol>\n\t<li>10</li>\n\t<li>20</li>\n\t<li>30</li>\n</ol>\n",
            "text/markdown": "1. 10\n2. 20\n3. 30\n\n\n",
            "text/latex": "\\begin{enumerate}\n\\item 10\n\\item 20\n\\item 30\n\\end{enumerate}\n",
            "text/plain": "[[1]]\n[1] 10\n\n[[2]]\n[1] 20\n\n[[3]]\n[1] 30\n"
          },
          "metadata": {}
        },
        {
          "output_type": "display_data",
          "data": {
            "text/html": "<style>\n.list-inline {list-style: none; margin:0; padding: 0}\n.list-inline>li {display: inline-block}\n.list-inline>li:not(:last-child)::after {content: \"\\00b7\"; padding: 0 .5ex}\n</style>\n<ol class=list-inline><li>10</li><li>20</li><li>30</li></ol>\n",
            "text/markdown": "1. 10\n2. 20\n3. 30\n\n\n",
            "text/latex": "\\begin{enumerate*}\n\\item 10\n\\item 20\n\\item 30\n\\end{enumerate*}\n",
            "text/plain": "[1] 10 20 30"
          },
          "metadata": {}
        }
      ]
    },
    {
      "cell_type": "code",
      "source": [
        "#conversion of list to vector\n",
        "newPrice<-unlist(pricelist)\n",
        "newPrice"
      ],
      "metadata": {
        "execution": {
          "iopub.status.busy": "2022-04-29T15:43:40.996742Z",
          "iopub.execute_input": "2022-04-29T15:43:40.998215Z",
          "iopub.status.idle": "2022-04-29T15:43:41.016643Z"
        },
        "trusted": true,
        "id": "QZ-xK8YVqOC0",
        "outputId": "e292ab14-86c6-4b42-b83f-2369f8da2386"
      },
      "execution_count": null,
      "outputs": [
        {
          "output_type": "display_data",
          "data": {
            "text/html": "<style>\n.list-inline {list-style: none; margin:0; padding: 0}\n.list-inline>li {display: inline-block}\n.list-inline>li:not(:last-child)::after {content: \"\\00b7\"; padding: 0 .5ex}\n</style>\n<ol class=list-inline><li>10</li><li>20</li><li>30</li></ol>\n",
            "text/markdown": "1. 10\n2. 20\n3. 30\n\n\n",
            "text/latex": "\\begin{enumerate*}\n\\item 10\n\\item 20\n\\item 30\n\\end{enumerate*}\n",
            "text/plain": "[1] 10 20 30"
          },
          "metadata": {}
        }
      ]
    },
    {
      "cell_type": "code",
      "source": [
        "#dim dunction to convert vectors to matrix\n",
        "price1<-c(10,20,30,40)\n",
        "dim(price1)<-c(2,2)\n",
        "price1"
      ],
      "metadata": {
        "execution": {
          "iopub.status.busy": "2022-04-29T15:45:10.696796Z",
          "iopub.execute_input": "2022-04-29T15:45:10.698307Z",
          "iopub.status.idle": "2022-04-29T15:45:10.723662Z"
        },
        "trusted": true,
        "id": "gH0PLE1JqOC0",
        "outputId": "34a74fa4-070f-46fa-c243-88d4b4e88cd1"
      },
      "execution_count": null,
      "outputs": [
        {
          "output_type": "display_data",
          "data": {
            "text/html": "<table class=\"dataframe\">\n<caption>A matrix: 2 × 2 of type dbl</caption>\n<tbody>\n\t<tr><td>10</td><td>30</td></tr>\n\t<tr><td>20</td><td>40</td></tr>\n</tbody>\n</table>\n",
            "text/markdown": "\nA matrix: 2 × 2 of type dbl\n\n| 10 | 30 |\n| 20 | 40 |\n\n",
            "text/latex": "A matrix: 2 × 2 of type dbl\n\\begin{tabular}{ll}\n\t 10 & 30\\\\\n\t 20 & 40\\\\\n\\end{tabular}\n",
            "text/plain": "     [,1] [,2]\n[1,] 10   30  \n[2,] 20   40  "
          },
          "metadata": {}
        }
      ]
    }
  ]
}