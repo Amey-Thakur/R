{
  "cells": [
    {
      "cell_type": "markdown",
      "metadata": {
        "id": "view-in-github",
        "colab_type": "text"
      },
      "source": [
        "<a href=\"https://colab.research.google.com/github/msatmod/R/blob/main/Web_Scraping_in_R_Part_IV.ipynb\" target=\"_parent\"><img src=\"https://colab.research.google.com/assets/colab-badge.svg\" alt=\"Open In Colab\"/></a>"
      ]
    },
    {
      "cell_type": "markdown",
      "id": "14d8f1fb",
      "metadata": {
        "papermill": {
          "duration": 0.002752,
          "end_time": "2022-08-25T05:08:51.991849",
          "exception": false,
          "start_time": "2022-08-25T05:08:51.989097",
          "status": "completed"
        },
        "tags": [],
        "id": "14d8f1fb"
      },
      "source": [
        "# Web Scraping in R\n",
        "\n",
        "## Part IV\n",
        "\n"
      ]
    },
    {
      "cell_type": "code",
      "execution_count": null,
      "id": "bd726a19",
      "metadata": {
        "execution": {
          "iopub.execute_input": "2022-08-25T05:08:52.000501Z",
          "iopub.status.busy": "2022-08-25T05:08:51.997917Z",
          "iopub.status.idle": "2022-08-25T05:08:52.260951Z",
          "shell.execute_reply": "2022-08-25T05:08:52.259156Z"
        },
        "papermill": {
          "duration": 0.270517,
          "end_time": "2022-08-25T05:08:52.264139",
          "exception": false,
          "start_time": "2022-08-25T05:08:51.993622",
          "status": "completed"
        },
        "tags": [],
        "id": "bd726a19",
        "outputId": "fa076d20-4019-4076-f123-a917b82b6145"
      },
      "outputs": [
        {
          "name": "stderr",
          "output_type": "stream",
          "text": [
            "\n",
            "Attaching package: ‘dplyr’\n",
            "\n",
            "\n",
            "The following objects are masked from ‘package:stats’:\n",
            "\n",
            "    filter, lag\n",
            "\n",
            "\n",
            "The following objects are masked from ‘package:base’:\n",
            "\n",
            "    intersect, setdiff, setequal, union\n",
            "\n",
            "\n"
          ]
        }
      ],
      "source": [
        "# Load the libraries\n",
        "library(dplyr)\n",
        "library(rvest)\n"
      ]
    },
    {
      "cell_type": "code",
      "execution_count": null,
      "id": "5d07409b",
      "metadata": {
        "execution": {
          "iopub.execute_input": "2022-08-25T05:08:52.300988Z",
          "iopub.status.busy": "2022-08-25T05:08:52.269896Z",
          "iopub.status.idle": "2022-08-25T05:08:52.848136Z",
          "shell.execute_reply": "2022-08-25T05:08:52.845618Z"
        },
        "papermill": {
          "duration": 0.584794,
          "end_time": "2022-08-25T05:08:52.850991",
          "exception": false,
          "start_time": "2022-08-25T05:08:52.266197",
          "status": "completed"
        },
        "tags": [],
        "id": "5d07409b",
        "outputId": "85cf399b-88d0-4967-8172-ede0fc18b264"
      },
      "outputs": [
        {
          "name": "stdout",
          "output_type": "stream",
          "text": [
            "\u001b[90m# A tibble: 13 × 3\u001b[39m\n",
            "   Name       Image Notes                                                       \n",
            "   \u001b[3m\u001b[90m<chr>\u001b[39m\u001b[23m      \u001b[3m\u001b[90m<lgl>\u001b[39m\u001b[23m \u001b[3m\u001b[90m<chr>\u001b[39m\u001b[23m                                                       \n",
            "\u001b[90m 1\u001b[39m Snow White \u001b[31mNA\u001b[39m    \u001b[90m\"\u001b[39mSnow White, the titular protagonist of the 1937 Disney ani…\n",
            "\u001b[90m 2\u001b[39m Cinderella \u001b[31mNA\u001b[39m    \u001b[90m\"\u001b[39mCinderella is the titular protagonist of her eponymous fil…\n",
            "\u001b[90m 3\u001b[39m Aurora     \u001b[31mNA\u001b[39m    \u001b[90m\"\u001b[39mAurora is the titular protagonist of the film Sleeping Bea…\n",
            "\u001b[90m 4\u001b[39m Ariel      \u001b[31mNA\u001b[39m    \u001b[90m\"\u001b[39mAriel is the protagonist of the films The Little Mermaid, …\n",
            "\u001b[90m 5\u001b[39m Belle      \u001b[31mNA\u001b[39m    \u001b[90m\"\u001b[39mBelle is the fifth Disney princess and the female protagon…\n",
            "\u001b[90m 6\u001b[39m Jasmine    \u001b[31mNA\u001b[39m    \u001b[90m\"\u001b[39mJasmine is the deuteragonist of Aladdin, its two sequels, …\n",
            "\u001b[90m 7\u001b[39m Pocahontas \u001b[31mNA\u001b[39m    \u001b[90m\"\u001b[39mPocahontas is the protagonist of the film Pocahontas and i…\n",
            "\u001b[90m 8\u001b[39m Mulan      \u001b[31mNA\u001b[39m    \u001b[90m\"\u001b[39mFa Mulan is the titular protagonist in the Disney film Mul…\n",
            "\u001b[90m 9\u001b[39m Tiana      \u001b[31mNA\u001b[39m    \u001b[90m\"\u001b[39mTiana is the protagonist in the film The Princess and the …\n",
            "\u001b[90m10\u001b[39m Rapunzel   \u001b[31mNA\u001b[39m    \u001b[90m\"\u001b[39mRapunzel is the protagonist in the film Tangled, the short…\n",
            "\u001b[90m11\u001b[39m Merida     \u001b[31mNA\u001b[39m    \u001b[90m\"\u001b[39mMerida is the protagonist of the Disney/Pixar film Brave, …\n",
            "\u001b[90m12\u001b[39m Moana      \u001b[31mNA\u001b[39m    \u001b[90m\"\u001b[39mMoana is the titular protagonist of the Disney film of the…\n",
            "\u001b[90m13\u001b[39m Raya       \u001b[31mNA\u001b[39m    \u001b[90m\"\u001b[39mRaya is the titular protagonist of the full length animate…\n"
          ]
        }
      ],
      "source": [
        "# Read the link\n",
        "col_link = \"https://disneyprincess.fandom.com/wiki/List_of_Disney_Princesses\"\n",
        "col_page = read_html(col_link)\n",
        "# Get Table Data\n",
        "col_table = col_page %>% html_nodes(\"table.fandom-table\") %>% html_table() %>% .[[1]]\n",
        "\n",
        "# Print Table Data\n",
        "print(col_table)"
      ]
    },
    {
      "cell_type": "code",
      "execution_count": null,
      "id": "520c8ef7",
      "metadata": {
        "execution": {
          "iopub.execute_input": "2022-08-25T05:08:52.858619Z",
          "iopub.status.busy": "2022-08-25T05:08:52.857204Z",
          "iopub.status.idle": "2022-08-25T05:08:53.354422Z",
          "shell.execute_reply": "2022-08-25T05:08:53.351596Z"
        },
        "papermill": {
          "duration": 0.50535,
          "end_time": "2022-08-25T05:08:53.358768",
          "exception": false,
          "start_time": "2022-08-25T05:08:52.853418",
          "status": "completed"
        },
        "tags": [],
        "id": "520c8ef7",
        "outputId": "14472659-5918-4f8b-d58a-ba977ae11f2b"
      },
      "outputs": [
        {
          "name": "stdout",
          "output_type": "stream",
          "text": [
            "\u001b[90m# A tibble: 29 × 3\u001b[39m\n",
            "   Title                        `Release date`    Notes                         \n",
            "   \u001b[3m\u001b[90m<chr>\u001b[39m\u001b[23m                        \u001b[3m\u001b[90m<chr>\u001b[39m\u001b[23m             \u001b[3m\u001b[90m<chr>\u001b[39m\u001b[23m                         \n",
            "\u001b[90m 1\u001b[39m Cinderella                   February 15, 1950 \u001b[90m\"\u001b[39m\u001b[90m\"\u001b[39m                            \n",
            "\u001b[90m 2\u001b[39m Treasure Island              July 29, 1950     \u001b[90m\"\u001b[39mProduced by RKO-Walt Disney …\n",
            "\u001b[90m 3\u001b[39m Alice in Wonderland          July 28, 1951     \u001b[90m\"\u001b[39m\u001b[90m\"\u001b[39m                            \n",
            "\u001b[90m 4\u001b[39m The Story of Robin Hood      June 26, 1952     \u001b[90m\"\u001b[39mProduced by RKO-Walt Disney …\n",
            "\u001b[90m 5\u001b[39m Peter Pan                    February 5, 1953  \u001b[90m\"\u001b[39m\u001b[90m\"\u001b[39m                            \n",
            "\u001b[90m 6\u001b[39m The Sword and the Rose       July 23, 1953     \u001b[90m\"\u001b[39mProduced by RKO-Walt Disney …\n",
            "\u001b[90m 7\u001b[39m The Living Desert            November 10, 1953 \u001b[90m\"\u001b[39mFirst film to be distributed…\n",
            "\u001b[90m 8\u001b[39m Rob Roy: The Highland Rogue  February 27, 1954 \u001b[90m\"\u001b[39mProduced by RKO-Walt Disney …\n",
            "\u001b[90m 9\u001b[39m The Vanishing Prairie        August 16, 1954   \u001b[90m\"\u001b[39m\u001b[90m\"\u001b[39m                            \n",
            "\u001b[90m10\u001b[39m 20,000 Leagues Under the Sea December 23, 1954 \u001b[90m\"\u001b[39m\u001b[90m\"\u001b[39m                            \n",
            "\u001b[90m# … with 19 more rows\u001b[39m\n",
            "\u001b[90m# ℹ Use `print(n = ...)` to see more rows\u001b[39m\n"
          ]
        }
      ],
      "source": [
        "# Read Link\n",
        "wiki_link = \"https://en.wikipedia.org/wiki/List_of_Walt_Disney_Pictures_films\"\n",
        "wiki_page = read_html(wiki_link)\n",
        "\n",
        "# Get Table Data\n",
        "movies_table = wiki_page %>% html_nodes(\"table\") %>% .[2] %>% html_table() %>% .[[1]]\n",
        "\n",
        "# Print Table\n",
        "print(movies_table)"
      ]
    },
    {
      "cell_type": "markdown",
      "id": "02de11c0",
      "metadata": {
        "papermill": {
          "duration": 0.002293,
          "end_time": "2022-08-25T05:08:53.364186",
          "exception": false,
          "start_time": "2022-08-25T05:08:53.361893",
          "status": "completed"
        },
        "tags": [],
        "id": "02de11c0"
      },
      "source": [
        "## Web Scraping [Part I](https://www.kaggle.com/code/ameythakur20/web-scraping-in-r-part-i)\n",
        "## Web Scraping [Part II](https://www.kaggle.com/code/ameythakur20/web-scrapping-in-r-part-ii)\n",
        "## Web Scraping [Part III](https://www.kaggle.com/code/ameythakur20/web-scraping-in-r-part-iii)"
      ]
    }
  ],
  "metadata": {
    "kernelspec": {
      "display_name": "R",
      "language": "R",
      "name": "ir"
    },
    "language_info": {
      "codemirror_mode": "r",
      "file_extension": ".r",
      "mimetype": "text/x-r-source",
      "name": "R",
      "pygments_lexer": "r",
      "version": "4.0.5"
    },
    "papermill": {
      "default_parameters": {},
      "duration": 5.244506,
      "end_time": "2022-08-25T05:08:53.486942",
      "environment_variables": {},
      "exception": null,
      "input_path": "__notebook__.ipynb",
      "output_path": "__notebook__.ipynb",
      "parameters": {},
      "start_time": "2022-08-25T05:08:48.242436",
      "version": "2.3.4"
    },
    "colab": {
      "name": "Web Scraping in R - Part IV.ipynb",
      "provenance": [],
      "include_colab_link": true
    }
  },
  "nbformat": 4,
  "nbformat_minor": 5
}