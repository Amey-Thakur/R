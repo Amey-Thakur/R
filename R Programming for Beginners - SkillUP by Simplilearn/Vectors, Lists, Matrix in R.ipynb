{
  "cells": [
    {
      "cell_type": "markdown",
      "metadata": {
        "id": "view-in-github",
        "colab_type": "text"
      },
      "source": [
        "<a href=\"https://colab.research.google.com/github/msatmod/R/blob/main/vectors_lists_matrix_in_r.ipynb\" target=\"_parent\"><img src=\"https://colab.research.google.com/assets/colab-badge.svg\" alt=\"Open In Colab\"/></a>"
      ]
    },
    {
      "cell_type": "markdown",
      "id": "56b525ef",
      "metadata": {
        "papermill": {
          "duration": 0.010624,
          "end_time": "2022-04-28T16:10:00.596923",
          "exception": false,
          "start_time": "2022-04-28T16:10:00.586299",
          "status": "completed"
        },
        "tags": [],
        "id": "56b525ef"
      },
      "source": [
        "## Vectors"
      ]
    },
    {
      "cell_type": "code",
      "execution_count": null,
      "id": "de049a14",
      "metadata": {
        "execution": {
          "iopub.execute_input": "2022-04-28T16:10:00.622346Z",
          "iopub.status.busy": "2022-04-28T16:10:00.619508Z",
          "iopub.status.idle": "2022-04-28T16:10:00.796365Z",
          "shell.execute_reply": "2022-04-28T16:10:00.794358Z"
        },
        "papermill": {
          "duration": 0.191868,
          "end_time": "2022-04-28T16:10:00.799290",
          "exception": false,
          "start_time": "2022-04-28T16:10:00.607422",
          "status": "completed"
        },
        "tags": [],
        "id": "de049a14",
        "outputId": "8ae67a39-f037-4c34-9e3a-0b6e651650b4"
      },
      "outputs": [
        {
          "data": {
            "text/html": [
              "<style>\n",
              ".list-inline {list-style: none; margin:0; padding: 0}\n",
              ".list-inline>li {display: inline-block}\n",
              ".list-inline>li:not(:last-child)::after {content: \"\\00b7\"; padding: 0 .5ex}\n",
              "</style>\n",
              "<ol class=list-inline><li>1</li><li>2</li><li>3</li><li>4</li><li>5</li></ol>\n"
            ],
            "text/latex": [
              "\\begin{enumerate*}\n",
              "\\item 1\n",
              "\\item 2\n",
              "\\item 3\n",
              "\\item 4\n",
              "\\item 5\n",
              "\\end{enumerate*}\n"
            ],
            "text/markdown": [
              "1. 1\n",
              "2. 2\n",
              "3. 3\n",
              "4. 4\n",
              "5. 5\n",
              "\n",
              "\n"
            ],
            "text/plain": [
              "[1] 1 2 3 4 5"
            ]
          },
          "metadata": {},
          "output_type": "display_data"
        },
        {
          "data": {
            "text/html": [
              "<style>\n",
              ".list-inline {list-style: none; margin:0; padding: 0}\n",
              ".list-inline>li {display: inline-block}\n",
              ".list-inline>li:not(:last-child)::after {content: \"\\00b7\"; padding: 0 .5ex}\n",
              "</style>\n",
              "<ol class=list-inline><li>TRUE</li><li>FALSE</li></ol>\n"
            ],
            "text/latex": [
              "\\begin{enumerate*}\n",
              "\\item TRUE\n",
              "\\item FALSE\n",
              "\\end{enumerate*}\n"
            ],
            "text/markdown": [
              "1. TRUE\n",
              "2. FALSE\n",
              "\n",
              "\n"
            ],
            "text/plain": [
              "[1]  TRUE FALSE"
            ]
          },
          "metadata": {},
          "output_type": "display_data"
        },
        {
          "data": {
            "text/html": [
              "<style>\n",
              ".list-inline {list-style: none; margin:0; padding: 0}\n",
              ".list-inline>li {display: inline-block}\n",
              ".list-inline>li:not(:last-child)::after {content: \"\\00b7\"; padding: 0 .5ex}\n",
              "</style>\n",
              "<ol class=list-inline><li>'a'</li><li>'b'</li><li>'c'</li></ol>\n"
            ],
            "text/latex": [
              "\\begin{enumerate*}\n",
              "\\item 'a'\n",
              "\\item 'b'\n",
              "\\item 'c'\n",
              "\\end{enumerate*}\n"
            ],
            "text/markdown": [
              "1. 'a'\n",
              "2. 'b'\n",
              "3. 'c'\n",
              "\n",
              "\n"
            ],
            "text/plain": [
              "[1] \"a\" \"b\" \"c\""
            ]
          },
          "metadata": {},
          "output_type": "display_data"
        },
        {
          "data": {
            "text/html": [
              "<style>\n",
              ".list-inline {list-style: none; margin:0; padding: 0}\n",
              ".list-inline>li {display: inline-block}\n",
              ".list-inline>li:not(:last-child)::after {content: \"\\00b7\"; padding: 0 .5ex}\n",
              "</style>\n",
              "<ol class=list-inline><li>1+10i</li><li>2+3i</li></ol>\n"
            ],
            "text/latex": [
              "\\begin{enumerate*}\n",
              "\\item 1+10i\n",
              "\\item 2+3i\n",
              "\\end{enumerate*}\n"
            ],
            "text/markdown": [
              "1. 1+10i\n",
              "2. 2+3i\n",
              "\n",
              "\n"
            ],
            "text/plain": [
              "[1] 1+10i 2+ 3i"
            ]
          },
          "metadata": {},
          "output_type": "display_data"
        }
      ],
      "source": [
        "#creating vectors \n",
        "#using c() functions\n",
        "\n",
        "x <- c(1,2,3,4,5) #numeric\n",
        "x\n",
        "x <- c(TRUE, FALSE)#logical\n",
        "x\n",
        "x <- c(\"a\", \"b\", \"c\")#character\n",
        "x\n",
        "x <- c(1+10i, 2+3i)#complex\n",
        "x"
      ]
    },
    {
      "cell_type": "code",
      "execution_count": null,
      "id": "6c7c89ff",
      "metadata": {
        "execution": {
          "iopub.execute_input": "2022-04-28T16:10:00.868624Z",
          "iopub.status.busy": "2022-04-28T16:10:00.824592Z",
          "iopub.status.idle": "2022-04-28T16:10:00.889089Z",
          "shell.execute_reply": "2022-04-28T16:10:00.887129Z"
        },
        "papermill": {
          "duration": 0.078848,
          "end_time": "2022-04-28T16:10:00.891356",
          "exception": false,
          "start_time": "2022-04-28T16:10:00.812508",
          "status": "completed"
        },
        "tags": [],
        "id": "6c7c89ff",
        "outputId": "50c595c8-38e6-4727-f06a-58fa5d3904f1"
      },
      "outputs": [
        {
          "data": {
            "text/html": [
              "<style>\n",
              ".list-inline {list-style: none; margin:0; padding: 0}\n",
              ".list-inline>li {display: inline-block}\n",
              ".list-inline>li:not(:last-child)::after {content: \"\\00b7\"; padding: 0 .5ex}\n",
              "</style>\n",
              "<ol class=list-inline><li>0</li><li>0</li><li>0</li><li>0</li><li>0</li><li>0</li><li>0</li><li>0</li><li>0</li><li>0</li></ol>\n"
            ],
            "text/latex": [
              "\\begin{enumerate*}\n",
              "\\item 0\n",
              "\\item 0\n",
              "\\item 0\n",
              "\\item 0\n",
              "\\item 0\n",
              "\\item 0\n",
              "\\item 0\n",
              "\\item 0\n",
              "\\item 0\n",
              "\\item 0\n",
              "\\end{enumerate*}\n"
            ],
            "text/markdown": [
              "1. 0\n",
              "2. 0\n",
              "3. 0\n",
              "4. 0\n",
              "5. 0\n",
              "6. 0\n",
              "7. 0\n",
              "8. 0\n",
              "9. 0\n",
              "10. 0\n",
              "\n",
              "\n"
            ],
            "text/plain": [
              " [1] 0 0 0 0 0 0 0 0 0 0"
            ]
          },
          "metadata": {},
          "output_type": "display_data"
        }
      ],
      "source": [
        "#vector() function to initialize the vector\n",
        "x <- vector(\"numeric\", length = 10)\n",
        "x"
      ]
    },
    {
      "cell_type": "code",
      "execution_count": null,
      "id": "bf2930f9",
      "metadata": {
        "execution": {
          "iopub.execute_input": "2022-04-28T16:10:00.917462Z",
          "iopub.status.busy": "2022-04-28T16:10:00.915735Z",
          "iopub.status.idle": "2022-04-28T16:10:00.934391Z",
          "shell.execute_reply": "2022-04-28T16:10:00.932101Z"
        },
        "papermill": {
          "duration": 0.034009,
          "end_time": "2022-04-28T16:10:00.936899",
          "exception": false,
          "start_time": "2022-04-28T16:10:00.902890",
          "status": "completed"
        },
        "tags": [],
        "id": "bf2930f9",
        "outputId": "74acbca4-23a3-44f0-aec7-250f85240ff1"
      },
      "outputs": [
        {
          "name": "stdout",
          "output_type": "stream",
          "text": [
            "[1] 1 2 3 4 5 6\n"
          ]
        }
      ],
      "source": [
        "#create vector of numbers\n",
        "numbers <- c(1,2,3,4,5,6)\n",
        "print(numbers)"
      ]
    },
    {
      "cell_type": "code",
      "execution_count": null,
      "id": "cc0af7d1",
      "metadata": {
        "execution": {
          "iopub.execute_input": "2022-04-28T16:10:00.961610Z",
          "iopub.status.busy": "2022-04-28T16:10:00.960394Z",
          "iopub.status.idle": "2022-04-28T16:10:00.977981Z",
          "shell.execute_reply": "2022-04-28T16:10:00.976237Z"
        },
        "papermill": {
          "duration": 0.032075,
          "end_time": "2022-04-28T16:10:00.979980",
          "exception": false,
          "start_time": "2022-04-28T16:10:00.947905",
          "status": "completed"
        },
        "tags": [],
        "id": "cc0af7d1",
        "outputId": "52ccd4f4-d097-4408-9b74-632a4cd2bf5c"
      },
      "outputs": [
        {
          "name": "stdout",
          "output_type": "stream",
          "text": [
            "[1] \"a\" \"b\" \"c\" \"d\" \"e\" \"f\"\n"
          ]
        }
      ],
      "source": [
        "#create a vector of letters\n",
        "letters <- c('a', \"b\", \"c\", \"d\", \"e\", \"f\")\n",
        "print(letters)"
      ]
    },
    {
      "cell_type": "code",
      "execution_count": null,
      "id": "ff962ddb",
      "metadata": {
        "execution": {
          "iopub.execute_input": "2022-04-28T16:10:01.005093Z",
          "iopub.status.busy": "2022-04-28T16:10:01.003684Z",
          "iopub.status.idle": "2022-04-28T16:10:01.017637Z",
          "shell.execute_reply": "2022-04-28T16:10:01.015940Z"
        },
        "papermill": {
          "duration": 0.028525,
          "end_time": "2022-04-28T16:10:01.019580",
          "exception": false,
          "start_time": "2022-04-28T16:10:00.991055",
          "status": "completed"
        },
        "tags": [],
        "id": "ff962ddb",
        "outputId": "0a1ad8db-c099-4e4a-ac9a-6380ffdf9101"
      },
      "outputs": [
        {
          "name": "stdout",
          "output_type": "stream",
          "text": [
            " [1] \"1\" \"2\" \"3\" \"4\" \"5\" \"6\" \"a\" \"b\" \"c\" \"d\" \"e\" \"f\"\n"
          ]
        }
      ],
      "source": [
        "#mixed vectors \n",
        "mixed_vectors <- c(numbers, letters)\n",
        "print(mixed_vectors)"
      ]
    },
    {
      "cell_type": "code",
      "execution_count": null,
      "id": "066148f9",
      "metadata": {
        "execution": {
          "iopub.execute_input": "2022-04-28T16:10:01.044391Z",
          "iopub.status.busy": "2022-04-28T16:10:01.043055Z",
          "iopub.status.idle": "2022-04-28T16:10:01.056104Z",
          "shell.execute_reply": "2022-04-28T16:10:01.054660Z"
        },
        "papermill": {
          "duration": 0.027072,
          "end_time": "2022-04-28T16:10:01.057816",
          "exception": false,
          "start_time": "2022-04-28T16:10:01.030744",
          "status": "completed"
        },
        "tags": [],
        "id": "066148f9",
        "outputId": "f1dbf08f-7085-46ea-bed8-00c73f094457"
      },
      "outputs": [
        {
          "data": {
            "text/html": [
              "'character'"
            ],
            "text/latex": [
              "'character'"
            ],
            "text/markdown": [
              "'character'"
            ],
            "text/plain": [
              "[1] \"character\""
            ]
          },
          "metadata": {},
          "output_type": "display_data"
        }
      ],
      "source": [
        "class(mixed_vectors)"
      ]
    },
    {
      "cell_type": "code",
      "execution_count": null,
      "id": "73d47d2d",
      "metadata": {
        "execution": {
          "iopub.execute_input": "2022-04-28T16:10:01.083066Z",
          "iopub.status.busy": "2022-04-28T16:10:01.081702Z",
          "iopub.status.idle": "2022-04-28T16:10:01.101554Z",
          "shell.execute_reply": "2022-04-28T16:10:01.099153Z"
        },
        "papermill": {
          "duration": 0.034603,
          "end_time": "2022-04-28T16:10:01.103762",
          "exception": false,
          "start_time": "2022-04-28T16:10:01.069159",
          "status": "completed"
        },
        "tags": [],
        "id": "73d47d2d",
        "outputId": "ffab78b1-76ba-4b70-ab29-7802de0b7256"
      },
      "outputs": [
        {
          "data": {
            "text/html": [
              "'integer'"
            ],
            "text/latex": [
              "'integer'"
            ],
            "text/markdown": [
              "'integer'"
            ],
            "text/plain": [
              "[1] \"integer\""
            ]
          },
          "metadata": {},
          "output_type": "display_data"
        }
      ],
      "source": [
        "#1D Vector\n",
        "num = 1:10\n",
        "class(num)"
      ]
    },
    {
      "cell_type": "code",
      "execution_count": null,
      "id": "1e90cc68",
      "metadata": {
        "execution": {
          "iopub.execute_input": "2022-04-28T16:10:01.129370Z",
          "iopub.status.busy": "2022-04-28T16:10:01.128008Z",
          "iopub.status.idle": "2022-04-28T16:10:01.142476Z",
          "shell.execute_reply": "2022-04-28T16:10:01.141105Z"
        },
        "papermill": {
          "duration": 0.02892,
          "end_time": "2022-04-28T16:10:01.144201",
          "exception": false,
          "start_time": "2022-04-28T16:10:01.115281",
          "status": "completed"
        },
        "tags": [],
        "id": "1e90cc68",
        "outputId": "0593eb66-046d-42c9-89b5-e1df4e106ef7"
      },
      "outputs": [
        {
          "data": {
            "text/html": [
              "'numeric'"
            ],
            "text/latex": [
              "'numeric'"
            ],
            "text/markdown": [
              "'numeric'"
            ],
            "text/plain": [
              "[1] \"numeric\""
            ]
          },
          "metadata": {},
          "output_type": "display_data"
        }
      ],
      "source": [
        "#numeric vector\n",
        "num = c(1:10,10.5)\n",
        "class(num)"
      ]
    },
    {
      "cell_type": "code",
      "execution_count": null,
      "id": "e4964745",
      "metadata": {
        "execution": {
          "iopub.execute_input": "2022-04-28T16:10:01.170003Z",
          "iopub.status.busy": "2022-04-28T16:10:01.168720Z",
          "iopub.status.idle": "2022-04-28T16:10:01.187023Z",
          "shell.execute_reply": "2022-04-28T16:10:01.185660Z"
        },
        "papermill": {
          "duration": 0.033169,
          "end_time": "2022-04-28T16:10:01.189052",
          "exception": false,
          "start_time": "2022-04-28T16:10:01.155883",
          "status": "completed"
        },
        "tags": [],
        "id": "e4964745",
        "outputId": "41fc73e1-a5f8-4198-88e6-7dd56930045a"
      },
      "outputs": [
        {
          "data": {
            "text/html": [
              "'character'"
            ],
            "text/latex": [
              "'character'"
            ],
            "text/markdown": [
              "'character'"
            ],
            "text/plain": [
              "[1] \"character\""
            ]
          },
          "metadata": {},
          "output_type": "display_data"
        },
        {
          "data": {
            "text/html": [
              "<style>\n",
              ".list-inline {list-style: none; margin:0; padding: 0}\n",
              ".list-inline>li {display: inline-block}\n",
              ".list-inline>li:not(:last-child)::after {content: \"\\00b7\"; padding: 0 .5ex}\n",
              "</style>\n",
              "<ol class=list-inline><li>'a'</li><li>'b'</li><li>'c'</li><li>'d'</li><li>'e'</li><li>'f'</li><li>NA</li><li>NA</li><li>NA</li><li>NA</li></ol>\n"
            ],
            "text/latex": [
              "\\begin{enumerate*}\n",
              "\\item 'a'\n",
              "\\item 'b'\n",
              "\\item 'c'\n",
              "\\item 'd'\n",
              "\\item 'e'\n",
              "\\item 'f'\n",
              "\\item NA\n",
              "\\item NA\n",
              "\\item NA\n",
              "\\item NA\n",
              "\\end{enumerate*}\n"
            ],
            "text/markdown": [
              "1. 'a'\n",
              "2. 'b'\n",
              "3. 'c'\n",
              "4. 'd'\n",
              "5. 'e'\n",
              "6. 'f'\n",
              "7. NA\n",
              "8. NA\n",
              "9. NA\n",
              "10. NA\n",
              "\n",
              "\n"
            ],
            "text/plain": [
              " [1] \"a\" \"b\" \"c\" \"d\" \"e\" \"f\" NA  NA  NA  NA "
            ]
          },
          "metadata": {},
          "output_type": "display_data"
        }
      ],
      "source": [
        "#character vector\n",
        "ltrs = letters[1:10]\n",
        "class(ltrs)\n",
        "ltrs"
      ]
    },
    {
      "cell_type": "code",
      "execution_count": null,
      "id": "5cd68806",
      "metadata": {
        "execution": {
          "iopub.execute_input": "2022-04-28T16:10:01.215546Z",
          "iopub.status.busy": "2022-04-28T16:10:01.214277Z",
          "iopub.status.idle": "2022-04-28T16:10:01.269741Z",
          "shell.execute_reply": "2022-04-28T16:10:01.268343Z"
        },
        "papermill": {
          "duration": 0.07033,
          "end_time": "2022-04-28T16:10:01.271506",
          "exception": false,
          "start_time": "2022-04-28T16:10:01.201176",
          "status": "completed"
        },
        "tags": [],
        "id": "5cd68806",
        "outputId": "7b18686c-0eba-4d7b-82fc-f8f4f47bf69a"
      },
      "outputs": [
        {
          "data": {
            "text/html": [
              "'integer'"
            ],
            "text/latex": [
              "'integer'"
            ],
            "text/markdown": [
              "'integer'"
            ],
            "text/plain": [
              "[1] \"integer\""
            ]
          },
          "metadata": {},
          "output_type": "display_data"
        },
        {
          "data": {
            "text/html": [
              "<style>\n",
              ".list-inline {list-style: none; margin:0; padding: 0}\n",
              ".list-inline>li {display: inline-block}\n",
              ".list-inline>li:not(:last-child)::after {content: \"\\00b7\"; padding: 0 .5ex}\n",
              "</style>\n",
              "<ol class=list-inline><li>0</li><li>1</li><li>2</li><li>3</li><li>4</li><li>5</li><li>6</li></ol>\n"
            ],
            "text/latex": [
              "\\begin{enumerate*}\n",
              "\\item 0\n",
              "\\item 1\n",
              "\\item 2\n",
              "\\item 3\n",
              "\\item 4\n",
              "\\item 5\n",
              "\\item 6\n",
              "\\end{enumerate*}\n"
            ],
            "text/markdown": [
              "1. 0\n",
              "2. 1\n",
              "3. 2\n",
              "4. 3\n",
              "5. 4\n",
              "6. 5\n",
              "7. 6\n",
              "\n",
              "\n"
            ],
            "text/plain": [
              "[1] 0 1 2 3 4 5 6"
            ]
          },
          "metadata": {},
          "output_type": "display_data"
        },
        {
          "data": {
            "text/html": [
              "<style>\n",
              ".list-inline {list-style: none; margin:0; padding: 0}\n",
              ".list-inline>li {display: inline-block}\n",
              ".list-inline>li:not(:last-child)::after {content: \"\\00b7\"; padding: 0 .5ex}\n",
              "</style>\n",
              "<ol class=list-inline><li>FALSE</li><li>TRUE</li><li>TRUE</li><li>TRUE</li><li>TRUE</li><li>TRUE</li><li>TRUE</li></ol>\n"
            ],
            "text/latex": [
              "\\begin{enumerate*}\n",
              "\\item FALSE\n",
              "\\item TRUE\n",
              "\\item TRUE\n",
              "\\item TRUE\n",
              "\\item TRUE\n",
              "\\item TRUE\n",
              "\\item TRUE\n",
              "\\end{enumerate*}\n"
            ],
            "text/markdown": [
              "1. FALSE\n",
              "2. TRUE\n",
              "3. TRUE\n",
              "4. TRUE\n",
              "5. TRUE\n",
              "6. TRUE\n",
              "7. TRUE\n",
              "\n",
              "\n"
            ],
            "text/plain": [
              "[1] FALSE  TRUE  TRUE  TRUE  TRUE  TRUE  TRUE"
            ]
          },
          "metadata": {},
          "output_type": "display_data"
        },
        {
          "data": {
            "text/html": [
              "<style>\n",
              ".list-inline {list-style: none; margin:0; padding: 0}\n",
              ".list-inline>li {display: inline-block}\n",
              ".list-inline>li:not(:last-child)::after {content: \"\\00b7\"; padding: 0 .5ex}\n",
              "</style>\n",
              "<ol class=list-inline><li>'0'</li><li>'1'</li><li>'2'</li><li>'3'</li><li>'4'</li><li>'5'</li><li>'6'</li></ol>\n"
            ],
            "text/latex": [
              "\\begin{enumerate*}\n",
              "\\item '0'\n",
              "\\item '1'\n",
              "\\item '2'\n",
              "\\item '3'\n",
              "\\item '4'\n",
              "\\item '5'\n",
              "\\item '6'\n",
              "\\end{enumerate*}\n"
            ],
            "text/markdown": [
              "1. '0'\n",
              "2. '1'\n",
              "3. '2'\n",
              "4. '3'\n",
              "5. '4'\n",
              "6. '5'\n",
              "7. '6'\n",
              "\n",
              "\n"
            ],
            "text/plain": [
              "[1] \"0\" \"1\" \"2\" \"3\" \"4\" \"5\" \"6\""
            ]
          },
          "metadata": {},
          "output_type": "display_data"
        }
      ],
      "source": [
        "#Explicit coercion using as.\" function\n",
        "x <- 0:6\n",
        "class(x)\n",
        "\n",
        "as.numeric(x)\n",
        "as.logical(x)\n",
        "as.character(x)"
      ]
    },
    {
      "cell_type": "code",
      "execution_count": null,
      "id": "e65cddc7",
      "metadata": {
        "execution": {
          "iopub.execute_input": "2022-04-28T16:10:01.301095Z",
          "iopub.status.busy": "2022-04-28T16:10:01.299313Z",
          "iopub.status.idle": "2022-04-28T16:10:01.332723Z",
          "shell.execute_reply": "2022-04-28T16:10:01.330261Z"
        },
        "papermill": {
          "duration": 0.050767,
          "end_time": "2022-04-28T16:10:01.335559",
          "exception": false,
          "start_time": "2022-04-28T16:10:01.284792",
          "status": "completed"
        },
        "tags": [],
        "id": "e65cddc7",
        "outputId": "95e1e35e-7dc4-4ce1-cf2f-3f191eaf737c"
      },
      "outputs": [
        {
          "data": {
            "text/html": [
              "'character'"
            ],
            "text/latex": [
              "'character'"
            ],
            "text/markdown": [
              "'character'"
            ],
            "text/plain": [
              "[1] \"character\""
            ]
          },
          "metadata": {},
          "output_type": "display_data"
        },
        {
          "name": "stderr",
          "output_type": "stream",
          "text": [
            "Warning message in eval(expr, envir, enclos):\n",
            "“NAs introduced by coercion”\n"
          ]
        },
        {
          "data": {
            "text/html": [
              "<style>\n",
              ".list-inline {list-style: none; margin:0; padding: 0}\n",
              ".list-inline>li {display: inline-block}\n",
              ".list-inline>li:not(:last-child)::after {content: \"\\00b7\"; padding: 0 .5ex}\n",
              "</style>\n",
              "<ol class=list-inline><li>&lt;NA&gt;</li><li>&lt;NA&gt;</li><li>&lt;NA&gt;</li></ol>\n"
            ],
            "text/latex": [
              "\\begin{enumerate*}\n",
              "\\item <NA>\n",
              "\\item <NA>\n",
              "\\item <NA>\n",
              "\\end{enumerate*}\n"
            ],
            "text/markdown": [
              "1. &lt;NA&gt;\n",
              "2. &lt;NA&gt;\n",
              "3. &lt;NA&gt;\n",
              "\n",
              "\n"
            ],
            "text/plain": [
              "[1] NA NA NA"
            ]
          },
          "metadata": {},
          "output_type": "display_data"
        }
      ],
      "source": [
        "#If R cannot figure out how to coerce an object, it results in NAs being produced\n",
        "x <- c('a', 'b', 'c')# character\n",
        "class(x)\n",
        "\n",
        "as.numeric(x)"
      ]
    },
    {
      "cell_type": "code",
      "execution_count": null,
      "id": "97b1f5b9",
      "metadata": {
        "execution": {
          "iopub.execute_input": "2022-04-28T16:10:01.355037Z",
          "iopub.status.busy": "2022-04-28T16:10:01.353243Z",
          "iopub.status.idle": "2022-04-28T16:10:01.379103Z",
          "shell.execute_reply": "2022-04-28T16:10:01.376819Z"
        },
        "papermill": {
          "duration": 0.038128,
          "end_time": "2022-04-28T16:10:01.381709",
          "exception": false,
          "start_time": "2022-04-28T16:10:01.343581",
          "status": "completed"
        },
        "tags": [],
        "id": "97b1f5b9",
        "outputId": "bf759d6a-7882-4bf7-ec57-ad9a2f488e0b"
      },
      "outputs": [
        {
          "data": {
            "text/html": [
              "1"
            ],
            "text/latex": [
              "1"
            ],
            "text/markdown": [
              "1"
            ],
            "text/plain": [
              "[1] 1"
            ]
          },
          "metadata": {},
          "output_type": "display_data"
        }
      ],
      "source": [
        "#attributes of vectors\n",
        "x <- 1\n",
        "x"
      ]
    },
    {
      "cell_type": "code",
      "execution_count": null,
      "id": "dc523969",
      "metadata": {
        "execution": {
          "iopub.execute_input": "2022-04-28T16:10:01.401168Z",
          "iopub.status.busy": "2022-04-28T16:10:01.399386Z",
          "iopub.status.idle": "2022-04-28T16:10:01.416388Z",
          "shell.execute_reply": "2022-04-28T16:10:01.414352Z"
        },
        "papermill": {
          "duration": 0.029521,
          "end_time": "2022-04-28T16:10:01.419228",
          "exception": false,
          "start_time": "2022-04-28T16:10:01.389707",
          "status": "completed"
        },
        "tags": [],
        "id": "dc523969",
        "outputId": "d288c961-f42a-4ac2-fb80-0166ff96b4f8"
      },
      "outputs": [
        {
          "data": {
            "text/plain": [
              "NULL"
            ]
          },
          "metadata": {},
          "output_type": "display_data"
        }
      ],
      "source": [
        "attributes(x)"
      ]
    },
    {
      "cell_type": "markdown",
      "id": "6f83f006",
      "metadata": {
        "papermill": {
          "duration": 0.013049,
          "end_time": "2022-04-28T16:10:01.445795",
          "exception": false,
          "start_time": "2022-04-28T16:10:01.432746",
          "status": "completed"
        },
        "tags": [],
        "id": "6f83f006"
      },
      "source": [
        "## Lists"
      ]
    },
    {
      "cell_type": "code",
      "execution_count": null,
      "id": "3d42e2a0",
      "metadata": {
        "execution": {
          "iopub.execute_input": "2022-04-28T16:10:01.475728Z",
          "iopub.status.busy": "2022-04-28T16:10:01.474061Z",
          "iopub.status.idle": "2022-04-28T16:10:01.487990Z",
          "shell.execute_reply": "2022-04-28T16:10:01.485915Z"
        },
        "papermill": {
          "duration": 0.030801,
          "end_time": "2022-04-28T16:10:01.490271",
          "exception": false,
          "start_time": "2022-04-28T16:10:01.459470",
          "status": "completed"
        },
        "tags": [],
        "id": "3d42e2a0"
      },
      "outputs": [],
      "source": [
        "#create lists\n",
        "test <- list(\"music tracks\", 100, 5)"
      ]
    },
    {
      "cell_type": "code",
      "execution_count": null,
      "id": "09988256",
      "metadata": {
        "execution": {
          "iopub.execute_input": "2022-04-28T16:10:01.520682Z",
          "iopub.status.busy": "2022-04-28T16:10:01.518772Z",
          "iopub.status.idle": "2022-04-28T16:10:01.541041Z",
          "shell.execute_reply": "2022-04-28T16:10:01.538971Z"
        },
        "papermill": {
          "duration": 0.039357,
          "end_time": "2022-04-28T16:10:01.543268",
          "exception": false,
          "start_time": "2022-04-28T16:10:01.503911",
          "status": "completed"
        },
        "tags": [],
        "id": "09988256",
        "outputId": "9dee8a75-bd3a-49a0-b9bb-3cd869ea3468"
      },
      "outputs": [
        {
          "data": {
            "text/html": [
              "<ol>\n",
              "\t<li>'music tracks'</li>\n",
              "\t<li>100</li>\n",
              "\t<li>5</li>\n",
              "</ol>\n"
            ],
            "text/latex": [
              "\\begin{enumerate}\n",
              "\\item 'music tracks'\n",
              "\\item 100\n",
              "\\item 5\n",
              "\\end{enumerate}\n"
            ],
            "text/markdown": [
              "1. 'music tracks'\n",
              "2. 100\n",
              "3. 5\n",
              "\n",
              "\n"
            ],
            "text/plain": [
              "[[1]]\n",
              "[1] \"music tracks\"\n",
              "\n",
              "[[2]]\n",
              "[1] 100\n",
              "\n",
              "[[3]]\n",
              "[1] 5\n"
            ]
          },
          "metadata": {},
          "output_type": "display_data"
        }
      ],
      "source": [
        "test"
      ]
    },
    {
      "cell_type": "code",
      "execution_count": null,
      "id": "0154c47c",
      "metadata": {
        "execution": {
          "iopub.execute_input": "2022-04-28T16:10:01.574075Z",
          "iopub.status.busy": "2022-04-28T16:10:01.572005Z",
          "iopub.status.idle": "2022-04-28T16:10:01.590508Z",
          "shell.execute_reply": "2022-04-28T16:10:01.588288Z"
        },
        "papermill": {
          "duration": 0.035958,
          "end_time": "2022-04-28T16:10:01.592765",
          "exception": false,
          "start_time": "2022-04-28T16:10:01.556807",
          "status": "completed"
        },
        "tags": [],
        "id": "0154c47c",
        "outputId": "b98a3075-759c-4389-8f55-8ebd75dbbc88"
      },
      "outputs": [
        {
          "data": {
            "text/html": [
              "TRUE"
            ],
            "text/latex": [
              "TRUE"
            ],
            "text/markdown": [
              "TRUE"
            ],
            "text/plain": [
              "[1] TRUE"
            ]
          },
          "metadata": {},
          "output_type": "display_data"
        }
      ],
      "source": [
        "is.list(test)"
      ]
    },
    {
      "cell_type": "code",
      "execution_count": null,
      "id": "f22f46b3",
      "metadata": {
        "execution": {
          "iopub.execute_input": "2022-04-28T16:10:01.623938Z",
          "iopub.status.busy": "2022-04-28T16:10:01.622126Z",
          "iopub.status.idle": "2022-04-28T16:10:01.643845Z",
          "shell.execute_reply": "2022-04-28T16:10:01.641857Z"
        },
        "papermill": {
          "duration": 0.039322,
          "end_time": "2022-04-28T16:10:01.646155",
          "exception": false,
          "start_time": "2022-04-28T16:10:01.606833",
          "status": "completed"
        },
        "tags": [],
        "id": "f22f46b3",
        "outputId": "d8eecc1e-f38c-4305-ef52-e302f7f8b87a"
      },
      "outputs": [
        {
          "data": {
            "text/html": [
              "<dl>\n",
              "\t<dt>$product</dt>\n",
              "\t\t<dd>'music tracks'</dd>\n",
              "\t<dt>$count</dt>\n",
              "\t\t<dd>100</dd>\n",
              "\t<dt>$rating</dt>\n",
              "\t\t<dd>5</dd>\n",
              "</dl>\n"
            ],
            "text/latex": [
              "\\begin{description}\n",
              "\\item[\\$product] 'music tracks'\n",
              "\\item[\\$count] 100\n",
              "\\item[\\$rating] 5\n",
              "\\end{description}\n"
            ],
            "text/markdown": [
              "$product\n",
              ":   'music tracks'\n",
              "$count\n",
              ":   100\n",
              "$rating\n",
              ":   5\n",
              "\n",
              "\n"
            ],
            "text/plain": [
              "$product\n",
              "[1] \"music tracks\"\n",
              "\n",
              "$count\n",
              "[1] 100\n",
              "\n",
              "$rating\n",
              "[1] 5\n"
            ]
          },
          "metadata": {},
          "output_type": "display_data"
        }
      ],
      "source": [
        "names(test) <- c(\"product\",\"count\",\"rating\")\n",
        "test"
      ]
    },
    {
      "cell_type": "code",
      "execution_count": null,
      "id": "c48ede82",
      "metadata": {
        "execution": {
          "iopub.execute_input": "2022-04-28T16:10:01.677998Z",
          "iopub.status.busy": "2022-04-28T16:10:01.676217Z",
          "iopub.status.idle": "2022-04-28T16:10:01.700009Z",
          "shell.execute_reply": "2022-04-28T16:10:01.698062Z"
        },
        "papermill": {
          "duration": 0.041888,
          "end_time": "2022-04-28T16:10:01.702426",
          "exception": false,
          "start_time": "2022-04-28T16:10:01.660538",
          "status": "completed"
        },
        "tags": [],
        "id": "c48ede82",
        "outputId": "eafcedc2-3072-424f-b749-0d8f71a4397a"
      },
      "outputs": [
        {
          "data": {
            "text/html": [
              "<dl>\n",
              "\t<dt>$product</dt>\n",
              "\t\t<dd>'music tracks'</dd>\n",
              "\t<dt>$count</dt>\n",
              "\t\t<dd>50</dd>\n",
              "\t<dt>$rating</dt>\n",
              "\t\t<dd>4</dd>\n",
              "</dl>\n"
            ],
            "text/latex": [
              "\\begin{description}\n",
              "\\item[\\$product] 'music tracks'\n",
              "\\item[\\$count] 50\n",
              "\\item[\\$rating] 4\n",
              "\\end{description}\n"
            ],
            "text/markdown": [
              "$product\n",
              ":   'music tracks'\n",
              "$count\n",
              ":   50\n",
              "$rating\n",
              ":   4\n",
              "\n",
              "\n"
            ],
            "text/plain": [
              "$product\n",
              "[1] \"music tracks\"\n",
              "\n",
              "$count\n",
              "[1] 50\n",
              "\n",
              "$rating\n",
              "[1] 4\n"
            ]
          },
          "metadata": {},
          "output_type": "display_data"
        }
      ],
      "source": [
        "prod.category <- list(product=\"music tracks\",count=50,rating=4)\n",
        "prod.category"
      ]
    },
    {
      "cell_type": "code",
      "execution_count": null,
      "id": "3dfae539",
      "metadata": {
        "execution": {
          "iopub.execute_input": "2022-04-28T16:10:01.734501Z",
          "iopub.status.busy": "2022-04-28T16:10:01.732679Z",
          "iopub.status.idle": "2022-04-28T16:10:01.756071Z",
          "shell.execute_reply": "2022-04-28T16:10:01.754157Z"
        },
        "papermill": {
          "duration": 0.041736,
          "end_time": "2022-04-28T16:10:01.758587",
          "exception": false,
          "start_time": "2022-04-28T16:10:01.716851",
          "status": "completed"
        },
        "tags": [],
        "id": "3dfae539",
        "outputId": "9ace4569-3ae8-43b5-eaa9-aa56ccc2e1ac"
      },
      "outputs": [
        {
          "name": "stdout",
          "output_type": "stream",
          "text": [
            "List of 3\n",
            " $ product: chr \"music tracks\"\n",
            " $ count  : num 50\n",
            " $ rating : num 4\n"
          ]
        }
      ],
      "source": [
        "str(prod.category)"
      ]
    },
    {
      "cell_type": "code",
      "execution_count": null,
      "id": "09d2eeab",
      "metadata": {
        "execution": {
          "iopub.execute_input": "2022-04-28T16:10:01.779270Z",
          "iopub.status.busy": "2022-04-28T16:10:01.777469Z",
          "iopub.status.idle": "2022-04-28T16:10:01.802005Z",
          "shell.execute_reply": "2022-04-28T16:10:01.800109Z"
        },
        "papermill": {
          "duration": 0.036404,
          "end_time": "2022-04-28T16:10:01.804192",
          "exception": false,
          "start_time": "2022-04-28T16:10:01.767788",
          "status": "completed"
        },
        "tags": [],
        "id": "09d2eeab",
        "outputId": "0462a15f-b8c8-4cdb-f662-477d1996ad4a"
      },
      "outputs": [
        {
          "data": {
            "text/html": [
              "<dl>\n",
              "\t<dt>$product</dt>\n",
              "\t\t<dd>'music tracks'</dd>\n",
              "\t<dt>$count</dt>\n",
              "\t\t<dd>50</dd>\n",
              "\t<dt>$rating</dt>\n",
              "\t\t<dd>4</dd>\n",
              "\t<dt>$similar</dt>\n",
              "\t\t<dd><dl>\n",
              "\t<dt>$product</dt>\n",
              "\t\t<dd>'film'</dd>\n",
              "\t<dt>$count</dt>\n",
              "\t\t<dd>50</dd>\n",
              "\t<dt>$rating</dt>\n",
              "\t\t<dd>4</dd>\n",
              "</dl>\n",
              "</dd>\n",
              "</dl>\n"
            ],
            "text/latex": [
              "\\begin{description}\n",
              "\\item[\\$product] 'music tracks'\n",
              "\\item[\\$count] 50\n",
              "\\item[\\$rating] 4\n",
              "\\item[\\$similar] \\begin{description}\n",
              "\\item[\\$product] 'film'\n",
              "\\item[\\$count] 50\n",
              "\\item[\\$rating] 4\n",
              "\\end{description}\n",
              "\n",
              "\\end{description}\n"
            ],
            "text/markdown": [
              "$product\n",
              ":   'music tracks'\n",
              "$count\n",
              ":   50\n",
              "$rating\n",
              ":   4\n",
              "$similar\n",
              ":   $product\n",
              ":   'film'\n",
              "$count\n",
              ":   50\n",
              "$rating\n",
              ":   4\n",
              "\n",
              "\n",
              "\n",
              "\n",
              "\n"
            ],
            "text/plain": [
              "$product\n",
              "[1] \"music tracks\"\n",
              "\n",
              "$count\n",
              "[1] 50\n",
              "\n",
              "$rating\n",
              "[1] 4\n",
              "\n",
              "$similar\n",
              "$similar$product\n",
              "[1] \"film\"\n",
              "\n",
              "$similar$count\n",
              "[1] 50\n",
              "\n",
              "$similar$rating\n",
              "[1] 4\n",
              "\n"
            ]
          },
          "metadata": {},
          "output_type": "display_data"
        }
      ],
      "source": [
        "#nested lists\n",
        "\n",
        "similar.prod <- list(product='film', count=50, rating=4)\n",
        "prod.category <- list(product=\"music tracks\",count=50,rating=4, similar = similar.prod)\n",
        "prod.category"
      ]
    },
    {
      "cell_type": "code",
      "execution_count": null,
      "id": "4f23fe04",
      "metadata": {
        "execution": {
          "iopub.execute_input": "2022-04-28T16:10:01.824714Z",
          "iopub.status.busy": "2022-04-28T16:10:01.822948Z",
          "iopub.status.idle": "2022-04-28T16:10:01.847822Z",
          "shell.execute_reply": "2022-04-28T16:10:01.845601Z"
        },
        "papermill": {
          "duration": 0.036993,
          "end_time": "2022-04-28T16:10:01.850042",
          "exception": false,
          "start_time": "2022-04-28T16:10:01.813049",
          "status": "completed"
        },
        "tags": [],
        "id": "4f23fe04",
        "outputId": "00f7ee1a-472e-4c34-fd53-424c5b065391"
      },
      "outputs": [
        {
          "data": {
            "text/html": [
              "<strong>$similar</strong> = <dl>\n",
              "\t<dt>$product</dt>\n",
              "\t\t<dd>'film'</dd>\n",
              "\t<dt>$count</dt>\n",
              "\t\t<dd>50</dd>\n",
              "\t<dt>$rating</dt>\n",
              "\t\t<dd>4</dd>\n",
              "</dl>\n"
            ],
            "text/latex": [
              "\\textbf{\\$similar} = \\begin{description}\n",
              "\\item[\\$product] 'film'\n",
              "\\item[\\$count] 50\n",
              "\\item[\\$rating] 4\n",
              "\\end{description}\n"
            ],
            "text/markdown": [
              "**$similar** = $product\n",
              ":   'film'\n",
              "$count\n",
              ":   50\n",
              "$rating\n",
              ":   4\n",
              "\n",
              "\n"
            ],
            "text/plain": [
              "$similar\n",
              "$similar$product\n",
              "[1] \"film\"\n",
              "\n",
              "$similar$count\n",
              "[1] 50\n",
              "\n",
              "$similar$rating\n",
              "[1] 4\n",
              "\n"
            ]
          },
          "metadata": {},
          "output_type": "display_data"
        }
      ],
      "source": [
        "prod.category[4]"
      ]
    },
    {
      "cell_type": "code",
      "execution_count": null,
      "id": "378ff94f",
      "metadata": {
        "execution": {
          "iopub.execute_input": "2022-04-28T16:10:01.871279Z",
          "iopub.status.busy": "2022-04-28T16:10:01.869406Z",
          "iopub.status.idle": "2022-04-28T16:10:01.887090Z",
          "shell.execute_reply": "2022-04-28T16:10:01.885174Z"
        },
        "papermill": {
          "duration": 0.030274,
          "end_time": "2022-04-28T16:10:01.889168",
          "exception": false,
          "start_time": "2022-04-28T16:10:01.858894",
          "status": "completed"
        },
        "tags": [],
        "id": "378ff94f",
        "outputId": "f6db217e-ec1c-46c2-ad3a-654ffc906fdf"
      },
      "outputs": [
        {
          "data": {
            "text/html": [
              "<strong>$product</strong> = 'music tracks'"
            ],
            "text/latex": [
              "\\textbf{\\$product} = 'music tracks'"
            ],
            "text/markdown": [
              "**$product** = 'music tracks'"
            ],
            "text/plain": [
              "$product\n",
              "[1] \"music tracks\"\n"
            ]
          },
          "metadata": {},
          "output_type": "display_data"
        }
      ],
      "source": [
        "prod.category[1]"
      ]
    },
    {
      "cell_type": "code",
      "execution_count": null,
      "id": "59a5b549",
      "metadata": {
        "execution": {
          "iopub.execute_input": "2022-04-28T16:10:01.910025Z",
          "iopub.status.busy": "2022-04-28T16:10:01.908181Z",
          "iopub.status.idle": "2022-04-28T16:10:01.925320Z",
          "shell.execute_reply": "2022-04-28T16:10:01.923402Z"
        },
        "papermill": {
          "duration": 0.029399,
          "end_time": "2022-04-28T16:10:01.927427",
          "exception": false,
          "start_time": "2022-04-28T16:10:01.898028",
          "status": "completed"
        },
        "tags": [],
        "id": "59a5b549",
        "outputId": "bc117fd8-3842-418b-b44f-34e138fd1dd0"
      },
      "outputs": [
        {
          "data": {
            "text/html": [
              "'music tracks'"
            ],
            "text/latex": [
              "'music tracks'"
            ],
            "text/markdown": [
              "'music tracks'"
            ],
            "text/plain": [
              "[1] \"music tracks\""
            ]
          },
          "metadata": {},
          "output_type": "display_data"
        }
      ],
      "source": [
        "prod.category$product"
      ]
    },
    {
      "cell_type": "markdown",
      "id": "e3d346d3",
      "metadata": {
        "papermill": {
          "duration": 0.008823,
          "end_time": "2022-04-28T16:10:01.945602",
          "exception": false,
          "start_time": "2022-04-28T16:10:01.936779",
          "status": "completed"
        },
        "tags": [],
        "id": "e3d346d3"
      },
      "source": [
        "## Matrix"
      ]
    },
    {
      "cell_type": "code",
      "execution_count": null,
      "id": "f2ed15b9",
      "metadata": {
        "execution": {
          "iopub.execute_input": "2022-04-28T16:10:01.968062Z",
          "iopub.status.busy": "2022-04-28T16:10:01.966303Z",
          "iopub.status.idle": "2022-04-28T16:10:01.992091Z",
          "shell.execute_reply": "2022-04-28T16:10:01.989990Z"
        },
        "papermill": {
          "duration": 0.038942,
          "end_time": "2022-04-28T16:10:01.994259",
          "exception": false,
          "start_time": "2022-04-28T16:10:01.955317",
          "status": "completed"
        },
        "tags": [],
        "id": "f2ed15b9",
        "outputId": "d5a65cdf-772a-4e7b-f978-987538e97994"
      },
      "outputs": [
        {
          "data": {
            "text/html": [
              "<table class=\"dataframe\">\n",
              "<caption>A matrix: 2 × 3 of type int</caption>\n",
              "<tbody>\n",
              "\t<tr><td>1</td><td>3</td><td>5</td></tr>\n",
              "\t<tr><td>2</td><td>4</td><td>6</td></tr>\n",
              "</tbody>\n",
              "</table>\n"
            ],
            "text/latex": [
              "A matrix: 2 × 3 of type int\n",
              "\\begin{tabular}{lll}\n",
              "\t 1 & 3 & 5\\\\\n",
              "\t 2 & 4 & 6\\\\\n",
              "\\end{tabular}\n"
            ],
            "text/markdown": [
              "\n",
              "A matrix: 2 × 3 of type int\n",
              "\n",
              "| 1 | 3 | 5 |\n",
              "| 2 | 4 | 6 |\n",
              "\n"
            ],
            "text/plain": [
              "     [,1] [,2] [,3]\n",
              "[1,] 1    3    5   \n",
              "[2,] 2    4    6   "
            ]
          },
          "metadata": {},
          "output_type": "display_data"
        }
      ],
      "source": [
        "matrix(1:6, nrow=2)"
      ]
    },
    {
      "cell_type": "code",
      "execution_count": null,
      "id": "fd3c970a",
      "metadata": {
        "execution": {
          "iopub.execute_input": "2022-04-28T16:10:02.016831Z",
          "iopub.status.busy": "2022-04-28T16:10:02.014990Z",
          "iopub.status.idle": "2022-04-28T16:10:02.035741Z",
          "shell.execute_reply": "2022-04-28T16:10:02.033559Z"
        },
        "papermill": {
          "duration": 0.034615,
          "end_time": "2022-04-28T16:10:02.038057",
          "exception": false,
          "start_time": "2022-04-28T16:10:02.003442",
          "status": "completed"
        },
        "tags": [],
        "id": "fd3c970a",
        "outputId": "2ce1a103-8af8-4662-801c-4a9a0858b594"
      },
      "outputs": [
        {
          "data": {
            "text/html": [
              "<table class=\"dataframe\">\n",
              "<caption>A matrix: 3 × 2 of type int</caption>\n",
              "<tbody>\n",
              "\t<tr><td>1</td><td>4</td></tr>\n",
              "\t<tr><td>2</td><td>5</td></tr>\n",
              "\t<tr><td>3</td><td>6</td></tr>\n",
              "</tbody>\n",
              "</table>\n"
            ],
            "text/latex": [
              "A matrix: 3 × 2 of type int\n",
              "\\begin{tabular}{ll}\n",
              "\t 1 & 4\\\\\n",
              "\t 2 & 5\\\\\n",
              "\t 3 & 6\\\\\n",
              "\\end{tabular}\n"
            ],
            "text/markdown": [
              "\n",
              "A matrix: 3 × 2 of type int\n",
              "\n",
              "| 1 | 4 |\n",
              "| 2 | 5 |\n",
              "| 3 | 6 |\n",
              "\n"
            ],
            "text/plain": [
              "     [,1] [,2]\n",
              "[1,] 1    4   \n",
              "[2,] 2    5   \n",
              "[3,] 3    6   "
            ]
          },
          "metadata": {},
          "output_type": "display_data"
        }
      ],
      "source": [
        "matrix(1:6, ncol=2)"
      ]
    },
    {
      "cell_type": "code",
      "execution_count": null,
      "id": "0e2fc31c",
      "metadata": {
        "execution": {
          "iopub.execute_input": "2022-04-28T16:10:02.060022Z",
          "iopub.status.busy": "2022-04-28T16:10:02.058164Z",
          "iopub.status.idle": "2022-04-28T16:10:02.078690Z",
          "shell.execute_reply": "2022-04-28T16:10:02.076560Z"
        },
        "papermill": {
          "duration": 0.039618,
          "end_time": "2022-04-28T16:10:02.087131",
          "exception": false,
          "start_time": "2022-04-28T16:10:02.047513",
          "status": "completed"
        },
        "tags": [],
        "id": "0e2fc31c",
        "outputId": "db82dcfd-4b67-4c6d-a835-389a081b6073"
      },
      "outputs": [
        {
          "data": {
            "text/html": [
              "<table class=\"dataframe\">\n",
              "<caption>A matrix: 3 × 2 of type int</caption>\n",
              "<tbody>\n",
              "\t<tr><td>1</td><td>1</td></tr>\n",
              "\t<tr><td>2</td><td>2</td></tr>\n",
              "\t<tr><td>3</td><td>3</td></tr>\n",
              "</tbody>\n",
              "</table>\n"
            ],
            "text/latex": [
              "A matrix: 3 × 2 of type int\n",
              "\\begin{tabular}{ll}\n",
              "\t 1 & 1\\\\\n",
              "\t 2 & 2\\\\\n",
              "\t 3 & 3\\\\\n",
              "\\end{tabular}\n"
            ],
            "text/markdown": [
              "\n",
              "A matrix: 3 × 2 of type int\n",
              "\n",
              "| 1 | 1 |\n",
              "| 2 | 2 |\n",
              "| 3 | 3 |\n",
              "\n"
            ],
            "text/plain": [
              "     [,1] [,2]\n",
              "[1,] 1    1   \n",
              "[2,] 2    2   \n",
              "[3,] 3    3   "
            ]
          },
          "metadata": {},
          "output_type": "display_data"
        }
      ],
      "source": [
        "cbind(1:3, 1:3)"
      ]
    },
    {
      "cell_type": "code",
      "execution_count": null,
      "id": "4105446a",
      "metadata": {
        "execution": {
          "iopub.execute_input": "2022-04-28T16:10:02.109284Z",
          "iopub.status.busy": "2022-04-28T16:10:02.107556Z",
          "iopub.status.idle": "2022-04-28T16:10:02.127669Z",
          "shell.execute_reply": "2022-04-28T16:10:02.125653Z"
        },
        "papermill": {
          "duration": 0.033942,
          "end_time": "2022-04-28T16:10:02.130536",
          "exception": false,
          "start_time": "2022-04-28T16:10:02.096594",
          "status": "completed"
        },
        "tags": [],
        "id": "4105446a",
        "outputId": "8cf1cf4b-0297-4bec-f5b3-9bcbc7dc408c"
      },
      "outputs": [
        {
          "data": {
            "text/html": [
              "<table class=\"dataframe\">\n",
              "<caption>A matrix: 2 × 3 of type int</caption>\n",
              "<tbody>\n",
              "\t<tr><td>1</td><td>2</td><td>3</td></tr>\n",
              "\t<tr><td>1</td><td>2</td><td>3</td></tr>\n",
              "</tbody>\n",
              "</table>\n"
            ],
            "text/latex": [
              "A matrix: 2 × 3 of type int\n",
              "\\begin{tabular}{lll}\n",
              "\t 1 & 2 & 3\\\\\n",
              "\t 1 & 2 & 3\\\\\n",
              "\\end{tabular}\n"
            ],
            "text/markdown": [
              "\n",
              "A matrix: 2 × 3 of type int\n",
              "\n",
              "| 1 | 2 | 3 |\n",
              "| 1 | 2 | 3 |\n",
              "\n"
            ],
            "text/plain": [
              "     [,1] [,2] [,3]\n",
              "[1,] 1    2    3   \n",
              "[2,] 1    2    3   "
            ]
          },
          "metadata": {},
          "output_type": "display_data"
        }
      ],
      "source": [
        "rbind(1:3, 1:3)"
      ]
    },
    {
      "cell_type": "code",
      "execution_count": null,
      "id": "ac16870c",
      "metadata": {
        "execution": {
          "iopub.execute_input": "2022-04-28T16:10:02.168267Z",
          "iopub.status.busy": "2022-04-28T16:10:02.166412Z",
          "iopub.status.idle": "2022-04-28T16:10:02.191205Z",
          "shell.execute_reply": "2022-04-28T16:10:02.188607Z"
        },
        "papermill": {
          "duration": 0.046963,
          "end_time": "2022-04-28T16:10:02.194207",
          "exception": false,
          "start_time": "2022-04-28T16:10:02.147244",
          "status": "completed"
        },
        "tags": [],
        "id": "ac16870c",
        "outputId": "0668f88c-5919-400a-9b66-ecc468595146"
      },
      "outputs": [
        {
          "data": {
            "text/html": [
              "<table class=\"dataframe\">\n",
              "<caption>A matrix: 2 × 3 of type int</caption>\n",
              "<tbody>\n",
              "\t<tr><td>1</td><td>2</td><td>3</td></tr>\n",
              "\t<tr><td>4</td><td>5</td><td>6</td></tr>\n",
              "</tbody>\n",
              "</table>\n"
            ],
            "text/latex": [
              "A matrix: 2 × 3 of type int\n",
              "\\begin{tabular}{lll}\n",
              "\t 1 & 2 & 3\\\\\n",
              "\t 4 & 5 & 6\\\\\n",
              "\\end{tabular}\n"
            ],
            "text/markdown": [
              "\n",
              "A matrix: 2 × 3 of type int\n",
              "\n",
              "| 1 | 2 | 3 |\n",
              "| 4 | 5 | 6 |\n",
              "\n"
            ],
            "text/plain": [
              "     [,1] [,2] [,3]\n",
              "[1,] 1    2    3   \n",
              "[2,] 4    5    6   "
            ]
          },
          "metadata": {},
          "output_type": "display_data"
        }
      ],
      "source": [
        "n <- matrix(1:6, nrow=2, byrow=TRUE)\n",
        "n"
      ]
    },
    {
      "cell_type": "code",
      "execution_count": null,
      "id": "d165b857",
      "metadata": {
        "execution": {
          "iopub.execute_input": "2022-04-28T16:10:02.231362Z",
          "iopub.status.busy": "2022-04-28T16:10:02.229655Z",
          "iopub.status.idle": "2022-04-28T16:10:02.252551Z",
          "shell.execute_reply": "2022-04-28T16:10:02.250689Z"
        },
        "papermill": {
          "duration": 0.044217,
          "end_time": "2022-04-28T16:10:02.255488",
          "exception": false,
          "start_time": "2022-04-28T16:10:02.211271",
          "status": "completed"
        },
        "tags": [],
        "id": "d165b857",
        "outputId": "89c2179f-5578-4346-a5d0-c7db00918b67"
      },
      "outputs": [
        {
          "data": {
            "text/html": [
              "<table class=\"dataframe\">\n",
              "<caption>A matrix: 2 × 4 of type dbl</caption>\n",
              "<tbody>\n",
              "\t<tr><td>1</td><td>2</td><td>3</td><td>10</td></tr>\n",
              "\t<tr><td>4</td><td>5</td><td>6</td><td>11</td></tr>\n",
              "</tbody>\n",
              "</table>\n"
            ],
            "text/latex": [
              "A matrix: 2 × 4 of type dbl\n",
              "\\begin{tabular}{llll}\n",
              "\t 1 & 2 & 3 & 10\\\\\n",
              "\t 4 & 5 & 6 & 11\\\\\n",
              "\\end{tabular}\n"
            ],
            "text/markdown": [
              "\n",
              "A matrix: 2 × 4 of type dbl\n",
              "\n",
              "| 1 | 2 | 3 | 10 |\n",
              "| 4 | 5 | 6 | 11 |\n",
              "\n"
            ],
            "text/plain": [
              "     [,1] [,2] [,3] [,4]\n",
              "[1,] 1    2    3    10  \n",
              "[2,] 4    5    6    11  "
            ]
          },
          "metadata": {},
          "output_type": "display_data"
        }
      ],
      "source": [
        "#add column to existing matrix\n",
        "cbind(n, c(10,11))"
      ]
    },
    {
      "cell_type": "code",
      "execution_count": null,
      "id": "ef5d6957",
      "metadata": {
        "execution": {
          "iopub.execute_input": "2022-04-28T16:10:02.290791Z",
          "iopub.status.busy": "2022-04-28T16:10:02.289061Z",
          "iopub.status.idle": "2022-04-28T16:10:02.317081Z",
          "shell.execute_reply": "2022-04-28T16:10:02.315149Z"
        },
        "papermill": {
          "duration": 0.047697,
          "end_time": "2022-04-28T16:10:02.319404",
          "exception": false,
          "start_time": "2022-04-28T16:10:02.271707",
          "status": "completed"
        },
        "tags": [],
        "id": "ef5d6957",
        "outputId": "b80ca2d3-d751-42b3-c8d4-f3f1ff21a49c"
      },
      "outputs": [
        {
          "data": {
            "text/html": [
              "<table class=\"dataframe\">\n",
              "<caption>A matrix: 2 × 3 of type int</caption>\n",
              "<thead>\n",
              "\t<tr><th></th><th scope=col>col1</th><th scope=col>col2</th><th scope=col>col3</th></tr>\n",
              "</thead>\n",
              "<tbody>\n",
              "\t<tr><th scope=row>row1</th><td>1</td><td>2</td><td>3</td></tr>\n",
              "\t<tr><th scope=row>row2</th><td>4</td><td>5</td><td>6</td></tr>\n",
              "</tbody>\n",
              "</table>\n"
            ],
            "text/latex": [
              "A matrix: 2 × 3 of type int\n",
              "\\begin{tabular}{r|lll}\n",
              "  & col1 & col2 & col3\\\\\n",
              "\\hline\n",
              "\trow1 & 1 & 2 & 3\\\\\n",
              "\trow2 & 4 & 5 & 6\\\\\n",
              "\\end{tabular}\n"
            ],
            "text/markdown": [
              "\n",
              "A matrix: 2 × 3 of type int\n",
              "\n",
              "| <!--/--> | col1 | col2 | col3 |\n",
              "|---|---|---|---|\n",
              "| row1 | 1 | 2 | 3 |\n",
              "| row2 | 4 | 5 | 6 |\n",
              "\n"
            ],
            "text/plain": [
              "     col1 col2 col3\n",
              "row1 1    2    3   \n",
              "row2 4    5    6   "
            ]
          },
          "metadata": {},
          "output_type": "display_data"
        }
      ],
      "source": [
        "#assigning names to rows and columns\n",
        "n <- matrix(1:6, nrow=2, byrow=TRUE)\n",
        "rownames(n) <- c('row1', 'row2')\n",
        "colnames(n) <- c('col1', 'col2', 'col3')\n",
        "n"
      ]
    },
    {
      "cell_type": "code",
      "execution_count": null,
      "id": "6c7a78aa",
      "metadata": {
        "execution": {
          "iopub.execute_input": "2022-04-28T16:10:02.356597Z",
          "iopub.status.busy": "2022-04-28T16:10:02.354842Z",
          "iopub.status.idle": "2022-04-28T16:10:02.378145Z",
          "shell.execute_reply": "2022-04-28T16:10:02.376169Z"
        },
        "papermill": {
          "duration": 0.04849,
          "end_time": "2022-04-28T16:10:02.384856",
          "exception": false,
          "start_time": "2022-04-28T16:10:02.336366",
          "status": "completed"
        },
        "tags": [],
        "id": "6c7a78aa",
        "outputId": "7ed3d75e-5f94-4331-c413-11662768b922"
      },
      "outputs": [
        {
          "data": {
            "text/html": [
              "<ol>\n",
              "\t<li><style>\n",
              ".list-inline {list-style: none; margin:0; padding: 0}\n",
              ".list-inline>li {display: inline-block}\n",
              ".list-inline>li:not(:last-child)::after {content: \"\\00b7\"; padding: 0 .5ex}\n",
              "</style>\n",
              "<ol class=list-inline><li>'row1'</li><li>'row2'</li></ol>\n",
              "</li>\n",
              "\t<li><style>\n",
              ".list-inline {list-style: none; margin:0; padding: 0}\n",
              ".list-inline>li {display: inline-block}\n",
              ".list-inline>li:not(:last-child)::after {content: \"\\00b7\"; padding: 0 .5ex}\n",
              "</style>\n",
              "<ol class=list-inline><li>'col1'</li><li>'col2'</li><li>'col3'</li></ol>\n",
              "</li>\n",
              "</ol>\n"
            ],
            "text/latex": [
              "\\begin{enumerate}\n",
              "\\item \\begin{enumerate*}\n",
              "\\item 'row1'\n",
              "\\item 'row2'\n",
              "\\end{enumerate*}\n",
              "\n",
              "\\item \\begin{enumerate*}\n",
              "\\item 'col1'\n",
              "\\item 'col2'\n",
              "\\item 'col3'\n",
              "\\end{enumerate*}\n",
              "\n",
              "\\end{enumerate}\n"
            ],
            "text/markdown": [
              "1. 1. 'row1'\n",
              "2. 'row2'\n",
              "\n",
              "\n",
              "\n",
              "2. 1. 'col1'\n",
              "2. 'col2'\n",
              "3. 'col3'\n",
              "\n",
              "\n",
              "\n",
              "\n",
              "\n"
            ],
            "text/plain": [
              "[[1]]\n",
              "[1] \"row1\" \"row2\"\n",
              "\n",
              "[[2]]\n",
              "[1] \"col1\" \"col2\" \"col3\"\n"
            ]
          },
          "metadata": {},
          "output_type": "display_data"
        }
      ],
      "source": [
        "n <- matrix(1:6, nrow=2, byrow=TRUE)\n",
        "dimnames = list(c('row1', 'row2'), c('col1','col2', 'col3'))\n",
        "dimnames"
      ]
    },
    {
      "cell_type": "code",
      "execution_count": null,
      "id": "57cdf6fe",
      "metadata": {
        "execution": {
          "iopub.execute_input": "2022-04-28T16:10:02.408984Z",
          "iopub.status.busy": "2022-04-28T16:10:02.407144Z",
          "iopub.status.idle": "2022-04-28T16:10:02.430544Z",
          "shell.execute_reply": "2022-04-28T16:10:02.428370Z"
        },
        "papermill": {
          "duration": 0.037795,
          "end_time": "2022-04-28T16:10:02.432848",
          "exception": false,
          "start_time": "2022-04-28T16:10:02.395053",
          "status": "completed"
        },
        "tags": [],
        "id": "57cdf6fe",
        "outputId": "04f08a0d-be41-4f5e-a160-b95504f4d63f"
      },
      "outputs": [
        {
          "data": {
            "text/html": [
              "<table class=\"dataframe\">\n",
              "<caption>A matrix: 4 × 3 of type chr</caption>\n",
              "<tbody>\n",
              "\t<tr><td>A</td><td>E</td><td>C</td></tr>\n",
              "\t<tr><td>B</td><td>F</td><td>D</td></tr>\n",
              "\t<tr><td>C</td><td>A</td><td>E</td></tr>\n",
              "\t<tr><td>D</td><td>B</td><td>F</td></tr>\n",
              "</tbody>\n",
              "</table>\n"
            ],
            "text/latex": [
              "A matrix: 4 × 3 of type chr\n",
              "\\begin{tabular}{lll}\n",
              "\t A & E & C\\\\\n",
              "\t B & F & D\\\\\n",
              "\t C & A & E\\\\\n",
              "\t D & B & F\\\\\n",
              "\\end{tabular}\n"
            ],
            "text/markdown": [
              "\n",
              "A matrix: 4 × 3 of type chr\n",
              "\n",
              "| A | E | C |\n",
              "| B | F | D |\n",
              "| C | A | E |\n",
              "| D | B | F |\n",
              "\n"
            ],
            "text/plain": [
              "     [,1] [,2] [,3]\n",
              "[1,] A    E    C   \n",
              "[2,] B    F    D   \n",
              "[3,] C    A    E   \n",
              "[4,] D    B    F   "
            ]
          },
          "metadata": {},
          "output_type": "display_data"
        }
      ],
      "source": [
        "l <- matrix(LETTERS[1:6],nrow = 4, ncol =3)\n",
        "l"
      ]
    },
    {
      "cell_type": "code",
      "execution_count": null,
      "id": "23dc032f",
      "metadata": {
        "execution": {
          "iopub.execute_input": "2022-04-28T16:10:02.456610Z",
          "iopub.status.busy": "2022-04-28T16:10:02.454792Z",
          "iopub.status.idle": "2022-04-28T16:10:02.468760Z",
          "shell.execute_reply": "2022-04-28T16:10:02.466629Z"
        },
        "papermill": {
          "duration": 0.028195,
          "end_time": "2022-04-28T16:10:02.471228",
          "exception": false,
          "start_time": "2022-04-28T16:10:02.443033",
          "status": "completed"
        },
        "tags": [],
        "id": "23dc032f"
      },
      "outputs": [],
      "source": [
        "x <- matrix(1:8, ncol=2)"
      ]
    },
    {
      "cell_type": "code",
      "execution_count": null,
      "id": "dfa36217",
      "metadata": {
        "execution": {
          "iopub.execute_input": "2022-04-28T16:10:02.495579Z",
          "iopub.status.busy": "2022-04-28T16:10:02.493710Z",
          "iopub.status.idle": "2022-04-28T16:10:02.520546Z",
          "shell.execute_reply": "2022-04-28T16:10:02.518073Z"
        },
        "papermill": {
          "duration": 0.041637,
          "end_time": "2022-04-28T16:10:02.523088",
          "exception": false,
          "start_time": "2022-04-28T16:10:02.481451",
          "status": "completed"
        },
        "tags": [],
        "id": "dfa36217",
        "outputId": "51e186a3-0cb1-4171-fbff-13dcb9897214"
      },
      "outputs": [
        {
          "data": {
            "text/html": [
              "<table class=\"dataframe\">\n",
              "<caption>A matrix: 4 × 5 of type chr</caption>\n",
              "<tbody>\n",
              "\t<tr><td>1</td><td>5</td><td>A</td><td>E</td><td>C</td></tr>\n",
              "\t<tr><td>2</td><td>6</td><td>B</td><td>F</td><td>D</td></tr>\n",
              "\t<tr><td>3</td><td>7</td><td>C</td><td>A</td><td>E</td></tr>\n",
              "\t<tr><td>4</td><td>8</td><td>D</td><td>B</td><td>F</td></tr>\n",
              "</tbody>\n",
              "</table>\n"
            ],
            "text/latex": [
              "A matrix: 4 × 5 of type chr\n",
              "\\begin{tabular}{lllll}\n",
              "\t 1 & 5 & A & E & C\\\\\n",
              "\t 2 & 6 & B & F & D\\\\\n",
              "\t 3 & 7 & C & A & E\\\\\n",
              "\t 4 & 8 & D & B & F\\\\\n",
              "\\end{tabular}\n"
            ],
            "text/markdown": [
              "\n",
              "A matrix: 4 × 5 of type chr\n",
              "\n",
              "| 1 | 5 | A | E | C |\n",
              "| 2 | 6 | B | F | D |\n",
              "| 3 | 7 | C | A | E |\n",
              "| 4 | 8 | D | B | F |\n",
              "\n"
            ],
            "text/plain": [
              "     [,1] [,2] [,3] [,4] [,5]\n",
              "[1,] 1    5    A    E    C   \n",
              "[2,] 2    6    B    F    D   \n",
              "[3,] 3    7    C    A    E   \n",
              "[4,] 4    8    D    B    F   "
            ]
          },
          "metadata": {},
          "output_type": "display_data"
        }
      ],
      "source": [
        "cbind(x,l)"
      ]
    }
  ],
  "metadata": {
    "kernelspec": {
      "display_name": "R",
      "language": "R",
      "name": "ir"
    },
    "language_info": {
      "codemirror_mode": "r",
      "file_extension": ".r",
      "mimetype": "text/x-r-source",
      "name": "R",
      "pygments_lexer": "r",
      "version": "4.0.5"
    },
    "papermill": {
      "default_parameters": {},
      "duration": 5.605603,
      "end_time": "2022-04-28T16:10:02.654405",
      "environment_variables": {},
      "exception": null,
      "input_path": "__notebook__.ipynb",
      "output_path": "__notebook__.ipynb",
      "parameters": {},
      "start_time": "2022-04-28T16:09:57.048802",
      "version": "2.3.4"
    },
    "colab": {
      "name": "vectors-lists-matrix-in-r.ipynb",
      "provenance": [],
      "include_colab_link": true
    }
  },
  "nbformat": 4,
  "nbformat_minor": 5
}